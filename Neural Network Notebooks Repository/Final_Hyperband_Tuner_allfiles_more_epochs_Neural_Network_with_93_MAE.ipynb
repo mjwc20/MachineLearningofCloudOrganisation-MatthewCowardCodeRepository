{
  "nbformat": 4,
  "nbformat_minor": 0,
  "metadata": {
    "colab": {
      "provenance": [],
      "collapsed_sections": [],
      "machine_shape": "hm"
    },
    "kernelspec": {
      "name": "python3",
      "display_name": "Python 3"
    },
    "language_info": {
      "name": "python"
    },
    "gpuClass": "standard",
    "accelerator": "GPU"
  },
  "cells": [
    {
      "cell_type": "markdown",
      "source": [
        "This notebook is based a shortened version of my ***Clean Neural Network.ipynb*** notebook, adjusted to allow top-to-bottom running and to make it easier to understand and run, specifically for the Convolutional MNN model. The latter has been left exactly as it is and can be used to attempt to make new tuners and improve the accuracy. The code has been copied from it as closely as possible and just some cells have been removed. This notebook is intended to allow adjusting of the number of height levels, number of atmospheric variables, number of epochs and the batch size but no further use of Keras-Tuner. For this notebook, KerasTuner will need to have been run in ***Clean Neural Network.ipynb***  and optimal hyperparameters found in order to load the tuner into this notebook and fit the optimal model."
      ],
      "metadata": {
        "id": "xBzXAAQ6q-Wg"
      }
    },
    {
      "cell_type": "markdown",
      "source": [
        "❗❗❗ Note: make sure to increase the runtime to High-RAM 24Gb and use GPU for fast training of the model"
      ],
      "metadata": {
        "id": "PwJdirOcz5GN"
      }
    },
    {
      "cell_type": "markdown",
      "source": [
        "## **Imports and Installing**"
      ],
      "metadata": {
        "id": "7UKXPCM7VrWE"
      }
    },
    {
      "cell_type": "markdown",
      "source": [
        "Install Keras Tuner - an automatic hyperparameter tuner - using pip"
      ],
      "metadata": {
        "id": "1GU4iggjVWcF"
      }
    },
    {
      "cell_type": "code",
      "execution_count": null,
      "metadata": {
        "id": "xjt6vubKU2pL"
      },
      "outputs": [],
      "source": [
        "!pip install -q -U keras-tuner"
      ]
    },
    {
      "cell_type": "markdown",
      "source": [
        "Import the necessary python libraries"
      ],
      "metadata": {
        "id": "we2Bnl81Vcp3"
      }
    },
    {
      "cell_type": "code",
      "source": [
        "from numpy.random import seed\n",
        "seed(908)\n",
        "from tensorflow.random import set_seed\n",
        "set_seed(1908)\n",
        "from tensorflow.keras.utils import set_random_seed\n",
        "set_random_seed(1908)\n",
        "\n",
        "\n",
        "from netCDF4 import Dataset\n",
        "import numpy as np\n",
        "import tensorflow as tf\n",
        "import matplotlib.pyplot as plt\n",
        "import os\n",
        "import csv\n",
        "from datetime import datetime\n",
        "from mpl_toolkits import mplot3d\n",
        "from mpl_toolkits.mplot3d import Axes3D\n",
        "import pandas as pd\n",
        "import PIL\n",
        "import warnings\n",
        "from csv import writer\n",
        "from scipy import ndimage as nd\n",
        "import random\n",
        "\n",
        "\n",
        "from tensorflow import keras\n",
        "from tensorflow.keras import layers\n",
        "from keras.models import Model\n",
        "from keras.layers import Dense\n",
        "from keras.layers import Input\n",
        "from keras.layers import concatenate\n",
        "from keras.layers import Dropout\n",
        "from keras.layers import Flatten\n",
        "from keras.layers.convolutional import Conv1D\n",
        "from keras.layers.convolutional import MaxPooling1D"
      ],
      "metadata": {
        "id": "xMRAW3vEVhIJ"
      },
      "execution_count": null,
      "outputs": []
    },
    {
      "cell_type": "markdown",
      "source": [
        "⬛*Run the following cell only if keras tuner has been installed, to import it*"
      ],
      "metadata": {
        "id": "ZsqbKnGaVlGy"
      }
    },
    {
      "cell_type": "code",
      "source": [
        "import keras_tuner as kt"
      ],
      "metadata": {
        "id": "qnajst1pVpKi"
      },
      "execution_count": null,
      "outputs": []
    },
    {
      "cell_type": "markdown",
      "source": [
        "## **Connect to Google Drive**"
      ],
      "metadata": {
        "id": "jGtyPMyhkJNI"
      }
    },
    {
      "cell_type": "code",
      "source": [
        "from google.colab import drive\n",
        "drive.mount('/content/gdrive', force_remount=False)"
      ],
      "metadata": {
        "colab": {
          "base_uri": "https://localhost:8080/"
        },
        "id": "h-kpjtuHkOEz",
        "outputId": "7c4926bb-8557-4c6d-d007-45d073febb32"
      },
      "execution_count": null,
      "outputs": [
        {
          "output_type": "stream",
          "name": "stdout",
          "text": [
            "Drive already mounted at /content/gdrive; to attempt to forcibly remount, call drive.mount(\"/content/gdrive\", force_remount=True).\n"
          ]
        }
      ]
    },
    {
      "cell_type": "markdown",
      "source": [
        "## **Compiling the Training Vectors**"
      ],
      "metadata": {
        "id": "v6v_Oo40V463"
      }
    },
    {
      "cell_type": "markdown",
      "source": [
        "⬛*Run the following section only if you want to reconstruct the variables on a new machine - otherwise just load in from the drive*"
      ],
      "metadata": {
        "id": "4v7bKgbnkQxE"
      }
    },
    {
      "cell_type": "code",
      "source": [
        "def compile_variables():\n",
        "      #store the file path for the list of all COGS files in chronological order\n",
        "      file_list_csv = \"/content/gdrive/MyDrive/Colab Notebooks/Data/processing_file_list_ignoring5files.csv\"\n",
        "      #use pandas to read in the file list csv file and iterate through them\n",
        "      df = pd.read_csv(file_list_csv)\n",
        "      cloud_perimeter = np.array([0.5,0.5])\n",
        "      cloud_fraction = np.array([0.5,0.5])\n",
        "      height = np.array([1,1])\n",
        "      for row_index, filename in df.iterrows():\n",
        "            filename_str=str(filename['File_names'])\n",
        "            #specify the directories of the data files\n",
        "            new_file_path_perimeter=\"/content/gdrive/MyDrive/Colab Notebooks/Data/Variables/Cloud Perimeter/\"\n",
        "            new_file_path_fraction=\"/content/gdrive/MyDrive/Colab Notebooks/Data/Variables/Cloud Fraction/\"\n",
        "            new_file_path_height=\"/content/gdrive/MyDrive/Colab Notebooks/Data/Variables/Height/\"\n",
        "            #specify the path to the next data file\n",
        "            new_file_name_perimeter=new_file_path_perimeter+\"Perimeter_\"+filename_str[1:-5]+\".csv\"\n",
        "            new_file_name_fraction=new_file_path_fraction+\"Fraction_\"+filename_str[1:-5]+\".csv\"\n",
        "            new_file_name_height=new_file_path_height+\"Height_\"+filename_str[1:-5]+\".csv\"\n",
        "            #read in the csv file\n",
        "            perimeter_df = pd.read_csv(new_file_name_perimeter, header=None)\n",
        "            # then convert to numpy array of floats\n",
        "            perimeter_df = perimeter_df.to_numpy(dtype=np.float16)\n",
        "            #repeat for the other two variables\n",
        "            fraction_df = pd.read_csv(new_file_name_fraction, header=None)\n",
        "            height_df = pd.read_csv(new_file_name_height, header=None)\n",
        "            # then convert to numpy array of floats/integers\n",
        "            fraction_df = fraction_df.to_numpy(dtype=np.float16)\n",
        "            height_df = height_df.to_numpy(dtype='i')\n",
        "            perimeter_df = perimeter_df.reshape(len(perimeter_df))\n",
        "            fraction_df = fraction_df.reshape(len(fraction_df))\n",
        "            height_df = height_df.reshape(len(height_df))\n",
        "            cloud_fraction_mask = fraction_df > 0\n",
        "            #mask the dataframe arrays with the cloud fraction mask\n",
        "            perimeter_df=perimeter_df[cloud_fraction_mask]\n",
        "            fraction_df=fraction_df[cloud_fraction_mask]\n",
        "            height_df=height_df[cloud_fraction_mask]\n",
        "            # concatenate the new vectors with the existing vectors\n",
        "            cloud_perimeter = np.concatenate((cloud_perimeter,perimeter_df),axis=0)\n",
        "            cloud_fraction = np.concatenate((cloud_fraction,fraction_df),axis=0)\n",
        "            height = np.concatenate((height,height_df),axis=0)\n",
        "            del perimeter_df\n",
        "            del fraction_df\n",
        "            del height_df\n",
        "\n",
        "\n",
        "            #now work on the atmospheric data\n",
        "            #specify the file path\n",
        "            new_file_path_atmospheric = \"/content/gdrive/MyDrive/Colab Notebooks/Data/Variables/Atmospheric/\"\n",
        "            new_file_name_atmospheric = new_file_path_atmospheric + \"Atmospheric_\"+filename_str[1:-5]+\".npy\"\n",
        "            #load in the numpy array\n",
        "            atmospheric_file = np.load(new_file_name_atmospheric)\n",
        "            atmospheric_file = atmospheric_file[cloud_fraction_mask,:,:]\n",
        "            variable_mask = [True,True,True,True,True,True,True,True,True,True]\n",
        "            atmospheric_file = atmospheric_file[:,:,variable_mask]\n",
        "            #if it's the first file set this to be the array itself\n",
        "            if row_index == 0:\n",
        "                  atmospheric_variables = atmospheric_file\n",
        "            else:\n",
        "                  atmospheric_variables = np.concatenate((atmospheric_variables,atmospheric_file),axis=0)\n",
        "            del atmospheric_file\n",
        "            print(row_index)\n",
        "\n",
        "      cloud_perimeter = cloud_perimeter[2:]\n",
        "      cloud_fraction = cloud_fraction[2:]\n",
        "      height = height[2:]\n",
        "      cloud_perimeter = cloud_perimeter.reshape(len(cloud_perimeter),1)\n",
        "      cloud_fraction = cloud_fraction.reshape(len(cloud_fraction),1)\n",
        "      height = height.reshape(len(height),1)\n",
        "      return cloud_perimeter, cloud_fraction, height, atmospheric_variables"
      ],
      "metadata": {
        "id": "Avew9dR-V-UA"
      },
      "execution_count": null,
      "outputs": []
    },
    {
      "cell_type": "markdown",
      "source": [
        "Construct the variables using the defined function and assert that the variables are of the correct shape. Also un-normalise the cloud perimeter variables in order to retain the dynamic range of the data"
      ],
      "metadata": {
        "id": "IPW64RngkvTg"
      }
    },
    {
      "cell_type": "code",
      "source": [
        "#construct the variables\n",
        "cloud_perimeter, cloud_fraction, height, atmospheric_variables = compile_variables()\n",
        "#print the shapes of the variables\n",
        "print(cloud_perimeter.shape)\n",
        "print(cloud_fraction.shape)\n",
        "print(height.shape)\n",
        "#un-normalise cloud perimeter\n",
        "cloud_perimeter = cloud_perimeter * 16200\n",
        "#assert the shapes match\n",
        "print(atmospheric_variables.shape)"
      ],
      "metadata": {
        "id": "G6RNYSupkind"
      },
      "execution_count": null,
      "outputs": []
    },
    {
      "cell_type": "markdown",
      "source": [
        "Define a path to save the newly constructed variables"
      ],
      "metadata": {
        "id": "E1VGP7UBktAJ"
      }
    },
    {
      "cell_type": "code",
      "source": [
        "new_file_directory = '/content/gdrive/MyDrive/Colab Notebooks/Data/Variables/Training Arrays/'"
      ],
      "metadata": {
        "id": "7Wvij303klnn"
      },
      "execution_count": null,
      "outputs": []
    },
    {
      "cell_type": "code",
      "source": [
        "#save the newly constructred variables\n",
        "np.save(new_file_directory+'Perimeter',cloud_perimeter)\n",
        "np.save(new_file_directory+'Height',height)\n",
        "np.save(new_file_directory+'Fraction',cloud_fraction)\n",
        "np.save(new_file_directory+'Atmospheric',atmospheric_variables)"
      ],
      "metadata": {
        "id": "dVGaMYYrlED_"
      },
      "execution_count": null,
      "outputs": []
    },
    {
      "cell_type": "markdown",
      "source": [
        "Delete the variables to save RAM"
      ],
      "metadata": {
        "id": "yHH6sxQPlRd8"
      }
    },
    {
      "cell_type": "code",
      "source": [
        "del atmospheric_variables\n",
        "del cloud_perimeter\n",
        "del height\n",
        "del cloud_fraction"
      ],
      "metadata": {
        "id": "4zVj-hjqlQkS"
      },
      "execution_count": null,
      "outputs": []
    },
    {
      "cell_type": "markdown",
      "source": [
        "# **Method 2: Fitting a Model Tuned with Automatic Hyperparameter Selection**"
      ],
      "metadata": {
        "id": "wqwMMd67nQSv"
      }
    },
    {
      "cell_type": "markdown",
      "source": [
        "Define the path to access the saved arrays"
      ],
      "metadata": {
        "id": "Fib6HTxCneSv"
      }
    },
    {
      "cell_type": "code",
      "source": [
        "new_file_directory = '/content/gdrive/MyDrive/Colab Notebooks/Data/Variables/Training Arrays/'"
      ],
      "metadata": {
        "id": "MiIwpFYMnTD3"
      },
      "execution_count": null,
      "outputs": []
    },
    {
      "cell_type": "markdown",
      "source": [
        "Load in the saved arrays into variables and assert the shapes are correct"
      ],
      "metadata": {
        "id": "lihMxSnenivC"
      }
    },
    {
      "cell_type": "code",
      "source": [
        "atmospheric_variables = np.load(new_file_directory+'Atmospheric.npy')\n",
        "cloud_perimeter = np.load(new_file_directory+'Perimeter.npy')\n",
        "height = np.load(new_file_directory+'Height.npy')\n",
        "cloud_fraction = np.load(new_file_directory+'Fraction.npy')\n",
        "print(cloud_perimeter.shape)\n",
        "print(cloud_fraction.shape)\n",
        "print(height.shape)\n",
        "print(atmospheric_variables.shape)"
      ],
      "metadata": {
        "colab": {
          "base_uri": "https://localhost:8080/",
          "height": 393
        },
        "id": "--iexYPunmEd",
        "outputId": "8b6ceadc-0ee5-4468-a1cb-dbd44e644836"
      },
      "execution_count": null,
      "outputs": [
        {
          "output_type": "error",
          "ename": "KeyboardInterrupt",
          "evalue": "ignored",
          "traceback": [
            "\u001b[0;31m---------------------------------------------------------------------------\u001b[0m",
            "\u001b[0;31mKeyboardInterrupt\u001b[0m                         Traceback (most recent call last)",
            "\u001b[0;32m<ipython-input-6-25356815adeb>\u001b[0m in \u001b[0;36m<module>\u001b[0;34m\u001b[0m\n\u001b[0;32m----> 1\u001b[0;31m \u001b[0matmospheric_variables\u001b[0m \u001b[0;34m=\u001b[0m \u001b[0mnp\u001b[0m\u001b[0;34m.\u001b[0m\u001b[0mload\u001b[0m\u001b[0;34m(\u001b[0m\u001b[0mnew_file_directory\u001b[0m\u001b[0;34m+\u001b[0m\u001b[0;34m'Atmospheric.npy'\u001b[0m\u001b[0;34m)\u001b[0m\u001b[0;34m\u001b[0m\u001b[0;34m\u001b[0m\u001b[0m\n\u001b[0m\u001b[1;32m      2\u001b[0m \u001b[0mcloud_perimeter\u001b[0m \u001b[0;34m=\u001b[0m \u001b[0mnp\u001b[0m\u001b[0;34m.\u001b[0m\u001b[0mload\u001b[0m\u001b[0;34m(\u001b[0m\u001b[0mnew_file_directory\u001b[0m\u001b[0;34m+\u001b[0m\u001b[0;34m'Perimeter.npy'\u001b[0m\u001b[0;34m)\u001b[0m\u001b[0;34m\u001b[0m\u001b[0;34m\u001b[0m\u001b[0m\n\u001b[1;32m      3\u001b[0m \u001b[0mheight\u001b[0m \u001b[0;34m=\u001b[0m \u001b[0mnp\u001b[0m\u001b[0;34m.\u001b[0m\u001b[0mload\u001b[0m\u001b[0;34m(\u001b[0m\u001b[0mnew_file_directory\u001b[0m\u001b[0;34m+\u001b[0m\u001b[0;34m'Height.npy'\u001b[0m\u001b[0;34m)\u001b[0m\u001b[0;34m\u001b[0m\u001b[0;34m\u001b[0m\u001b[0m\n\u001b[1;32m      4\u001b[0m \u001b[0mcloud_fraction\u001b[0m \u001b[0;34m=\u001b[0m \u001b[0mnp\u001b[0m\u001b[0;34m.\u001b[0m\u001b[0mload\u001b[0m\u001b[0;34m(\u001b[0m\u001b[0mnew_file_directory\u001b[0m\u001b[0;34m+\u001b[0m\u001b[0;34m'Fraction.npy'\u001b[0m\u001b[0;34m)\u001b[0m\u001b[0;34m\u001b[0m\u001b[0;34m\u001b[0m\u001b[0m\n\u001b[1;32m      5\u001b[0m \u001b[0mprint\u001b[0m\u001b[0;34m(\u001b[0m\u001b[0mcloud_perimeter\u001b[0m\u001b[0;34m.\u001b[0m\u001b[0mshape\u001b[0m\u001b[0;34m)\u001b[0m\u001b[0;34m\u001b[0m\u001b[0;34m\u001b[0m\u001b[0m\n",
            "\u001b[0;32m/usr/local/lib/python3.7/dist-packages/numpy/lib/npyio.py\u001b[0m in \u001b[0;36mload\u001b[0;34m(file, mmap_mode, allow_pickle, fix_imports, encoding)\u001b[0m\n\u001b[1;32m    439\u001b[0m             \u001b[0;32melse\u001b[0m\u001b[0;34m:\u001b[0m\u001b[0;34m\u001b[0m\u001b[0;34m\u001b[0m\u001b[0m\n\u001b[1;32m    440\u001b[0m                 return format.read_array(fid, allow_pickle=allow_pickle,\n\u001b[0;32m--> 441\u001b[0;31m                                          pickle_kwargs=pickle_kwargs)\n\u001b[0m\u001b[1;32m    442\u001b[0m         \u001b[0;32melse\u001b[0m\u001b[0;34m:\u001b[0m\u001b[0;34m\u001b[0m\u001b[0;34m\u001b[0m\u001b[0m\n\u001b[1;32m    443\u001b[0m             \u001b[0;31m# Try a pickle\u001b[0m\u001b[0;34m\u001b[0m\u001b[0;34m\u001b[0m\u001b[0;34m\u001b[0m\u001b[0m\n",
            "\u001b[0;32m/usr/local/lib/python3.7/dist-packages/numpy/lib/format.py\u001b[0m in \u001b[0;36mread_array\u001b[0;34m(fp, allow_pickle, pickle_kwargs)\u001b[0m\n\u001b[1;32m    755\u001b[0m         \u001b[0;32mif\u001b[0m \u001b[0misfileobj\u001b[0m\u001b[0;34m(\u001b[0m\u001b[0mfp\u001b[0m\u001b[0;34m)\u001b[0m\u001b[0;34m:\u001b[0m\u001b[0;34m\u001b[0m\u001b[0;34m\u001b[0m\u001b[0m\n\u001b[1;32m    756\u001b[0m             \u001b[0;31m# We can use the fast fromfile() function.\u001b[0m\u001b[0;34m\u001b[0m\u001b[0;34m\u001b[0m\u001b[0;34m\u001b[0m\u001b[0m\n\u001b[0;32m--> 757\u001b[0;31m             \u001b[0marray\u001b[0m \u001b[0;34m=\u001b[0m \u001b[0mnumpy\u001b[0m\u001b[0;34m.\u001b[0m\u001b[0mfromfile\u001b[0m\u001b[0;34m(\u001b[0m\u001b[0mfp\u001b[0m\u001b[0;34m,\u001b[0m \u001b[0mdtype\u001b[0m\u001b[0;34m=\u001b[0m\u001b[0mdtype\u001b[0m\u001b[0;34m,\u001b[0m \u001b[0mcount\u001b[0m\u001b[0;34m=\u001b[0m\u001b[0mcount\u001b[0m\u001b[0;34m)\u001b[0m\u001b[0;34m\u001b[0m\u001b[0;34m\u001b[0m\u001b[0m\n\u001b[0m\u001b[1;32m    758\u001b[0m         \u001b[0;32melse\u001b[0m\u001b[0;34m:\u001b[0m\u001b[0;34m\u001b[0m\u001b[0;34m\u001b[0m\u001b[0m\n\u001b[1;32m    759\u001b[0m             \u001b[0;31m# This is not a real file. We have to read it the\u001b[0m\u001b[0;34m\u001b[0m\u001b[0;34m\u001b[0m\u001b[0;34m\u001b[0m\u001b[0m\n",
            "\u001b[0;31mKeyboardInterrupt\u001b[0m: "
          ]
        }
      ]
    },
    {
      "cell_type": "markdown",
      "source": [
        "We do not require all atmospheric variables or height levels. Hence we create masks to reduce the atmospheric variables array to the appropriate indices"
      ],
      "metadata": {
        "id": "_Bf5yPo6n0R1"
      }
    },
    {
      "cell_type": "code",
      "source": [
        "#take only the first 10 height levels\n",
        "atmospheric_variables = atmospheric_variables[:,:7,:]\n",
        "#take only 4 of the atmospheric variables\n",
        "variable_mask = [True,False,False,True,True,False,False,False,True,False]\n",
        "atmospheric_variables = atmospheric_variables[:,:,variable_mask]\n",
        "#print the new shape of atmospheric variables\n",
        "print(atmospheric_variables.shape)"
      ],
      "metadata": {
        "colab": {
          "base_uri": "https://localhost:8080/"
        },
        "id": "CxQ4k3rSn1HH",
        "outputId": "ffd01461-4fc9-457b-b0de-d2b884b88c5d"
      },
      "execution_count": null,
      "outputs": [
        {
          "output_type": "stream",
          "name": "stdout",
          "text": [
            "(1767636, 7, 4)\n"
          ]
        }
      ]
    },
    {
      "cell_type": "markdown",
      "source": [
        "Define functions to construct the model and create the train, validation and test sets. Use the parameter hp (for hyperparameter) which is required by keras tuner"
      ],
      "metadata": {
        "id": "wq3MdY30n5jb"
      }
    },
    {
      "cell_type": "code",
      "source": [
        "def train_val_test_split(atmospheric_variables,cloud_fraction,height,cloud_perimeter):\n",
        "      #check that the number of data points agree for all variables\n",
        "      assert atmospheric_variables.shape[0]==cloud_fraction.shape[0] and \\\n",
        "      atmospheric_variables.shape[0]==height.shape[0] \\\n",
        "      and atmospheric_variables.shape[0]==cloud_perimeter.shape[0]\n",
        "\n",
        "      num_data_points = int(atmospheric_variables.shape[0])\n",
        "       \n",
        "      #define the shuffling permutation and shuffle the variables in unison\n",
        "      perm = np.random.permutation(num_data_points)\n",
        "      atmospheric_variables = atmospheric_variables[perm,:,:]\n",
        "      cloud_fraction = cloud_fraction[perm,:]\n",
        "      height = height[perm,:]\n",
        "      cloud_perimeter = cloud_perimeter[perm,:]\n",
        "\n",
        "      #combine the height and cloud fraction variables\n",
        "      x2=np.stack((cloud_fraction,height),axis=2)\n",
        "\n",
        "      #compute the training set size\n",
        "      train_size=int(np.floor(0.7*num_data_points))\n",
        "      val_size=int(np.floor(0.85*num_data_points))\n",
        "\n",
        "      #specify the train, test and validation sets\n",
        "      #split the data into train and test\n",
        "      x1_train=atmospheric_variables[:train_size,:,:]\n",
        "      x2_train=x2[:train_size,:,:]\n",
        "      y_train=cloud_perimeter[:train_size,:]\n",
        "      #\n",
        "      x1_val=atmospheric_variables[train_size:val_size,:,:]\n",
        "      x2_val=x2[train_size:val_size,:,:]\n",
        "      y_val=cloud_perimeter[train_size:val_size,:]\n",
        "      #\n",
        "      x1_test=atmospheric_variables[val_size:,:,:]\n",
        "      x2_test=x2[val_size:,:,:]\n",
        "      y_test=cloud_perimeter[val_size:,:]\n",
        "\n",
        "      return x1_train, x2_train, y_train, x1_val, x2_val, y_val, x1_test, x2_test, y_test"
      ],
      "metadata": {
        "id": "Rr9_Z2rtolLl"
      },
      "execution_count": null,
      "outputs": []
    },
    {
      "cell_type": "code",
      "source": [
        "x1_train, x2_train, y_train, x1_val, x2_val, y_val, x1_test, x2_test, y_test = train_val_test_split(atmospheric_variables,cloud_fraction,height,cloud_perimeter)"
      ],
      "metadata": {
        "id": "U9fVe7rtpCIp"
      },
      "execution_count": null,
      "outputs": []
    },
    {
      "cell_type": "code",
      "source": [
        "directory = '/content/gdrive/MyDrive/Colab Notebooks/Data/Train, Test, Val/MNN (rounding fixed)/'\n",
        "x1_train=np.load(directory+'x1_train.npy')\n",
        "x2_train=np.load(directory+'x2_train.npy')\n",
        "y_train=np.load(directory+'y_train.npy')\n",
        "x1_val=np.load(directory+'x1_val.npy')\n",
        "x2_val=np.load(directory+'x2_val.npy')\n",
        "y_val=np.load(directory+'y_val.npy')\n",
        "x1_test=np.load(directory+'x1_test.npy')\n",
        "x2_test=np.load(directory+'x2_test.npy')\n",
        "y_test=np.load(directory+'y_test.npy')"
      ],
      "metadata": {
        "id": "lzqF2ya91KFw"
      },
      "execution_count": null,
      "outputs": []
    },
    {
      "cell_type": "code",
      "source": [
        "print(x2_test.shape)"
      ],
      "metadata": {
        "colab": {
          "base_uri": "https://localhost:8080/"
        },
        "id": "5wjP5PsdpC34",
        "outputId": "1470e1ef-2aa3-4b3b-8025-2d2d04e06a7a"
      },
      "execution_count": null,
      "outputs": [
        {
          "output_type": "stream",
          "name": "stdout",
          "text": [
            "(265146, 1, 2)\n"
          ]
        }
      ]
    },
    {
      "cell_type": "markdown",
      "source": [
        "Delete the variables to save RAM"
      ],
      "metadata": {
        "id": "hT7UOu7Rz1fq"
      }
    },
    {
      "cell_type": "code",
      "source": [
        "del atmospheric_variables\n",
        "del cloud_fraction\n",
        "del height\n",
        "del cloud_perimeter"
      ],
      "metadata": {
        "id": "aKOds58bz0gI"
      },
      "execution_count": null,
      "outputs": []
    },
    {
      "cell_type": "code",
      "source": [
        "directory = new_file_directory = '/content/gdrive/MyDrive/Colab Notebooks/Data/Train, Test, Val/MNN (rounding fixed)/'\n",
        "np.save(directory+'x1_train',x1_train)\n",
        "np.save(directory+'x2_train',x2_train)\n",
        "np.save(directory+'y_train',y_train)\n",
        "np.save(directory+'x1_val',x1_val)\n",
        "np.save(directory+'x2_val',x2_val)\n",
        "np.save(directory+'y_val',y_val)\n",
        "np.save(directory+'x1_test',x1_test)\n",
        "np.save(directory+'x2_test',x2_test)\n",
        "np.save(directory+'y_test',y_test)"
      ],
      "metadata": {
        "id": "I2IH857Mqyjh"
      },
      "execution_count": null,
      "outputs": []
    },
    {
      "cell_type": "markdown",
      "source": [
        "#### **Reload the Saved Tuner**"
      ],
      "metadata": {
        "id": "guZuOSGspmDs"
      }
    },
    {
      "cell_type": "markdown",
      "source": [
        "**The construct model function for RoundingFixed_Hyperband_Tuner_allfiles_more_epochs...**"
      ],
      "metadata": {
        "id": "jBGw_5loOIvs"
      }
    },
    {
      "cell_type": "markdown",
      "source": [
        "❗❗❗ Uses the adaptive learning rate!"
      ],
      "metadata": {
        "id": "k_U-uXXkOMvq"
      }
    },
    {
      "cell_type": "code",
      "source": [
        "def construct_model(hp):\n",
        "      #define the two inputs for the two heads of the network\n",
        "      inputA=Input(shape=(7,4))\n",
        "      inputB=Input(shape=(1,2))\n",
        "\n",
        "      hp_kernel = hp.Choice('kernel_size', values = [1,2,3,4,5,6])\n",
        "      hp_pool = hp.Choice('pool_size', values = [1,2,3,4])\n",
        "      #define the convolutional layers acting on inputA\n",
        "      a=Conv1D(filters=8,kernel_size=hp_kernel,padding='same',activation='relu')(inputA)\n",
        "      a=MaxPooling1D(pool_size=hp_pool, padding='same')(a)\n",
        "      a=Conv1D(filters=16,kernel_size=hp_kernel,padding='same',activation='relu')(a)\n",
        "      a=MaxPooling1D(pool_size=hp_pool, padding='same')(a)\n",
        "      a=Conv1D(filters=32,kernel_size=hp_kernel,padding='same',activation='relu')(a)\n",
        "      a=MaxPooling1D(pool_size=hp_pool, padding='same')(a)\n",
        "      a=Conv1D(filters=32,kernel_size=hp_kernel,padding='same',activation='relu')(a)\n",
        "      a=MaxPooling1D(pool_size=hp_pool, padding='same')(a)\n",
        "      a=Flatten()(a)\n",
        "      a=Model(inputs=inputA, outputs=a)\n",
        "\n",
        "      #define the other head of the network for inputB\n",
        "      b=Flatten()(inputB)\n",
        "      b=Dense(4)(b)\n",
        "      b=Model(inputs=inputB, outputs=b)\n",
        "\n",
        "      #combine the heads of the network\n",
        "      hp_units_z1 = hp.Int('units_1', min_value=32, max_value=512, step=32)\n",
        "      hp_units_z2 = hp.Int('units_2', min_value=32, max_value=512, step=32)\n",
        "      hp_units_z3 = hp.Int('units_3', min_value=16, max_value=256, step=16)\n",
        "      hp_units_z4 = hp.Int('units_4', min_value=16, max_value=128, step=16)\n",
        "      hp_dropout = hp.Choice('dropout', values = [0.0,0.1,0.2,0.3,0.4,0.5,0.6,0.7])\n",
        "\n",
        "      combined_vector = concatenate([a.output, b.output])\n",
        "      z=Dense(units=hp_units_z1, activation=\"relu\")(combined_vector)\n",
        "      z=Dropout(hp_dropout)(z)\n",
        "      z=Dense(units=hp_units_z2, activation=\"relu\")(z)\n",
        "      z=Dropout(hp_dropout)(z)\n",
        "      z=Dense(units=hp_units_z3, activation=\"relu\")(z)\n",
        "      z=Dropout(hp_dropout)(z)\n",
        "      z=Dense(units=hp_units_z4, activation=\"relu\")(z)\n",
        "      z=Dropout(hp_dropout)(z)\n",
        "      z=Dense(1)(z)\n",
        "\n",
        "      #finally define the outputs\n",
        "      model=Model(inputs=[inputA,inputB], outputs=z)\n",
        "\n",
        "\n",
        "      hp_learning_rate = 0.001\n",
        "      opt_choice=keras.optimizers.Adam(learning_rate=hp_learning_rate)\n",
        "      model.compile(optimizer=opt_choice,loss=\"mse\",metrics=['mae'])\n",
        "\n",
        "      return model"
      ],
      "metadata": {
        "id": "kPQ3lw_DOJ3w"
      },
      "execution_count": null,
      "outputs": []
    },
    {
      "cell_type": "code",
      "source": [
        "tuner = kt.Hyperband(construct_model,\n",
        "                     objective='val_mae',\n",
        "                     max_epochs=200,\n",
        "                     directory='/content/gdrive/MyDrive/Colab Notebooks/Tuning',\n",
        "                     project_name='RoundingFixed_Hyperband_Tuner_allfiles_more_epochs')"
      ],
      "metadata": {
        "id": "a94_OTyEOQwl"
      },
      "execution_count": null,
      "outputs": []
    },
    {
      "cell_type": "markdown",
      "source": [
        "**The construct model function for Hyperband_Tuner_allfiles_more_epochs...**"
      ],
      "metadata": {
        "id": "GnR53wBdVnEd"
      }
    },
    {
      "cell_type": "markdown",
      "source": [
        "❗❗❗ Note: adjust the (10,4) shape to be appropriate to the shape of the atmospheric_variables that has been defined in the previous cell (when only certain variables and height levels were chosen)"
      ],
      "metadata": {
        "id": "wC6M_BkUYcwZ"
      }
    },
    {
      "cell_type": "code",
      "source": [
        "def construct_model(hp):\n",
        "      #define the two inputs for the two heads of the network\n",
        "      inputA=Input(shape=(7,4))\n",
        "      inputB=Input(shape=(1,2))\n",
        "\n",
        "      hp_kernel = hp.Choice('kernel_size', values = [1,2,3,4,5,6])\n",
        "      hp_pool = hp.Choice('pool_size', values = [1,2,3,4])\n",
        "      #define the convolutional layers acting on inputA\n",
        "      a=Conv1D(filters=8,kernel_size=hp_kernel,padding='same',activation='relu')(inputA)\n",
        "      a=MaxPooling1D(pool_size=hp_pool, padding='same')(a)\n",
        "      a=Conv1D(filters=16,kernel_size=hp_kernel,padding='same',activation='relu')(a)\n",
        "      a=MaxPooling1D(pool_size=hp_pool, padding='same')(a)\n",
        "      a=Conv1D(filters=32,kernel_size=hp_kernel,padding='same',activation='relu')(a)\n",
        "      a=MaxPooling1D(pool_size=hp_pool, padding='same')(a)\n",
        "      a=Conv1D(filters=32,kernel_size=hp_kernel,padding='same',activation='relu')(a)\n",
        "      a=MaxPooling1D(pool_size=hp_pool, padding='same')(a)\n",
        "      a=Flatten()(a)\n",
        "      a=Model(inputs=inputA, outputs=a)\n",
        "\n",
        "      #define the other head of the network for inputB\n",
        "      b=Flatten()(inputB)\n",
        "      b=Dense(4)(b)\n",
        "      b=Model(inputs=inputB, outputs=b)\n",
        "\n",
        "      #combine the heads of the network\n",
        "      hp_units_z1 = hp.Int('units_1', min_value=32, max_value=512, step=32)\n",
        "      hp_units_z2 = hp.Int('units_2', min_value=32, max_value=512, step=32)\n",
        "      hp_units_z3 = hp.Int('units_3', min_value=16, max_value=256, step=16)\n",
        "      hp_units_z4 = hp.Int('units_4', min_value=16, max_value=128, step=16)\n",
        "      hp_dropout = hp.Choice('dropout', values = [0.0,0.1,0.2,0.3,0.4,0.5,0.6,0.7])\n",
        "\n",
        "      combined_vector = concatenate([a.output, b.output])\n",
        "      z=Dense(units=hp_units_z1, activation=\"relu\")(combined_vector)\n",
        "      z=Dropout(hp_dropout)(z)\n",
        "      z=Dense(units=hp_units_z2, activation=\"relu\")(z)\n",
        "      z=Dropout(hp_dropout)(z)\n",
        "      z=Dense(units=hp_units_z3, activation=\"relu\")(z)\n",
        "      z=Dropout(hp_dropout)(z)\n",
        "      z=Dense(units=hp_units_z4, activation=\"relu\")(z)\n",
        "      z=Dropout(hp_dropout)(z)\n",
        "      z=Dense(1)(z)\n",
        "\n",
        "      #finally define the outputs\n",
        "      model=Model(inputs=[inputA,inputB], outputs=z)\n",
        "\n",
        "\n",
        "      hp_learning_rate = 0.001\n",
        "      opt_choice=keras.optimizers.Adam(learning_rate=hp_learning_rate)\n",
        "      model.compile(optimizer=opt_choice,loss=\"mse\",metrics=['mae'])\n",
        "\n",
        "      return model"
      ],
      "metadata": {
        "id": "-Oegf2vOVCDX"
      },
      "execution_count": null,
      "outputs": []
    },
    {
      "cell_type": "code",
      "source": [
        "tuner = kt.Hyperband(construct_model,\n",
        "                     objective='val_mae',\n",
        "                     max_epochs=200,\n",
        "                     directory='/content/gdrive/MyDrive/Colab Notebooks/Tuning',\n",
        "                     project_name='Hyperband_Tuner_allfiles_more_epochs')\n",
        "\n",
        "tuner.reload()"
      ],
      "metadata": {
        "id": "8JZGuWcPVHde"
      },
      "execution_count": null,
      "outputs": []
    },
    {
      "cell_type": "markdown",
      "source": [
        "## **Fitting the Model**"
      ],
      "metadata": {
        "id": "qGyXPy3EpZ22"
      }
    },
    {
      "cell_type": "markdown",
      "source": [
        "Get the best hyperparameters"
      ],
      "metadata": {
        "id": "aRLKWJQfqMmB"
      }
    },
    {
      "cell_type": "code",
      "source": [
        "best_hps=tuner.get_best_hyperparameters(num_trials=1)[0]"
      ],
      "metadata": {
        "id": "sFxP8KkcqOOy"
      },
      "execution_count": null,
      "outputs": []
    },
    {
      "cell_type": "markdown",
      "source": [
        "Build the model with these hyperparameters"
      ],
      "metadata": {
        "id": "aJAdQI3HqQV9"
      }
    },
    {
      "cell_type": "code",
      "source": [
        "print(best_hps)"
      ],
      "metadata": {
        "colab": {
          "base_uri": "https://localhost:8080/"
        },
        "id": "qV8ofw1O6wDL",
        "outputId": "560ee8f6-e02c-46e6-ff8e-839f6b54bc8a"
      },
      "execution_count": null,
      "outputs": [
        {
          "output_type": "stream",
          "name": "stdout",
          "text": [
            "<keras_tuner.engine.hyperparameters.HyperParameters object at 0x7f043ad361d0>\n"
          ]
        }
      ]
    },
    {
      "cell_type": "code",
      "source": [
        "model = tuner.hypermodel.build(best_hps)"
      ],
      "metadata": {
        "id": "uHvBIYl_qR0B"
      },
      "execution_count": null,
      "outputs": []
    },
    {
      "cell_type": "code",
      "source": [
        "model.summary()"
      ],
      "metadata": {
        "colab": {
          "base_uri": "https://localhost:8080/"
        },
        "id": "vUXHSE0c_SBo",
        "outputId": "f7f26d88-65bd-4b14-f187-069c67c766f8"
      },
      "execution_count": null,
      "outputs": [
        {
          "output_type": "stream",
          "name": "stdout",
          "text": [
            "Model: \"model_17\"\n",
            "__________________________________________________________________________________________________\n",
            " Layer (type)                   Output Shape         Param #     Connected to                     \n",
            "==================================================================================================\n",
            " input_11 (InputLayer)          [(None, 7, 4)]       0           []                               \n",
            "                                                                                                  \n",
            " conv1d_20 (Conv1D)             (None, 7, 8)         168         ['input_11[0][0]']               \n",
            "                                                                                                  \n",
            " max_pooling1d_20 (MaxPooling1D  (None, 7, 8)        0           ['conv1d_20[0][0]']              \n",
            " )                                                                                                \n",
            "                                                                                                  \n",
            " conv1d_21 (Conv1D)             (None, 7, 16)        656         ['max_pooling1d_20[0][0]']       \n",
            "                                                                                                  \n",
            " max_pooling1d_21 (MaxPooling1D  (None, 7, 16)       0           ['conv1d_21[0][0]']              \n",
            " )                                                                                                \n",
            "                                                                                                  \n",
            " conv1d_22 (Conv1D)             (None, 7, 32)        2592        ['max_pooling1d_21[0][0]']       \n",
            "                                                                                                  \n",
            " max_pooling1d_22 (MaxPooling1D  (None, 7, 32)       0           ['conv1d_22[0][0]']              \n",
            " )                                                                                                \n",
            "                                                                                                  \n",
            " conv1d_23 (Conv1D)             (None, 7, 32)        5152        ['max_pooling1d_22[0][0]']       \n",
            "                                                                                                  \n",
            " input_12 (InputLayer)          [(None, 1, 2)]       0           []                               \n",
            "                                                                                                  \n",
            " max_pooling1d_23 (MaxPooling1D  (None, 7, 32)       0           ['conv1d_23[0][0]']              \n",
            " )                                                                                                \n",
            "                                                                                                  \n",
            " flatten_11 (Flatten)           (None, 2)            0           ['input_12[0][0]']               \n",
            "                                                                                                  \n",
            " flatten_10 (Flatten)           (None, 224)          0           ['max_pooling1d_23[0][0]']       \n",
            "                                                                                                  \n",
            " dense_30 (Dense)               (None, 4)            12          ['flatten_11[0][0]']             \n",
            "                                                                                                  \n",
            " concatenate_5 (Concatenate)    (None, 228)          0           ['flatten_10[0][0]',             \n",
            "                                                                  'dense_30[0][0]']               \n",
            "                                                                                                  \n",
            " dense_31 (Dense)               (None, 416)          95264       ['concatenate_5[0][0]']          \n",
            "                                                                                                  \n",
            " dropout_20 (Dropout)           (None, 416)          0           ['dense_31[0][0]']               \n",
            "                                                                                                  \n",
            " dense_32 (Dense)               (None, 352)          146784      ['dropout_20[0][0]']             \n",
            "                                                                                                  \n",
            " dropout_21 (Dropout)           (None, 352)          0           ['dense_32[0][0]']               \n",
            "                                                                                                  \n",
            " dense_33 (Dense)               (None, 192)          67776       ['dropout_21[0][0]']             \n",
            "                                                                                                  \n",
            " dropout_22 (Dropout)           (None, 192)          0           ['dense_33[0][0]']               \n",
            "                                                                                                  \n",
            " dense_34 (Dense)               (None, 16)           3088        ['dropout_22[0][0]']             \n",
            "                                                                                                  \n",
            " dropout_23 (Dropout)           (None, 16)           0           ['dense_34[0][0]']               \n",
            "                                                                                                  \n",
            " dense_35 (Dense)               (None, 1)            17          ['dropout_23[0][0]']             \n",
            "                                                                                                  \n",
            "==================================================================================================\n",
            "Total params: 321,509\n",
            "Trainable params: 321,509\n",
            "Non-trainable params: 0\n",
            "__________________________________________________________________________________________________\n"
          ]
        }
      ]
    },
    {
      "cell_type": "markdown",
      "source": [
        "Optional adaptive learning rate to make the validation error more stable"
      ],
      "metadata": {
        "id": "-AHbuT8fdy8h"
      }
    },
    {
      "cell_type": "code",
      "source": [
        "adaptive_learning = True"
      ],
      "metadata": {
        "id": "xUALLMjnd25w"
      },
      "execution_count": null,
      "outputs": []
    },
    {
      "cell_type": "code",
      "source": [
        "if adaptive_learning:\n",
        "      def adapt_learning_rate(epoch):\n",
        "          power = epoch // 20\n",
        "          multiplier = 0.1 ** power\n",
        "          if epoch < 60: \n",
        "            lr = 0.002 * multiplier\n",
        "          else:\n",
        "            lr = 2e-5\n",
        "          return lr\n",
        "      my_lr_scheduler = keras.callbacks.LearningRateScheduler(adapt_learning_rate)"
      ],
      "metadata": {
        "id": "pqBWh5zTLYi4"
      },
      "execution_count": null,
      "outputs": []
    },
    {
      "cell_type": "code",
      "source": [
        "if adaptive_learning:\n",
        "      history = model.fit(x=[x1_train,x2_train], y=y_train, validation_data=([x1_val,x2_val], y_val), epochs=350, batch_size=64, shuffle=True, callbacks=[my_lr_scheduler])\n",
        "else:\n",
        "      history = model.fit(x=[x1_train,x2_train], y=y_train, validation_data=([x1_val,x2_val], y_val), epochs=200, batch_size=2048, shuffle=True)\n"
      ],
      "metadata": {
        "colab": {
          "base_uri": "https://localhost:8080/"
        },
        "id": "Ii0a3SgcqUas",
        "outputId": "c0013dc0-3b1f-4397-97c4-97b2626c7c89"
      },
      "execution_count": null,
      "outputs": [
        {
          "output_type": "stream",
          "name": "stdout",
          "text": [
            "Epoch 1/350\n",
            "19334/19334 [==============================] - 162s 6ms/step - loss: 61324.4883 - mae: 137.1840 - val_loss: 51417.3438 - val_mae: 135.3918 - lr: 0.0020\n",
            "Epoch 2/350\n",
            "19334/19334 [==============================] - 127s 7ms/step - loss: 46149.2734 - mae: 118.8227 - val_loss: 48365.2695 - val_mae: 124.8924 - lr: 0.0020\n",
            "Epoch 3/350\n",
            "19334/19334 [==============================] - 120s 6ms/step - loss: 43681.5234 - mae: 114.5146 - val_loss: 43425.5781 - val_mae: 111.4843 - lr: 0.0020\n",
            "Epoch 4/350\n",
            "19334/19334 [==============================] - 123s 6ms/step - loss: 42218.5781 - mae: 112.0039 - val_loss: 39638.4609 - val_mae: 109.2856 - lr: 0.0020\n",
            "Epoch 5/350\n",
            "19334/19334 [==============================] - 122s 6ms/step - loss: 41249.5234 - mae: 110.5033 - val_loss: 46262.6328 - val_mae: 114.4886 - lr: 0.0020\n",
            "Epoch 6/350\n",
            "19334/19334 [==============================] - 121s 6ms/step - loss: 40611.8867 - mae: 109.1533 - val_loss: 38986.0703 - val_mae: 109.4219 - lr: 0.0020\n",
            "Epoch 7/350\n",
            "19334/19334 [==============================] - 123s 6ms/step - loss: 40079.7188 - mae: 108.3646 - val_loss: 45365.8359 - val_mae: 119.5906 - lr: 0.0020\n",
            "Epoch 8/350\n",
            "19334/19334 [==============================] - 123s 6ms/step - loss: 39895.1328 - mae: 107.8503 - val_loss: 38703.2656 - val_mae: 109.1014 - lr: 0.0020\n",
            "Epoch 9/350\n",
            "19334/19334 [==============================] - 123s 6ms/step - loss: 39455.5469 - mae: 107.3193 - val_loss: 40651.8711 - val_mae: 120.2734 - lr: 0.0020\n",
            "Epoch 10/350\n",
            "19334/19334 [==============================] - 124s 6ms/step - loss: 39101.4492 - mae: 106.5196 - val_loss: 37807.7500 - val_mae: 105.5760 - lr: 0.0020\n",
            "Epoch 11/350\n",
            "19334/19334 [==============================] - 123s 6ms/step - loss: 38800.1055 - mae: 106.1275 - val_loss: 36679.5469 - val_mae: 101.4981 - lr: 0.0020\n",
            "Epoch 12/350\n",
            "19334/19334 [==============================] - 123s 6ms/step - loss: 38455.2031 - mae: 105.5611 - val_loss: 37825.4883 - val_mae: 102.8926 - lr: 0.0020\n",
            "Epoch 13/350\n",
            "19334/19334 [==============================] - 122s 6ms/step - loss: 38347.5156 - mae: 105.3723 - val_loss: 36734.5352 - val_mae: 101.9789 - lr: 0.0020\n",
            "Epoch 14/350\n",
            "19334/19334 [==============================] - 121s 6ms/step - loss: 38184.7969 - mae: 105.2254 - val_loss: 38172.1875 - val_mae: 105.6150 - lr: 0.0020\n",
            "Epoch 15/350\n",
            "19334/19334 [==============================] - 121s 6ms/step - loss: 38151.8438 - mae: 104.9288 - val_loss: 36804.1211 - val_mae: 101.7035 - lr: 0.0020\n",
            "Epoch 16/350\n",
            "19334/19334 [==============================] - 121s 6ms/step - loss: 37807.9141 - mae: 104.3032 - val_loss: 36644.3711 - val_mae: 107.2170 - lr: 0.0020\n",
            "Epoch 17/350\n",
            "19334/19334 [==============================] - 120s 6ms/step - loss: 37629.4688 - mae: 104.0614 - val_loss: 37562.9805 - val_mae: 106.3540 - lr: 0.0020\n",
            "Epoch 18/350\n",
            "19334/19334 [==============================] - 121s 6ms/step - loss: 37494.8555 - mae: 103.8477 - val_loss: 36535.9180 - val_mae: 102.2247 - lr: 0.0020\n",
            "Epoch 19/350\n",
            "19334/19334 [==============================] - 120s 6ms/step - loss: 37425.5898 - mae: 103.5763 - val_loss: 37047.9961 - val_mae: 103.5602 - lr: 0.0020\n",
            "Epoch 20/350\n",
            "19334/19334 [==============================] - 122s 6ms/step - loss: 37253.3242 - mae: 103.3335 - val_loss: 36770.8125 - val_mae: 101.2055 - lr: 0.0020\n",
            "Epoch 21/350\n",
            "19334/19334 [==============================] - 121s 6ms/step - loss: 34248.2812 - mae: 96.0646 - val_loss: 34030.5078 - val_mae: 95.5852 - lr: 2.0000e-04\n",
            "Epoch 22/350\n",
            "19334/19334 [==============================] - 120s 6ms/step - loss: 33734.7305 - mae: 95.2570 - val_loss: 33643.7695 - val_mae: 95.2152 - lr: 2.0000e-04\n",
            "Epoch 23/350\n",
            "19334/19334 [==============================] - 120s 6ms/step - loss: 33492.7383 - mae: 94.9613 - val_loss: 33453.9258 - val_mae: 95.4649 - lr: 2.0000e-04\n",
            "Epoch 24/350\n",
            "19334/19334 [==============================] - 120s 6ms/step - loss: 33287.6680 - mae: 94.6741 - val_loss: 33228.7578 - val_mae: 94.5776 - lr: 2.0000e-04\n",
            "Epoch 25/350\n",
            "19334/19334 [==============================] - 120s 6ms/step - loss: 33134.4258 - mae: 94.4991 - val_loss: 33136.6094 - val_mae: 94.3050 - lr: 2.0000e-04\n",
            "Epoch 26/350\n",
            "19334/19334 [==============================] - 120s 6ms/step - loss: 32994.0234 - mae: 94.2946 - val_loss: 33040.9375 - val_mae: 94.4372 - lr: 2.0000e-04\n",
            "Epoch 27/350\n",
            "19334/19334 [==============================] - 120s 6ms/step - loss: 32871.5195 - mae: 94.1481 - val_loss: 33047.0234 - val_mae: 96.5689 - lr: 2.0000e-04\n",
            "Epoch 28/350\n",
            "19334/19334 [==============================] - 120s 6ms/step - loss: 32747.0195 - mae: 93.9916 - val_loss: 33151.3828 - val_mae: 94.4931 - lr: 2.0000e-04\n",
            "Epoch 29/350\n",
            "19334/19334 [==============================] - 119s 6ms/step - loss: 32649.3789 - mae: 93.8495 - val_loss: 32667.5723 - val_mae: 93.8119 - lr: 2.0000e-04\n",
            "Epoch 30/350\n",
            "19334/19334 [==============================] - 120s 6ms/step - loss: 32536.9199 - mae: 93.7413 - val_loss: 32670.8281 - val_mae: 93.9457 - lr: 2.0000e-04\n",
            "Epoch 31/350\n",
            "19334/19334 [==============================] - 120s 6ms/step - loss: 32461.3945 - mae: 93.6315 - val_loss: 32719.1562 - val_mae: 94.0813 - lr: 2.0000e-04\n",
            "Epoch 32/350\n",
            "19334/19334 [==============================] - 120s 6ms/step - loss: 32360.6895 - mae: 93.4749 - val_loss: 32655.0039 - val_mae: 93.8161 - lr: 2.0000e-04\n",
            "Epoch 33/350\n",
            "19334/19334 [==============================] - 120s 6ms/step - loss: 32287.4609 - mae: 93.3852 - val_loss: 32430.1953 - val_mae: 93.4704 - lr: 2.0000e-04\n",
            "Epoch 34/350\n",
            "19334/19334 [==============================] - 120s 6ms/step - loss: 32212.6445 - mae: 93.2564 - val_loss: 32559.2422 - val_mae: 93.6499 - lr: 2.0000e-04\n",
            "Epoch 35/350\n",
            "19334/19334 [==============================] - 120s 6ms/step - loss: 32137.3652 - mae: 93.1565 - val_loss: 32345.4004 - val_mae: 93.2309 - lr: 2.0000e-04\n",
            "Epoch 36/350\n",
            "19334/19334 [==============================] - 120s 6ms/step - loss: 32074.5293 - mae: 93.0442 - val_loss: 32398.6309 - val_mae: 93.9486 - lr: 2.0000e-04\n",
            "Epoch 37/350\n",
            "19334/19334 [==============================] - 121s 6ms/step - loss: 32004.3105 - mae: 93.0206 - val_loss: 32159.2930 - val_mae: 92.9053 - lr: 2.0000e-04\n",
            "Epoch 38/350\n",
            "19334/19334 [==============================] - 121s 6ms/step - loss: 31945.6621 - mae: 92.8990 - val_loss: 32127.7148 - val_mae: 94.8691 - lr: 2.0000e-04\n",
            "Epoch 39/350\n",
            "19334/19334 [==============================] - 122s 6ms/step - loss: 31876.1855 - mae: 92.8474 - val_loss: 32293.8242 - val_mae: 93.2373 - lr: 2.0000e-04\n",
            "Epoch 40/350\n",
            "19334/19334 [==============================] - 121s 6ms/step - loss: 31844.7070 - mae: 92.8189 - val_loss: 32129.3613 - val_mae: 95.6033 - lr: 2.0000e-04\n",
            "Epoch 41/350\n",
            "19334/19334 [==============================] - 122s 6ms/step - loss: 31314.3047 - mae: 91.6533 - val_loss: 31704.9980 - val_mae: 92.2622 - lr: 2.0000e-05\n",
            "Epoch 42/350\n",
            "19334/19334 [==============================] - 121s 6ms/step - loss: 31235.8145 - mae: 91.5126 - val_loss: 31701.8711 - val_mae: 92.2326 - lr: 2.0000e-05\n",
            "Epoch 43/350\n",
            "19334/19334 [==============================] - 120s 6ms/step - loss: 31212.5293 - mae: 91.4768 - val_loss: 31671.5352 - val_mae: 92.1858 - lr: 2.0000e-05\n",
            "Epoch 44/350\n",
            "19334/19334 [==============================] - 120s 6ms/step - loss: 31199.3613 - mae: 91.4524 - val_loss: 31674.1426 - val_mae: 92.2335 - lr: 2.0000e-05\n",
            "Epoch 45/350\n",
            "19334/19334 [==============================] - 120s 6ms/step - loss: 31189.4512 - mae: 91.4444 - val_loss: 31651.6484 - val_mae: 92.1755 - lr: 2.0000e-05\n",
            "Epoch 46/350\n",
            "19334/19334 [==============================] - 121s 6ms/step - loss: 31172.0781 - mae: 91.4323 - val_loss: 31647.1641 - val_mae: 92.2134 - lr: 2.0000e-05\n",
            "Epoch 47/350\n",
            "19334/19334 [==============================] - 121s 6ms/step - loss: 31165.4707 - mae: 91.4150 - val_loss: 31643.9453 - val_mae: 92.2214 - lr: 2.0000e-05\n",
            "Epoch 48/350\n",
            "19334/19334 [==============================] - 121s 6ms/step - loss: 31158.0000 - mae: 91.4017 - val_loss: 31651.3203 - val_mae: 92.1309 - lr: 2.0000e-05\n",
            "Epoch 49/350\n",
            "19334/19334 [==============================] - 122s 6ms/step - loss: 31144.7617 - mae: 91.3941 - val_loss: 31631.2246 - val_mae: 92.2436 - lr: 2.0000e-05\n",
            "Epoch 50/350\n",
            "19334/19334 [==============================] - 123s 6ms/step - loss: 31135.3535 - mae: 91.3846 - val_loss: 31633.1738 - val_mae: 92.1507 - lr: 2.0000e-05\n",
            "Epoch 51/350\n",
            "19334/19334 [==============================] - 123s 6ms/step - loss: 31127.1211 - mae: 91.3669 - val_loss: 31657.2812 - val_mae: 92.1874 - lr: 2.0000e-05\n",
            "Epoch 52/350\n",
            "19334/19334 [==============================] - 121s 6ms/step - loss: 31117.9004 - mae: 91.3574 - val_loss: 31638.2871 - val_mae: 92.2345 - lr: 2.0000e-05\n",
            "Epoch 53/350\n",
            "19334/19334 [==============================] - 121s 6ms/step - loss: 31105.1602 - mae: 91.3420 - val_loss: 31589.9512 - val_mae: 92.1614 - lr: 2.0000e-05\n",
            "Epoch 54/350\n",
            "19334/19334 [==============================] - 122s 6ms/step - loss: 31100.3262 - mae: 91.3307 - val_loss: 31610.8555 - val_mae: 92.2591 - lr: 2.0000e-05\n",
            "Epoch 55/350\n",
            "19334/19334 [==============================] - 122s 6ms/step - loss: 31090.8105 - mae: 91.3146 - val_loss: 31578.8125 - val_mae: 92.0576 - lr: 2.0000e-05\n",
            "Epoch 56/350\n",
            "19334/19334 [==============================] - 122s 6ms/step - loss: 31081.9902 - mae: 91.3026 - val_loss: 31591.3984 - val_mae: 92.2264 - lr: 2.0000e-05\n",
            "Epoch 57/350\n",
            "19334/19334 [==============================] - 121s 6ms/step - loss: 31069.6699 - mae: 91.2873 - val_loss: 31560.8320 - val_mae: 92.0678 - lr: 2.0000e-05\n",
            "Epoch 58/350\n",
            "19334/19334 [==============================] - 121s 6ms/step - loss: 31063.0430 - mae: 91.2736 - val_loss: 31564.4727 - val_mae: 92.0512 - lr: 2.0000e-05\n",
            "Epoch 59/350\n",
            "19334/19334 [==============================] - 122s 6ms/step - loss: 31055.9883 - mae: 91.2694 - val_loss: 31560.5039 - val_mae: 92.0160 - lr: 2.0000e-05\n",
            "Epoch 60/350\n",
            "19334/19334 [==============================] - 121s 6ms/step - loss: 31045.1133 - mae: 91.2588 - val_loss: 31574.8203 - val_mae: 92.0378 - lr: 2.0000e-05\n",
            "Epoch 61/350\n",
            "19334/19334 [==============================] - 122s 6ms/step - loss: 31037.6895 - mae: 91.2372 - val_loss: 31590.0918 - val_mae: 92.0936 - lr: 2.0000e-05\n",
            "Epoch 62/350\n",
            "19334/19334 [==============================] - 121s 6ms/step - loss: 31027.1758 - mae: 91.2205 - val_loss: 31578.6914 - val_mae: 92.0104 - lr: 2.0000e-05\n",
            "Epoch 63/350\n",
            "19334/19334 [==============================] - 122s 6ms/step - loss: 31022.4219 - mae: 91.2015 - val_loss: 31535.6914 - val_mae: 92.1254 - lr: 2.0000e-05\n",
            "Epoch 64/350\n",
            "19334/19334 [==============================] - 123s 6ms/step - loss: 31010.3652 - mae: 91.1938 - val_loss: 31518.2949 - val_mae: 91.9683 - lr: 2.0000e-05\n",
            "Epoch 65/350\n",
            "19334/19334 [==============================] - 122s 6ms/step - loss: 31004.3574 - mae: 91.1853 - val_loss: 31554.3379 - val_mae: 92.0470 - lr: 2.0000e-05\n",
            "Epoch 66/350\n",
            "19334/19334 [==============================] - 121s 6ms/step - loss: 30993.0000 - mae: 91.1676 - val_loss: 31532.8184 - val_mae: 92.0308 - lr: 2.0000e-05\n",
            "Epoch 67/350\n",
            "19334/19334 [==============================] - 119s 6ms/step - loss: 30989.3125 - mae: 91.1559 - val_loss: 31532.8301 - val_mae: 92.0103 - lr: 2.0000e-05\n",
            "Epoch 68/350\n",
            "19334/19334 [==============================] - 118s 6ms/step - loss: 30984.0859 - mae: 91.1569 - val_loss: 31496.0156 - val_mae: 91.8954 - lr: 2.0000e-05\n",
            "Epoch 69/350\n",
            "19334/19334 [==============================] - 120s 6ms/step - loss: 30976.4492 - mae: 91.1382 - val_loss: 31489.2285 - val_mae: 91.8920 - lr: 2.0000e-05\n",
            "Epoch 70/350\n",
            "19334/19334 [==============================] - 120s 6ms/step - loss: 30962.8652 - mae: 91.1297 - val_loss: 31485.8418 - val_mae: 92.0162 - lr: 2.0000e-05\n",
            "Epoch 71/350\n",
            "19334/19334 [==============================] - 119s 6ms/step - loss: 30955.5527 - mae: 91.1173 - val_loss: 31472.1133 - val_mae: 91.9270 - lr: 2.0000e-05\n",
            "Epoch 72/350\n",
            "19334/19334 [==============================] - 120s 6ms/step - loss: 30949.7012 - mae: 91.1135 - val_loss: 31482.1016 - val_mae: 92.0446 - lr: 2.0000e-05\n",
            "Epoch 73/350\n",
            "19334/19334 [==============================] - 119s 6ms/step - loss: 30941.3926 - mae: 91.1056 - val_loss: 31540.1348 - val_mae: 92.0104 - lr: 2.0000e-05\n",
            "Epoch 74/350\n",
            "19334/19334 [==============================] - 120s 6ms/step - loss: 30933.0742 - mae: 91.0787 - val_loss: 31474.3945 - val_mae: 91.9882 - lr: 2.0000e-05\n",
            "Epoch 75/350\n",
            "19334/19334 [==============================] - 119s 6ms/step - loss: 30926.4551 - mae: 91.0777 - val_loss: 31476.6934 - val_mae: 91.9457 - lr: 2.0000e-05\n",
            "Epoch 76/350\n",
            "19334/19334 [==============================] - 119s 6ms/step - loss: 30916.7793 - mae: 91.0689 - val_loss: 31470.1504 - val_mae: 91.8920 - lr: 2.0000e-05\n",
            "Epoch 77/350\n",
            "19334/19334 [==============================] - 120s 6ms/step - loss: 30912.0527 - mae: 91.0442 - val_loss: 31449.2012 - val_mae: 91.8521 - lr: 2.0000e-05\n",
            "Epoch 78/350\n",
            "19334/19334 [==============================] - 119s 6ms/step - loss: 30901.7949 - mae: 91.0482 - val_loss: 31455.5586 - val_mae: 91.9284 - lr: 2.0000e-05\n",
            "Epoch 79/350\n",
            "19334/19334 [==============================] - 120s 6ms/step - loss: 30896.3594 - mae: 91.0420 - val_loss: 31456.3203 - val_mae: 91.8201 - lr: 2.0000e-05\n",
            "Epoch 80/350\n",
            "19334/19334 [==============================] - 120s 6ms/step - loss: 30888.4473 - mae: 91.0225 - val_loss: 31425.6641 - val_mae: 91.8544 - lr: 2.0000e-05\n",
            "Epoch 81/350\n",
            "19334/19334 [==============================] - 119s 6ms/step - loss: 30881.8066 - mae: 91.0142 - val_loss: 31427.3301 - val_mae: 91.9804 - lr: 2.0000e-05\n",
            "Epoch 82/350\n",
            "19334/19334 [==============================] - 119s 6ms/step - loss: 30874.9863 - mae: 91.0070 - val_loss: 31432.6406 - val_mae: 91.8367 - lr: 2.0000e-05\n",
            "Epoch 83/350\n",
            "19334/19334 [==============================] - 119s 6ms/step - loss: 30870.3496 - mae: 90.9920 - val_loss: 31420.5957 - val_mae: 91.8148 - lr: 2.0000e-05\n",
            "Epoch 84/350\n",
            "19334/19334 [==============================] - 119s 6ms/step - loss: 30857.0684 - mae: 90.9920 - val_loss: 31414.9922 - val_mae: 91.7775 - lr: 2.0000e-05\n",
            "Epoch 85/350\n",
            "19334/19334 [==============================] - 119s 6ms/step - loss: 30855.0059 - mae: 90.9780 - val_loss: 31408.7324 - val_mae: 91.8334 - lr: 2.0000e-05\n",
            "Epoch 86/350\n",
            "19334/19334 [==============================] - 119s 6ms/step - loss: 30844.1816 - mae: 90.9538 - val_loss: 31458.9023 - val_mae: 91.8209 - lr: 2.0000e-05\n",
            "Epoch 87/350\n",
            "19334/19334 [==============================] - 120s 6ms/step - loss: 30839.3789 - mae: 90.9558 - val_loss: 31397.8262 - val_mae: 91.8094 - lr: 2.0000e-05\n",
            "Epoch 88/350\n",
            "19334/19334 [==============================] - 121s 6ms/step - loss: 30831.8965 - mae: 90.9520 - val_loss: 31399.4805 - val_mae: 91.7630 - lr: 2.0000e-05\n",
            "Epoch 89/350\n",
            "19334/19334 [==============================] - 121s 6ms/step - loss: 30827.7461 - mae: 90.9461 - val_loss: 31429.3066 - val_mae: 92.0992 - lr: 2.0000e-05\n",
            "Epoch 90/350\n",
            "19334/19334 [==============================] - 120s 6ms/step - loss: 30820.3281 - mae: 90.9332 - val_loss: 31384.0254 - val_mae: 91.8383 - lr: 2.0000e-05\n",
            "Epoch 91/350\n",
            "19334/19334 [==============================] - 119s 6ms/step - loss: 30811.3555 - mae: 90.9285 - val_loss: 31399.5957 - val_mae: 91.7113 - lr: 2.0000e-05\n",
            "Epoch 92/350\n",
            "19334/19334 [==============================] - 120s 6ms/step - loss: 30805.4082 - mae: 90.9141 - val_loss: 31370.3457 - val_mae: 91.7245 - lr: 2.0000e-05\n",
            "Epoch 93/350\n",
            "19334/19334 [==============================] - 122s 6ms/step - loss: 30797.1523 - mae: 90.9070 - val_loss: 31372.1680 - val_mae: 91.7640 - lr: 2.0000e-05\n",
            "Epoch 94/350\n",
            "19334/19334 [==============================] - 124s 6ms/step - loss: 30792.8711 - mae: 90.9008 - val_loss: 31404.7617 - val_mae: 91.9452 - lr: 2.0000e-05\n",
            "Epoch 95/350\n",
            "19334/19334 [==============================] - 123s 6ms/step - loss: 30787.3535 - mae: 90.8923 - val_loss: 31355.0898 - val_mae: 91.6884 - lr: 2.0000e-05\n",
            "Epoch 96/350\n",
            "19334/19334 [==============================] - 121s 6ms/step - loss: 30779.7031 - mae: 90.8746 - val_loss: 31381.3828 - val_mae: 91.7562 - lr: 2.0000e-05\n",
            "Epoch 97/350\n",
            "19334/19334 [==============================] - 122s 6ms/step - loss: 30769.0000 - mae: 90.8706 - val_loss: 31354.6895 - val_mae: 91.7589 - lr: 2.0000e-05\n",
            "Epoch 98/350\n",
            "19334/19334 [==============================] - 121s 6ms/step - loss: 30769.7129 - mae: 90.8706 - val_loss: 31340.9785 - val_mae: 91.7501 - lr: 2.0000e-05\n",
            "Epoch 99/350\n",
            "19334/19334 [==============================] - 121s 6ms/step - loss: 30756.4277 - mae: 90.8525 - val_loss: 31373.6426 - val_mae: 91.7545 - lr: 2.0000e-05\n",
            "Epoch 100/350\n",
            "19334/19334 [==============================] - 121s 6ms/step - loss: 30751.5020 - mae: 90.8382 - val_loss: 31338.0332 - val_mae: 91.6845 - lr: 2.0000e-05\n",
            "Epoch 101/350\n",
            "19334/19334 [==============================] - 121s 6ms/step - loss: 30744.8945 - mae: 90.8239 - val_loss: 31362.4785 - val_mae: 91.6857 - lr: 2.0000e-05\n",
            "Epoch 102/350\n",
            "19334/19334 [==============================] - 122s 6ms/step - loss: 30744.8750 - mae: 90.8313 - val_loss: 31306.4355 - val_mae: 91.6520 - lr: 2.0000e-05\n",
            "Epoch 103/350\n",
            "19334/19334 [==============================] - 121s 6ms/step - loss: 30733.7852 - mae: 90.8127 - val_loss: 31355.3125 - val_mae: 91.6695 - lr: 2.0000e-05\n",
            "Epoch 104/350\n",
            "19334/19334 [==============================] - 121s 6ms/step - loss: 30729.1152 - mae: 90.8004 - val_loss: 31345.4805 - val_mae: 91.6931 - lr: 2.0000e-05\n",
            "Epoch 105/350\n",
            "19334/19334 [==============================] - 122s 6ms/step - loss: 30721.5547 - mae: 90.7928 - val_loss: 31318.9961 - val_mae: 91.6392 - lr: 2.0000e-05\n",
            "Epoch 106/350\n",
            "19334/19334 [==============================] - 121s 6ms/step - loss: 30710.2793 - mae: 90.7848 - val_loss: 31369.2871 - val_mae: 91.7438 - lr: 2.0000e-05\n",
            "Epoch 107/350\n",
            "19334/19334 [==============================] - 121s 6ms/step - loss: 30715.0293 - mae: 90.7764 - val_loss: 31300.6055 - val_mae: 91.6732 - lr: 2.0000e-05\n",
            "Epoch 108/350\n",
            "19334/19334 [==============================] - 123s 6ms/step - loss: 30702.1484 - mae: 90.7722 - val_loss: 31320.6309 - val_mae: 91.6034 - lr: 2.0000e-05\n",
            "Epoch 109/350\n",
            "19334/19334 [==============================] - 121s 6ms/step - loss: 30694.9297 - mae: 90.7570 - val_loss: 31290.1348 - val_mae: 91.5970 - lr: 2.0000e-05\n",
            "Epoch 110/350\n",
            "19334/19334 [==============================] - 123s 6ms/step - loss: 30688.6602 - mae: 90.7471 - val_loss: 31290.5840 - val_mae: 91.6038 - lr: 2.0000e-05\n",
            "Epoch 111/350\n",
            "19334/19334 [==============================] - 122s 6ms/step - loss: 30679.2012 - mae: 90.7364 - val_loss: 31347.9258 - val_mae: 91.6437 - lr: 2.0000e-05\n",
            "Epoch 112/350\n",
            "19334/19334 [==============================] - 123s 6ms/step - loss: 30682.8672 - mae: 90.7282 - val_loss: 31289.6211 - val_mae: 91.6013 - lr: 2.0000e-05\n",
            "Epoch 113/350\n",
            "19334/19334 [==============================] - 122s 6ms/step - loss: 30671.2305 - mae: 90.7218 - val_loss: 31270.1855 - val_mae: 91.5972 - lr: 2.0000e-05\n",
            "Epoch 114/350\n",
            "19334/19334 [==============================] - 123s 6ms/step - loss: 30661.8164 - mae: 90.7068 - val_loss: 31260.7363 - val_mae: 91.5896 - lr: 2.0000e-05\n",
            "Epoch 115/350\n",
            "19334/19334 [==============================] - 123s 6ms/step - loss: 30660.2500 - mae: 90.6961 - val_loss: 31308.6582 - val_mae: 91.6626 - lr: 2.0000e-05\n",
            "Epoch 116/350\n",
            "19334/19334 [==============================] - 122s 6ms/step - loss: 30653.2266 - mae: 90.6891 - val_loss: 31258.8711 - val_mae: 91.5735 - lr: 2.0000e-05\n",
            "Epoch 117/350\n",
            "19334/19334 [==============================] - 123s 6ms/step - loss: 30649.8965 - mae: 90.6739 - val_loss: 31245.1270 - val_mae: 91.8840 - lr: 2.0000e-05\n",
            "Epoch 118/350\n",
            "19334/19334 [==============================] - 123s 6ms/step - loss: 30643.0176 - mae: 90.6726 - val_loss: 31270.7832 - val_mae: 91.5432 - lr: 2.0000e-05\n",
            "Epoch 119/350\n",
            "19334/19334 [==============================] - 123s 6ms/step - loss: 30632.2949 - mae: 90.6636 - val_loss: 31272.4531 - val_mae: 91.5773 - lr: 2.0000e-05\n",
            "Epoch 120/350\n",
            "19334/19334 [==============================] - 123s 6ms/step - loss: 30631.0840 - mae: 90.6553 - val_loss: 31260.7227 - val_mae: 91.6203 - lr: 2.0000e-05\n",
            "Epoch 121/350\n",
            "19334/19334 [==============================] - 122s 6ms/step - loss: 30621.0820 - mae: 90.6424 - val_loss: 31234.5020 - val_mae: 91.5142 - lr: 2.0000e-05\n",
            "Epoch 122/350\n",
            "19334/19334 [==============================] - 122s 6ms/step - loss: 30616.9922 - mae: 90.6285 - val_loss: 31219.2520 - val_mae: 91.5892 - lr: 2.0000e-05\n",
            "Epoch 123/350\n",
            "19334/19334 [==============================] - 124s 6ms/step - loss: 30610.9766 - mae: 90.6272 - val_loss: 31241.1113 - val_mae: 91.5373 - lr: 2.0000e-05\n",
            "Epoch 124/350\n",
            "19334/19334 [==============================] - 123s 6ms/step - loss: 30607.7285 - mae: 90.6210 - val_loss: 31221.5234 - val_mae: 91.5498 - lr: 2.0000e-05\n",
            "Epoch 125/350\n",
            "19334/19334 [==============================] - 124s 6ms/step - loss: 30599.9805 - mae: 90.6029 - val_loss: 31212.1152 - val_mae: 91.5026 - lr: 2.0000e-05\n",
            "Epoch 126/350\n",
            "19334/19334 [==============================] - 123s 6ms/step - loss: 30592.4219 - mae: 90.5962 - val_loss: 31217.8027 - val_mae: 91.4841 - lr: 2.0000e-05\n",
            "Epoch 127/350\n",
            "19334/19334 [==============================] - 123s 6ms/step - loss: 30589.4531 - mae: 90.5827 - val_loss: 31235.5508 - val_mae: 91.7187 - lr: 2.0000e-05\n",
            "Epoch 128/350\n",
            "19334/19334 [==============================] - 124s 6ms/step - loss: 30582.4609 - mae: 90.5763 - val_loss: 31203.1230 - val_mae: 91.6006 - lr: 2.0000e-05\n",
            "Epoch 129/350\n",
            "19334/19334 [==============================] - 123s 6ms/step - loss: 30575.0605 - mae: 90.5666 - val_loss: 31230.7520 - val_mae: 91.5229 - lr: 2.0000e-05\n",
            "Epoch 130/350\n",
            "19334/19334 [==============================] - 124s 6ms/step - loss: 30569.2988 - mae: 90.5629 - val_loss: 31200.2637 - val_mae: 91.5023 - lr: 2.0000e-05\n",
            "Epoch 131/350\n",
            "19334/19334 [==============================] - 123s 6ms/step - loss: 30566.3574 - mae: 90.5585 - val_loss: 31191.1035 - val_mae: 91.5474 - lr: 2.0000e-05\n",
            "Epoch 132/350\n",
            "19334/19334 [==============================] - 123s 6ms/step - loss: 30560.6953 - mae: 90.5408 - val_loss: 31218.0566 - val_mae: 91.5024 - lr: 2.0000e-05\n",
            "Epoch 133/350\n",
            "19334/19334 [==============================] - 123s 6ms/step - loss: 30558.6836 - mae: 90.5396 - val_loss: 31195.9609 - val_mae: 91.4560 - lr: 2.0000e-05\n",
            "Epoch 134/350\n",
            "19334/19334 [==============================] - 123s 6ms/step - loss: 30545.9297 - mae: 90.5253 - val_loss: 31193.7852 - val_mae: 91.4268 - lr: 2.0000e-05\n",
            "Epoch 135/350\n",
            "19334/19334 [==============================] - 132s 7ms/step - loss: 30537.8574 - mae: 90.5200 - val_loss: 31165.8730 - val_mae: 91.3992 - lr: 2.0000e-05\n",
            "Epoch 136/350\n",
            "19334/19334 [==============================] - 123s 6ms/step - loss: 30537.9141 - mae: 90.5239 - val_loss: 31157.8613 - val_mae: 91.3915 - lr: 2.0000e-05\n",
            "Epoch 137/350\n",
            "19334/19334 [==============================] - 123s 6ms/step - loss: 30533.4922 - mae: 90.5101 - val_loss: 31148.4277 - val_mae: 91.4099 - lr: 2.0000e-05\n",
            "Epoch 138/350\n",
            "19334/19334 [==============================] - 122s 6ms/step - loss: 30524.1758 - mae: 90.4905 - val_loss: 31179.2012 - val_mae: 91.4547 - lr: 2.0000e-05\n",
            "Epoch 139/350\n",
            "19334/19334 [==============================] - 123s 6ms/step - loss: 30521.5254 - mae: 90.4888 - val_loss: 31177.5996 - val_mae: 91.5213 - lr: 2.0000e-05\n",
            "Epoch 140/350\n",
            "19334/19334 [==============================] - 124s 6ms/step - loss: 30512.2207 - mae: 90.4895 - val_loss: 31179.1973 - val_mae: 91.4395 - lr: 2.0000e-05\n",
            "Epoch 141/350\n",
            "19334/19334 [==============================] - 123s 6ms/step - loss: 30507.0918 - mae: 90.4721 - val_loss: 31152.3711 - val_mae: 91.4031 - lr: 2.0000e-05\n",
            "Epoch 142/350\n",
            "19334/19334 [==============================] - 124s 6ms/step - loss: 30500.9746 - mae: 90.4630 - val_loss: 31142.0176 - val_mae: 91.3389 - lr: 2.0000e-05\n",
            "Epoch 143/350\n",
            "19334/19334 [==============================] - 124s 6ms/step - loss: 30497.2441 - mae: 90.4609 - val_loss: 31135.6484 - val_mae: 91.3441 - lr: 2.0000e-05\n",
            "Epoch 144/350\n",
            "19334/19334 [==============================] - 124s 6ms/step - loss: 30492.1094 - mae: 90.4531 - val_loss: 31164.8066 - val_mae: 91.4854 - lr: 2.0000e-05\n",
            "Epoch 145/350\n",
            "19334/19334 [==============================] - 124s 6ms/step - loss: 30486.7363 - mae: 90.4444 - val_loss: 31209.0801 - val_mae: 91.4608 - lr: 2.0000e-05\n",
            "Epoch 146/350\n",
            "19334/19334 [==============================] - 124s 6ms/step - loss: 30478.8262 - mae: 90.4490 - val_loss: 31171.3652 - val_mae: 91.4349 - lr: 2.0000e-05\n",
            "Epoch 147/350\n",
            "19334/19334 [==============================] - 123s 6ms/step - loss: 30477.2461 - mae: 90.4217 - val_loss: 31107.5371 - val_mae: 91.3092 - lr: 2.0000e-05\n",
            "Epoch 148/350\n",
            "19334/19334 [==============================] - 123s 6ms/step - loss: 30469.2559 - mae: 90.4074 - val_loss: 31163.3770 - val_mae: 91.3636 - lr: 2.0000e-05\n",
            "Epoch 149/350\n",
            "19334/19334 [==============================] - 122s 6ms/step - loss: 30466.6172 - mae: 90.4135 - val_loss: 31128.0859 - val_mae: 91.3333 - lr: 2.0000e-05\n",
            "Epoch 150/350\n",
            "19334/19334 [==============================] - 123s 6ms/step - loss: 30456.1699 - mae: 90.3974 - val_loss: 31145.9492 - val_mae: 91.5127 - lr: 2.0000e-05\n",
            "Epoch 151/350\n",
            "19334/19334 [==============================] - 123s 6ms/step - loss: 30452.6934 - mae: 90.3930 - val_loss: 31126.3711 - val_mae: 91.4203 - lr: 2.0000e-05\n",
            "Epoch 152/350\n",
            "19334/19334 [==============================] - 123s 6ms/step - loss: 30447.0059 - mae: 90.3831 - val_loss: 31124.0586 - val_mae: 91.3201 - lr: 2.0000e-05\n",
            "Epoch 153/350\n",
            "19334/19334 [==============================] - 123s 6ms/step - loss: 30445.1602 - mae: 90.3816 - val_loss: 31098.0586 - val_mae: 91.2977 - lr: 2.0000e-05\n",
            "Epoch 154/350\n",
            "19334/19334 [==============================] - 124s 6ms/step - loss: 30434.1094 - mae: 90.3643 - val_loss: 31079.9688 - val_mae: 91.3172 - lr: 2.0000e-05\n",
            "Epoch 155/350\n",
            "19334/19334 [==============================] - 124s 6ms/step - loss: 30431.0879 - mae: 90.3593 - val_loss: 31114.1191 - val_mae: 91.3421 - lr: 2.0000e-05\n",
            "Epoch 156/350\n",
            "19334/19334 [==============================] - 124s 6ms/step - loss: 30421.9668 - mae: 90.3510 - val_loss: 31079.6953 - val_mae: 91.2895 - lr: 2.0000e-05\n",
            "Epoch 157/350\n",
            "19334/19334 [==============================] - 124s 6ms/step - loss: 30420.4902 - mae: 90.3443 - val_loss: 31158.5547 - val_mae: 91.6318 - lr: 2.0000e-05\n",
            "Epoch 158/350\n",
            "19334/19334 [==============================] - 124s 6ms/step - loss: 30416.3164 - mae: 90.3548 - val_loss: 31087.5293 - val_mae: 91.2713 - lr: 2.0000e-05\n",
            "Epoch 159/350\n",
            "19334/19334 [==============================] - 123s 6ms/step - loss: 30407.8418 - mae: 90.3220 - val_loss: 31072.2031 - val_mae: 91.2639 - lr: 2.0000e-05\n",
            "Epoch 160/350\n",
            "19334/19334 [==============================] - 123s 6ms/step - loss: 30404.7070 - mae: 90.3277 - val_loss: 31064.4844 - val_mae: 91.2627 - lr: 2.0000e-05\n",
            "Epoch 161/350\n",
            "19334/19334 [==============================] - 124s 6ms/step - loss: 30395.0059 - mae: 90.3160 - val_loss: 31090.3320 - val_mae: 91.2968 - lr: 2.0000e-05\n",
            "Epoch 162/350\n",
            "19334/19334 [==============================] - 123s 6ms/step - loss: 30391.5625 - mae: 90.3032 - val_loss: 31080.7324 - val_mae: 91.2680 - lr: 2.0000e-05\n",
            "Epoch 163/350\n",
            "19334/19334 [==============================] - 124s 6ms/step - loss: 30386.6504 - mae: 90.3060 - val_loss: 31081.0742 - val_mae: 91.3319 - lr: 2.0000e-05\n",
            "Epoch 164/350\n",
            "19334/19334 [==============================] - 124s 6ms/step - loss: 30384.7129 - mae: 90.2994 - val_loss: 31086.8809 - val_mae: 91.2576 - lr: 2.0000e-05\n",
            "Epoch 165/350\n",
            "19334/19334 [==============================] - 124s 6ms/step - loss: 30375.2188 - mae: 90.2854 - val_loss: 31106.9434 - val_mae: 91.3747 - lr: 2.0000e-05\n",
            "Epoch 166/350\n",
            "19334/19334 [==============================] - 124s 6ms/step - loss: 30375.0840 - mae: 90.2860 - val_loss: 31081.1992 - val_mae: 91.2515 - lr: 2.0000e-05\n",
            "Epoch 167/350\n",
            "19334/19334 [==============================] - 124s 6ms/step - loss: 30364.4512 - mae: 90.2668 - val_loss: 31032.5898 - val_mae: 91.2701 - lr: 2.0000e-05\n",
            "Epoch 168/350\n",
            "19334/19334 [==============================] - 124s 6ms/step - loss: 30360.5449 - mae: 90.2713 - val_loss: 31047.1016 - val_mae: 91.4367 - lr: 2.0000e-05\n",
            "Epoch 169/350\n",
            "19334/19334 [==============================] - 124s 6ms/step - loss: 30351.7090 - mae: 90.2699 - val_loss: 31021.1211 - val_mae: 91.1753 - lr: 2.0000e-05\n",
            "Epoch 170/350\n",
            "19334/19334 [==============================] - 124s 6ms/step - loss: 30349.9844 - mae: 90.2492 - val_loss: 31032.5469 - val_mae: 91.2967 - lr: 2.0000e-05\n",
            "Epoch 171/350\n",
            "19334/19334 [==============================] - 124s 6ms/step - loss: 30347.5918 - mae: 90.2533 - val_loss: 31028.8105 - val_mae: 91.2304 - lr: 2.0000e-05\n",
            "Epoch 172/350\n",
            "19334/19334 [==============================] - 124s 6ms/step - loss: 30340.4277 - mae: 90.2312 - val_loss: 31041.4258 - val_mae: 91.1754 - lr: 2.0000e-05\n",
            "Epoch 173/350\n",
            "19334/19334 [==============================] - 123s 6ms/step - loss: 30337.8789 - mae: 90.2303 - val_loss: 31012.2715 - val_mae: 91.2250 - lr: 2.0000e-05\n",
            "Epoch 174/350\n",
            "19334/19334 [==============================] - 124s 6ms/step - loss: 30331.9004 - mae: 90.2272 - val_loss: 31016.3203 - val_mae: 91.1615 - lr: 2.0000e-05\n",
            "Epoch 175/350\n",
            "19334/19334 [==============================] - 123s 6ms/step - loss: 30329.0273 - mae: 90.2181 - val_loss: 30998.6016 - val_mae: 91.1563 - lr: 2.0000e-05\n",
            "Epoch 176/350\n",
            "19334/19334 [==============================] - 122s 6ms/step - loss: 30319.1562 - mae: 90.2143 - val_loss: 30999.9609 - val_mae: 91.1713 - lr: 2.0000e-05\n",
            "Epoch 177/350\n",
            "19334/19334 [==============================] - 123s 6ms/step - loss: 30316.0371 - mae: 90.2032 - val_loss: 31021.6934 - val_mae: 91.1687 - lr: 2.0000e-05\n",
            "Epoch 178/350\n",
            "19334/19334 [==============================] - 124s 6ms/step - loss: 30308.7109 - mae: 90.1936 - val_loss: 31024.4492 - val_mae: 91.3808 - lr: 2.0000e-05\n",
            "Epoch 179/350\n",
            "19334/19334 [==============================] - 124s 6ms/step - loss: 30302.0391 - mae: 90.1739 - val_loss: 30978.4727 - val_mae: 91.1379 - lr: 2.0000e-05\n",
            "Epoch 180/350\n",
            "19334/19334 [==============================] - 124s 6ms/step - loss: 30302.0820 - mae: 90.1812 - val_loss: 30984.3359 - val_mae: 91.1937 - lr: 2.0000e-05\n",
            "Epoch 181/350\n",
            "19334/19334 [==============================] - 124s 6ms/step - loss: 30295.2090 - mae: 90.1723 - val_loss: 31046.4609 - val_mae: 91.2807 - lr: 2.0000e-05\n",
            "Epoch 182/350\n",
            "19334/19334 [==============================] - 124s 6ms/step - loss: 30291.3945 - mae: 90.1667 - val_loss: 30968.2422 - val_mae: 91.1486 - lr: 2.0000e-05\n",
            "Epoch 183/350\n",
            "19334/19334 [==============================] - 124s 6ms/step - loss: 30283.0527 - mae: 90.1549 - val_loss: 30972.3301 - val_mae: 91.1612 - lr: 2.0000e-05\n",
            "Epoch 184/350\n",
            "19334/19334 [==============================] - 123s 6ms/step - loss: 30279.9277 - mae: 90.1499 - val_loss: 30968.6543 - val_mae: 91.2713 - lr: 2.0000e-05\n",
            "Epoch 185/350\n",
            "19334/19334 [==============================] - 124s 6ms/step - loss: 30279.3555 - mae: 90.1420 - val_loss: 30980.4629 - val_mae: 91.0844 - lr: 2.0000e-05\n",
            "Epoch 186/350\n",
            "19334/19334 [==============================] - 125s 6ms/step - loss: 30266.7461 - mae: 90.1399 - val_loss: 31008.0508 - val_mae: 91.1489 - lr: 2.0000e-05\n",
            "Epoch 187/350\n",
            "19334/19334 [==============================] - 124s 6ms/step - loss: 30263.2773 - mae: 90.1241 - val_loss: 30967.1191 - val_mae: 91.1083 - lr: 2.0000e-05\n",
            "Epoch 188/350\n",
            "19334/19334 [==============================] - 124s 6ms/step - loss: 30257.8848 - mae: 90.1191 - val_loss: 30957.2793 - val_mae: 91.1912 - lr: 2.0000e-05\n",
            "Epoch 189/350\n",
            "19334/19334 [==============================] - 124s 6ms/step - loss: 30259.1094 - mae: 90.1190 - val_loss: 30981.7148 - val_mae: 91.0899 - lr: 2.0000e-05\n",
            "Epoch 190/350\n",
            "19334/19334 [==============================] - 123s 6ms/step - loss: 30248.4238 - mae: 90.1082 - val_loss: 30961.9336 - val_mae: 91.0970 - lr: 2.0000e-05\n",
            "Epoch 191/350\n",
            "19334/19334 [==============================] - 123s 6ms/step - loss: 30243.0352 - mae: 90.0999 - val_loss: 30986.8516 - val_mae: 91.2516 - lr: 2.0000e-05\n",
            "Epoch 192/350\n",
            "19334/19334 [==============================] - 124s 6ms/step - loss: 30238.6680 - mae: 90.1058 - val_loss: 30972.6094 - val_mae: 91.1332 - lr: 2.0000e-05\n",
            "Epoch 193/350\n",
            "19334/19334 [==============================] - 135s 7ms/step - loss: 30234.1660 - mae: 90.0913 - val_loss: 31008.9570 - val_mae: 91.4565 - lr: 2.0000e-05\n",
            "Epoch 194/350\n",
            "19334/19334 [==============================] - 125s 6ms/step - loss: 30233.0488 - mae: 90.0976 - val_loss: 30962.7734 - val_mae: 91.0740 - lr: 2.0000e-05\n",
            "Epoch 195/350\n",
            "19334/19334 [==============================] - 124s 6ms/step - loss: 30224.5527 - mae: 90.0783 - val_loss: 30947.6289 - val_mae: 91.0578 - lr: 2.0000e-05\n",
            "Epoch 196/350\n",
            "19334/19334 [==============================] - 124s 6ms/step - loss: 30219.2207 - mae: 90.0761 - val_loss: 30940.1191 - val_mae: 91.1644 - lr: 2.0000e-05\n",
            "Epoch 197/350\n",
            "19334/19334 [==============================] - 123s 6ms/step - loss: 30219.1543 - mae: 90.0714 - val_loss: 30919.8574 - val_mae: 91.0680 - lr: 2.0000e-05\n",
            "Epoch 198/350\n",
            "19334/19334 [==============================] - 124s 6ms/step - loss: 30210.1738 - mae: 90.0658 - val_loss: 30923.5215 - val_mae: 91.1625 - lr: 2.0000e-05\n",
            "Epoch 199/350\n",
            "19334/19334 [==============================] - 122s 6ms/step - loss: 30207.2266 - mae: 90.0574 - val_loss: 30907.8262 - val_mae: 91.0564 - lr: 2.0000e-05\n",
            "Epoch 200/350\n",
            "19334/19334 [==============================] - 122s 6ms/step - loss: 30207.2637 - mae: 90.0510 - val_loss: 30918.0312 - val_mae: 91.1205 - lr: 2.0000e-05\n",
            "Epoch 201/350\n",
            "19334/19334 [==============================] - 122s 6ms/step - loss: 30195.8359 - mae: 90.0473 - val_loss: 30939.8711 - val_mae: 91.0388 - lr: 2.0000e-05\n",
            "Epoch 202/350\n",
            "19334/19334 [==============================] - 122s 6ms/step - loss: 30196.9121 - mae: 90.0437 - val_loss: 30902.3535 - val_mae: 91.0654 - lr: 2.0000e-05\n",
            "Epoch 203/350\n",
            "19334/19334 [==============================] - 123s 6ms/step - loss: 30189.2930 - mae: 90.0363 - val_loss: 30918.2656 - val_mae: 91.0725 - lr: 2.0000e-05\n",
            "Epoch 204/350\n",
            "19334/19334 [==============================] - 121s 6ms/step - loss: 30189.7090 - mae: 90.0257 - val_loss: 30890.7500 - val_mae: 91.0822 - lr: 2.0000e-05\n",
            "Epoch 205/350\n",
            "19334/19334 [==============================] - 120s 6ms/step - loss: 30178.8184 - mae: 90.0138 - val_loss: 30924.9023 - val_mae: 91.2902 - lr: 2.0000e-05\n",
            "Epoch 206/350\n",
            "19334/19334 [==============================] - 121s 6ms/step - loss: 30177.7070 - mae: 90.0169 - val_loss: 30940.7559 - val_mae: 91.1691 - lr: 2.0000e-05\n",
            "Epoch 207/350\n",
            "19334/19334 [==============================] - 121s 6ms/step - loss: 30171.3496 - mae: 89.9976 - val_loss: 30914.1875 - val_mae: 91.0596 - lr: 2.0000e-05\n",
            "Epoch 208/350\n",
            "19334/19334 [==============================] - 122s 6ms/step - loss: 30163.8926 - mae: 89.9969 - val_loss: 30893.2734 - val_mae: 91.0244 - lr: 2.0000e-05\n",
            "Epoch 209/350\n",
            "19334/19334 [==============================] - 122s 6ms/step - loss: 30161.7266 - mae: 89.9942 - val_loss: 30913.1426 - val_mae: 91.1469 - lr: 2.0000e-05\n",
            "Epoch 210/350\n",
            "19334/19334 [==============================] - 122s 6ms/step - loss: 30157.2422 - mae: 89.9869 - val_loss: 30880.6113 - val_mae: 91.0446 - lr: 2.0000e-05\n",
            "Epoch 211/350\n",
            "19334/19334 [==============================] - 122s 6ms/step - loss: 30150.0215 - mae: 89.9900 - val_loss: 30905.4199 - val_mae: 91.0360 - lr: 2.0000e-05\n",
            "Epoch 212/350\n",
            "19334/19334 [==============================] - 122s 6ms/step - loss: 30148.6387 - mae: 89.9764 - val_loss: 30897.7930 - val_mae: 91.0477 - lr: 2.0000e-05\n",
            "Epoch 213/350\n",
            "19334/19334 [==============================] - 123s 6ms/step - loss: 30143.4336 - mae: 89.9766 - val_loss: 30956.1035 - val_mae: 91.0810 - lr: 2.0000e-05\n",
            "Epoch 214/350\n",
            "19334/19334 [==============================] - 123s 6ms/step - loss: 30143.8340 - mae: 89.9659 - val_loss: 30871.6934 - val_mae: 91.0122 - lr: 2.0000e-05\n",
            "Epoch 215/350\n",
            "19334/19334 [==============================] - 122s 6ms/step - loss: 30134.5664 - mae: 89.9615 - val_loss: 30904.0762 - val_mae: 91.2757 - lr: 2.0000e-05\n",
            "Epoch 216/350\n",
            "19334/19334 [==============================] - 123s 6ms/step - loss: 30127.4922 - mae: 89.9538 - val_loss: 30931.6973 - val_mae: 91.0727 - lr: 2.0000e-05\n",
            "Epoch 217/350\n",
            "19334/19334 [==============================] - 122s 6ms/step - loss: 30130.7617 - mae: 89.9609 - val_loss: 30896.2461 - val_mae: 91.0286 - lr: 2.0000e-05\n",
            "Epoch 218/350\n",
            "19334/19334 [==============================] - 123s 6ms/step - loss: 30121.6855 - mae: 89.9391 - val_loss: 30864.1582 - val_mae: 90.9850 - lr: 2.0000e-05\n",
            "Epoch 219/350\n",
            "19334/19334 [==============================] - 123s 6ms/step - loss: 30119.1504 - mae: 89.9267 - val_loss: 30942.4043 - val_mae: 91.5371 - lr: 2.0000e-05\n",
            "Epoch 220/350\n",
            "19334/19334 [==============================] - 122s 6ms/step - loss: 30113.2773 - mae: 89.9362 - val_loss: 30867.0742 - val_mae: 91.0614 - lr: 2.0000e-05\n",
            "Epoch 221/350\n",
            "19334/19334 [==============================] - 124s 6ms/step - loss: 30107.6270 - mae: 89.9371 - val_loss: 30868.1543 - val_mae: 90.9666 - lr: 2.0000e-05\n",
            "Epoch 222/350\n",
            "19334/19334 [==============================] - 123s 6ms/step - loss: 30102.2344 - mae: 89.9195 - val_loss: 30861.4688 - val_mae: 91.1415 - lr: 2.0000e-05\n",
            "Epoch 223/350\n",
            "19334/19334 [==============================] - 124s 6ms/step - loss: 30100.3535 - mae: 89.9189 - val_loss: 30896.2500 - val_mae: 90.9656 - lr: 2.0000e-05\n",
            "Epoch 224/350\n",
            "19334/19334 [==============================] - 125s 6ms/step - loss: 30094.1992 - mae: 89.9157 - val_loss: 30889.6875 - val_mae: 91.1245 - lr: 2.0000e-05\n",
            "Epoch 225/350\n",
            "19334/19334 [==============================] - 125s 6ms/step - loss: 30095.5273 - mae: 89.9099 - val_loss: 30837.6445 - val_mae: 90.9922 - lr: 2.0000e-05\n",
            "Epoch 226/350\n",
            "19334/19334 [==============================] - 125s 6ms/step - loss: 30092.2500 - mae: 89.9084 - val_loss: 30865.0059 - val_mae: 90.9446 - lr: 2.0000e-05\n",
            "Epoch 227/350\n",
            "19334/19334 [==============================] - 125s 6ms/step - loss: 30086.3711 - mae: 89.8935 - val_loss: 30891.2012 - val_mae: 91.0050 - lr: 2.0000e-05\n",
            "Epoch 228/350\n",
            "19334/19334 [==============================] - 124s 6ms/step - loss: 30078.1523 - mae: 89.8937 - val_loss: 30814.7227 - val_mae: 90.9075 - lr: 2.0000e-05\n",
            "Epoch 229/350\n",
            "19334/19334 [==============================] - 125s 6ms/step - loss: 30072.8750 - mae: 89.8858 - val_loss: 30839.4121 - val_mae: 90.8971 - lr: 2.0000e-05\n",
            "Epoch 230/350\n",
            "19334/19334 [==============================] - 125s 6ms/step - loss: 30069.5117 - mae: 89.8749 - val_loss: 30848.4531 - val_mae: 91.0716 - lr: 2.0000e-05\n",
            "Epoch 231/350\n",
            "19334/19334 [==============================] - 125s 6ms/step - loss: 30064.6797 - mae: 89.8740 - val_loss: 30859.2383 - val_mae: 90.9746 - lr: 2.0000e-05\n",
            "Epoch 232/350\n",
            "19334/19334 [==============================] - 125s 6ms/step - loss: 30064.2852 - mae: 89.8642 - val_loss: 30811.0703 - val_mae: 91.1783 - lr: 2.0000e-05\n",
            "Epoch 233/350\n",
            "19334/19334 [==============================] - 125s 6ms/step - loss: 30062.6289 - mae: 89.8595 - val_loss: 30818.3887 - val_mae: 90.9455 - lr: 2.0000e-05\n",
            "Epoch 234/350\n",
            "19334/19334 [==============================] - 125s 6ms/step - loss: 30054.6680 - mae: 89.8633 - val_loss: 30810.0254 - val_mae: 90.9301 - lr: 2.0000e-05\n",
            "Epoch 235/350\n",
            "19334/19334 [==============================] - 123s 6ms/step - loss: 30053.9824 - mae: 89.8563 - val_loss: 30812.9707 - val_mae: 91.0017 - lr: 2.0000e-05\n",
            "Epoch 236/350\n",
            "19334/19334 [==============================] - 124s 6ms/step - loss: 30042.9961 - mae: 89.8499 - val_loss: 30822.3574 - val_mae: 91.1208 - lr: 2.0000e-05\n",
            "Epoch 237/350\n",
            "19334/19334 [==============================] - 125s 6ms/step - loss: 30040.0508 - mae: 89.8347 - val_loss: 30813.9102 - val_mae: 90.9154 - lr: 2.0000e-05\n",
            "Epoch 238/350\n",
            "19334/19334 [==============================] - 125s 6ms/step - loss: 30037.7695 - mae: 89.8309 - val_loss: 30809.4688 - val_mae: 90.9687 - lr: 2.0000e-05\n",
            "Epoch 239/350\n",
            "19334/19334 [==============================] - 124s 6ms/step - loss: 30035.4922 - mae: 89.8362 - val_loss: 30790.5898 - val_mae: 90.8826 - lr: 2.0000e-05\n",
            "Epoch 240/350\n",
            "19334/19334 [==============================] - 124s 6ms/step - loss: 30026.0078 - mae: 89.8195 - val_loss: 30843.9883 - val_mae: 90.8817 - lr: 2.0000e-05\n",
            "Epoch 241/350\n",
            "19334/19334 [==============================] - 124s 6ms/step - loss: 30028.4238 - mae: 89.8214 - val_loss: 30791.6797 - val_mae: 90.9110 - lr: 2.0000e-05\n",
            "Epoch 242/350\n",
            "19334/19334 [==============================] - 123s 6ms/step - loss: 30020.5254 - mae: 89.8121 - val_loss: 30809.0684 - val_mae: 90.9976 - lr: 2.0000e-05\n",
            "Epoch 243/350\n",
            "19334/19334 [==============================] - 125s 6ms/step - loss: 30023.2012 - mae: 89.8107 - val_loss: 30762.3770 - val_mae: 90.8977 - lr: 2.0000e-05\n",
            "Epoch 244/350\n",
            "19334/19334 [==============================] - 124s 6ms/step - loss: 30016.1934 - mae: 89.8130 - val_loss: 30759.5215 - val_mae: 90.8792 - lr: 2.0000e-05\n",
            "Epoch 245/350\n",
            "19334/19334 [==============================] - 124s 6ms/step - loss: 30009.1348 - mae: 89.7934 - val_loss: 30778.1543 - val_mae: 90.8932 - lr: 2.0000e-05\n",
            "Epoch 246/350\n",
            "19334/19334 [==============================] - 125s 6ms/step - loss: 30003.5430 - mae: 89.7884 - val_loss: 30753.6582 - val_mae: 90.8104 - lr: 2.0000e-05\n",
            "Epoch 247/350\n",
            "19334/19334 [==============================] - 124s 6ms/step - loss: 29999.3340 - mae: 89.7790 - val_loss: 30803.4668 - val_mae: 90.8846 - lr: 2.0000e-05\n",
            "Epoch 248/350\n",
            "19334/19334 [==============================] - 125s 6ms/step - loss: 29997.2539 - mae: 89.7896 - val_loss: 30808.8711 - val_mae: 91.1718 - lr: 2.0000e-05\n",
            "Epoch 249/350\n",
            "19334/19334 [==============================] - 124s 6ms/step - loss: 29991.5898 - mae: 89.7836 - val_loss: 30792.1758 - val_mae: 90.8387 - lr: 2.0000e-05\n",
            "Epoch 250/350\n",
            "19334/19334 [==============================] - 122s 6ms/step - loss: 29989.2559 - mae: 89.7728 - val_loss: 30777.0156 - val_mae: 90.8863 - lr: 2.0000e-05\n",
            "Epoch 251/350\n",
            "19334/19334 [==============================] - 123s 6ms/step - loss: 29985.8633 - mae: 89.7660 - val_loss: 30799.0625 - val_mae: 90.9511 - lr: 2.0000e-05\n",
            "Epoch 252/350\n",
            "19334/19334 [==============================] - 122s 6ms/step - loss: 29981.5859 - mae: 89.7711 - val_loss: 30837.5723 - val_mae: 90.9152 - lr: 2.0000e-05\n",
            "Epoch 253/350\n",
            "19334/19334 [==============================] - 124s 6ms/step - loss: 29977.0391 - mae: 89.7531 - val_loss: 30762.2695 - val_mae: 91.0268 - lr: 2.0000e-05\n",
            "Epoch 254/350\n",
            "19334/19334 [==============================] - 124s 6ms/step - loss: 29973.3281 - mae: 89.7420 - val_loss: 30740.6426 - val_mae: 90.9151 - lr: 2.0000e-05\n",
            "Epoch 255/350\n",
            "19334/19334 [==============================] - 124s 6ms/step - loss: 29972.1680 - mae: 89.7519 - val_loss: 30765.1758 - val_mae: 90.7986 - lr: 2.0000e-05\n",
            "Epoch 256/350\n",
            "19334/19334 [==============================] - 124s 6ms/step - loss: 29964.5488 - mae: 89.7449 - val_loss: 30743.9629 - val_mae: 90.9219 - lr: 2.0000e-05\n",
            "Epoch 257/350\n",
            "19334/19334 [==============================] - 124s 6ms/step - loss: 29962.9453 - mae: 89.7348 - val_loss: 30749.8223 - val_mae: 90.8378 - lr: 2.0000e-05\n",
            "Epoch 258/350\n",
            "19334/19334 [==============================] - 123s 6ms/step - loss: 29959.4141 - mae: 89.7220 - val_loss: 30723.7422 - val_mae: 90.8389 - lr: 2.0000e-05\n",
            "Epoch 259/350\n",
            "19334/19334 [==============================] - 123s 6ms/step - loss: 29954.5215 - mae: 89.7254 - val_loss: 30745.4961 - val_mae: 90.8598 - lr: 2.0000e-05\n",
            "Epoch 260/350\n",
            "19334/19334 [==============================] - 123s 6ms/step - loss: 29950.8496 - mae: 89.7250 - val_loss: 30771.0059 - val_mae: 90.8393 - lr: 2.0000e-05\n",
            "Epoch 261/350\n",
            "19334/19334 [==============================] - 124s 6ms/step - loss: 29948.7441 - mae: 89.7174 - val_loss: 30728.2695 - val_mae: 90.8113 - lr: 2.0000e-05\n",
            "Epoch 262/350\n",
            "19334/19334 [==============================] - 123s 6ms/step - loss: 29945.0645 - mae: 89.7038 - val_loss: 30722.9512 - val_mae: 90.9140 - lr: 2.0000e-05\n",
            "Epoch 263/350\n",
            "19334/19334 [==============================] - 123s 6ms/step - loss: 29941.2461 - mae: 89.7064 - val_loss: 30739.2051 - val_mae: 90.7987 - lr: 2.0000e-05\n",
            "Epoch 264/350\n",
            "19334/19334 [==============================] - 122s 6ms/step - loss: 29934.8223 - mae: 89.6935 - val_loss: 30714.0176 - val_mae: 90.8335 - lr: 2.0000e-05\n",
            "Epoch 265/350\n",
            "19334/19334 [==============================] - 122s 6ms/step - loss: 29934.2266 - mae: 89.6919 - val_loss: 30735.0059 - val_mae: 90.8522 - lr: 2.0000e-05\n",
            "Epoch 266/350\n",
            "19334/19334 [==============================] - 122s 6ms/step - loss: 29927.3164 - mae: 89.6923 - val_loss: 30722.5586 - val_mae: 90.8595 - lr: 2.0000e-05\n",
            "Epoch 267/350\n",
            "19334/19334 [==============================] - 121s 6ms/step - loss: 29925.6191 - mae: 89.6786 - val_loss: 30732.9355 - val_mae: 90.9474 - lr: 2.0000e-05\n",
            "Epoch 268/350\n",
            "19334/19334 [==============================] - 122s 6ms/step - loss: 29925.4805 - mae: 89.6787 - val_loss: 30689.1465 - val_mae: 90.8130 - lr: 2.0000e-05\n",
            "Epoch 269/350\n",
            "19334/19334 [==============================] - 122s 6ms/step - loss: 29917.0918 - mae: 89.6674 - val_loss: 30684.2031 - val_mae: 90.7117 - lr: 2.0000e-05\n",
            "Epoch 270/350\n",
            "19334/19334 [==============================] - 120s 6ms/step - loss: 29914.3613 - mae: 89.6602 - val_loss: 30727.6250 - val_mae: 90.8951 - lr: 2.0000e-05\n",
            "Epoch 271/350\n",
            "19334/19334 [==============================] - 121s 6ms/step - loss: 29907.6113 - mae: 89.6531 - val_loss: 30708.8984 - val_mae: 90.7961 - lr: 2.0000e-05\n",
            "Epoch 272/350\n",
            "19334/19334 [==============================] - 125s 6ms/step - loss: 29902.5801 - mae: 89.6527 - val_loss: 30709.1523 - val_mae: 90.7255 - lr: 2.0000e-05\n",
            "Epoch 273/350\n",
            "19334/19334 [==============================] - 125s 6ms/step - loss: 29900.8574 - mae: 89.6320 - val_loss: 30752.4707 - val_mae: 90.8273 - lr: 2.0000e-05\n",
            "Epoch 274/350\n",
            "19334/19334 [==============================] - 124s 6ms/step - loss: 29901.9961 - mae: 89.6346 - val_loss: 30680.0410 - val_mae: 90.8071 - lr: 2.0000e-05\n",
            "Epoch 275/350\n",
            "19334/19334 [==============================] - 122s 6ms/step - loss: 29893.3691 - mae: 89.6226 - val_loss: 30669.7617 - val_mae: 90.7297 - lr: 2.0000e-05\n",
            "Epoch 276/350\n",
            "19334/19334 [==============================] - 122s 6ms/step - loss: 29893.3047 - mae: 89.6290 - val_loss: 30698.5137 - val_mae: 90.7320 - lr: 2.0000e-05\n",
            "Epoch 277/350\n",
            "19334/19334 [==============================] - 123s 6ms/step - loss: 29889.7227 - mae: 89.6258 - val_loss: 30703.6680 - val_mae: 90.7237 - lr: 2.0000e-05\n",
            "Epoch 278/350\n",
            "19334/19334 [==============================] - 124s 6ms/step - loss: 29882.6406 - mae: 89.6177 - val_loss: 30688.0918 - val_mae: 91.0755 - lr: 2.0000e-05\n",
            "Epoch 279/350\n",
            "19334/19334 [==============================] - 123s 6ms/step - loss: 29878.8867 - mae: 89.6134 - val_loss: 30672.2148 - val_mae: 90.8471 - lr: 2.0000e-05\n",
            "Epoch 280/350\n",
            "19334/19334 [==============================] - 126s 7ms/step - loss: 29875.1934 - mae: 89.5987 - val_loss: 30698.2539 - val_mae: 90.7356 - lr: 2.0000e-05\n",
            "Epoch 281/350\n",
            "19334/19334 [==============================] - 126s 7ms/step - loss: 29868.7949 - mae: 89.5968 - val_loss: 30692.1113 - val_mae: 90.7368 - lr: 2.0000e-05\n",
            "Epoch 282/350\n",
            "19334/19334 [==============================] - 126s 7ms/step - loss: 29871.2500 - mae: 89.5895 - val_loss: 30677.8340 - val_mae: 90.7047 - lr: 2.0000e-05\n",
            "Epoch 283/350\n",
            "19334/19334 [==============================] - 126s 7ms/step - loss: 29864.4883 - mae: 89.5876 - val_loss: 30687.5742 - val_mae: 90.7420 - lr: 2.0000e-05\n",
            "Epoch 284/350\n",
            "19334/19334 [==============================] - 124s 6ms/step - loss: 29865.2949 - mae: 89.5851 - val_loss: 30653.0449 - val_mae: 90.7003 - lr: 2.0000e-05\n",
            "Epoch 285/350\n",
            "19334/19334 [==============================] - 124s 6ms/step - loss: 29860.9453 - mae: 89.5740 - val_loss: 30660.2930 - val_mae: 90.7923 - lr: 2.0000e-05\n",
            "Epoch 286/350\n",
            "19334/19334 [==============================] - 128s 7ms/step - loss: 29853.6660 - mae: 89.5651 - val_loss: 30668.3848 - val_mae: 90.7049 - lr: 2.0000e-05\n",
            "Epoch 287/350\n",
            "19334/19334 [==============================] - 128s 7ms/step - loss: 29849.3320 - mae: 89.5702 - val_loss: 30633.5430 - val_mae: 90.6857 - lr: 2.0000e-05\n",
            "Epoch 288/350\n",
            "19334/19334 [==============================] - 128s 7ms/step - loss: 29847.8496 - mae: 89.5609 - val_loss: 30640.8105 - val_mae: 90.6775 - lr: 2.0000e-05\n",
            "Epoch 289/350\n",
            "19334/19334 [==============================] - 128s 7ms/step - loss: 29842.4980 - mae: 89.5460 - val_loss: 30637.7773 - val_mae: 90.6640 - lr: 2.0000e-05\n",
            "Epoch 290/350\n",
            "19334/19334 [==============================] - 126s 6ms/step - loss: 29842.3711 - mae: 89.5387 - val_loss: 30660.3125 - val_mae: 90.6895 - lr: 2.0000e-05\n",
            "Epoch 291/350\n",
            "19334/19334 [==============================] - 121s 6ms/step - loss: 29835.4434 - mae: 89.5315 - val_loss: 30648.8125 - val_mae: 90.8811 - lr: 2.0000e-05\n",
            "Epoch 292/350\n",
            "19334/19334 [==============================] - 122s 6ms/step - loss: 29831.9277 - mae: 89.5316 - val_loss: 30645.6348 - val_mae: 90.7975 - lr: 2.0000e-05\n",
            "Epoch 293/350\n",
            "19334/19334 [==============================] - 121s 6ms/step - loss: 29832.5371 - mae: 89.5252 - val_loss: 30623.7539 - val_mae: 90.6311 - lr: 2.0000e-05\n",
            "Epoch 294/350\n",
            "19334/19334 [==============================] - 125s 6ms/step - loss: 29826.4980 - mae: 89.5187 - val_loss: 30630.1309 - val_mae: 90.6700 - lr: 2.0000e-05\n",
            "Epoch 295/350\n",
            "19334/19334 [==============================] - 128s 7ms/step - loss: 29818.7910 - mae: 89.5233 - val_loss: 30645.6035 - val_mae: 90.8493 - lr: 2.0000e-05\n",
            "Epoch 296/350\n",
            "19334/19334 [==============================] - 125s 6ms/step - loss: 29816.6973 - mae: 89.4956 - val_loss: 30648.4570 - val_mae: 90.6667 - lr: 2.0000e-05\n",
            "Epoch 297/350\n",
            "19334/19334 [==============================] - 128s 7ms/step - loss: 29815.2461 - mae: 89.4973 - val_loss: 30604.2305 - val_mae: 90.6121 - lr: 2.0000e-05\n",
            "Epoch 298/350\n",
            "19334/19334 [==============================] - 128s 7ms/step - loss: 29806.7090 - mae: 89.4995 - val_loss: 30611.9395 - val_mae: 90.5812 - lr: 2.0000e-05\n",
            "Epoch 299/350\n",
            "19334/19334 [==============================] - 129s 7ms/step - loss: 29800.4961 - mae: 89.4859 - val_loss: 30610.0625 - val_mae: 90.6446 - lr: 2.0000e-05\n",
            "Epoch 300/350\n",
            "19334/19334 [==============================] - 125s 6ms/step - loss: 29796.2617 - mae: 89.4827 - val_loss: 30670.7773 - val_mae: 90.6553 - lr: 2.0000e-05\n",
            "Epoch 301/350\n",
            "19334/19334 [==============================] - 125s 6ms/step - loss: 29798.4668 - mae: 89.4738 - val_loss: 30628.5547 - val_mae: 90.6612 - lr: 2.0000e-05\n",
            "Epoch 302/350\n",
            "19334/19334 [==============================] - 124s 6ms/step - loss: 29793.5898 - mae: 89.4657 - val_loss: 30628.3125 - val_mae: 90.6141 - lr: 2.0000e-05\n",
            "Epoch 303/350\n",
            "19334/19334 [==============================] - 124s 6ms/step - loss: 29784.3145 - mae: 89.4613 - val_loss: 30654.3125 - val_mae: 90.6230 - lr: 2.0000e-05\n",
            "Epoch 304/350\n",
            "19334/19334 [==============================] - 122s 6ms/step - loss: 29787.1562 - mae: 89.4710 - val_loss: 30623.1250 - val_mae: 90.8846 - lr: 2.0000e-05\n",
            "Epoch 305/350\n",
            "19334/19334 [==============================] - 125s 6ms/step - loss: 29782.0801 - mae: 89.4486 - val_loss: 30595.6934 - val_mae: 90.5843 - lr: 2.0000e-05\n",
            "Epoch 306/350\n",
            "19334/19334 [==============================] - 125s 6ms/step - loss: 29775.8535 - mae: 89.4362 - val_loss: 30597.9434 - val_mae: 90.5582 - lr: 2.0000e-05\n",
            "Epoch 307/350\n",
            "19334/19334 [==============================] - 123s 6ms/step - loss: 29774.5137 - mae: 89.4401 - val_loss: 30598.6758 - val_mae: 90.5888 - lr: 2.0000e-05\n",
            "Epoch 308/350\n",
            "19334/19334 [==============================] - 124s 6ms/step - loss: 29771.9414 - mae: 89.4371 - val_loss: 30569.6758 - val_mae: 90.5552 - lr: 2.0000e-05\n",
            "Epoch 309/350\n",
            "19334/19334 [==============================] - 121s 6ms/step - loss: 29768.0156 - mae: 89.4340 - val_loss: 30576.6484 - val_mae: 90.5638 - lr: 2.0000e-05\n",
            "Epoch 310/350\n",
            "19334/19334 [==============================] - 122s 6ms/step - loss: 29757.9316 - mae: 89.4181 - val_loss: 30597.8906 - val_mae: 90.5770 - lr: 2.0000e-05\n",
            "Epoch 311/350\n",
            "19334/19334 [==============================] - 123s 6ms/step - loss: 29760.2031 - mae: 89.4156 - val_loss: 30561.7266 - val_mae: 90.5360 - lr: 2.0000e-05\n",
            "Epoch 312/350\n",
            "19334/19334 [==============================] - 122s 6ms/step - loss: 29748.0645 - mae: 89.4037 - val_loss: 30582.6504 - val_mae: 90.5142 - lr: 2.0000e-05\n",
            "Epoch 313/350\n",
            "19334/19334 [==============================] - 122s 6ms/step - loss: 29747.8477 - mae: 89.4028 - val_loss: 30568.7012 - val_mae: 90.5741 - lr: 2.0000e-05\n",
            "Epoch 314/350\n",
            "19334/19334 [==============================] - 122s 6ms/step - loss: 29748.0078 - mae: 89.4037 - val_loss: 30546.8438 - val_mae: 90.5219 - lr: 2.0000e-05\n",
            "Epoch 315/350\n",
            "19334/19334 [==============================] - 121s 6ms/step - loss: 29748.0430 - mae: 89.3906 - val_loss: 30593.4434 - val_mae: 90.5927 - lr: 2.0000e-05\n",
            "Epoch 316/350\n",
            "19334/19334 [==============================] - 122s 6ms/step - loss: 29742.1309 - mae: 89.3921 - val_loss: 30563.2012 - val_mae: 90.4833 - lr: 2.0000e-05\n",
            "Epoch 317/350\n",
            "19334/19334 [==============================] - 121s 6ms/step - loss: 29735.9512 - mae: 89.3788 - val_loss: 30567.0996 - val_mae: 90.5575 - lr: 2.0000e-05\n",
            "Epoch 318/350\n",
            "19334/19334 [==============================] - 121s 6ms/step - loss: 29732.3828 - mae: 89.3752 - val_loss: 30563.8164 - val_mae: 90.6251 - lr: 2.0000e-05\n",
            "Epoch 319/350\n",
            "19334/19334 [==============================] - 122s 6ms/step - loss: 29724.4082 - mae: 89.3764 - val_loss: 30583.8125 - val_mae: 90.5984 - lr: 2.0000e-05\n",
            "Epoch 320/350\n",
            "19334/19334 [==============================] - 121s 6ms/step - loss: 29727.3242 - mae: 89.3665 - val_loss: 30541.2227 - val_mae: 90.5004 - lr: 2.0000e-05\n",
            "Epoch 321/350\n",
            "19334/19334 [==============================] - 122s 6ms/step - loss: 29721.1602 - mae: 89.3640 - val_loss: 30581.9082 - val_mae: 90.5338 - lr: 2.0000e-05\n",
            "Epoch 322/350\n",
            "19334/19334 [==============================] - 122s 6ms/step - loss: 29718.8398 - mae: 89.3569 - val_loss: 30596.6309 - val_mae: 90.5128 - lr: 2.0000e-05\n",
            "Epoch 323/350\n",
            "19334/19334 [==============================] - 122s 6ms/step - loss: 29714.0273 - mae: 89.3396 - val_loss: 30590.8945 - val_mae: 90.6536 - lr: 2.0000e-05\n",
            "Epoch 324/350\n",
            "19334/19334 [==============================] - 122s 6ms/step - loss: 29712.9219 - mae: 89.3389 - val_loss: 30540.2969 - val_mae: 90.5927 - lr: 2.0000e-05\n",
            "Epoch 325/350\n",
            "19334/19334 [==============================] - 121s 6ms/step - loss: 29709.1602 - mae: 89.3439 - val_loss: 30553.5898 - val_mae: 90.4969 - lr: 2.0000e-05\n",
            "Epoch 326/350\n",
            "19334/19334 [==============================] - 123s 6ms/step - loss: 29705.3477 - mae: 89.3290 - val_loss: 30531.3828 - val_mae: 90.5192 - lr: 2.0000e-05\n",
            "Epoch 327/350\n",
            "19334/19334 [==============================] - 123s 6ms/step - loss: 29699.1934 - mae: 89.3206 - val_loss: 30586.8789 - val_mae: 90.5896 - lr: 2.0000e-05\n",
            "Epoch 328/350\n",
            "19334/19334 [==============================] - 122s 6ms/step - loss: 29693.8906 - mae: 89.3251 - val_loss: 30559.6152 - val_mae: 90.5388 - lr: 2.0000e-05\n",
            "Epoch 329/350\n",
            "19334/19334 [==============================] - 121s 6ms/step - loss: 29692.5469 - mae: 89.3111 - val_loss: 30514.2461 - val_mae: 90.5827 - lr: 2.0000e-05\n",
            "Epoch 330/350\n",
            "19334/19334 [==============================] - 121s 6ms/step - loss: 29692.0137 - mae: 89.3121 - val_loss: 30554.4668 - val_mae: 90.5422 - lr: 2.0000e-05\n",
            "Epoch 331/350\n",
            "19334/19334 [==============================] - 122s 6ms/step - loss: 29688.6777 - mae: 89.3026 - val_loss: 30517.0664 - val_mae: 90.4468 - lr: 2.0000e-05\n",
            "Epoch 332/350\n",
            "19334/19334 [==============================] - 122s 6ms/step - loss: 29683.7070 - mae: 89.3028 - val_loss: 30543.9512 - val_mae: 90.4749 - lr: 2.0000e-05\n",
            "Epoch 333/350\n",
            "19334/19334 [==============================] - 122s 6ms/step - loss: 29672.2949 - mae: 89.2857 - val_loss: 30519.5801 - val_mae: 90.6007 - lr: 2.0000e-05\n",
            "Epoch 334/350\n",
            "19334/19334 [==============================] - 123s 6ms/step - loss: 29672.9102 - mae: 89.2958 - val_loss: 30536.5098 - val_mae: 90.5107 - lr: 2.0000e-05\n",
            "Epoch 335/350\n",
            "19334/19334 [==============================] - 124s 6ms/step - loss: 29668.2754 - mae: 89.2834 - val_loss: 30507.1484 - val_mae: 90.4870 - lr: 2.0000e-05\n",
            "Epoch 336/350\n",
            "19334/19334 [==============================] - 124s 6ms/step - loss: 29666.8125 - mae: 89.2795 - val_loss: 30548.8730 - val_mae: 90.4730 - lr: 2.0000e-05\n",
            "Epoch 337/350\n",
            "19334/19334 [==============================] - 122s 6ms/step - loss: 29665.8926 - mae: 89.2786 - val_loss: 30518.3496 - val_mae: 90.4809 - lr: 2.0000e-05\n",
            "Epoch 338/350\n",
            "19334/19334 [==============================] - 122s 6ms/step - loss: 29662.7109 - mae: 89.2722 - val_loss: 30491.4785 - val_mae: 90.3874 - lr: 2.0000e-05\n",
            "Epoch 339/350\n",
            "19334/19334 [==============================] - 123s 6ms/step - loss: 29656.7031 - mae: 89.2585 - val_loss: 30529.7539 - val_mae: 90.4334 - lr: 2.0000e-05\n",
            "Epoch 340/350\n",
            "19334/19334 [==============================] - 123s 6ms/step - loss: 29653.9023 - mae: 89.2550 - val_loss: 30488.6211 - val_mae: 90.4161 - lr: 2.0000e-05\n",
            "Epoch 341/350\n",
            "19334/19334 [==============================] - 126s 7ms/step - loss: 29648.3047 - mae: 89.2519 - val_loss: 30519.2656 - val_mae: 90.4896 - lr: 2.0000e-05\n",
            "Epoch 342/350\n",
            "19334/19334 [==============================] - 126s 7ms/step - loss: 29647.2109 - mae: 89.2492 - val_loss: 30520.7988 - val_mae: 90.4497 - lr: 2.0000e-05\n",
            "Epoch 343/350\n",
            "19334/19334 [==============================] - 126s 7ms/step - loss: 29647.5234 - mae: 89.2412 - val_loss: 30478.0117 - val_mae: 90.4227 - lr: 2.0000e-05\n",
            "Epoch 344/350\n",
            "19334/19334 [==============================] - 126s 7ms/step - loss: 29642.0898 - mae: 89.2481 - val_loss: 30495.9004 - val_mae: 90.4235 - lr: 2.0000e-05\n",
            "Epoch 345/350\n",
            "19334/19334 [==============================] - 125s 6ms/step - loss: 29641.6973 - mae: 89.2319 - val_loss: 30533.0312 - val_mae: 90.4536 - lr: 2.0000e-05\n",
            "Epoch 346/350\n",
            "19334/19334 [==============================] - 126s 7ms/step - loss: 29632.5801 - mae: 89.2241 - val_loss: 30477.0195 - val_mae: 90.3668 - lr: 2.0000e-05\n",
            "Epoch 347/350\n",
            "19334/19334 [==============================] - 127s 7ms/step - loss: 29630.0547 - mae: 89.2322 - val_loss: 30481.8906 - val_mae: 90.3746 - lr: 2.0000e-05\n",
            "Epoch 348/350\n",
            "19334/19334 [==============================] - 127s 7ms/step - loss: 29628.4727 - mae: 89.2250 - val_loss: 30482.2754 - val_mae: 90.5194 - lr: 2.0000e-05\n",
            "Epoch 349/350\n",
            "19334/19334 [==============================] - 127s 7ms/step - loss: 29623.6758 - mae: 89.2120 - val_loss: 30501.3652 - val_mae: 90.4286 - lr: 2.0000e-05\n",
            "Epoch 350/350\n",
            "19334/19334 [==============================] - 126s 7ms/step - loss: 29615.8770 - mae: 89.1948 - val_loss: 30549.5938 - val_mae: 90.5768 - lr: 2.0000e-05\n"
          ]
        }
      ]
    },
    {
      "cell_type": "markdown",
      "source": [
        "# **Analysing the Model** "
      ],
      "metadata": {
        "id": "-yFR1y_Gqa2s"
      }
    },
    {
      "cell_type": "markdown",
      "source": [
        "Output the hyperparameters found by the tuner"
      ],
      "metadata": {
        "id": "RYLZ_kabHDMI"
      }
    },
    {
      "cell_type": "code",
      "source": [
        "tuner.results_summary()"
      ],
      "metadata": {
        "colab": {
          "base_uri": "https://localhost:8080/"
        },
        "id": "dIwcM343HH0E",
        "outputId": "3ea20bae-00f1-4947-ab8d-29aad8cd6f1d"
      },
      "execution_count": null,
      "outputs": [
        {
          "output_type": "stream",
          "name": "stdout",
          "text": [
            "Results summary\n",
            "Results in /content/gdrive/MyDrive/Colab Notebooks/Tuning/Hyperband_Tuner_allfiles_more_epochs\n",
            "Showing 10 best trials\n",
            "<keras_tuner.engine.objective.Objective object at 0x7faea62e34d0>\n",
            "Trial summary\n",
            "Hyperparameters:\n",
            "kernel_size: 4\n",
            "pool_size: 1\n",
            "units_1: 256\n",
            "units_2: 256\n",
            "units_3: 160\n",
            "units_4: 48\n",
            "dropout: 0.1\n",
            "tuner/epochs: 200\n",
            "tuner/initial_epoch: 0\n",
            "tuner/bracket: 0\n",
            "tuner/round: 0\n",
            "Score: 93.7134017944336\n",
            "Trial summary\n",
            "Hyperparameters:\n",
            "kernel_size: 5\n",
            "pool_size: 1\n",
            "units_1: 416\n",
            "units_2: 352\n",
            "units_3: 192\n",
            "units_4: 16\n",
            "dropout: 0.0\n",
            "tuner/epochs: 67\n",
            "tuner/initial_epoch: 0\n",
            "tuner/bracket: 1\n",
            "tuner/round: 0\n",
            "Score: 95.06112670898438\n",
            "Trial summary\n",
            "Hyperparameters:\n",
            "kernel_size: 2\n",
            "pool_size: 1\n",
            "units_1: 416\n",
            "units_2: 448\n",
            "units_3: 96\n",
            "units_4: 48\n",
            "dropout: 0.3\n",
            "tuner/epochs: 200\n",
            "tuner/initial_epoch: 0\n",
            "tuner/bracket: 0\n",
            "tuner/round: 0\n",
            "Score: 96.5316390991211\n",
            "Trial summary\n",
            "Hyperparameters:\n",
            "kernel_size: 6\n",
            "pool_size: 1\n",
            "units_1: 320\n",
            "units_2: 288\n",
            "units_3: 128\n",
            "units_4: 48\n",
            "dropout: 0.2\n",
            "tuner/epochs: 23\n",
            "tuner/initial_epoch: 0\n",
            "tuner/bracket: 2\n",
            "tuner/round: 0\n",
            "Score: 97.84181213378906\n",
            "Trial summary\n",
            "Hyperparameters:\n",
            "kernel_size: 6\n",
            "pool_size: 1\n",
            "units_1: 448\n",
            "units_2: 448\n",
            "units_3: 144\n",
            "units_4: 112\n",
            "dropout: 0.2\n",
            "tuner/epochs: 23\n",
            "tuner/initial_epoch: 8\n",
            "tuner/bracket: 3\n",
            "tuner/round: 1\n",
            "tuner/trial_id: 0151\n",
            "Score: 99.02426147460938\n",
            "Trial summary\n",
            "Hyperparameters:\n",
            "kernel_size: 1\n",
            "pool_size: 1\n",
            "units_1: 448\n",
            "units_2: 352\n",
            "units_3: 48\n",
            "units_4: 48\n",
            "dropout: 0.0\n",
            "tuner/epochs: 67\n",
            "tuner/initial_epoch: 0\n",
            "tuner/bracket: 1\n",
            "tuner/round: 0\n",
            "Score: 99.82835388183594\n",
            "Trial summary\n",
            "Hyperparameters:\n",
            "kernel_size: 3\n",
            "pool_size: 1\n",
            "units_1: 96\n",
            "units_2: 512\n",
            "units_3: 112\n",
            "units_4: 48\n",
            "dropout: 0.2\n",
            "tuner/epochs: 23\n",
            "tuner/initial_epoch: 0\n",
            "tuner/bracket: 2\n",
            "tuner/round: 0\n",
            "Score: 100.58021545410156\n",
            "Trial summary\n",
            "Hyperparameters:\n",
            "kernel_size: 6\n",
            "pool_size: 1\n",
            "units_1: 192\n",
            "units_2: 512\n",
            "units_3: 128\n",
            "units_4: 96\n",
            "dropout: 0.2\n",
            "tuner/epochs: 23\n",
            "tuner/initial_epoch: 8\n",
            "tuner/bracket: 3\n",
            "tuner/round: 1\n",
            "tuner/trial_id: 0153\n",
            "Score: 101.83552551269531\n",
            "Trial summary\n",
            "Hyperparameters:\n",
            "kernel_size: 5\n",
            "pool_size: 3\n",
            "units_1: 128\n",
            "units_2: 256\n",
            "units_3: 208\n",
            "units_4: 80\n",
            "dropout: 0.2\n",
            "tuner/epochs: 200\n",
            "tuner/initial_epoch: 0\n",
            "tuner/bracket: 0\n",
            "tuner/round: 0\n",
            "Score: 102.80721282958984\n",
            "Trial summary\n",
            "Hyperparameters:\n",
            "kernel_size: 2\n",
            "pool_size: 1\n",
            "units_1: 192\n",
            "units_2: 384\n",
            "units_3: 224\n",
            "units_4: 96\n",
            "dropout: 0.2\n",
            "tuner/epochs: 23\n",
            "tuner/initial_epoch: 8\n",
            "tuner/bracket: 4\n",
            "tuner/round: 2\n",
            "tuner/trial_id: 0109\n",
            "Score: 102.83032989501953\n"
          ]
        }
      ]
    },
    {
      "cell_type": "markdown",
      "source": [
        "⬛Run this cell if you wish to save the model"
      ],
      "metadata": {
        "id": "IZ9XWPuDsjqK"
      }
    },
    {
      "cell_type": "markdown",
      "source": [
        "❗❗❗ Note: adjust the file path to save as necessary to avoid overwriting the models"
      ],
      "metadata": {
        "id": "gq3bhIDEsnTQ"
      }
    },
    {
      "cell_type": "code",
      "source": [
        "model.save('/content/gdrive/MyDrive/Colab Notebooks/Models/RoundingFixedTunerModel14A7H64BS350Eoverfittingtest')"
      ],
      "metadata": {
        "id": "A8qk0yhjsmto"
      },
      "execution_count": null,
      "outputs": []
    },
    {
      "cell_type": "markdown",
      "source": [
        "Find the best epoch (in case we wish to do early stopping)"
      ],
      "metadata": {
        "id": "umyMtg7qqxEY"
      }
    },
    {
      "cell_type": "code",
      "source": [
        "val_acc_per_epoch = history.history['val_mae']\n",
        "best_epoch = val_acc_per_epoch.index(min(val_acc_per_epoch)) + 1\n",
        "print('Best epoch: %d' % (best_epoch,))"
      ],
      "metadata": {
        "colab": {
          "base_uri": "https://localhost:8080/"
        },
        "id": "QfZddh69qmYH",
        "outputId": "8f21d831-bfc3-439f-b3c7-85b6cd2dd733"
      },
      "execution_count": null,
      "outputs": [
        {
          "output_type": "stream",
          "name": "stdout",
          "text": [
            "Best epoch: 700\n"
          ]
        }
      ]
    },
    {
      "cell_type": "markdown",
      "source": [
        "Print a summary diagram of the model"
      ],
      "metadata": {
        "id": "6Zaa_vhDq3cy"
      }
    },
    {
      "cell_type": "code",
      "source": [
        "keras.utils.plot_model(model, \"double-headed CNN.png\", show_shapes=True)"
      ],
      "metadata": {
        "id": "qffHLjPtq6GU",
        "colab": {
          "base_uri": "https://localhost:8080/",
          "height": 1000
        },
        "outputId": "3c915762-58b9-4c56-e4f0-ac4378c20936"
      },
      "execution_count": null,
      "outputs": [
        {
          "output_type": "execute_result",
          "data": {
            "image/png": "[encoded data removed]",
            "text/plain": [
              "<IPython.core.display.Image object>"
            ]
          },
          "metadata": {},
          "execution_count": 64
        }
      ]
    },
    {
      "cell_type": "markdown",
      "source": [
        "Print the test accuracy we have achieved"
      ],
      "metadata": {
        "id": "BjRM6wI5q8-W"
      }
    },
    {
      "cell_type": "code",
      "source": [
        "test_loss, test_acc = model.evaluate([x1_test, x2_test], y_test, batch_size=128)\n",
        "print(f\"Test accuracy: {test_acc:.3f}\")\n",
        "print(f\"Test loss: {test_loss:.3f}\")"
      ],
      "metadata": {
        "colab": {
          "base_uri": "https://localhost:8080/"
        },
        "id": "XpkMdsZ1rZhL",
        "outputId": "dac7c957-5def-4fb9-d484-fc857373df94"
      },
      "execution_count": null,
      "outputs": [
        {
          "output_type": "stream",
          "name": "stdout",
          "text": [
            "2072/2072 [==============================] - 7s 3ms/step - loss: 29386.9297 - mae: 87.8062\n",
            "Test accuracy: 87.806\n",
            "Test loss: 29386.930\n"
          ]
        }
      ]
    },
    {
      "cell_type": "markdown",
      "source": [
        "Print the validation accuracy we have achieved"
      ],
      "metadata": {
        "id": "2I5Cp8FAraPr"
      }
    },
    {
      "cell_type": "code",
      "source": [
        "val_loss, val_acc = model.evaluate([x1_val, x2_val], y_val, batch_size=2048)\n",
        "print(f\"Val accuracy: {val_acc:.3f}\")\n",
        "print(f\"Val loss: {val_loss:.3f}\")"
      ],
      "metadata": {
        "colab": {
          "base_uri": "https://localhost:8080/"
        },
        "id": "XCNqytsxrcv9",
        "outputId": "2a85e180-e254-42ed-d552-4623d33f4aa6"
      },
      "execution_count": null,
      "outputs": [
        {
          "output_type": "stream",
          "name": "stdout",
          "text": [
            "130/130 [==============================] - 0s 3ms/step - loss: 30586.5059 - mae: 90.1923\n",
            "Val accuracy: 90.192\n",
            "Val loss: 30586.506\n"
          ]
        }
      ]
    },
    {
      "cell_type": "markdown",
      "source": [
        "Use the model to make predictions on the test data and explicitly store these in a predictions variable"
      ],
      "metadata": {
        "id": "v6v9PVUfrfEC"
      }
    },
    {
      "cell_type": "code",
      "source": [
        "predictions=model.predict([x1_test,x2_test])\n",
        "print(predictions.shape)\n",
        "print(y_test.shape)"
      ],
      "metadata": {
        "colab": {
          "base_uri": "https://localhost:8080/"
        },
        "id": "sOEuSuPkrny7",
        "outputId": "9e3855ac-0285-4aa5-9397-0bf5308d6798"
      },
      "execution_count": null,
      "outputs": [
        {
          "output_type": "stream",
          "name": "stdout",
          "text": [
            "(265146, 1)\n",
            "(265146, 1)\n"
          ]
        }
      ]
    },
    {
      "cell_type": "markdown",
      "source": [
        "Plot the predictions and the true labels on the same histogram to compare the model's predictions to the ground truth data"
      ],
      "metadata": {
        "id": "RbN2jxb0rodg"
      }
    },
    {
      "cell_type": "code",
      "source": [
        "x_range=range(len(predictions))\n",
        "predictions=tf.squeeze(predictions)\n",
        "y_test=tf.squeeze(y_test)\n",
        "plt.plot(x_range,y_test,color='blue',label='cloud_perimeter')\n",
        "plt.plot(x_range,predictions,color='red',label='predictions')\n",
        "plt.legend()\n",
        "plt.show()"
      ],
      "metadata": {
        "colab": {
          "base_uri": "https://localhost:8080/",
          "height": 269
        },
        "id": "DLYrzfHirwEJ",
        "outputId": "86143df6-7267-4376-92e1-d979eec02068"
      },
      "execution_count": null,
      "outputs": [
        {
          "output_type": "display_data",
          "data": {
            "text/plain": [
              "<Figure size 432x288 with 1 Axes>"
            ],
            "image/png": "[encoded data removed]"
          },
          "metadata": {
            "needs_background": "light"
          }
        }
      ]
    },
    {
      "cell_type": "markdown",
      "source": [
        "Assert that the removal of all data points with a zero cloud fraction has removed all data points with a zero cloud perimeter (this is a sanity check which checks that the data has been cleaned correctly)"
      ],
      "metadata": {
        "id": "jaZCtZd7rwhP"
      }
    },
    {
      "cell_type": "code",
      "source": [
        "zero_perimeters = y_test[y_test==0]\n",
        "print(len(zero_perimeters)/len(y_test))"
      ],
      "metadata": {
        "colab": {
          "base_uri": "https://localhost:8080/"
        },
        "id": "pldKA4Ukr8-q",
        "outputId": "7f66df74-e0da-4f25-b72b-6d123199a545"
      },
      "execution_count": null,
      "outputs": [
        {
          "output_type": "stream",
          "name": "stdout",
          "text": [
            "0.0\n"
          ]
        }
      ]
    },
    {
      "cell_type": "markdown",
      "source": [
        "Plot a histogram of the predictions"
      ],
      "metadata": {
        "id": "aIqXFFhOr9lz"
      }
    },
    {
      "cell_type": "code",
      "source": [
        "plt.hist(predictions,bins=100)\n",
        "plt.show()"
      ],
      "metadata": {
        "colab": {
          "base_uri": "https://localhost:8080/",
          "height": 265
        },
        "id": "cVu6bu-FsCI_",
        "outputId": "17bee034-2f0c-4d97-aeea-daebab95cc29"
      },
      "execution_count": null,
      "outputs": [
        {
          "output_type": "display_data",
          "data": {
            "text/plain": [
              "<Figure size 432x288 with 1 Axes>"
            ],
            "image/png": "[encoded data removed]"
          },
          "metadata": {
            "needs_background": "light"
          }
        }
      ]
    },
    {
      "cell_type": "markdown",
      "source": [
        "Plot the equivalent histogram for the true labels"
      ],
      "metadata": {
        "id": "hYTArFjisCs1"
      }
    },
    {
      "cell_type": "code",
      "source": [
        "plt.hist(y_test,bins=100)\n",
        "plt.show()"
      ],
      "metadata": {
        "colab": {
          "base_uri": "https://localhost:8080/",
          "height": 265
        },
        "id": "qnWU8BFesGOt",
        "outputId": "2622088c-ff32-4923-9edf-2c72328a4c66"
      },
      "execution_count": null,
      "outputs": [
        {
          "output_type": "display_data",
          "data": {
            "text/plain": [
              "<Figure size 432x288 with 1 Axes>"
            ],
            "image/png": "[encoded data removed]"
          },
          "metadata": {
            "needs_background": "light"
          }
        }
      ]
    },
    {
      "cell_type": "markdown",
      "source": [
        "Compute the mean average percentage error using the mae of the model"
      ],
      "metadata": {
        "id": "mIjlDivJsG96"
      }
    },
    {
      "cell_type": "code",
      "source": [
        "test_acc/np.mean(y_test)"
      ],
      "metadata": {
        "colab": {
          "base_uri": "https://localhost:8080/"
        },
        "id": "5TfemzERsR0V",
        "outputId": "800be34f-16b8-4a7a-f9f1-af01a5ea1ef9"
      },
      "execution_count": null,
      "outputs": [
        {
          "output_type": "execute_result",
          "data": {
            "text/plain": [
              "0.1585239722024552"
            ]
          },
          "metadata": {},
          "execution_count": 84
        }
      ]
    },
    {
      "cell_type": "markdown",
      "source": [
        "Find the equivalent mean average percentage error of a naive prediction which just predicts the mean perimeter on the training data for every single test data point"
      ],
      "metadata": {
        "id": "UEJIWwC8sSf-"
      }
    },
    {
      "cell_type": "code",
      "source": [
        "print(np.mean(np.absolute(y_test - np.mean(y_train)))/np.mean(y_test))"
      ],
      "metadata": {
        "colab": {
          "base_uri": "https://localhost:8080/"
        },
        "id": "7hoslcAqsbH_",
        "outputId": "b1ed5222-5e0d-4d67-a345-abe69d881e2e"
      },
      "execution_count": null,
      "outputs": [
        {
          "output_type": "stream",
          "name": "stdout",
          "text": [
            "0.9294456049200197\n"
          ]
        }
      ]
    },
    {
      "cell_type": "markdown",
      "source": [
        "Plot a graph of the train and validation error through the training process (ignoring the initial 2 epochs as these skew the graph)"
      ],
      "metadata": {
        "id": "aQwARhKAsgFO"
      }
    },
    {
      "cell_type": "code",
      "source": [
        "x=range(350)\n",
        "plt.plot(x[2:],history.history['val_mae'][2:],color = 'blue',label='validation error')\n",
        "plt.plot(x[2:],history.history['mae'][2:],color = 'red',label='training error')\n",
        "plt.legend()\n",
        "plt.xlabel('epoch')\n",
        "plt.ylabel('MAE')\n",
        "plt.show"
      ],
      "metadata": {
        "colab": {
          "base_uri": "https://localhost:8080/",
          "height": 297
        },
        "id": "1kkCZVlR0pbq",
        "outputId": "7124db7f-85ff-48bb-ceb0-372c7ae26631"
      },
      "execution_count": null,
      "outputs": [
        {
          "output_type": "execute_result",
          "data": {
            "text/plain": [
              "<function matplotlib.pyplot.show(*args, **kw)>"
            ]
          },
          "metadata": {},
          "execution_count": 41
        },
        {
          "output_type": "display_data",
          "data": {
            "text/plain": [
              "<Figure size 432x288 with 1 Axes>"
            ],
            "image/png": "[encoded data removed]"
          },
          "metadata": {
            "needs_background": "light"
          }
        }
      ]
    },
    {
      "cell_type": "markdown",
      "source": [
        "Plot a scatter graph of the predictions against the true labels to see if there is a good correlation"
      ],
      "metadata": {
        "id": "uWkNYwv3wYPq"
      }
    },
    {
      "cell_type": "code",
      "source": [
        "x=range(6000)\n",
        "plt.scatter(predictions,y_test)\n",
        "plt.xlabel('predictions')\n",
        "plt.ylabel('test labels')\n",
        "plt.ylim((0,6000))\n",
        "plt.xlim((0,6000))\n",
        "plt.plot(x,x,color='red')\n",
        "plt.show()"
      ],
      "metadata": {
        "colab": {
          "base_uri": "https://localhost:8080/",
          "height": 283
        },
        "id": "Hu7MSfd9wdZ6",
        "outputId": "61ff395c-2eda-49f9-e5ca-d376d103904a"
      },
      "execution_count": null,
      "outputs": [
        {
          "output_type": "display_data",
          "data": {
            "text/plain": [
              "<Figure size 432x288 with 1 Axes>"
            ],
            "image/png": "[encoded data removed]"
          },
          "metadata": {
            "needs_background": "light"
          }
        }
      ]
    },
    {
      "cell_type": "markdown",
      "source": [
        "We now compare the predictions to a baseline detailed in *Improvements to a prognostic cloud scheme through changes to its cloud erosion parametrization* (Morcrette, 2012) which hypothesises a relationship of $P = \\alpha F(1-F)$ where $P$ and $F$ are the perimeter and fraction respectively. The function below finds the optimal alpha from a search range and then computes the mean absolute percentage error using this prediction, for comparison with our model."
      ],
      "metadata": {
        "id": "wYn-Gq8WGaCU"
      }
    },
    {
      "cell_type": "code",
      "source": [
        "def find_alpha(x2_train,y_train,y_test):\n",
        "  #set the first mae to be the naive prediction of the mean for all points\n",
        "  y_test=y_test/16200\n",
        "  y_train=y_train/16200\n",
        "  optimal_mae = np.mean(np.absolute(y_test - np.mean(y_train)))\n",
        "  optimal_alpha = 0\n",
        "  cloud_fraction = x2_train[:,:,0]\n",
        "  y_train = y_train[:,0]\n",
        "  mean_absolute_error_vector = []\n",
        "  for step in range(100):\n",
        "        alpha = step/100\n",
        "        predicted_perimeter = []\n",
        "        predicted_perimeter = np.multiply(cloud_fraction[:,0],(1-cloud_fraction[:,0]))\n",
        "        predicted_perimeter = alpha*predicted_perimeter\n",
        "        predicted_perimeter -= y_train\n",
        "        predicted_perimeter = predicted_perimeter*(-1)\n",
        "        mean_absolute_error = np.mean(np.absolute(predicted_perimeter))\n",
        "        del predicted_perimeter\n",
        "        mean_absolute_error_vector.append(mean_absolute_error)\n",
        "        if mean_absolute_error < optimal_mae:\n",
        "              optimal_mae = mean_absolute_error\n",
        "              optimal_alpha = alpha\n",
        "  mean_absolute_error_vector = np.array(mean_absolute_error_vector)\n",
        "  x=range(100)\n",
        "  plt.scatter(x,mean_absolute_error_vector)\n",
        "  plt.show()\n",
        "\n",
        "  return optimal_mae, optimal_alpha\n",
        "\n"
      ],
      "metadata": {
        "id": "pqAiBkuGHKgO"
      },
      "execution_count": null,
      "outputs": []
    },
    {
      "cell_type": "code",
      "source": [
        "def compute_on_test_set(optimal_alpha,x2_test,y_test):\n",
        "        y_test=y_test/16200\n",
        "        #work out the error on the test set\n",
        "        cloud_fraction = x2_test[:,:,0]\n",
        "        test_predicted_perimeter = []\n",
        "        y_test = y_test[:,0]\n",
        "        for j in range(cloud_fraction.shape[0]):\n",
        "              test_predicted_perimeter.append(optimal_alpha*cloud_fraction[j,0]*(1-cloud_fraction[j,0]))\n",
        "        test_predicted_perimeter = np.array(test_predicted_perimeter)\n",
        "        print(test_predicted_perimeter.shape)\n",
        "        print(y_test.shape)\n",
        "        final_mae = np.mean(np.absolute(y_test - test_predicted_perimeter))\n",
        "        return final_mae\n"
      ],
      "metadata": {
        "id": "w7dn7oeyBbvJ"
      },
      "execution_count": null,
      "outputs": []
    },
    {
      "cell_type": "markdown",
      "source": [
        "The percentage error is found to be 24%"
      ],
      "metadata": {
        "id": "jxwEVgYCRBXA"
      }
    },
    {
      "cell_type": "code",
      "source": [
        "optimal_mae, optimal_alpha = find_alpha(x2_train,y_train,y_test)\n",
        "final_mae = compute_on_test_set(optimal_alpha,x2_test,y_test)\n",
        "print(final_mae)\n",
        "print(optimal_alpha)\n",
        "print('Average percentage error =', final_mae/np.mean(y_test/16200))"
      ],
      "metadata": {
        "colab": {
          "base_uri": "https://localhost:8080/",
          "height": 350
        },
        "id": "3v4JZELzKXVc",
        "outputId": "029de2a8-8ad9-4509-e52e-c88b752d0e7c"
      },
      "execution_count": null,
      "outputs": [
        {
          "output_type": "display_data",
          "data": {
            "text/plain": [
              "<Figure size 432x288 with 1 Axes>"
            ],
            "image/png": "[encoded data removed]"
          },
          "metadata": {
            "needs_background": "light"
          }
        },
        {
          "output_type": "stream",
          "name": "stdout",
          "text": [
            "(265146,)\n",
            "(265146,)\n",
            "0.008241209252091075\n",
            "0.64\n",
            "Average percentage error = 0.23928261791950012\n"
          ]
        }
      ]
    },
    {
      "cell_type": "markdown",
      "source": [
        "We plot a graph of cloud fraction against normalised cloud perimeter and overlay the derived relationship over the top. It is clear that this is a good (essentially optimal) reflection of the relationship between cloud fraction and cloud perimeter. Therefore, our neural network must be finding more useful data in the height and atmospheric variables arrays with which to lower the error and make better predictions"
      ],
      "metadata": {
        "id": "uA2lXIhbQoCg"
      }
    },
    {
      "cell_type": "code",
      "source": [
        "x=np.linspace(0,1,100)\n",
        "plt.scatter(x2_test[:,0,0],y_test/16200)\n",
        "plt.plot(x,0.64*x*(1-x),color='red')\n",
        "plt.show()"
      ],
      "metadata": {
        "colab": {
          "base_uri": "https://localhost:8080/",
          "height": 265
        },
        "id": "2sJ2kGryKrFH",
        "outputId": "18cbd36e-5de5-456a-b281-f966972877a5"
      },
      "execution_count": null,
      "outputs": [
        {
          "output_type": "display_data",
          "data": {
            "text/plain": [
              "<Figure size 432x288 with 1 Axes>"
            ],
            "image/png": "[encoded data removed]"
          },
          "metadata": {
            "needs_background": "light"
          }
        }
      ]
    },
    {
      "cell_type": "code",
      "source": [],
      "metadata": {
        "id": "laslIc9yLJHK"
      },
      "execution_count": null,
      "outputs": []
    }
  ]
}