{
  "nbformat": 4,
  "nbformat_minor": 0,
  "metadata": {
    "colab": {
      "provenance": [],
      "collapsed_sections": [],
      "machine_shape": "hm"
    },
    "kernelspec": {
      "name": "python3",
      "display_name": "Python 3"
    },
    "language_info": {
      "name": "python"
    },
    "gpuClass": "standard",
    "accelerator": "GPU"
  },
  "cells": [
    {
      "cell_type": "markdown",
      "source": [
        "This notebook is based a shortened version of my ***Clean Neural Network.ipynb*** notebook, adjusted to allow top-to-bottom running of the simple ANN section and to make it easier to understand and run, specifically for the simple ANN model. The latter has been left exactly as it is and can be used to attempt to make new tuners and improve the accuracy. The code has been copied from it as closely as possible and just some cells have been removed. This notebook is intended to allow adjusting of the number of height levels, number of atmospheric variables, number of epochs and the batch size but no further use of Keras-Tuner. For this notebook, KerasTuner will need to have been run in ***Clean Neural Network.ipynb***  and optimal hyperparameters found in order to load the tuner into this notebook and fit the optimal model."
      ],
      "metadata": {
        "id": "xBzXAAQ6q-Wg"
      }
    },
    {
      "cell_type": "markdown",
      "source": [
        "❗❗❗ Note: make sure to increase the runtime to High-RAM 24Gb and use GPU for fast training of the model"
      ],
      "metadata": {
        "id": "PwJdirOcz5GN"
      }
    },
    {
      "cell_type": "code",
      "source": [],
      "metadata": {
        "id": "bcnWa3SpuF20"
      },
      "execution_count": null,
      "outputs": []
    },
    {
      "cell_type": "markdown",
      "source": [
        "## **Imports and Installing**"
      ],
      "metadata": {
        "id": "7UKXPCM7VrWE"
      }
    },
    {
      "cell_type": "markdown",
      "source": [
        "Install Keras Tuner - an automatic hyperparameter tuner - using pip"
      ],
      "metadata": {
        "id": "1GU4iggjVWcF"
      }
    },
    {
      "cell_type": "code",
      "execution_count": null,
      "metadata": {
        "id": "xjt6vubKU2pL",
        "colab": {
          "base_uri": "https://localhost:8080/"
        },
        "outputId": "7a272c6f-34fe-4bc2-c85b-abdba0bae15e"
      },
      "outputs": [
        {
          "output_type": "stream",
          "name": "stdout",
          "text": [
            "\u001b[K     |████████████████████████████████| 135 kB 5.2 MB/s \n",
            "\u001b[K     |████████████████████████████████| 1.6 MB 40.7 MB/s \n",
            "\u001b[?25h"
          ]
        }
      ],
      "source": [
        "!pip install -q -U keras-tuner"
      ]
    },
    {
      "cell_type": "markdown",
      "source": [
        "Import the necessary python libraries"
      ],
      "metadata": {
        "id": "we2Bnl81Vcp3"
      }
    },
    {
      "cell_type": "code",
      "source": [
        "from netCDF4 import Dataset\n",
        "import numpy as np\n",
        "import tensorflow as tf\n",
        "import matplotlib.pyplot as plt\n",
        "import os\n",
        "import csv\n",
        "from datetime import datetime\n",
        "from mpl_toolkits import mplot3d\n",
        "from mpl_toolkits.mplot3d import Axes3D\n",
        "import pandas as pd\n",
        "import PIL\n",
        "import warnings\n",
        "from csv import writer\n",
        "from scipy import ndimage as nd\n",
        "import random\n",
        "\n",
        "\n",
        "from tensorflow import keras\n",
        "from tensorflow.keras import layers\n",
        "from keras.models import Model\n",
        "from keras.layers import Dense\n",
        "from keras.layers import Input\n",
        "from keras.layers import concatenate\n",
        "from keras.layers import Dropout\n",
        "from keras.layers import Flatten\n",
        "from keras.layers.convolutional import Conv1D\n",
        "from keras.layers.convolutional import MaxPooling1D"
      ],
      "metadata": {
        "id": "xMRAW3vEVhIJ"
      },
      "execution_count": null,
      "outputs": []
    },
    {
      "cell_type": "markdown",
      "source": [
        "⬛*Run the following cell only if keras tuner has been installed, to import it*"
      ],
      "metadata": {
        "id": "ZsqbKnGaVlGy"
      }
    },
    {
      "cell_type": "code",
      "source": [
        "import keras_tuner as kt"
      ],
      "metadata": {
        "id": "qnajst1pVpKi"
      },
      "execution_count": null,
      "outputs": []
    },
    {
      "cell_type": "markdown",
      "source": [
        "Set the seed for reproducibility"
      ],
      "metadata": {
        "id": "bLJiRI6xPUvx"
      }
    },
    {
      "cell_type": "code",
      "source": [
        "random.seed(908)"
      ],
      "metadata": {
        "id": "ZWkZ6Z8tCkBH"
      },
      "execution_count": null,
      "outputs": []
    },
    {
      "cell_type": "markdown",
      "source": [
        "## **Connect to Google Drive**"
      ],
      "metadata": {
        "id": "jGtyPMyhkJNI"
      }
    },
    {
      "cell_type": "code",
      "source": [
        "from google.colab import drive\n",
        "drive.mount('/content/gdrive', force_remount=False)"
      ],
      "metadata": {
        "colab": {
          "base_uri": "https://localhost:8080/"
        },
        "id": "h-kpjtuHkOEz",
        "outputId": "320ab52d-80e4-41e7-8394-ee3641e084a4"
      },
      "execution_count": null,
      "outputs": [
        {
          "output_type": "stream",
          "name": "stdout",
          "text": [
            "Mounted at /content/gdrive\n"
          ]
        }
      ]
    },
    {
      "cell_type": "markdown",
      "source": [
        "## **Compiling the Training Vectors**"
      ],
      "metadata": {
        "id": "v6v_Oo40V463"
      }
    },
    {
      "cell_type": "markdown",
      "source": [
        "⬛*Run the following section only if you want to reconstruct the variables on a new machine - otherwise just load in from the drive*"
      ],
      "metadata": {
        "id": "4v7bKgbnkQxE"
      }
    },
    {
      "cell_type": "code",
      "source": [
        "def compile_variables():\n",
        "      #store the file path for the list of all COGS files in chronological order\n",
        "      file_list_csv = \"/content/gdrive/MyDrive/Colab Notebooks/Data/processing_file_list_ignoring5files.csv\"\n",
        "      #use pandas to read in the file list csv file and iterate through them\n",
        "      df = pd.read_csv(file_list_csv)\n",
        "      cloud_perimeter = np.array([0.5,0.5])\n",
        "      cloud_fraction = np.array([0.5,0.5])\n",
        "      height = np.array([1,1])\n",
        "      for row_index, filename in df.iterrows():\n",
        "            filename_str=str(filename['File_names'])\n",
        "            #specify the directories of the data files\n",
        "            new_file_path_perimeter=\"/content/gdrive/MyDrive/Colab Notebooks/Data/Variables/Cloud Perimeter/\"\n",
        "            new_file_path_fraction=\"/content/gdrive/MyDrive/Colab Notebooks/Data/Variables/Cloud Fraction/\"\n",
        "            new_file_path_height=\"/content/gdrive/MyDrive/Colab Notebooks/Data/Variables/Height/\"\n",
        "            #specify the path to the next data file\n",
        "            new_file_name_perimeter=new_file_path_perimeter+\"Perimeter_\"+filename_str[1:-5]+\".csv\"\n",
        "            new_file_name_fraction=new_file_path_fraction+\"Fraction_\"+filename_str[1:-5]+\".csv\"\n",
        "            new_file_name_height=new_file_path_height+\"Height_\"+filename_str[1:-5]+\".csv\"\n",
        "            #read in the csv file\n",
        "            perimeter_df = pd.read_csv(new_file_name_perimeter, header=None)\n",
        "            # then convert to numpy array of floats\n",
        "            perimeter_df = perimeter_df.to_numpy(dtype=np.float16)\n",
        "            #repeat for the other two variables\n",
        "            fraction_df = pd.read_csv(new_file_name_fraction, header=None)\n",
        "            height_df = pd.read_csv(new_file_name_height, header=None)\n",
        "            # then convert to numpy array of floats/integers\n",
        "            fraction_df = fraction_df.to_numpy(dtype=np.float16)\n",
        "            height_df = height_df.to_numpy(dtype='i')\n",
        "            perimeter_df = perimeter_df.reshape(len(perimeter_df))\n",
        "            fraction_df = fraction_df.reshape(len(fraction_df))\n",
        "            height_df = height_df.reshape(len(height_df))\n",
        "            cloud_fraction_mask = fraction_df > 0\n",
        "            #mask the dataframe arrays with the cloud fraction mask\n",
        "            perimeter_df=perimeter_df[cloud_fraction_mask]\n",
        "            fraction_df=fraction_df[cloud_fraction_mask]\n",
        "            height_df=height_df[cloud_fraction_mask]\n",
        "            # concatenate the new vectors with the existing vectors\n",
        "            cloud_perimeter = np.concatenate((cloud_perimeter,perimeter_df),axis=0)\n",
        "            cloud_fraction = np.concatenate((cloud_fraction,fraction_df),axis=0)\n",
        "            height = np.concatenate((height,height_df),axis=0)\n",
        "            del perimeter_df\n",
        "            del fraction_df\n",
        "            del height_df\n",
        "\n",
        "\n",
        "            #now work on the atmospheric data\n",
        "            #specify the file path\n",
        "            new_file_path_atmospheric = \"/content/gdrive/MyDrive/Colab Notebooks/Data/Variables/Atmospheric/\"\n",
        "            new_file_name_atmospheric = new_file_path_atmospheric + \"Atmospheric_\"+filename_str[1:-5]+\".npy\"\n",
        "            #load in the numpy array\n",
        "            atmospheric_file = np.load(new_file_name_atmospheric)\n",
        "            atmospheric_file = atmospheric_file[cloud_fraction_mask,:,:]\n",
        "            variable_mask = [True,True,True,True,True,True,True,True,True,True]\n",
        "            atmospheric_file = atmospheric_file[:,:,variable_mask]\n",
        "            #if it's the first file set this to be the array itself\n",
        "            if row_index == 0:\n",
        "                  atmospheric_variables = atmospheric_file\n",
        "            else:\n",
        "                  atmospheric_variables = np.concatenate((atmospheric_variables,atmospheric_file),axis=0)\n",
        "            del atmospheric_file\n",
        "            print(row_index)\n",
        "\n",
        "      cloud_perimeter = cloud_perimeter[2:]\n",
        "      cloud_fraction = cloud_fraction[2:]\n",
        "      height = height[2:]\n",
        "      cloud_perimeter = cloud_perimeter.reshape(len(cloud_perimeter),1)\n",
        "      cloud_fraction = cloud_fraction.reshape(len(cloud_fraction),1)\n",
        "      height = height.reshape(len(height),1)\n",
        "      return cloud_perimeter, cloud_fraction, height, atmospheric_variables"
      ],
      "metadata": {
        "id": "Avew9dR-V-UA"
      },
      "execution_count": null,
      "outputs": []
    },
    {
      "cell_type": "markdown",
      "source": [
        "Construct the variables using the defined function and assert that the variables are of the correct shape. Also un-normalise the cloud perimeter variables in order to retain the dynamic range of the data"
      ],
      "metadata": {
        "id": "IPW64RngkvTg"
      }
    },
    {
      "cell_type": "code",
      "source": [
        "#construct the variables\n",
        "cloud_perimeter, cloud_fraction, height, atmospheric_variables = compile_variables()\n",
        "#print the shapes of the variables\n",
        "print(cloud_perimeter.shape)\n",
        "print(cloud_fraction.shape)\n",
        "print(height.shape)\n",
        "#un-normalise cloud perimeter\n",
        "cloud_perimeter = cloud_perimeter * 16200\n",
        "#assert the shapes match\n",
        "print(atmospheric_variables.shape)"
      ],
      "metadata": {
        "id": "G6RNYSupkind"
      },
      "execution_count": null,
      "outputs": []
    },
    {
      "cell_type": "markdown",
      "source": [
        "Define a path to save the newly constructed variables"
      ],
      "metadata": {
        "id": "E1VGP7UBktAJ"
      }
    },
    {
      "cell_type": "code",
      "source": [
        "new_file_directory = '/content/gdrive/MyDrive/Colab Notebooks/Data/Variables/Training Arrays/'"
      ],
      "metadata": {
        "id": "7Wvij303klnn"
      },
      "execution_count": null,
      "outputs": []
    },
    {
      "cell_type": "code",
      "source": [
        "#save the newly constructred variables\n",
        "np.save(new_file_directory+'Perimeter',cloud_perimeter)\n",
        "np.save(new_file_directory+'Height',height)\n",
        "np.save(new_file_directory+'Fraction',cloud_fraction)\n",
        "np.save(new_file_directory+'Atmospheric',atmospheric_variables)"
      ],
      "metadata": {
        "id": "dVGaMYYrlED_"
      },
      "execution_count": null,
      "outputs": []
    },
    {
      "cell_type": "markdown",
      "source": [
        "Delete the variables to save RAM"
      ],
      "metadata": {
        "id": "yHH6sxQPlRd8"
      }
    },
    {
      "cell_type": "code",
      "source": [
        "del atmospheric_variables\n",
        "del cloud_perimeter\n",
        "del height\n",
        "del cloud_fraction"
      ],
      "metadata": {
        "id": "4zVj-hjqlQkS"
      },
      "execution_count": null,
      "outputs": []
    },
    {
      "cell_type": "markdown",
      "source": [
        "# **Method 4: Simple ANN with Keras Tuner**"
      ],
      "metadata": {
        "id": "m-OY2s8cYJv-"
      }
    },
    {
      "cell_type": "markdown",
      "source": [
        "## **Load in the Data**"
      ],
      "metadata": {
        "id": "ohAH6mL8YRy3"
      }
    },
    {
      "cell_type": "markdown",
      "source": [
        "Define the path to access the saved arrays"
      ],
      "metadata": {
        "id": "WX_CBVUFYV4j"
      }
    },
    {
      "cell_type": "code",
      "source": [
        "new_file_directory = '/content/gdrive/MyDrive/Colab Notebooks/Data/Variables/Training Arrays/'"
      ],
      "metadata": {
        "id": "aFPz9wKaYfQC"
      },
      "execution_count": null,
      "outputs": []
    },
    {
      "cell_type": "markdown",
      "source": [
        "Load in the saved arrays into variables and assert the shapes are correct"
      ],
      "metadata": {
        "id": "EpQ1mrcuYWAI"
      }
    },
    {
      "cell_type": "code",
      "source": [
        "atmospheric_variables = np.load(new_file_directory+'Atmospheric.npy')\n",
        "cloud_perimeter = np.load(new_file_directory+'Perimeter.npy')\n",
        "height = np.load(new_file_directory+'Height.npy')\n",
        "cloud_fraction = np.load(new_file_directory+'Fraction.npy')\n",
        "print(cloud_perimeter.shape)\n",
        "print(cloud_fraction.shape)\n",
        "print(height.shape)\n",
        "print(atmospheric_variables.shape)"
      ],
      "metadata": {
        "colab": {
          "base_uri": "https://localhost:8080/"
        },
        "id": "x_f9WMF3Yi3B",
        "outputId": "64464a04-fd4e-4183-bdd5-afe1d60df718"
      },
      "execution_count": null,
      "outputs": [
        {
          "output_type": "stream",
          "name": "stdout",
          "text": [
            "(1767636, 1)\n",
            "(1767636, 1)\n",
            "(1767636, 1)\n",
            "(1767636, 332, 10)\n"
          ]
        }
      ]
    },
    {
      "cell_type": "markdown",
      "source": [
        "We do not require all atmospheric variables or height levels hence we create masks to reduce the array"
      ],
      "metadata": {
        "id": "WNdJcfGXafML"
      }
    },
    {
      "cell_type": "code",
      "source": [
        "#take only the first 10 height levels\n",
        "atmospheric_variables = atmospheric_variables[:,:7,:]\n",
        "#take only 4 of the atmospheric variables\n",
        "variable_mask = [True,False,False,True,True,True,False,True,True,False]\n",
        "atmospheric_variables = atmospheric_variables[:,:,variable_mask]\n",
        "#print the new shape of atmospheric variables\n",
        "print(atmospheric_variables.shape)"
      ],
      "metadata": {
        "colab": {
          "base_uri": "https://localhost:8080/"
        },
        "id": "NMLteyzWaej4",
        "outputId": "70300c07-889b-4732-87fa-bc419aba36c3"
      },
      "execution_count": null,
      "outputs": [
        {
          "output_type": "stream",
          "name": "stdout",
          "text": [
            "(1767636, 10, 6)\n"
          ]
        }
      ]
    },
    {
      "cell_type": "markdown",
      "source": [
        "Define the training, validation and test sets"
      ],
      "metadata": {
        "id": "I3asG2t0ZJIn"
      }
    },
    {
      "cell_type": "code",
      "source": [
        "def train_val_test_split(atmospheric_variables,cloud_fraction,height,cloud_perimeter):\n",
        "      random.seed(908)\n",
        "      #check that the number of data points agree for all variables\n",
        "      assert atmospheric_variables.shape[0]==cloud_fraction.shape[0] and \\\n",
        "      atmospheric_variables.shape[0]==height.shape[0] \\\n",
        "      and atmospheric_variables.shape[0]==cloud_perimeter.shape[0]\n",
        "\n",
        "      num_data_points = int(atmospheric_variables.shape[0])\n",
        "       \n",
        "      #define the shuffling permutation and shuffle the variables in unison\n",
        "      perm = np.random.permutation(num_data_points)\n",
        "      atmospheric_variables = atmospheric_variables[perm,:,:]\n",
        "      cloud_fraction = cloud_fraction[perm,:]\n",
        "      height = height[perm,:]\n",
        "      cloud_perimeter = cloud_perimeter[perm,:]\n",
        "\n",
        "      #reshape the atmospheric variables to be a vector\n",
        "      atmospheric_variables = np.reshape(atmospheric_variables,(atmospheric_variables.shape[0],-1))\n",
        "\n",
        "      #combine the height, cloud fraction and atmospheric variables\n",
        "      x=np.stack((cloud_fraction,height),axis=2)\n",
        "      atmospheric_variables = np.reshape(atmospheric_variables,(atmospheric_variables.shape[0],1,atmospheric_variables.shape[1]))\n",
        "      x=np.concatenate((x,atmospheric_variables),axis=2)\n",
        "\n",
        "      #compute the training set size\n",
        "      train_size=int(np.floor(0.7*num_data_points))\n",
        "      val_size=int(np.floor(0.85*num_data_points))\n",
        "\n",
        "      #specify the train, test and validation sets\n",
        "      #split the data into train and test\n",
        "      x_train=x[:train_size,:,:]\n",
        "      y_train=cloud_perimeter[:train_size,:]\n",
        "      #\n",
        "      x_val=x[train_size:val_size,:,:]\n",
        "      y_val=cloud_perimeter[train_size:val_size,:]\n",
        "      #\n",
        "      x_test=x[val_size:,:,:]\n",
        "      y_test=cloud_perimeter[val_size:,:]\n",
        "\n",
        "      return x_train, y_train, x_val, y_val, x_test, y_test"
      ],
      "metadata": {
        "id": "Dy-KPI1HZMA3"
      },
      "execution_count": null,
      "outputs": []
    },
    {
      "cell_type": "code",
      "source": [
        "x_train, y_train, x_val, y_val, x_test, y_test = train_val_test_split(atmospheric_variables,cloud_fraction,height,cloud_perimeter)\n",
        "#find the parameters necessary\n",
        "#check that x_train is a vector\n",
        "assert x_train.shape[1]==1\n",
        "print(x_train.shape[2])"
      ],
      "metadata": {
        "colab": {
          "base_uri": "https://localhost:8080/"
        },
        "id": "Kjro9z4IZQ99",
        "outputId": "e0bbf32c-d51f-421b-a77e-82ce00259b0d"
      },
      "execution_count": null,
      "outputs": [
        {
          "output_type": "stream",
          "name": "stdout",
          "text": [
            "62\n"
          ]
        }
      ]
    },
    {
      "cell_type": "markdown",
      "source": [
        "Check the shape of x_test"
      ],
      "metadata": {
        "id": "v2cbKmxxZfAP"
      }
    },
    {
      "cell_type": "code",
      "source": [
        "print(x_test.shape)"
      ],
      "metadata": {
        "colab": {
          "base_uri": "https://localhost:8080/"
        },
        "id": "nobq975KZiV-",
        "outputId": "f24d11ee-d93c-4798-cd40-d4adb13ffe09"
      },
      "execution_count": null,
      "outputs": [
        {
          "output_type": "stream",
          "name": "stdout",
          "text": [
            "(265146, 1, 62)\n"
          ]
        }
      ]
    },
    {
      "cell_type": "markdown",
      "source": [
        "Delete the variables to save RAM"
      ],
      "metadata": {
        "id": "gZv7rSbNZdK9"
      }
    },
    {
      "cell_type": "code",
      "source": [
        "del atmospheric_variables\n",
        "del cloud_fraction\n",
        "del height\n",
        "del cloud_perimeter"
      ],
      "metadata": {
        "id": "WLAukAEfZkX2"
      },
      "execution_count": null,
      "outputs": []
    },
    {
      "cell_type": "code",
      "source": [
        "directory = new_file_directory = '/content/gdrive/MyDrive/Colab Notebooks/Data/Train, Test, Val/ANN (rounding fixed)/'\n",
        "np.save(directory+'x_train',x_train)\n",
        "np.save(directory+'y_train',y_train)\n",
        "np.save(directory+'x_val',x_val)\n",
        "np.save(directory+'y_val',y_val)\n",
        "np.save(directory+'x_test',x_test)\n",
        "np.save(directory+'y_test',y_test)"
      ],
      "metadata": {
        "id": "x6As_5fjroh5"
      },
      "execution_count": null,
      "outputs": []
    },
    {
      "cell_type": "markdown",
      "source": [
        "## **Reload a saved tuner**"
      ],
      "metadata": {
        "id": "4VRUjV76btAz"
      }
    },
    {
      "cell_type": "markdown",
      "source": [
        "**hp function for the RoundingFixed_Hyperband_Tuner_simpleANN_allfiles**"
      ],
      "metadata": {
        "id": "_b2PVd3RUuZ9"
      }
    },
    {
      "cell_type": "markdown",
      "source": [
        "❗❗❗ Uses the adaptive learning rate!"
      ],
      "metadata": {
        "id": "NByjW5JsUzf0"
      }
    },
    {
      "cell_type": "code",
      "source": [
        "def construct_model(hp):\n",
        "      hp_units_z1 = hp.Int('units_1', min_value=32, max_value=512, step=32)\n",
        "      hp_units_z2 = hp.Int('units_2', min_value=32, max_value=512, step=32)\n",
        "      hp_units_z3 = hp.Int('units_3', min_value=16, max_value=256, step=16)\n",
        "      hp_units_z4 = hp.Int('units_4', min_value=16, max_value=128, step=16)\n",
        "      hp_dropout = hp.Choice('dropout', values = [0.0,0.1,0.2,0.3,0.4,0.5,0.6,0.7])\n",
        "      #define the two inputs for the two heads of the network\n",
        "      single_input=Input(shape=(1,44))\n",
        "      z=Flatten()(single_input)\n",
        "      z=Dense(units=hp_units_z1, activation=\"relu\")(z)\n",
        "      z=Dropout(hp_dropout)(z)\n",
        "      z=Dense(units=hp_units_z2, activation=\"relu\")(z)\n",
        "      z=Dropout(hp_dropout)(z)\n",
        "      z=Dense(units=hp_units_z3, activation=\"relu\")(z)\n",
        "      z=Dropout(hp_dropout)(z)\n",
        "      z=Dense(units=hp_units_z4, activation=\"relu\")(z)\n",
        "      z=Dropout(hp_dropout)(z)\n",
        "      z=Dense(1)(z)\n",
        "\n",
        "      #finally define the outputs\n",
        "      model=Model(inputs=single_input, outputs=z)\n",
        "\n",
        "      opt_choice=keras.optimizers.Adam(learning_rate=0.01)\n",
        "      model.compile(optimizer=opt_choice,loss=\"mse\",metrics=['mae'])\n",
        "\n",
        "      return model"
      ],
      "metadata": {
        "id": "fuuTN1bXU04z"
      },
      "execution_count": null,
      "outputs": []
    },
    {
      "cell_type": "code",
      "source": [
        "tuner = kt.Hyperband(construct_model,\n",
        "                     objective='val_mae',\n",
        "                     max_epochs=200,\n",
        "                     directory='/content/gdrive/MyDrive/Colab Notebooks/Tuning',\n",
        "                     project_name='RoundingFixed_Hyperband_Tuner_simpleANN_allfiles')\n",
        "\n",
        "tuner.reload()"
      ],
      "metadata": {
        "id": "9jBWnpR_U2mh"
      },
      "execution_count": null,
      "outputs": []
    },
    {
      "cell_type": "markdown",
      "source": [
        "**hp function for the Hyperband_Tuner_simpleANN_allfiles**"
      ],
      "metadata": {
        "id": "IXPcNiETUvY7"
      }
    },
    {
      "cell_type": "markdown",
      "source": [
        "❗❗❗ Uses the adaptive learning rate!"
      ],
      "metadata": {
        "id": "ffm1ywPBU0Ms"
      }
    },
    {
      "cell_type": "code",
      "source": [
        "def construct_model(hp):\n",
        "      hp_units_z1 = hp.Int('units_1', min_value=32, max_value=512, step=32)\n",
        "      hp_units_z2 = hp.Int('units_2', min_value=32, max_value=512, step=32)\n",
        "      hp_units_z3 = hp.Int('units_3', min_value=16, max_value=256, step=16)\n",
        "      hp_units_z4 = hp.Int('units_4', min_value=16, max_value=128, step=16)\n",
        "      hp_dropout = hp.Choice('dropout', values = [0.0,0.1,0.2,0.3,0.4,0.5,0.6,0.7])\n",
        "      #define the two inputs for the two heads of the network\n",
        "      single_input=Input(shape=(1,44))\n",
        "      z=Flatten()(single_input)\n",
        "      z=Dense(units=hp_units_z1, activation=\"relu\")(z)\n",
        "      z=Dropout(hp_dropout)(z)\n",
        "      z=Dense(units=hp_units_z2, activation=\"relu\")(z)\n",
        "      z=Dropout(hp_dropout)(z)\n",
        "      z=Dense(units=hp_units_z3, activation=\"relu\")(z)\n",
        "      z=Dropout(hp_dropout)(z)\n",
        "      z=Dense(units=hp_units_z4, activation=\"relu\")(z)\n",
        "      z=Dropout(hp_dropout)(z)\n",
        "      z=Dense(1)(z)\n",
        "\n",
        "      #finally define the outputs\n",
        "      model=Model(inputs=single_input, outputs=z)\n",
        "\n",
        "      opt_choice=keras.optimizers.Adam(learning_rate=0.01)\n",
        "      model.compile(optimizer=opt_choice,loss=\"mse\",metrics=['mae'])\n",
        "\n",
        "      return model"
      ],
      "metadata": {
        "id": "4n7GsZIHcDOW"
      },
      "execution_count": null,
      "outputs": []
    },
    {
      "cell_type": "code",
      "source": [
        "tuner = kt.Hyperband(construct_model,\n",
        "                     objective='val_mae',\n",
        "                     max_epochs=200,\n",
        "                     directory='/content/gdrive/MyDrive/Colab Notebooks/Tuning',\n",
        "                     project_name='Hyperband_Tuner_simpleANN_allfiles')\n",
        "\n",
        "tuner.reload()"
      ],
      "metadata": {
        "id": "iXTuqJ9Bbwjq"
      },
      "execution_count": null,
      "outputs": []
    },
    {
      "cell_type": "code",
      "source": [
        "best_hps=tuner.get_best_hyperparameters(num_trials=1)[0]"
      ],
      "metadata": {
        "id": "CGPRVGIIcVb3"
      },
      "execution_count": null,
      "outputs": []
    },
    {
      "cell_type": "code",
      "source": [
        "model = tuner.hypermodel.build(best_hps)"
      ],
      "metadata": {
        "id": "jXYuY-Vncbyx"
      },
      "execution_count": null,
      "outputs": []
    },
    {
      "cell_type": "code",
      "source": [
        "model.summary()"
      ],
      "metadata": {
        "colab": {
          "base_uri": "https://localhost:8080/"
        },
        "id": "99ooGrnr1D6D",
        "outputId": "902bb2ca-d0fc-46dd-8187-7d49fe9f9e93"
      },
      "execution_count": null,
      "outputs": [
        {
          "output_type": "stream",
          "name": "stdout",
          "text": [
            "Model: \"model_12\"\n",
            "_________________________________________________________________\n",
            " Layer (type)                Output Shape              Param #   \n",
            "=================================================================\n",
            " input_13 (InputLayer)       [(None, 1, 62)]           0         \n",
            "                                                                 \n",
            " flatten_12 (Flatten)        (None, 62)                0         \n",
            "                                                                 \n",
            " dense_60 (Dense)            (None, 192)               12096     \n",
            "                                                                 \n",
            " dropout_48 (Dropout)        (None, 192)               0         \n",
            "                                                                 \n",
            " dense_61 (Dense)            (None, 480)               92640     \n",
            "                                                                 \n",
            " dropout_49 (Dropout)        (None, 480)               0         \n",
            "                                                                 \n",
            " dense_62 (Dense)            (None, 96)                46176     \n",
            "                                                                 \n",
            " dropout_50 (Dropout)        (None, 96)                0         \n",
            "                                                                 \n",
            " dense_63 (Dense)            (None, 48)                4656      \n",
            "                                                                 \n",
            " dropout_51 (Dropout)        (None, 48)                0         \n",
            "                                                                 \n",
            " dense_64 (Dense)            (None, 1)                 49        \n",
            "                                                                 \n",
            "=================================================================\n",
            "Total params: 155,617\n",
            "Trainable params: 155,617\n",
            "Non-trainable params: 0\n",
            "_________________________________________________________________\n"
          ]
        }
      ]
    },
    {
      "cell_type": "code",
      "source": [
        "adaptive_learning = True"
      ],
      "metadata": {
        "id": "daQ8lwQ5cnHD"
      },
      "execution_count": null,
      "outputs": []
    },
    {
      "cell_type": "code",
      "source": [
        "if adaptive_learning:\n",
        "      def adapt_learning_rate(epoch):\n",
        "              power = epoch // 20\n",
        "              multiplier = 0.1 ** power\n",
        "              if epoch < 60: \n",
        "                lr = 0.002 * multiplier\n",
        "              else:\n",
        "                lr = 2e-5\n",
        "              return lr\n",
        "      my_lr_scheduler = keras.callbacks.LearningRateScheduler(adapt_learning_rate)"
      ],
      "metadata": {
        "id": "gMS6MOBgcjFn"
      },
      "execution_count": null,
      "outputs": []
    },
    {
      "cell_type": "code",
      "source": [
        "if adaptive_learning:\n",
        "      history = model.fit(x=x_train, y=y_train, validation_data=(x_val, y_val), epochs=200, batch_size=2048, shuffle=True, callbacks=[my_lr_scheduler])\n",
        "else:\n",
        "      history = model.fit(x=x_train, y=y_train, validation_data=(x_val, y_val), epochs=200, batch_size=2048, shuffle=True)\n"
      ],
      "metadata": {
        "id": "kJSuvn9tc1Zx",
        "colab": {
          "base_uri": "https://localhost:8080/"
        },
        "outputId": "47fc0aa0-6c11-4a73-f986-6ed7cd554802"
      },
      "execution_count": null,
      "outputs": [
        {
          "output_type": "stream",
          "name": "stdout",
          "text": [
            "Epoch 1/200\n",
            "605/605 [==============================] - 3s 4ms/step - loss: 235566.5312 - mae: 312.7449 - val_loss: 77815.4531 - val_mae: 209.3579 - lr: 0.0020\n",
            "Epoch 2/200\n",
            "605/605 [==============================] - 2s 4ms/step - loss: 57483.9922 - mae: 136.2828 - val_loss: 61400.0938 - val_mae: 166.7823 - lr: 0.0020\n",
            "Epoch 3/200\n",
            "605/605 [==============================] - 2s 4ms/step - loss: 60927.3750 - mae: 145.1462 - val_loss: 50604.8203 - val_mae: 122.2027 - lr: 0.0020\n",
            "Epoch 4/200\n",
            "605/605 [==============================] - 2s 4ms/step - loss: 50875.9336 - mae: 123.6090 - val_loss: 50714.8203 - val_mae: 127.8996 - lr: 0.0020\n",
            "Epoch 5/200\n",
            "605/605 [==============================] - 2s 4ms/step - loss: 51440.0273 - mae: 128.6601 - val_loss: 49581.1602 - val_mae: 126.3613 - lr: 0.0020\n",
            "Epoch 6/200\n",
            "605/605 [==============================] - 2s 4ms/step - loss: 50424.5430 - mae: 126.9239 - val_loss: 50452.3164 - val_mae: 126.9041 - lr: 0.0020\n",
            "Epoch 7/200\n",
            "605/605 [==============================] - 3s 4ms/step - loss: 52018.7930 - mae: 129.6059 - val_loss: 51879.2109 - val_mae: 146.7381 - lr: 0.0020\n",
            "Epoch 8/200\n",
            "605/605 [==============================] - 3s 4ms/step - loss: 49616.1094 - mae: 123.8787 - val_loss: 46644.5117 - val_mae: 113.5524 - lr: 0.0020\n",
            "Epoch 9/200\n",
            "605/605 [==============================] - 3s 4ms/step - loss: 50167.2461 - mae: 126.9899 - val_loss: 46494.7656 - val_mae: 118.5954 - lr: 0.0020\n",
            "Epoch 10/200\n",
            "605/605 [==============================] - 3s 4ms/step - loss: 47394.7422 - mae: 119.0974 - val_loss: 46036.3125 - val_mae: 114.9456 - lr: 0.0020\n",
            "Epoch 11/200\n",
            "605/605 [==============================] - 3s 4ms/step - loss: 47387.0820 - mae: 121.5129 - val_loss: 45273.2031 - val_mae: 112.4056 - lr: 0.0020\n",
            "Epoch 12/200\n",
            "605/605 [==============================] - 2s 4ms/step - loss: 47195.8320 - mae: 120.3751 - val_loss: 45137.1250 - val_mae: 112.5829 - lr: 0.0020\n",
            "Epoch 13/200\n",
            "605/605 [==============================] - 2s 4ms/step - loss: 46612.8789 - mae: 119.9452 - val_loss: 46443.3320 - val_mae: 113.3893 - lr: 0.0020\n",
            "Epoch 14/200\n",
            "605/605 [==============================] - 2s 4ms/step - loss: 46188.4102 - mae: 119.5744 - val_loss: 44194.9727 - val_mae: 114.4158 - lr: 0.0020\n",
            "Epoch 15/200\n",
            "605/605 [==============================] - 2s 4ms/step - loss: 46175.8906 - mae: 119.7768 - val_loss: 46176.5234 - val_mae: 117.8199 - lr: 0.0020\n",
            "Epoch 16/200\n",
            "605/605 [==============================] - 3s 4ms/step - loss: 45071.4062 - mae: 116.9311 - val_loss: 47578.9141 - val_mae: 132.9501 - lr: 0.0020\n",
            "Epoch 17/200\n",
            "605/605 [==============================] - 2s 4ms/step - loss: 45017.3125 - mae: 117.4657 - val_loss: 43619.7461 - val_mae: 113.6687 - lr: 0.0020\n",
            "Epoch 18/200\n",
            "605/605 [==============================] - 2s 4ms/step - loss: 44757.2070 - mae: 117.9784 - val_loss: 43353.9609 - val_mae: 117.6161 - lr: 0.0020\n",
            "Epoch 19/200\n",
            "605/605 [==============================] - 2s 4ms/step - loss: 44363.2070 - mae: 116.7730 - val_loss: 44908.9805 - val_mae: 113.6708 - lr: 0.0020\n",
            "Epoch 20/200\n",
            "605/605 [==============================] - 2s 4ms/step - loss: 43543.6523 - mae: 114.0726 - val_loss: 45836.5898 - val_mae: 135.5595 - lr: 0.0020\n",
            "Epoch 21/200\n",
            "605/605 [==============================] - 2s 4ms/step - loss: 41845.1797 - mae: 107.3629 - val_loss: 41377.3047 - val_mae: 106.2685 - lr: 2.0000e-04\n",
            "Epoch 22/200\n",
            "605/605 [==============================] - 2s 4ms/step - loss: 41714.6953 - mae: 106.4946 - val_loss: 41374.6094 - val_mae: 106.5390 - lr: 2.0000e-04\n",
            "Epoch 23/200\n",
            "605/605 [==============================] - 2s 4ms/step - loss: 41650.3711 - mae: 106.3867 - val_loss: 41217.1055 - val_mae: 106.0229 - lr: 2.0000e-04\n",
            "Epoch 24/200\n",
            "605/605 [==============================] - 2s 4ms/step - loss: 41589.1172 - mae: 106.3166 - val_loss: 41295.0156 - val_mae: 107.0315 - lr: 2.0000e-04\n",
            "Epoch 25/200\n",
            "605/605 [==============================] - 2s 4ms/step - loss: 41572.5898 - mae: 106.4888 - val_loss: 41135.6680 - val_mae: 106.2854 - lr: 2.0000e-04\n",
            "Epoch 26/200\n",
            "605/605 [==============================] - 2s 4ms/step - loss: 41478.1719 - mae: 106.0707 - val_loss: 41193.8125 - val_mae: 105.9899 - lr: 2.0000e-04\n",
            "Epoch 27/200\n",
            "605/605 [==============================] - 2s 4ms/step - loss: 41442.1406 - mae: 106.1434 - val_loss: 41793.7578 - val_mae: 105.8316 - lr: 2.0000e-04\n",
            "Epoch 28/200\n",
            "605/605 [==============================] - 2s 4ms/step - loss: 41381.4141 - mae: 106.1467 - val_loss: 41119.7383 - val_mae: 108.4578 - lr: 2.0000e-04\n",
            "Epoch 29/200\n",
            "605/605 [==============================] - 2s 4ms/step - loss: 41306.7812 - mae: 105.9501 - val_loss: 41121.1484 - val_mae: 105.3771 - lr: 2.0000e-04\n",
            "Epoch 30/200\n",
            "605/605 [==============================] - 2s 4ms/step - loss: 41265.6367 - mae: 106.1192 - val_loss: 41133.0898 - val_mae: 105.7605 - lr: 2.0000e-04\n",
            "Epoch 31/200\n",
            "605/605 [==============================] - 2s 4ms/step - loss: 41202.7734 - mae: 105.8281 - val_loss: 41028.7070 - val_mae: 105.5134 - lr: 2.0000e-04\n",
            "Epoch 32/200\n",
            "605/605 [==============================] - 2s 4ms/step - loss: 41143.1875 - mae: 105.7249 - val_loss: 41039.5508 - val_mae: 109.7432 - lr: 2.0000e-04\n",
            "Epoch 33/200\n",
            "605/605 [==============================] - 2s 4ms/step - loss: 41083.9336 - mae: 105.6464 - val_loss: 40935.7656 - val_mae: 107.2568 - lr: 2.0000e-04\n",
            "Epoch 34/200\n",
            "605/605 [==============================] - 2s 4ms/step - loss: 41052.8359 - mae: 105.9473 - val_loss: 41040.6914 - val_mae: 105.4956 - lr: 2.0000e-04\n",
            "Epoch 35/200\n",
            "605/605 [==============================] - 2s 4ms/step - loss: 40983.7148 - mae: 105.4609 - val_loss: 41154.6211 - val_mae: 106.5392 - lr: 2.0000e-04\n",
            "Epoch 36/200\n",
            "605/605 [==============================] - 2s 4ms/step - loss: 40931.1523 - mae: 105.4387 - val_loss: 41065.8281 - val_mae: 104.8044 - lr: 2.0000e-04\n",
            "Epoch 37/200\n",
            "605/605 [==============================] - 2s 4ms/step - loss: 40903.8516 - mae: 105.5320 - val_loss: 40624.3398 - val_mae: 105.2901 - lr: 2.0000e-04\n",
            "Epoch 38/200\n",
            "605/605 [==============================] - 2s 4ms/step - loss: 40834.6016 - mae: 105.3864 - val_loss: 40678.9375 - val_mae: 107.4212 - lr: 2.0000e-04\n",
            "Epoch 39/200\n",
            "605/605 [==============================] - 2s 4ms/step - loss: 40802.0586 - mae: 105.4038 - val_loss: 40582.9844 - val_mae: 106.0093 - lr: 2.0000e-04\n",
            "Epoch 40/200\n",
            "605/605 [==============================] - 2s 4ms/step - loss: 40722.9648 - mae: 105.1725 - val_loss: 40286.6016 - val_mae: 104.7346 - lr: 2.0000e-04\n",
            "Epoch 41/200\n",
            "605/605 [==============================] - 2s 4ms/step - loss: 40466.0039 - mae: 104.0108 - val_loss: 40225.7852 - val_mae: 103.8545 - lr: 2.0000e-05\n",
            "Epoch 42/200\n",
            "605/605 [==============================] - 2s 4ms/step - loss: 40448.0586 - mae: 103.9912 - val_loss: 40222.8398 - val_mae: 103.9568 - lr: 2.0000e-05\n",
            "Epoch 43/200\n",
            "605/605 [==============================] - 2s 4ms/step - loss: 40446.5391 - mae: 103.9897 - val_loss: 40233.4766 - val_mae: 104.7157 - lr: 2.0000e-05\n",
            "Epoch 44/200\n",
            "605/605 [==============================] - 2s 4ms/step - loss: 40437.4883 - mae: 103.9604 - val_loss: 40199.8594 - val_mae: 103.9843 - lr: 2.0000e-05\n",
            "Epoch 45/200\n",
            "605/605 [==============================] - 2s 4ms/step - loss: 40428.9180 - mae: 103.9163 - val_loss: 40201.9102 - val_mae: 103.9227 - lr: 2.0000e-05\n",
            "Epoch 46/200\n",
            "605/605 [==============================] - 2s 4ms/step - loss: 40426.2305 - mae: 103.9177 - val_loss: 40232.9219 - val_mae: 104.1794 - lr: 2.0000e-05\n",
            "Epoch 47/200\n",
            "605/605 [==============================] - 2s 4ms/step - loss: 40416.9883 - mae: 103.8974 - val_loss: 40201.7188 - val_mae: 103.7388 - lr: 2.0000e-05\n",
            "Epoch 48/200\n",
            "605/605 [==============================] - 2s 4ms/step - loss: 40409.3516 - mae: 103.8461 - val_loss: 40186.6289 - val_mae: 103.9144 - lr: 2.0000e-05\n",
            "Epoch 49/200\n",
            "605/605 [==============================] - 2s 4ms/step - loss: 40401.5586 - mae: 103.8351 - val_loss: 40194.3516 - val_mae: 104.2316 - lr: 2.0000e-05\n",
            "Epoch 50/200\n",
            "605/605 [==============================] - 2s 4ms/step - loss: 40399.4062 - mae: 103.8586 - val_loss: 40158.4648 - val_mae: 103.8794 - lr: 2.0000e-05\n",
            "Epoch 51/200\n",
            "605/605 [==============================] - 2s 4ms/step - loss: 40389.0625 - mae: 103.8136 - val_loss: 40167.2500 - val_mae: 103.8589 - lr: 2.0000e-05\n",
            "Epoch 52/200\n",
            "605/605 [==============================] - 2s 4ms/step - loss: 40387.5195 - mae: 103.8315 - val_loss: 40214.6055 - val_mae: 104.0758 - lr: 2.0000e-05\n",
            "Epoch 53/200\n",
            "605/605 [==============================] - 2s 4ms/step - loss: 40385.6758 - mae: 103.8119 - val_loss: 40151.5586 - val_mae: 103.6695 - lr: 2.0000e-05\n",
            "Epoch 54/200\n",
            "605/605 [==============================] - 2s 4ms/step - loss: 40373.4609 - mae: 103.8053 - val_loss: 40145.5625 - val_mae: 104.0159 - lr: 2.0000e-05\n",
            "Epoch 55/200\n",
            "605/605 [==============================] - 2s 4ms/step - loss: 40373.2070 - mae: 103.8116 - val_loss: 40138.2773 - val_mae: 103.6598 - lr: 2.0000e-05\n",
            "Epoch 56/200\n",
            "605/605 [==============================] - 2s 4ms/step - loss: 40361.3516 - mae: 103.7550 - val_loss: 40139.7266 - val_mae: 103.6163 - lr: 2.0000e-05\n",
            "Epoch 57/200\n",
            "605/605 [==============================] - 2s 4ms/step - loss: 40357.8711 - mae: 103.7571 - val_loss: 40131.7031 - val_mae: 103.7459 - lr: 2.0000e-05\n",
            "Epoch 58/200\n",
            "605/605 [==============================] - 2s 4ms/step - loss: 40353.4180 - mae: 103.7300 - val_loss: 40126.6797 - val_mae: 103.9710 - lr: 2.0000e-05\n",
            "Epoch 59/200\n",
            "605/605 [==============================] - 2s 4ms/step - loss: 40346.7461 - mae: 103.7903 - val_loss: 40138.8438 - val_mae: 103.6349 - lr: 2.0000e-05\n",
            "Epoch 60/200\n",
            "605/605 [==============================] - 2s 4ms/step - loss: 40337.8516 - mae: 103.7244 - val_loss: 40115.6523 - val_mae: 103.6007 - lr: 2.0000e-05\n",
            "Epoch 61/200\n",
            "605/605 [==============================] - 2s 4ms/step - loss: 40331.0586 - mae: 103.6948 - val_loss: 40093.0469 - val_mae: 103.5795 - lr: 2.0000e-05\n",
            "Epoch 62/200\n",
            "605/605 [==============================] - 2s 4ms/step - loss: 40322.6289 - mae: 103.6978 - val_loss: 40103.3672 - val_mae: 103.7633 - lr: 2.0000e-05\n",
            "Epoch 63/200\n",
            "605/605 [==============================] - 2s 4ms/step - loss: 40321.7461 - mae: 103.7142 - val_loss: 40093.9883 - val_mae: 103.5763 - lr: 2.0000e-05\n",
            "Epoch 64/200\n",
            "605/605 [==============================] - 2s 4ms/step - loss: 40315.9805 - mae: 103.6941 - val_loss: 40093.5703 - val_mae: 103.9085 - lr: 2.0000e-05\n",
            "Epoch 65/200\n",
            "605/605 [==============================] - 2s 4ms/step - loss: 40309.9883 - mae: 103.6630 - val_loss: 40080.3359 - val_mae: 103.5709 - lr: 2.0000e-05\n",
            "Epoch 66/200\n",
            "605/605 [==============================] - 2s 4ms/step - loss: 40307.8438 - mae: 103.6925 - val_loss: 40083.7969 - val_mae: 103.5575 - lr: 2.0000e-05\n",
            "Epoch 67/200\n",
            "605/605 [==============================] - 2s 4ms/step - loss: 40302.6328 - mae: 103.6495 - val_loss: 40076.5625 - val_mae: 103.6452 - lr: 2.0000e-05\n",
            "Epoch 68/200\n",
            "605/605 [==============================] - 2s 4ms/step - loss: 40292.5938 - mae: 103.6472 - val_loss: 40058.8438 - val_mae: 103.6058 - lr: 2.0000e-05\n",
            "Epoch 69/200\n",
            "605/605 [==============================] - 2s 4ms/step - loss: 40287.6172 - mae: 103.6392 - val_loss: 40053.4062 - val_mae: 103.6324 - lr: 2.0000e-05\n",
            "Epoch 70/200\n",
            "605/605 [==============================] - 2s 4ms/step - loss: 40278.7109 - mae: 103.6364 - val_loss: 40057.6406 - val_mae: 103.5763 - lr: 2.0000e-05\n",
            "Epoch 71/200\n",
            "605/605 [==============================] - 2s 4ms/step - loss: 40272.9492 - mae: 103.6052 - val_loss: 40087.6016 - val_mae: 103.6070 - lr: 2.0000e-05\n",
            "Epoch 72/200\n",
            "605/605 [==============================] - 2s 4ms/step - loss: 40268.1484 - mae: 103.5761 - val_loss: 40034.0859 - val_mae: 103.5732 - lr: 2.0000e-05\n",
            "Epoch 73/200\n",
            "605/605 [==============================] - 2s 4ms/step - loss: 40257.5273 - mae: 103.5809 - val_loss: 40032.4609 - val_mae: 103.4710 - lr: 2.0000e-05\n",
            "Epoch 74/200\n",
            "605/605 [==============================] - 2s 4ms/step - loss: 40254.7422 - mae: 103.5715 - val_loss: 40094.7734 - val_mae: 104.1244 - lr: 2.0000e-05\n",
            "Epoch 75/200\n",
            "605/605 [==============================] - 3s 4ms/step - loss: 40249.9336 - mae: 103.5812 - val_loss: 40057.1133 - val_mae: 103.6466 - lr: 2.0000e-05\n",
            "Epoch 76/200\n",
            "605/605 [==============================] - 2s 4ms/step - loss: 40252.0117 - mae: 103.6318 - val_loss: 40019.0625 - val_mae: 103.5086 - lr: 2.0000e-05\n",
            "Epoch 77/200\n",
            "605/605 [==============================] - 2s 4ms/step - loss: 40233.7344 - mae: 103.5628 - val_loss: 40006.8555 - val_mae: 103.4743 - lr: 2.0000e-05\n",
            "Epoch 78/200\n",
            "605/605 [==============================] - 2s 4ms/step - loss: 40232.4297 - mae: 103.5209 - val_loss: 40185.6016 - val_mae: 104.2050 - lr: 2.0000e-05\n",
            "Epoch 79/200\n",
            "605/605 [==============================] - 2s 4ms/step - loss: 40235.4180 - mae: 103.6170 - val_loss: 40057.4258 - val_mae: 103.7554 - lr: 2.0000e-05\n",
            "Epoch 80/200\n",
            "605/605 [==============================] - 2s 4ms/step - loss: 40226.1641 - mae: 103.5838 - val_loss: 40012.2266 - val_mae: 103.5665 - lr: 2.0000e-05\n",
            "Epoch 81/200\n",
            "605/605 [==============================] - 2s 4ms/step - loss: 40215.8242 - mae: 103.5175 - val_loss: 39993.0977 - val_mae: 103.4400 - lr: 2.0000e-05\n",
            "Epoch 82/200\n",
            "605/605 [==============================] - 2s 4ms/step - loss: 40211.8672 - mae: 103.5226 - val_loss: 39984.1523 - val_mae: 103.3840 - lr: 2.0000e-05\n",
            "Epoch 83/200\n",
            "605/605 [==============================] - 2s 4ms/step - loss: 40206.3945 - mae: 103.5399 - val_loss: 39978.7969 - val_mae: 103.4006 - lr: 2.0000e-05\n",
            "Epoch 84/200\n",
            "605/605 [==============================] - 2s 4ms/step - loss: 40197.3164 - mae: 103.4991 - val_loss: 40010.0039 - val_mae: 104.1816 - lr: 2.0000e-05\n",
            "Epoch 85/200\n",
            "605/605 [==============================] - 2s 4ms/step - loss: 40196.3320 - mae: 103.5003 - val_loss: 39971.8281 - val_mae: 103.6373 - lr: 2.0000e-05\n",
            "Epoch 86/200\n",
            "605/605 [==============================] - 2s 4ms/step - loss: 40182.1523 - mae: 103.4733 - val_loss: 39990.9023 - val_mae: 103.5107 - lr: 2.0000e-05\n",
            "Epoch 87/200\n",
            "605/605 [==============================] - 2s 4ms/step - loss: 40179.3750 - mae: 103.4513 - val_loss: 39998.9062 - val_mae: 103.6665 - lr: 2.0000e-05\n",
            "Epoch 88/200\n",
            "605/605 [==============================] - 2s 4ms/step - loss: 40175.9062 - mae: 103.4707 - val_loss: 39977.2148 - val_mae: 103.7046 - lr: 2.0000e-05\n",
            "Epoch 89/200\n",
            "605/605 [==============================] - 2s 4ms/step - loss: 40169.9023 - mae: 103.4482 - val_loss: 39946.7500 - val_mae: 103.4803 - lr: 2.0000e-05\n",
            "Epoch 90/200\n",
            "605/605 [==============================] - 2s 4ms/step - loss: 40162.8828 - mae: 103.4657 - val_loss: 40102.2930 - val_mae: 104.0539 - lr: 2.0000e-05\n",
            "Epoch 91/200\n",
            "605/605 [==============================] - 2s 4ms/step - loss: 40159.1055 - mae: 103.4337 - val_loss: 39951.0234 - val_mae: 103.5342 - lr: 2.0000e-05\n",
            "Epoch 92/200\n",
            "605/605 [==============================] - 2s 4ms/step - loss: 40150.4844 - mae: 103.3981 - val_loss: 39924.1445 - val_mae: 103.3785 - lr: 2.0000e-05\n",
            "Epoch 93/200\n",
            "605/605 [==============================] - 2s 4ms/step - loss: 40155.9961 - mae: 103.4272 - val_loss: 39958.7930 - val_mae: 103.6115 - lr: 2.0000e-05\n",
            "Epoch 94/200\n",
            "605/605 [==============================] - 2s 4ms/step - loss: 40145.4805 - mae: 103.4345 - val_loss: 39911.9180 - val_mae: 103.4196 - lr: 2.0000e-05\n",
            "Epoch 95/200\n",
            "605/605 [==============================] - 2s 4ms/step - loss: 40143.0117 - mae: 103.4313 - val_loss: 39930.4570 - val_mae: 103.2573 - lr: 2.0000e-05\n",
            "Epoch 96/200\n",
            "605/605 [==============================] - 2s 4ms/step - loss: 40125.5117 - mae: 103.3936 - val_loss: 39920.1328 - val_mae: 103.4818 - lr: 2.0000e-05\n",
            "Epoch 97/200\n",
            "605/605 [==============================] - 2s 4ms/step - loss: 40126.0156 - mae: 103.4067 - val_loss: 39925.9375 - val_mae: 103.5020 - lr: 2.0000e-05\n",
            "Epoch 98/200\n",
            "605/605 [==============================] - 2s 4ms/step - loss: 40119.3008 - mae: 103.3851 - val_loss: 39904.3359 - val_mae: 103.4833 - lr: 2.0000e-05\n",
            "Epoch 99/200\n",
            "605/605 [==============================] - 2s 4ms/step - loss: 40104.9883 - mae: 103.3230 - val_loss: 39896.0000 - val_mae: 103.3414 - lr: 2.0000e-05\n",
            "Epoch 100/200\n",
            "605/605 [==============================] - 2s 4ms/step - loss: 40109.7812 - mae: 103.4139 - val_loss: 39916.7617 - val_mae: 103.3963 - lr: 2.0000e-05\n",
            "Epoch 101/200\n",
            "605/605 [==============================] - 2s 4ms/step - loss: 40097.6758 - mae: 103.3572 - val_loss: 39877.9648 - val_mae: 103.2741 - lr: 2.0000e-05\n",
            "Epoch 102/200\n",
            "605/605 [==============================] - 2s 4ms/step - loss: 40090.2227 - mae: 103.3106 - val_loss: 39873.5078 - val_mae: 103.3072 - lr: 2.0000e-05\n",
            "Epoch 103/200\n",
            "605/605 [==============================] - 2s 4ms/step - loss: 40087.5117 - mae: 103.3119 - val_loss: 39890.0000 - val_mae: 103.2898 - lr: 2.0000e-05\n",
            "Epoch 104/200\n",
            "605/605 [==============================] - 2s 4ms/step - loss: 40086.3438 - mae: 103.3481 - val_loss: 39854.6094 - val_mae: 103.2659 - lr: 2.0000e-05\n",
            "Epoch 105/200\n",
            "605/605 [==============================] - 2s 4ms/step - loss: 40070.6562 - mae: 103.2891 - val_loss: 39858.2266 - val_mae: 103.6738 - lr: 2.0000e-05\n",
            "Epoch 106/200\n",
            "605/605 [==============================] - 2s 4ms/step - loss: 40072.0273 - mae: 103.3214 - val_loss: 39869.5781 - val_mae: 103.3243 - lr: 2.0000e-05\n",
            "Epoch 107/200\n",
            "605/605 [==============================] - 2s 4ms/step - loss: 40056.6641 - mae: 103.2482 - val_loss: 39844.9219 - val_mae: 103.4536 - lr: 2.0000e-05\n",
            "Epoch 108/200\n",
            "605/605 [==============================] - 2s 4ms/step - loss: 40055.5000 - mae: 103.2702 - val_loss: 39877.3242 - val_mae: 103.3888 - lr: 2.0000e-05\n",
            "Epoch 109/200\n",
            "605/605 [==============================] - 2s 4ms/step - loss: 40065.8828 - mae: 103.3784 - val_loss: 39852.1289 - val_mae: 103.1827 - lr: 2.0000e-05\n",
            "Epoch 110/200\n",
            "605/605 [==============================] - 2s 4ms/step - loss: 40048.8203 - mae: 103.3419 - val_loss: 39850.5039 - val_mae: 103.4367 - lr: 2.0000e-05\n",
            "Epoch 111/200\n",
            "605/605 [==============================] - 2s 4ms/step - loss: 40040.9766 - mae: 103.2649 - val_loss: 39810.9766 - val_mae: 103.2125 - lr: 2.0000e-05\n",
            "Epoch 112/200\n",
            "605/605 [==============================] - 2s 4ms/step - loss: 40031.6250 - mae: 103.2325 - val_loss: 39802.2656 - val_mae: 103.2822 - lr: 2.0000e-05\n",
            "Epoch 113/200\n",
            "605/605 [==============================] - 2s 4ms/step - loss: 40044.5703 - mae: 103.3086 - val_loss: 39837.6523 - val_mae: 104.0098 - lr: 2.0000e-05\n",
            "Epoch 114/200\n",
            "605/605 [==============================] - 2s 4ms/step - loss: 40025.4609 - mae: 103.2293 - val_loss: 39843.8359 - val_mae: 103.6926 - lr: 2.0000e-05\n",
            "Epoch 115/200\n",
            "605/605 [==============================] - 2s 4ms/step - loss: 40014.7812 - mae: 103.1974 - val_loss: 39809.5312 - val_mae: 103.3969 - lr: 2.0000e-05\n",
            "Epoch 116/200\n",
            "605/605 [==============================] - 2s 4ms/step - loss: 40009.2305 - mae: 103.2094 - val_loss: 39824.1875 - val_mae: 103.2890 - lr: 2.0000e-05\n",
            "Epoch 117/200\n",
            "605/605 [==============================] - 2s 4ms/step - loss: 40009.2031 - mae: 103.2099 - val_loss: 39775.9219 - val_mae: 103.0892 - lr: 2.0000e-05\n",
            "Epoch 118/200\n",
            "605/605 [==============================] - 2s 4ms/step - loss: 40000.8438 - mae: 103.2082 - val_loss: 39829.0586 - val_mae: 104.3931 - lr: 2.0000e-05\n",
            "Epoch 119/200\n",
            "605/605 [==============================] - 2s 4ms/step - loss: 39992.8750 - mae: 103.1851 - val_loss: 39783.7305 - val_mae: 103.3421 - lr: 2.0000e-05\n",
            "Epoch 120/200\n",
            "605/605 [==============================] - 2s 4ms/step - loss: 39991.0195 - mae: 103.1757 - val_loss: 39834.8203 - val_mae: 103.4066 - lr: 2.0000e-05\n",
            "Epoch 121/200\n",
            "605/605 [==============================] - 2s 4ms/step - loss: 39984.9531 - mae: 103.1688 - val_loss: 39768.2109 - val_mae: 103.1247 - lr: 2.0000e-05\n",
            "Epoch 122/200\n",
            "605/605 [==============================] - 2s 4ms/step - loss: 39977.2422 - mae: 103.1684 - val_loss: 39754.3516 - val_mae: 103.1409 - lr: 2.0000e-05\n",
            "Epoch 123/200\n",
            "605/605 [==============================] - 2s 4ms/step - loss: 39975.6445 - mae: 103.1912 - val_loss: 39807.2773 - val_mae: 103.8641 - lr: 2.0000e-05\n",
            "Epoch 124/200\n",
            "605/605 [==============================] - 2s 4ms/step - loss: 39967.7227 - mae: 103.2023 - val_loss: 39743.1562 - val_mae: 103.0378 - lr: 2.0000e-05\n",
            "Epoch 125/200\n",
            "605/605 [==============================] - 2s 4ms/step - loss: 39951.3633 - mae: 103.1098 - val_loss: 39777.0664 - val_mae: 103.1749 - lr: 2.0000e-05\n",
            "Epoch 126/200\n",
            "605/605 [==============================] - 2s 4ms/step - loss: 39958.5938 - mae: 103.1694 - val_loss: 39765.9688 - val_mae: 103.2768 - lr: 2.0000e-05\n",
            "Epoch 127/200\n",
            "605/605 [==============================] - 2s 4ms/step - loss: 39945.1211 - mae: 103.1067 - val_loss: 39782.3789 - val_mae: 103.4725 - lr: 2.0000e-05\n",
            "Epoch 128/200\n",
            "605/605 [==============================] - 2s 4ms/step - loss: 39950.9219 - mae: 103.1637 - val_loss: 39752.6172 - val_mae: 103.0320 - lr: 2.0000e-05\n",
            "Epoch 129/200\n",
            "605/605 [==============================] - 2s 4ms/step - loss: 39934.6914 - mae: 103.0884 - val_loss: 39761.6211 - val_mae: 103.2430 - lr: 2.0000e-05\n",
            "Epoch 130/200\n",
            "605/605 [==============================] - 2s 4ms/step - loss: 39936.5859 - mae: 103.1582 - val_loss: 39804.9180 - val_mae: 103.0655 - lr: 2.0000e-05\n",
            "Epoch 131/200\n",
            "605/605 [==============================] - 2s 4ms/step - loss: 39930.5508 - mae: 103.1159 - val_loss: 39697.9570 - val_mae: 103.0424 - lr: 2.0000e-05\n",
            "Epoch 132/200\n",
            "605/605 [==============================] - 2s 4ms/step - loss: 39922.1875 - mae: 103.0836 - val_loss: 39704.8008 - val_mae: 103.0246 - lr: 2.0000e-05\n",
            "Epoch 133/200\n",
            "605/605 [==============================] - 2s 4ms/step - loss: 39916.6055 - mae: 103.0738 - val_loss: 39774.8633 - val_mae: 103.2527 - lr: 2.0000e-05\n",
            "Epoch 134/200\n",
            "605/605 [==============================] - 3s 4ms/step - loss: 39915.6055 - mae: 103.0998 - val_loss: 39719.6445 - val_mae: 103.0329 - lr: 2.0000e-05\n",
            "Epoch 135/200\n",
            "605/605 [==============================] - 2s 4ms/step - loss: 39901.2578 - mae: 103.0187 - val_loss: 39674.3516 - val_mae: 102.9594 - lr: 2.0000e-05\n",
            "Epoch 136/200\n",
            "605/605 [==============================] - 2s 4ms/step - loss: 39899.4023 - mae: 103.0481 - val_loss: 39691.8398 - val_mae: 103.2906 - lr: 2.0000e-05\n",
            "Epoch 137/200\n",
            "605/605 [==============================] - 2s 4ms/step - loss: 39890.8008 - mae: 103.0181 - val_loss: 39701.1680 - val_mae: 102.9683 - lr: 2.0000e-05\n",
            "Epoch 138/200\n",
            "605/605 [==============================] - 2s 4ms/step - loss: 39890.7461 - mae: 103.0511 - val_loss: 39679.7969 - val_mae: 102.9026 - lr: 2.0000e-05\n",
            "Epoch 139/200\n",
            "605/605 [==============================] - 2s 4ms/step - loss: 39882.2070 - mae: 103.0164 - val_loss: 39736.9961 - val_mae: 103.9042 - lr: 2.0000e-05\n",
            "Epoch 140/200\n",
            "605/605 [==============================] - 2s 4ms/step - loss: 39879.6016 - mae: 103.0438 - val_loss: 39677.2148 - val_mae: 103.1754 - lr: 2.0000e-05\n",
            "Epoch 141/200\n",
            "605/605 [==============================] - 2s 4ms/step - loss: 39877.4531 - mae: 103.0462 - val_loss: 39654.2773 - val_mae: 102.8961 - lr: 2.0000e-05\n",
            "Epoch 142/200\n",
            "605/605 [==============================] - 2s 4ms/step - loss: 39875.4023 - mae: 103.0478 - val_loss: 39637.4102 - val_mae: 102.9117 - lr: 2.0000e-05\n",
            "Epoch 143/200\n",
            "605/605 [==============================] - 2s 4ms/step - loss: 39866.7812 - mae: 102.9996 - val_loss: 39655.3438 - val_mae: 102.9996 - lr: 2.0000e-05\n",
            "Epoch 144/200\n",
            "605/605 [==============================] - 2s 4ms/step - loss: 39859.3320 - mae: 102.9971 - val_loss: 39639.8867 - val_mae: 102.9530 - lr: 2.0000e-05\n",
            "Epoch 145/200\n",
            "605/605 [==============================] - 2s 4ms/step - loss: 39848.7891 - mae: 102.9755 - val_loss: 39633.6836 - val_mae: 102.8738 - lr: 2.0000e-05\n",
            "Epoch 146/200\n",
            "605/605 [==============================] - 2s 4ms/step - loss: 39841.4531 - mae: 102.9546 - val_loss: 39647.4297 - val_mae: 103.0302 - lr: 2.0000e-05\n",
            "Epoch 147/200\n",
            "605/605 [==============================] - 2s 4ms/step - loss: 39834.3672 - mae: 102.9487 - val_loss: 39636.7773 - val_mae: 102.8677 - lr: 2.0000e-05\n",
            "Epoch 148/200\n",
            "605/605 [==============================] - 2s 4ms/step - loss: 39837.0312 - mae: 102.9937 - val_loss: 39639.9648 - val_mae: 102.9451 - lr: 2.0000e-05\n",
            "Epoch 149/200\n",
            "605/605 [==============================] - 2s 4ms/step - loss: 39834.9414 - mae: 102.9987 - val_loss: 39621.3906 - val_mae: 103.0174 - lr: 2.0000e-05\n",
            "Epoch 150/200\n",
            "605/605 [==============================] - 2s 4ms/step - loss: 39822.5547 - mae: 102.9584 - val_loss: 39601.0547 - val_mae: 102.8565 - lr: 2.0000e-05\n",
            "Epoch 151/200\n",
            "605/605 [==============================] - 2s 4ms/step - loss: 39819.3398 - mae: 102.9367 - val_loss: 39597.2656 - val_mae: 102.8402 - lr: 2.0000e-05\n",
            "Epoch 152/200\n",
            "605/605 [==============================] - 2s 4ms/step - loss: 39812.8203 - mae: 102.9154 - val_loss: 39597.0781 - val_mae: 102.8862 - lr: 2.0000e-05\n",
            "Epoch 153/200\n",
            "605/605 [==============================] - 2s 4ms/step - loss: 39806.6055 - mae: 102.9028 - val_loss: 39627.2422 - val_mae: 102.9967 - lr: 2.0000e-05\n",
            "Epoch 154/200\n",
            "605/605 [==============================] - 2s 4ms/step - loss: 39806.4180 - mae: 102.9101 - val_loss: 39575.7852 - val_mae: 102.8566 - lr: 2.0000e-05\n",
            "Epoch 155/200\n",
            "605/605 [==============================] - 2s 4ms/step - loss: 39803.2695 - mae: 102.9566 - val_loss: 39596.3477 - val_mae: 102.8423 - lr: 2.0000e-05\n",
            "Epoch 156/200\n",
            "605/605 [==============================] - 2s 4ms/step - loss: 39798.8594 - mae: 102.9448 - val_loss: 39577.6094 - val_mae: 102.8270 - lr: 2.0000e-05\n",
            "Epoch 157/200\n",
            "605/605 [==============================] - 2s 4ms/step - loss: 39784.3359 - mae: 102.9063 - val_loss: 39562.8984 - val_mae: 102.8201 - lr: 2.0000e-05\n",
            "Epoch 158/200\n",
            "605/605 [==============================] - 2s 4ms/step - loss: 39776.2891 - mae: 102.8517 - val_loss: 39556.8672 - val_mae: 102.8449 - lr: 2.0000e-05\n",
            "Epoch 159/200\n",
            "605/605 [==============================] - 2s 4ms/step - loss: 39779.0391 - mae: 102.8960 - val_loss: 39562.0117 - val_mae: 102.7666 - lr: 2.0000e-05\n",
            "Epoch 160/200\n",
            "605/605 [==============================] - 2s 4ms/step - loss: 39771.6914 - mae: 102.8723 - val_loss: 39549.9141 - val_mae: 102.8813 - lr: 2.0000e-05\n",
            "Epoch 161/200\n",
            "605/605 [==============================] - 2s 4ms/step - loss: 39768.1680 - mae: 102.8722 - val_loss: 39540.8828 - val_mae: 102.8166 - lr: 2.0000e-05\n",
            "Epoch 162/200\n",
            "605/605 [==============================] - 2s 4ms/step - loss: 39761.8359 - mae: 102.8684 - val_loss: 39550.0273 - val_mae: 102.8746 - lr: 2.0000e-05\n",
            "Epoch 163/200\n",
            "605/605 [==============================] - 2s 4ms/step - loss: 39749.9648 - mae: 102.8497 - val_loss: 39556.3867 - val_mae: 103.1065 - lr: 2.0000e-05\n",
            "Epoch 164/200\n",
            "605/605 [==============================] - 2s 4ms/step - loss: 39749.7109 - mae: 102.8452 - val_loss: 39527.4102 - val_mae: 102.8409 - lr: 2.0000e-05\n",
            "Epoch 165/200\n",
            "605/605 [==============================] - 2s 4ms/step - loss: 39740.0938 - mae: 102.8156 - val_loss: 39541.0938 - val_mae: 103.4265 - lr: 2.0000e-05\n",
            "Epoch 166/200\n",
            "605/605 [==============================] - 2s 4ms/step - loss: 39734.1914 - mae: 102.8145 - val_loss: 39517.5273 - val_mae: 102.8212 - lr: 2.0000e-05\n",
            "Epoch 167/200\n",
            "605/605 [==============================] - 2s 4ms/step - loss: 39735.4062 - mae: 102.8692 - val_loss: 39528.7383 - val_mae: 102.6910 - lr: 2.0000e-05\n",
            "Epoch 168/200\n",
            "605/605 [==============================] - 2s 4ms/step - loss: 39731.2109 - mae: 102.8098 - val_loss: 39512.2422 - val_mae: 102.8314 - lr: 2.0000e-05\n",
            "Epoch 169/200\n",
            "605/605 [==============================] - 2s 4ms/step - loss: 39718.7734 - mae: 102.8020 - val_loss: 39575.7891 - val_mae: 103.6787 - lr: 2.0000e-05\n",
            "Epoch 170/200\n",
            "605/605 [==============================] - 2s 4ms/step - loss: 39711.6914 - mae: 102.8068 - val_loss: 39525.8711 - val_mae: 102.8447 - lr: 2.0000e-05\n",
            "Epoch 171/200\n",
            "605/605 [==============================] - 2s 4ms/step - loss: 39710.3633 - mae: 102.7909 - val_loss: 39489.8906 - val_mae: 102.7206 - lr: 2.0000e-05\n",
            "Epoch 172/200\n",
            "605/605 [==============================] - 2s 4ms/step - loss: 39704.6094 - mae: 102.7908 - val_loss: 39501.1523 - val_mae: 102.9044 - lr: 2.0000e-05\n",
            "Epoch 173/200\n",
            "605/605 [==============================] - 2s 4ms/step - loss: 39700.1523 - mae: 102.7644 - val_loss: 39498.0508 - val_mae: 102.7467 - lr: 2.0000e-05\n",
            "Epoch 174/200\n",
            "605/605 [==============================] - 2s 4ms/step - loss: 39695.9727 - mae: 102.7818 - val_loss: 39487.8398 - val_mae: 103.0599 - lr: 2.0000e-05\n",
            "Epoch 175/200\n",
            "605/605 [==============================] - 2s 4ms/step - loss: 39687.7891 - mae: 102.7639 - val_loss: 39504.1172 - val_mae: 102.9966 - lr: 2.0000e-05\n",
            "Epoch 176/200\n",
            "605/605 [==============================] - 2s 4ms/step - loss: 39681.1250 - mae: 102.7505 - val_loss: 39466.5977 - val_mae: 102.6508 - lr: 2.0000e-05\n",
            "Epoch 177/200\n",
            "605/605 [==============================] - 2s 4ms/step - loss: 39678.6719 - mae: 102.7398 - val_loss: 39506.0898 - val_mae: 103.0751 - lr: 2.0000e-05\n",
            "Epoch 178/200\n",
            "605/605 [==============================] - 2s 4ms/step - loss: 39670.8164 - mae: 102.7411 - val_loss: 39473.7773 - val_mae: 102.7163 - lr: 2.0000e-05\n",
            "Epoch 179/200\n",
            "605/605 [==============================] - 2s 4ms/step - loss: 39671.3125 - mae: 102.7365 - val_loss: 39469.5352 - val_mae: 102.6859 - lr: 2.0000e-05\n",
            "Epoch 180/200\n",
            "605/605 [==============================] - 2s 4ms/step - loss: 39664.7070 - mae: 102.7342 - val_loss: 39450.7812 - val_mae: 102.6993 - lr: 2.0000e-05\n",
            "Epoch 181/200\n",
            "605/605 [==============================] - 2s 4ms/step - loss: 39656.3086 - mae: 102.6940 - val_loss: 39469.3906 - val_mae: 102.6271 - lr: 2.0000e-05\n",
            "Epoch 182/200\n",
            "605/605 [==============================] - 2s 4ms/step - loss: 39652.0312 - mae: 102.6721 - val_loss: 39477.9375 - val_mae: 102.6337 - lr: 2.0000e-05\n",
            "Epoch 183/200\n",
            "605/605 [==============================] - 2s 4ms/step - loss: 39644.7109 - mae: 102.6919 - val_loss: 39427.6211 - val_mae: 102.6679 - lr: 2.0000e-05\n",
            "Epoch 184/200\n",
            "605/605 [==============================] - 2s 4ms/step - loss: 39646.6875 - mae: 102.6884 - val_loss: 39440.4141 - val_mae: 102.7837 - lr: 2.0000e-05\n",
            "Epoch 185/200\n",
            "605/605 [==============================] - 2s 4ms/step - loss: 39637.9453 - mae: 102.6719 - val_loss: 39461.7969 - val_mae: 102.7709 - lr: 2.0000e-05\n",
            "Epoch 186/200\n",
            "605/605 [==============================] - 2s 4ms/step - loss: 39628.3359 - mae: 102.6753 - val_loss: 39458.9609 - val_mae: 103.1014 - lr: 2.0000e-05\n",
            "Epoch 187/200\n",
            "605/605 [==============================] - 2s 4ms/step - loss: 39623.5664 - mae: 102.6512 - val_loss: 39428.9922 - val_mae: 102.6491 - lr: 2.0000e-05\n",
            "Epoch 188/200\n",
            "605/605 [==============================] - 2s 4ms/step - loss: 39615.0430 - mae: 102.6201 - val_loss: 39433.2148 - val_mae: 102.7321 - lr: 2.0000e-05\n",
            "Epoch 189/200\n",
            "605/605 [==============================] - 2s 4ms/step - loss: 39621.5586 - mae: 102.6511 - val_loss: 39410.5703 - val_mae: 102.7483 - lr: 2.0000e-05\n",
            "Epoch 190/200\n",
            "605/605 [==============================] - 2s 4ms/step - loss: 39604.3711 - mae: 102.6186 - val_loss: 39403.1055 - val_mae: 102.5454 - lr: 2.0000e-05\n",
            "Epoch 191/200\n",
            "605/605 [==============================] - 2s 4ms/step - loss: 39612.9141 - mae: 102.6768 - val_loss: 39458.1992 - val_mae: 102.7400 - lr: 2.0000e-05\n",
            "Epoch 192/200\n",
            "605/605 [==============================] - 2s 4ms/step - loss: 39596.5547 - mae: 102.5929 - val_loss: 39418.6133 - val_mae: 102.6057 - lr: 2.0000e-05\n",
            "Epoch 193/200\n",
            "605/605 [==============================] - 3s 4ms/step - loss: 39588.7383 - mae: 102.6088 - val_loss: 39413.7656 - val_mae: 102.6463 - lr: 2.0000e-05\n",
            "Epoch 194/200\n",
            "605/605 [==============================] - 2s 4ms/step - loss: 39587.3867 - mae: 102.5992 - val_loss: 39409.5742 - val_mae: 102.8001 - lr: 2.0000e-05\n",
            "Epoch 195/200\n",
            "605/605 [==============================] - 2s 4ms/step - loss: 39582.3672 - mae: 102.5911 - val_loss: 39373.9961 - val_mae: 102.5314 - lr: 2.0000e-05\n",
            "Epoch 196/200\n",
            "605/605 [==============================] - 2s 4ms/step - loss: 39583.5625 - mae: 102.6362 - val_loss: 39476.2383 - val_mae: 103.0143 - lr: 2.0000e-05\n",
            "Epoch 197/200\n",
            "605/605 [==============================] - 2s 4ms/step - loss: 39574.3047 - mae: 102.6508 - val_loss: 39397.8906 - val_mae: 102.6586 - lr: 2.0000e-05\n",
            "Epoch 198/200\n",
            "605/605 [==============================] - 2s 4ms/step - loss: 39578.4961 - mae: 102.6481 - val_loss: 39391.6250 - val_mae: 102.6404 - lr: 2.0000e-05\n",
            "Epoch 199/200\n",
            "605/605 [==============================] - 2s 4ms/step - loss: 39568.1992 - mae: 102.6257 - val_loss: 39378.6797 - val_mae: 102.6953 - lr: 2.0000e-05\n",
            "Epoch 200/200\n",
            "605/605 [==============================] - 2s 4ms/step - loss: 39554.3828 - mae: 102.5632 - val_loss: 39422.1523 - val_mae: 102.6145 - lr: 2.0000e-05\n"
          ]
        }
      ]
    },
    {
      "cell_type": "markdown",
      "source": [
        "# **Analysing the Model** \n",
        "#### Produced by either of the two methods"
      ],
      "metadata": {
        "id": "-yFR1y_Gqa2s"
      }
    },
    {
      "cell_type": "markdown",
      "source": [
        "Output the hyperparameters found by the tuner"
      ],
      "metadata": {
        "id": "RYLZ_kabHDMI"
      }
    },
    {
      "cell_type": "code",
      "source": [
        "tuner.results_summary()"
      ],
      "metadata": {
        "colab": {
          "base_uri": "https://localhost:8080/"
        },
        "id": "dIwcM343HH0E",
        "outputId": "313a1eb1-92d5-42e6-8483-e5a71bed86a8"
      },
      "execution_count": null,
      "outputs": [
        {
          "output_type": "stream",
          "name": "stdout",
          "text": [
            "Results summary\n",
            "Results in /content/gdrive/MyDrive/Colab Notebooks/Tuning/RoundingFixed_Hyperband_Tuner_simpleANN_allfiles\n",
            "Showing 10 best trials\n",
            "<keras_tuner.engine.objective.Objective object at 0x7faf5d4ae1d0>\n",
            "Trial summary\n",
            "Hyperparameters:\n",
            "units_1: 192\n",
            "units_2: 480\n",
            "units_3: 96\n",
            "units_4: 48\n",
            "dropout: 0.0\n",
            "tuner/epochs: 200\n",
            "tuner/initial_epoch: 0\n",
            "tuner/bracket: 0\n",
            "tuner/round: 0\n",
            "Score: 107.3078842163086\n",
            "Trial summary\n",
            "Hyperparameters:\n",
            "units_1: 448\n",
            "units_2: 288\n",
            "units_3: 128\n",
            "units_4: 96\n",
            "dropout: 0.0\n",
            "tuner/epochs: 23\n",
            "tuner/initial_epoch: 0\n",
            "tuner/bracket: 2\n",
            "tuner/round: 0\n",
            "Score: 107.56929016113281\n",
            "Trial summary\n",
            "Hyperparameters:\n",
            "units_1: 192\n",
            "units_2: 512\n",
            "units_3: 192\n",
            "units_4: 80\n",
            "dropout: 0.1\n",
            "tuner/epochs: 23\n",
            "tuner/initial_epoch: 0\n",
            "tuner/bracket: 2\n",
            "tuner/round: 0\n",
            "Score: 108.54713439941406\n",
            "Trial summary\n",
            "Hyperparameters:\n",
            "units_1: 224\n",
            "units_2: 128\n",
            "units_3: 128\n",
            "units_4: 80\n",
            "dropout: 0.0\n",
            "tuner/epochs: 67\n",
            "tuner/initial_epoch: 0\n",
            "tuner/bracket: 1\n",
            "tuner/round: 0\n",
            "Score: 109.04032135009766\n",
            "Trial summary\n",
            "Hyperparameters:\n",
            "units_1: 480\n",
            "units_2: 384\n",
            "units_3: 112\n",
            "units_4: 128\n",
            "dropout: 0.0\n",
            "tuner/epochs: 23\n",
            "tuner/initial_epoch: 8\n",
            "tuner/bracket: 4\n",
            "tuner/round: 2\n",
            "tuner/trial_id: 0105\n",
            "Score: 109.43560791015625\n",
            "Trial summary\n",
            "Hyperparameters:\n",
            "units_1: 160\n",
            "units_2: 320\n",
            "units_3: 192\n",
            "units_4: 112\n",
            "dropout: 0.0\n",
            "tuner/epochs: 23\n",
            "tuner/initial_epoch: 0\n",
            "tuner/bracket: 2\n",
            "tuner/round: 0\n",
            "Score: 109.48634338378906\n",
            "Trial summary\n",
            "Hyperparameters:\n",
            "units_1: 224\n",
            "units_2: 480\n",
            "units_3: 32\n",
            "units_4: 64\n",
            "dropout: 0.0\n",
            "tuner/epochs: 23\n",
            "tuner/initial_epoch: 0\n",
            "tuner/bracket: 2\n",
            "tuner/round: 0\n",
            "Score: 109.5203857421875\n",
            "Trial summary\n",
            "Hyperparameters:\n",
            "units_1: 288\n",
            "units_2: 128\n",
            "units_3: 240\n",
            "units_4: 112\n",
            "dropout: 0.2\n",
            "tuner/epochs: 67\n",
            "tuner/initial_epoch: 0\n",
            "tuner/bracket: 1\n",
            "tuner/round: 0\n",
            "Score: 109.96834564208984\n",
            "Trial summary\n",
            "Hyperparameters:\n",
            "units_1: 96\n",
            "units_2: 384\n",
            "units_3: 160\n",
            "units_4: 48\n",
            "dropout: 0.1\n",
            "tuner/epochs: 23\n",
            "tuner/initial_epoch: 0\n",
            "tuner/bracket: 2\n",
            "tuner/round: 0\n",
            "Score: 110.43682861328125\n",
            "Trial summary\n",
            "Hyperparameters:\n",
            "units_1: 448\n",
            "units_2: 64\n",
            "units_3: 96\n",
            "units_4: 96\n",
            "dropout: 0.0\n",
            "tuner/epochs: 23\n",
            "tuner/initial_epoch: 0\n",
            "tuner/bracket: 2\n",
            "tuner/round: 0\n",
            "Score: 110.7413101196289\n"
          ]
        }
      ]
    },
    {
      "cell_type": "markdown",
      "source": [
        "⬛Run this cell if you wish to save the model"
      ],
      "metadata": {
        "id": "IZ9XWPuDsjqK"
      }
    },
    {
      "cell_type": "markdown",
      "source": [
        "❗❗❗ Note: adjust the file path to save as necessary to avoid overwriting the models"
      ],
      "metadata": {
        "id": "gq3bhIDEsnTQ"
      }
    },
    {
      "cell_type": "code",
      "source": [
        "model.save('/content/gdrive/MyDrive/Colab Notebooks/Models/RoundingFixedSimpleANNTunerModel16A7H2048BS500E')"
      ],
      "metadata": {
        "id": "A8qk0yhjsmto"
      },
      "execution_count": null,
      "outputs": []
    },
    {
      "cell_type": "markdown",
      "source": [
        "Find the best epoch (in case we wish to do early stopping)"
      ],
      "metadata": {
        "id": "umyMtg7qqxEY"
      }
    },
    {
      "cell_type": "code",
      "source": [
        "val_acc_per_epoch = history.history['val_mae']\n",
        "best_epoch = val_acc_per_epoch.index(min(val_acc_per_epoch)) + 1\n",
        "print('Best epoch: %d' % (best_epoch,))"
      ],
      "metadata": {
        "colab": {
          "base_uri": "https://localhost:8080/"
        },
        "id": "QfZddh69qmYH",
        "outputId": "9fb1b6c7-0a21-4a3f-8fe7-c7c344d33768"
      },
      "execution_count": null,
      "outputs": [
        {
          "output_type": "stream",
          "name": "stdout",
          "text": [
            "Best epoch: 490\n"
          ]
        }
      ]
    },
    {
      "cell_type": "markdown",
      "source": [
        "Print a summary diagram of the model"
      ],
      "metadata": {
        "id": "6Zaa_vhDq3cy"
      }
    },
    {
      "cell_type": "code",
      "source": [
        "keras.utils.plot_model(model, \"single-headed CNN.png\", show_shapes=True)"
      ],
      "metadata": {
        "id": "qffHLjPtq6GU",
        "colab": {
          "base_uri": "https://localhost:8080/",
          "height": 1000
        },
        "outputId": "0da824c3-e692-484c-b9fd-119795b25e60"
      },
      "execution_count": null,
      "outputs": [
        {
          "output_type": "execute_result",
          "data": {
            "image/png": "[encoded data removed]",
            "text/plain": [
              "<IPython.core.display.Image object>"
            ]
          },
          "metadata": {},
          "execution_count": 76
        }
      ]
    },
    {
      "cell_type": "markdown",
      "source": [
        "Print the test accuracy we have achieved"
      ],
      "metadata": {
        "id": "BjRM6wI5q8-W"
      }
    },
    {
      "cell_type": "code",
      "source": [
        "test_loss, test_acc = model.evaluate(x_test, y_test, batch_size=128)\n",
        "print(f\"Test accuracy: {test_acc:.3f}\")\n",
        "print(f\"Test loss: {test_loss:.3f}\")"
      ],
      "metadata": {
        "colab": {
          "base_uri": "https://localhost:8080/"
        },
        "id": "XpkMdsZ1rZhL",
        "outputId": "7910ba51-a08a-419b-b53b-dbbc75e4b5fd"
      },
      "execution_count": null,
      "outputs": [
        {
          "output_type": "stream",
          "name": "stdout",
          "text": [
            "2072/2072 [==============================] - 4s 2ms/step - loss: 36023.9609 - mae: 99.3434\n",
            "Test accuracy: 99.343\n",
            "Test loss: 36023.961\n"
          ]
        }
      ]
    },
    {
      "cell_type": "markdown",
      "source": [
        "Print the validation accuracy we have achieved"
      ],
      "metadata": {
        "id": "2I5Cp8FAraPr"
      }
    },
    {
      "cell_type": "code",
      "source": [
        "val_loss, val_acc = model.evaluate(x_val, y_val, batch_size=2048)\n",
        "print(f\"Val accuracy: {val_acc:.3f}\")\n",
        "print(f\"Val loss: {val_loss:.3f}\")"
      ],
      "metadata": {
        "colab": {
          "base_uri": "https://localhost:8080/"
        },
        "id": "XCNqytsxrcv9",
        "outputId": "87d4caba-dd2c-4b13-b3f8-fe714013ac3b"
      },
      "execution_count": null,
      "outputs": [
        {
          "output_type": "stream",
          "name": "stdout",
          "text": [
            "130/130 [==============================] - 0s 2ms/step - loss: 38454.4766 - mae: 101.2780\n",
            "Val accuracy: 101.278\n",
            "Val loss: 38454.477\n"
          ]
        }
      ]
    },
    {
      "cell_type": "markdown",
      "source": [
        "Use the model to make predictions on the test data and explicitly store these in a predictions variable"
      ],
      "metadata": {
        "id": "v6v9PVUfrfEC"
      }
    },
    {
      "cell_type": "code",
      "source": [
        "predictions=model.predict([x1_test,x2_test])\n",
        "print(predictions.shape)\n",
        "print(y_test.shape)"
      ],
      "metadata": {
        "colab": {
          "base_uri": "https://localhost:8080/"
        },
        "id": "sOEuSuPkrny7",
        "outputId": "2b7dd41b-24fb-4289-ac16-4053730025ee"
      },
      "execution_count": null,
      "outputs": [
        {
          "output_type": "stream",
          "name": "stdout",
          "text": [
            "(265146, 1)\n",
            "(265146, 1)\n"
          ]
        }
      ]
    },
    {
      "cell_type": "markdown",
      "source": [
        "Plot the predictions and the true labels on the same histogram to compare the model's predictions to the ground truth data"
      ],
      "metadata": {
        "id": "RbN2jxb0rodg"
      }
    },
    {
      "cell_type": "code",
      "source": [
        "x_range=range(len(predictions))\n",
        "predictions=tf.squeeze(predictions)\n",
        "y_test=tf.squeeze(y_test)\n",
        "plt.plot(x_range,y_test,color='blue',label='cloud_perimeter')\n",
        "plt.plot(x_range,predictions,color='red',label='predictions')\n",
        "plt.legend()\n",
        "plt.show()"
      ],
      "metadata": {
        "colab": {
          "base_uri": "https://localhost:8080/",
          "height": 265
        },
        "id": "DLYrzfHirwEJ",
        "outputId": "ed0bfb91-7cc3-4b49-f707-d020f6a324e3"
      },
      "execution_count": null,
      "outputs": [
        {
          "output_type": "display_data",
          "data": {
            "text/plain": [
              "<Figure size 432x288 with 1 Axes>"
            ],
            "image/png": "[encoded data removed]"
          },
          "metadata": {
            "needs_background": "light"
          }
        }
      ]
    },
    {
      "cell_type": "markdown",
      "source": [
        "Assert that the removal of all data points with a zero cloud fraction has removed all data points with a zero cloud perimeter (this is a sanity check which checks that the data has been cleaned correctly)"
      ],
      "metadata": {
        "id": "jaZCtZd7rwhP"
      }
    },
    {
      "cell_type": "code",
      "source": [
        "zero_perimeters = y_test[y_test==0]\n",
        "print(len(zero_perimeters)/len(y_test))"
      ],
      "metadata": {
        "colab": {
          "base_uri": "https://localhost:8080/"
        },
        "id": "pldKA4Ukr8-q",
        "outputId": "b2c20464-4f32-45c8-b961-b3056d6a4480"
      },
      "execution_count": null,
      "outputs": [
        {
          "output_type": "stream",
          "name": "stdout",
          "text": [
            "0.0\n"
          ]
        }
      ]
    },
    {
      "cell_type": "markdown",
      "source": [
        "Plot a histogram of the predictions"
      ],
      "metadata": {
        "id": "aIqXFFhOr9lz"
      }
    },
    {
      "cell_type": "code",
      "source": [
        "plt.hist(predictions,bins=100)\n",
        "plt.show()"
      ],
      "metadata": {
        "colab": {
          "base_uri": "https://localhost:8080/",
          "height": 265
        },
        "id": "cVu6bu-FsCI_",
        "outputId": "2d633267-791b-4cf2-cd32-17e5b71c1d36"
      },
      "execution_count": null,
      "outputs": [
        {
          "output_type": "display_data",
          "data": {
            "text/plain": [
              "<Figure size 432x288 with 1 Axes>"
            ],
            "image/png": "[encoded data removed]"
          },
          "metadata": {
            "needs_background": "light"
          }
        }
      ]
    },
    {
      "cell_type": "markdown",
      "source": [
        "Plot the equivalent histogram for the true labels"
      ],
      "metadata": {
        "id": "hYTArFjisCs1"
      }
    },
    {
      "cell_type": "code",
      "source": [
        "plt.hist(y_test,bins=100)\n",
        "plt.show()"
      ],
      "metadata": {
        "colab": {
          "base_uri": "https://localhost:8080/",
          "height": 265
        },
        "id": "qnWU8BFesGOt",
        "outputId": "11aae557-a588-417a-8293-137288cbd9e3"
      },
      "execution_count": null,
      "outputs": [
        {
          "output_type": "display_data",
          "data": {
            "text/plain": [
              "<Figure size 432x288 with 1 Axes>"
            ],
            "image/png": "[encoded data removed]"
          },
          "metadata": {
            "needs_background": "light"
          }
        }
      ]
    },
    {
      "cell_type": "markdown",
      "source": [
        "Compute the mean average percentage error using the mae of the model"
      ],
      "metadata": {
        "id": "mIjlDivJsG96"
      }
    },
    {
      "cell_type": "code",
      "source": [
        "test_acc/np.mean(y_test)"
      ],
      "metadata": {
        "colab": {
          "base_uri": "https://localhost:8080/"
        },
        "id": "5TfemzERsR0V",
        "outputId": "bb014b9e-3f48-4abc-c9cf-c1e5bedb55a2"
      },
      "execution_count": null,
      "outputs": [
        {
          "output_type": "execute_result",
          "data": {
            "text/plain": [
              "0.18326764083238822"
            ]
          },
          "metadata": {},
          "execution_count": 26
        }
      ]
    },
    {
      "cell_type": "markdown",
      "source": [
        "Find the equivalent mean average percentage error of a naive prediction which just predicts the mean perimeter on the training data for every single test data point"
      ],
      "metadata": {
        "id": "UEJIWwC8sSf-"
      }
    },
    {
      "cell_type": "code",
      "source": [
        "print(np.mean(np.absolute(y_test - np.mean(y_train)))/np.mean(y_test))"
      ],
      "metadata": {
        "colab": {
          "base_uri": "https://localhost:8080/"
        },
        "id": "7hoslcAqsbH_",
        "outputId": "350fc997-235b-4683-d389-97580f3bed2b"
      },
      "execution_count": null,
      "outputs": [
        {
          "output_type": "stream",
          "name": "stdout",
          "text": [
            "0.9290195120635726\n"
          ]
        }
      ]
    },
    {
      "cell_type": "markdown",
      "source": [
        "Plot a graph of the train and validation error through the training process (ignoring the initial 2 epochs as these skew the graph)"
      ],
      "metadata": {
        "id": "aQwARhKAsgFO"
      }
    },
    {
      "cell_type": "code",
      "source": [
        "x=range(200)\n",
        "plt.plot(x[2:],history.history['val_mae'][2:],color = 'blue',label='validation error')\n",
        "plt.plot(x[2:],history.history['mae'][2:],color = 'red',label='training error')\n",
        "plt.legend()\n",
        "plt.xlabel('epoch')\n",
        "plt.ylabel('MAE')\n",
        "plt.show"
      ],
      "metadata": {
        "colab": {
          "base_uri": "https://localhost:8080/",
          "height": 297
        },
        "id": "1e3FnXeWs7_k",
        "outputId": "bc7f7774-f889-40c1-b9b9-f99e51d85181"
      },
      "execution_count": null,
      "outputs": [
        {
          "output_type": "execute_result",
          "data": {
            "text/plain": [
              "<function matplotlib.pyplot.show(*args, **kw)>"
            ]
          },
          "metadata": {},
          "execution_count": 88
        },
        {
          "output_type": "display_data",
          "data": {
            "text/plain": [
              "<Figure size 432x288 with 1 Axes>"
            ],
            "image/png": "[encoded data removed]"
          },
          "metadata": {
            "needs_background": "light"
          }
        }
      ]
    },
    {
      "cell_type": "markdown",
      "source": [
        "Plot a scatter graph of the predictions against the true labels to see if there is a good correlation"
      ],
      "metadata": {
        "id": "uWkNYwv3wYPq"
      }
    },
    {
      "cell_type": "code",
      "source": [
        "x=range(6000)\n",
        "plt.scatter(predictions,y_test)\n",
        "plt.xlabel('predictions')\n",
        "plt.ylabel('test labels')\n",
        "plt.ylim((0,6000))\n",
        "plt.xlim((0,6000))\n",
        "plt.plot(x,x,color='red')\n",
        "plt.show()"
      ],
      "metadata": {
        "colab": {
          "base_uri": "https://localhost:8080/",
          "height": 283
        },
        "id": "Hu7MSfd9wdZ6",
        "outputId": "05a6452a-86bf-439d-913e-06bdba107490"
      },
      "execution_count": null,
      "outputs": [
        {
          "output_type": "display_data",
          "data": {
            "text/plain": [
              "<Figure size 432x288 with 1 Axes>"
            ],
            "image/png": "[encoded data removed]"
          },
          "metadata": {
            "needs_background": "light"
          }
        }
      ]
    },
    {
      "cell_type": "markdown",
      "source": [
        "We now compare the predictions to a baseline detailed in *Improvements to a prognostic cloud scheme through changes to its cloud erosion parametrization* (Morcrette, 2012) which hypothesises a relationship of $P = \\alpha F(1-F)$ where $P$ and $F$ are the perimeter and fraction respectively. The function below finds the optimal alpha from a search range and then computes the mean absolute percentage error using this prediction, for comparison with our model."
      ],
      "metadata": {
        "id": "wYn-Gq8WGaCU"
      }
    },
    {
      "cell_type": "code",
      "source": [
        "def find_alpha(x2_train,y_train,y_test):\n",
        "  #set the first mae to be the naive prediction of the mean for all points\n",
        "  y_test=y_test/16200\n",
        "  y_train=y_train/16200\n",
        "  optimal_mae = np.mean(np.absolute(y_test - np.mean(y_train)))\n",
        "  optimal_alpha = 0\n",
        "  cloud_fraction = x2_train[:,:,0]\n",
        "  y_train = y_train[:,0]\n",
        "  mean_absolute_error_vector = []\n",
        "  for step in range(100):\n",
        "        alpha = step/100\n",
        "        predicted_perimeter = []\n",
        "        predicted_perimeter = np.multiply(cloud_fraction[:,0],(1-cloud_fraction[:,0]))\n",
        "        predicted_perimeter = alpha*predicted_perimeter\n",
        "        predicted_perimeter -= y_train\n",
        "        predicted_perimeter = predicted_perimeter*(-1)\n",
        "        mean_absolute_error = np.mean(np.absolute(predicted_perimeter))\n",
        "        del predicted_perimeter\n",
        "        mean_absolute_error_vector.append(mean_absolute_error)\n",
        "        if mean_absolute_error < optimal_mae:\n",
        "              optimal_mae = mean_absolute_error\n",
        "              optimal_alpha = alpha\n",
        "  mean_absolute_error_vector = np.array(mean_absolute_error_vector)\n",
        "  x=range(100)\n",
        "  plt.scatter(x,mean_absolute_error_vector)\n",
        "  plt.show()\n",
        "\n",
        "  return optimal_mae, optimal_alpha\n",
        "\n"
      ],
      "metadata": {
        "id": "pqAiBkuGHKgO"
      },
      "execution_count": null,
      "outputs": []
    },
    {
      "cell_type": "code",
      "source": [
        "def compute_on_test_set(optimal_alpha,x2_test,y_test):\n",
        "        y_test=y_test/16200\n",
        "        #work out the error on the test set\n",
        "        cloud_fraction = x2_test[:,:,0]\n",
        "        test_predicted_perimeter = []\n",
        "        y_test = y_test[:,0]\n",
        "        for j in range(cloud_fraction.shape[0]):\n",
        "              test_predicted_perimeter.append(optimal_alpha*cloud_fraction[j,0]*(1-cloud_fraction[j,0]))\n",
        "        test_predicted_perimeter = np.array(test_predicted_perimeter)\n",
        "        print(test_predicted_perimeter.shape)\n",
        "        print(y_test.shape)\n",
        "        final_mae = np.mean(np.absolute(y_test - test_predicted_perimeter))\n",
        "        return final_mae\n"
      ],
      "metadata": {
        "id": "w7dn7oeyBbvJ"
      },
      "execution_count": null,
      "outputs": []
    },
    {
      "cell_type": "markdown",
      "source": [
        "The percentage error is found to be 24%"
      ],
      "metadata": {
        "id": "jxwEVgYCRBXA"
      }
    },
    {
      "cell_type": "code",
      "source": [
        "optimal_mae, optimal_alpha = find_alpha(x2_train,y_train,y_test)\n",
        "final_mae = compute_on_test_set(optimal_alpha,x2_test,y_test)\n",
        "print(final_mae)\n",
        "print(optimal_alpha)\n",
        "print('Average percentage error =', final_mae/np.mean(y_test/16200))"
      ],
      "metadata": {
        "colab": {
          "base_uri": "https://localhost:8080/",
          "height": 350
        },
        "id": "3v4JZELzKXVc",
        "outputId": "029de2a8-8ad9-4509-e52e-c88b752d0e7c"
      },
      "execution_count": null,
      "outputs": [
        {
          "output_type": "display_data",
          "data": {
            "text/plain": [
              "<Figure size 432x288 with 1 Axes>"
            ],
            "image/png": "[encoded data removed]"
          },
          "metadata": {
            "needs_background": "light"
          }
        },
        {
          "output_type": "stream",
          "name": "stdout",
          "text": [
            "(265146,)\n",
            "(265146,)\n",
            "0.008241209252091075\n",
            "0.64\n",
            "Average percentage error = 0.23928261791950012\n"
          ]
        }
      ]
    },
    {
      "cell_type": "markdown",
      "source": [
        "We plot a graph of cloud fraction against normalised cloud perimeter and overlay the derived relationship over the top. It is clear that this is a good (essentially optimal) reflection of the relationship between cloud fraction and cloud perimeter. Therefore, our neural network must be finding more useful data in the height and atmospheric variables arrays with which to lower the error and make better predictions"
      ],
      "metadata": {
        "id": "uA2lXIhbQoCg"
      }
    },
    {
      "cell_type": "code",
      "source": [
        "x=np.linspace(0,1,100)\n",
        "plt.scatter(x2_test[:,0,0],y_test/16200)\n",
        "plt.plot(x,0.64*x*(1-x),color='red')\n",
        "plt.show()"
      ],
      "metadata": {
        "colab": {
          "base_uri": "https://localhost:8080/",
          "height": 265
        },
        "id": "2sJ2kGryKrFH",
        "outputId": "18cbd36e-5de5-456a-b281-f966972877a5"
      },
      "execution_count": null,
      "outputs": [
        {
          "output_type": "display_data",
          "data": {
            "text/plain": [
              "<Figure size 432x288 with 1 Axes>"
            ],
            "image/png": "[encoded data removed]"
          },
          "metadata": {
            "needs_background": "light"
          }
        }
      ]
    },
    {
      "cell_type": "code",
      "source": [],
      "metadata": {
        "id": "laslIc9yLJHK"
      },
      "execution_count": null,
      "outputs": []
    }
  ]
}