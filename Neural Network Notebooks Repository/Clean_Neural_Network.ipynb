{
  "nbformat": 4,
  "nbformat_minor": 0,
  "metadata": {
    "colab": {
      "provenance": [],
      "collapsed_sections": [],
      "machine_shape": "hm"
    },
    "kernelspec": {
      "name": "python3",
      "display_name": "Python 3"
    },
    "language_info": {
      "name": "python"
    },
    "gpuClass": "standard",
    "accelerator": "GPU"
  },
  "cells": [
    {
      "cell_type": "markdown",
      "source": [
        "This notebook tunes and fits a neural network to the processed COGS data. It may be edited and adjusted to construct new tuners or network architectures. All new tuners should be created in the \"Case 1: Build a Tuner from Scratch\" section and as soon as the tuner is found to work, the construct_model function and the reload statement should be moved to Case 2 where they should no longer be edited in case they are to be used again.\n",
        "\n",
        "The notebook is based a commented version of my ***(Do not edit) working NN, all files with automatic Hyperparameter Tuning 104 MAE.ipynb*** notebook, adjusted to make it easier to understand."
      ],
      "metadata": {
        "id": "xBzXAAQ6q-Wg"
      }
    },
    {
      "cell_type": "markdown",
      "source": [
        "❗❗❗ Note: make sure to increase the runtime to High-RAM 24Gb and use GPU for fast training of the model"
      ],
      "metadata": {
        "id": "PwJdirOcz5GN"
      }
    },
    {
      "cell_type": "markdown",
      "source": [
        "## **Imports and Installing**"
      ],
      "metadata": {
        "id": "7UKXPCM7VrWE"
      }
    },
    {
      "cell_type": "markdown",
      "source": [
        "Install Keras Tuner - an automatic hyperparameter tuner - using pip"
      ],
      "metadata": {
        "id": "1GU4iggjVWcF"
      }
    },
    {
      "cell_type": "code",
      "execution_count": null,
      "metadata": {
        "id": "xjt6vubKU2pL",
        "colab": {
          "base_uri": "https://localhost:8080/"
        },
        "outputId": "4fcf7085-0009-40e7-9fed-721e6956bc38"
      },
      "outputs": [
        {
          "output_type": "stream",
          "name": "stdout",
          "text": [
            "\u001b[K     |████████████████████████████████| 135 kB 4.3 MB/s \n",
            "\u001b[K     |████████████████████████████████| 1.6 MB 30.8 MB/s \n",
            "\u001b[?25h"
          ]
        }
      ],
      "source": [
        "!pip install -q -U keras-tuner"
      ]
    },
    {
      "cell_type": "markdown",
      "source": [
        "Import the necessary python libraries"
      ],
      "metadata": {
        "id": "we2Bnl81Vcp3"
      }
    },
    {
      "cell_type": "code",
      "source": [
        "from netCDF4 import Dataset\n",
        "import numpy as np\n",
        "import tensorflow as tf\n",
        "import matplotlib.pyplot as plt\n",
        "import os\n",
        "import csv\n",
        "from datetime import datetime\n",
        "from mpl_toolkits import mplot3d\n",
        "from mpl_toolkits.mplot3d import Axes3D\n",
        "import pandas as pd\n",
        "import PIL\n",
        "import warnings\n",
        "from csv import writer\n",
        "from scipy import ndimage as nd\n",
        "import random\n",
        "\n",
        "\n",
        "from tensorflow import keras\n",
        "from tensorflow.keras import layers\n",
        "from keras.models import Model\n",
        "from keras.layers import Dense\n",
        "from keras.layers import Input\n",
        "from keras.layers import concatenate\n",
        "from keras.layers import Dropout\n",
        "from keras.layers import Flatten\n",
        "from keras.layers.convolutional import Conv1D\n",
        "from keras.layers.convolutional import MaxPooling1D"
      ],
      "metadata": {
        "id": "xMRAW3vEVhIJ"
      },
      "execution_count": null,
      "outputs": []
    },
    {
      "cell_type": "markdown",
      "source": [
        "⬛*Run the following cell only if keras tuner has been installed, to import it*"
      ],
      "metadata": {
        "id": "ZsqbKnGaVlGy"
      }
    },
    {
      "cell_type": "code",
      "source": [
        "import keras_tuner as kt"
      ],
      "metadata": {
        "id": "qnajst1pVpKi"
      },
      "execution_count": null,
      "outputs": []
    },
    {
      "cell_type": "markdown",
      "source": [
        "Set the seed for reproducibility"
      ],
      "metadata": {
        "id": "bLJiRI6xPUvx"
      }
    },
    {
      "cell_type": "code",
      "source": [
        "random.seed(908)"
      ],
      "metadata": {
        "id": "ZWkZ6Z8tCkBH"
      },
      "execution_count": null,
      "outputs": []
    },
    {
      "cell_type": "markdown",
      "source": [
        "## **Connect to Google Drive**"
      ],
      "metadata": {
        "id": "jGtyPMyhkJNI"
      }
    },
    {
      "cell_type": "code",
      "source": [
        "from google.colab import drive\n",
        "drive.mount('/content/gdrive', force_remount=False)"
      ],
      "metadata": {
        "colab": {
          "base_uri": "https://localhost:8080/"
        },
        "id": "h-kpjtuHkOEz",
        "outputId": "5109f40e-3bda-4364-c597-6b395ffc96e5"
      },
      "execution_count": null,
      "outputs": [
        {
          "output_type": "stream",
          "name": "stdout",
          "text": [
            "Mounted at /content/gdrive\n"
          ]
        }
      ]
    },
    {
      "cell_type": "markdown",
      "source": [
        "## **Compiling the Training Vectors**"
      ],
      "metadata": {
        "id": "v6v_Oo40V463"
      }
    },
    {
      "cell_type": "markdown",
      "source": [
        "⬛*Run the following section only if you want to reconstruct the variables on a new machine - otherwise just load in from the drive*"
      ],
      "metadata": {
        "id": "4v7bKgbnkQxE"
      }
    },
    {
      "cell_type": "code",
      "source": [
        "def compile_variables():\n",
        "      #store the file path for the list of all COGS files in chronological order\n",
        "      file_list_csv = \"/content/gdrive/MyDrive/Colab Notebooks/Data/processing_file_list_ignoring5files.csv\"\n",
        "      #use pandas to read in the file list csv file and iterate through them\n",
        "      df = pd.read_csv(file_list_csv)\n",
        "      cloud_perimeter = np.array([0.5,0.5])\n",
        "      cloud_fraction = np.array([0.5,0.5])\n",
        "      height = np.array([1,1])\n",
        "      for row_index, filename in df.iterrows():\n",
        "            filename_str=str(filename['File_names'])\n",
        "            #specify the directories of the data files\n",
        "            new_file_path_perimeter=\"/content/gdrive/MyDrive/Colab Notebooks/Data/Variables/Cloud Perimeter/\"\n",
        "            new_file_path_fraction=\"/content/gdrive/MyDrive/Colab Notebooks/Data/Variables/Cloud Fraction/\"\n",
        "            new_file_path_height=\"/content/gdrive/MyDrive/Colab Notebooks/Data/Variables/Height/\"\n",
        "            #specify the path to the next data file\n",
        "            new_file_name_perimeter=new_file_path_perimeter+\"Perimeter_\"+filename_str[1:-5]+\".csv\"\n",
        "            new_file_name_fraction=new_file_path_fraction+\"Fraction_\"+filename_str[1:-5]+\".csv\"\n",
        "            new_file_name_height=new_file_path_height+\"Height_\"+filename_str[1:-5]+\".csv\"\n",
        "            #read in the csv file\n",
        "            perimeter_df = pd.read_csv(new_file_name_perimeter, header=None)\n",
        "            # then convert to numpy array of floats\n",
        "            perimeter_df = perimeter_df.to_numpy()\n",
        "            #repeat for the other two variables\n",
        "            fraction_df = pd.read_csv(new_file_name_fraction, header=None)\n",
        "            height_df = pd.read_csv(new_file_name_height, header=None)\n",
        "            # then convert to numpy array of floats/integers\n",
        "            fraction_df = fraction_df.to_numpy()\n",
        "            height_df = height_df.to_numpy(dtype='i')\n",
        "            perimeter_df = perimeter_df.reshape(len(perimeter_df))\n",
        "            fraction_df = fraction_df.reshape(len(fraction_df))\n",
        "            height_df = height_df.reshape(len(height_df))\n",
        "            cloud_fraction_mask = fraction_df > 0\n",
        "            #mask the dataframe arrays with the cloud fraction mask\n",
        "            perimeter_df=perimeter_df[cloud_fraction_mask]\n",
        "            fraction_df=fraction_df[cloud_fraction_mask]\n",
        "            height_df=height_df[cloud_fraction_mask]\n",
        "            # concatenate the new vectors with the existing vectors\n",
        "            cloud_perimeter = np.concatenate((cloud_perimeter,perimeter_df),axis=0)\n",
        "            cloud_fraction = np.concatenate((cloud_fraction,fraction_df),axis=0)\n",
        "            height = np.concatenate((height,height_df),axis=0)\n",
        "            del perimeter_df\n",
        "            del fraction_df\n",
        "            del height_df\n",
        "\n",
        "\n",
        "            #now work on the atmospheric data\n",
        "            #specify the file path\n",
        "            new_file_path_atmospheric = \"/content/gdrive/MyDrive/Colab Notebooks/Data/Variables/Atmospheric/\"\n",
        "            new_file_name_atmospheric = new_file_path_atmospheric + \"Atmospheric_\"+filename_str[1:-5]+\".npy\"\n",
        "            #load in the numpy array\n",
        "            atmospheric_file = np.load(new_file_name_atmospheric)\n",
        "            atmospheric_file = atmospheric_file[cloud_fraction_mask,:,:]\n",
        "            variable_mask = [True,True,True,True,True,True,True,True,True,True]\n",
        "            atmospheric_file = atmospheric_file[:,:,variable_mask]\n",
        "            #if it's the first file set this to be the array itself\n",
        "            if row_index == 0:\n",
        "                  atmospheric_variables = atmospheric_file\n",
        "            else:\n",
        "                  atmospheric_variables = np.concatenate((atmospheric_variables,atmospheric_file),axis=0)\n",
        "            del atmospheric_file\n",
        "            print(row_index)\n",
        "\n",
        "      cloud_perimeter = cloud_perimeter[2:]\n",
        "      cloud_fraction = cloud_fraction[2:]\n",
        "      height = height[2:]\n",
        "      cloud_perimeter = cloud_perimeter.reshape(len(cloud_perimeter),1)\n",
        "      cloud_fraction = cloud_fraction.reshape(len(cloud_fraction),1)\n",
        "      height = height.reshape(len(height),1)\n",
        "      return cloud_perimeter, cloud_fraction, height, atmospheric_variables"
      ],
      "metadata": {
        "id": "Avew9dR-V-UA"
      },
      "execution_count": null,
      "outputs": []
    },
    {
      "cell_type": "markdown",
      "source": [
        "Construct the variables using the defined function and assert that the variables are of the correct shape. Also un-normalise the cloud perimeter variables in order to retain the dynamic range of the data"
      ],
      "metadata": {
        "id": "IPW64RngkvTg"
      }
    },
    {
      "cell_type": "code",
      "source": [
        "#construct the variables\n",
        "cloud_perimeter, cloud_fraction, height, atmospheric_variables = compile_variables()\n",
        "#print the shapes of the variables\n",
        "print(cloud_perimeter.shape)\n",
        "print(cloud_fraction.shape)\n",
        "print(height.shape)\n",
        "#un-normalise cloud perimeter\n",
        "cloud_perimeter = cloud_perimeter * 16200\n",
        "#assert the shapes match\n",
        "print(atmospheric_variables.shape)"
      ],
      "metadata": {
        "id": "G6RNYSupkind",
        "colab": {
          "base_uri": "https://localhost:8080/"
        },
        "outputId": "175efad9-d7b3-4c41-a843-7d6c0e4214ef"
      },
      "execution_count": null,
      "outputs": [
        {
          "output_type": "stream",
          "name": "stdout",
          "text": [
            "0\n",
            "1\n",
            "2\n",
            "3\n",
            "4\n",
            "5\n",
            "6\n",
            "7\n",
            "8\n",
            "9\n",
            "10\n",
            "11\n",
            "12\n",
            "13\n",
            "14\n",
            "15\n",
            "16\n",
            "17\n",
            "18\n",
            "19\n",
            "20\n",
            "21\n",
            "22\n",
            "23\n",
            "24\n",
            "25\n",
            "26\n",
            "27\n",
            "28\n",
            "29\n",
            "30\n",
            "31\n",
            "32\n",
            "33\n",
            "34\n",
            "35\n",
            "36\n",
            "37\n",
            "38\n",
            "39\n",
            "40\n",
            "41\n",
            "42\n",
            "43\n",
            "44\n",
            "45\n",
            "46\n",
            "47\n",
            "48\n",
            "49\n",
            "50\n",
            "51\n",
            "52\n",
            "53\n",
            "54\n",
            "55\n",
            "56\n",
            "57\n",
            "58\n",
            "59\n",
            "60\n",
            "61\n",
            "62\n",
            "63\n",
            "64\n",
            "65\n",
            "66\n",
            "67\n",
            "68\n",
            "69\n",
            "70\n",
            "71\n",
            "72\n",
            "73\n",
            "74\n",
            "75\n",
            "76\n",
            "77\n",
            "78\n",
            "79\n",
            "80\n",
            "81\n",
            "82\n",
            "83\n",
            "84\n",
            "85\n",
            "86\n",
            "87\n",
            "88\n",
            "89\n",
            "90\n",
            "91\n",
            "92\n",
            "93\n",
            "94\n",
            "95\n",
            "96\n",
            "97\n",
            "98\n",
            "99\n",
            "100\n",
            "101\n",
            "102\n",
            "103\n",
            "104\n",
            "105\n",
            "106\n",
            "107\n",
            "108\n",
            "109\n",
            "110\n",
            "111\n",
            "112\n",
            "113\n",
            "114\n",
            "115\n",
            "116\n",
            "117\n",
            "118\n",
            "119\n",
            "120\n",
            "121\n",
            "122\n",
            "123\n",
            "124\n",
            "125\n",
            "126\n",
            "127\n",
            "128\n",
            "(1767636, 1)\n",
            "(1767636, 1)\n",
            "(1767636, 1)\n",
            "(1767636, 332, 10)\n"
          ]
        }
      ]
    },
    {
      "cell_type": "code",
      "source": [
        "print(cloud_perimeter)"
      ],
      "metadata": {
        "colab": {
          "base_uri": "https://localhost:8080/"
        },
        "id": "VlyWy_B8JgnJ",
        "outputId": "34be147d-1640-4f21-f6ec-cc6bb76ca19b"
      },
      "execution_count": null,
      "outputs": [
        {
          "output_type": "stream",
          "name": "stdout",
          "text": [
            "[[ 218.]\n",
            " [1277.]\n",
            " [ 528.]\n",
            " ...\n",
            " [  17.]\n",
            " [   5.]\n",
            " [   9.]]\n"
          ]
        }
      ]
    },
    {
      "cell_type": "markdown",
      "source": [
        "Define a path to save the newly constructed variables"
      ],
      "metadata": {
        "id": "E1VGP7UBktAJ"
      }
    },
    {
      "cell_type": "code",
      "source": [
        "new_file_directory = '/content/gdrive/MyDrive/Colab Notebooks/Data/Variables/Training Arrays/'"
      ],
      "metadata": {
        "id": "7Wvij303klnn"
      },
      "execution_count": null,
      "outputs": []
    },
    {
      "cell_type": "code",
      "source": [
        "#save the newly constructred variables\n",
        "np.save(new_file_directory+'Perimeter',cloud_perimeter)\n",
        "np.save(new_file_directory+'Height',height)\n",
        "np.save(new_file_directory+'Fraction',cloud_fraction)\n",
        "np.save(new_file_directory+'Atmospheric',atmospheric_variables)"
      ],
      "metadata": {
        "id": "dVGaMYYrlED_"
      },
      "execution_count": null,
      "outputs": []
    },
    {
      "cell_type": "markdown",
      "source": [
        "Delete the variables to save RAM"
      ],
      "metadata": {
        "id": "yHH6sxQPlRd8"
      }
    },
    {
      "cell_type": "code",
      "source": [
        "del atmospheric_variables\n",
        "del cloud_perimeter\n",
        "del height\n",
        "del cloud_fraction"
      ],
      "metadata": {
        "id": "4zVj-hjqlQkS"
      },
      "execution_count": null,
      "outputs": []
    },
    {
      "cell_type": "markdown",
      "source": [
        "# **Method 0: Fitting an Overparametrised Model**"
      ],
      "metadata": {
        "id": "-WpT-W_qEQ8z"
      }
    },
    {
      "cell_type": "markdown",
      "source": [
        "## **Load in the Data**"
      ],
      "metadata": {
        "id": "ATMHVt7IEc3L"
      }
    },
    {
      "cell_type": "markdown",
      "source": [
        "Define the path to access the saved arrays"
      ],
      "metadata": {
        "id": "myOH1KizEdtR"
      }
    },
    {
      "cell_type": "code",
      "source": [
        "new_file_directory = '/content/gdrive/MyDrive/Colab Notebooks/Data/Variables/Training Arrays/'"
      ],
      "metadata": {
        "id": "C29zSXePEbB8"
      },
      "execution_count": null,
      "outputs": []
    },
    {
      "cell_type": "markdown",
      "source": [
        "Load in the saved arrays into variables and assert the shapes are correct"
      ],
      "metadata": {
        "id": "c8sHX-3cEhvn"
      }
    },
    {
      "cell_type": "code",
      "source": [
        "atmospheric_variables = np.load(new_file_directory+'Atmospheric.npy')\n",
        "cloud_perimeter = np.load(new_file_directory+'Perimeter.npy')\n",
        "height = np.load(new_file_directory+'Height.npy')\n",
        "cloud_fraction = np.load(new_file_directory+'Fraction.npy')\n",
        "print(cloud_perimeter.shape)\n",
        "print(cloud_fraction.shape)\n",
        "print(height.shape)\n",
        "print(atmospheric_variables.shape)"
      ],
      "metadata": {
        "id": "-j7tgQtuEjZC",
        "colab": {
          "base_uri": "https://localhost:8080/"
        },
        "outputId": "753ac55e-b843-4807-927b-5789615e00eb"
      },
      "execution_count": null,
      "outputs": [
        {
          "output_type": "stream",
          "name": "stdout",
          "text": [
            "(1767636, 1)\n",
            "(1767636, 1)\n",
            "(1767636, 1)\n",
            "(1767636, 332, 10)\n"
          ]
        }
      ]
    },
    {
      "cell_type": "markdown",
      "source": [
        "We do not require all atmospheric variables or height levels. Hence we create masks to reduce the atmospheric variables array to the appropriate indices"
      ],
      "metadata": {
        "id": "NZZdsfdPElgU"
      }
    },
    {
      "cell_type": "code",
      "source": [
        "#take only the first 10 height levels\n",
        "atmospheric_variables = atmospheric_variables[:,:7,:]\n",
        "#take only 4 of the atmospheric variables\n",
        "variable_mask = [True,False,False,True,True,False,False,False,True,False]\n",
        "atmospheric_variables = atmospheric_variables[:,:,variable_mask]\n",
        "#print the new shape of atmospheric variables\n",
        "print(atmospheric_variables.shape)"
      ],
      "metadata": {
        "id": "ISLDaYbEEpqD",
        "colab": {
          "base_uri": "https://localhost:8080/"
        },
        "outputId": "3304f75c-e0d2-46e5-fbe9-3bcaaa1b6e9f"
      },
      "execution_count": null,
      "outputs": [
        {
          "output_type": "stream",
          "name": "stdout",
          "text": [
            "(1767636, 7, 4)\n"
          ]
        }
      ]
    },
    {
      "cell_type": "markdown",
      "source": [
        "## **Construct the Model (Manually)**"
      ],
      "metadata": {
        "id": "47VRd_QNEns7"
      }
    },
    {
      "cell_type": "code",
      "source": [
        "def construct_model(height_levels,num_channels,num_scalar_variables):\n",
        "      #define the two inputs for the two heads of the network\n",
        "      inputA=Input(shape=(height_levels,num_channels))\n",
        "      inputB=Input(shape=(1,num_scalar_variables))\n",
        "\n",
        "      #define the convolutional layers acting on inputA\n",
        "      a=Conv1D(filters=128,kernel_size=3,padding='same',activation='relu')(inputA)\n",
        "      a=MaxPooling1D(pool_size=1, padding='same')(a)\n",
        "      a=Conv1D(filters=128,kernel_size=3,padding='same',activation='relu')(a)\n",
        "      a=MaxPooling1D(pool_size=1, padding='same')(a)\n",
        "      a=Conv1D(filters=128,kernel_size=3,padding='same',activation='relu')(a)\n",
        "      a=MaxPooling1D(pool_size=1, padding='same')(a)\n",
        "      a=Conv1D(filters=128,kernel_size=3,padding='same',activation='relu')(a)\n",
        "      a=MaxPooling1D(pool_size=1, padding='same')(a)\n",
        "      a=Conv1D(filters=128,kernel_size=3,padding='same',activation='relu')(a)\n",
        "      a=MaxPooling1D(pool_size=1, padding='same')(a)\n",
        "      a=Flatten()(a)\n",
        "      a=Model(inputs=inputA, outputs=a)\n",
        "\n",
        "      #define the other head of the network for inputB\n",
        "      b=Flatten()(inputB)\n",
        "      b=Dense(4)(b)\n",
        "      b=Dense(128)(b)\n",
        "      b=Dense(128)(b)\n",
        "      b=Dense(128)(b)\n",
        "      b=Dense(4)(b)\n",
        "      b=Model(inputs=inputB, outputs=b)\n",
        "\n",
        "      #combine the heads of the network\n",
        "      combined_vector = concatenate([a.output, b.output])\n",
        "      z=Dense(128, activation=\"relu\")(combined_vector)\n",
        "      z=Dropout(0.3)(z)\n",
        "      z=Dense(256, activation=\"relu\")(combined_vector)\n",
        "      z=Dropout(0.3)(z)\n",
        "      z=Dense(2048, activation=\"relu\")(combined_vector)\n",
        "      z=Dropout(0.3)(z)\n",
        "      z=Dense(2048, activation=\"relu\")(combined_vector)\n",
        "      z=Dropout(0.3)(z)\n",
        "      z=Dense(2048, activation=\"relu\")(combined_vector)\n",
        "      z=Dropout(0.3)(z)\n",
        "      z=Dense(2048, activation=\"relu\")(combined_vector)\n",
        "      z=Dropout(0.3)(z)\n",
        "      z=Dense(2048, activation=\"relu\")(combined_vector)\n",
        "      z=Dropout(0.3)(z)\n",
        "      z=Dense(256, activation=\"relu\")(z)\n",
        "      z=Dropout(0.3)(z)\n",
        "      z=Dense(256, activation=\"relu\")(z)\n",
        "      z=Dropout(0.3)(z)\n",
        "      z=Dense(256, activation=\"relu\")(z)\n",
        "      z=Dropout(0.3)(z)\n",
        "      z=Dense(128, activation=\"relu\")(z)\n",
        "      z=Dropout(0.3)(z)\n",
        "      z=Dense(16, activation=\"relu\")(z)\n",
        "      z=Dropout(0.1)(z)\n",
        "      z=Dense(1)(z)\n",
        "\n",
        "      #finally define the outputs\n",
        "      model=Model(inputs=[inputA,inputB], outputs=z)\n",
        "\n",
        "      opt_choice=keras.optimizers.Adam(learning_rate=0.001)\n",
        "      model.compile(optimizer=opt_choice,loss=\"mse\",metrics=['mae'])\n",
        "\n",
        "      model.summary()\n",
        "      keras.utils.plot_model(model, \"double-headed CNN.png\", show_shapes=True)\n",
        "      return model"
      ],
      "metadata": {
        "id": "jD6PVqu_ExCz"
      },
      "execution_count": null,
      "outputs": []
    },
    {
      "cell_type": "code",
      "source": [
        "def train_val_test_split(atmospheric_variables,cloud_fraction,height,cloud_perimeter):\n",
        "      #check that the number of data points agree for all variables\n",
        "      assert atmospheric_variables.shape[0]==cloud_fraction.shape[0] and \\\n",
        "      atmospheric_variables.shape[0]==height.shape[0] \\\n",
        "      and atmospheric_variables.shape[0]==cloud_perimeter.shape[0]\n",
        "\n",
        "      num_data_points = int(atmospheric_variables.shape[0])\n",
        "       \n",
        "      #define the shuffling permutation and shuffle the variables in unison\n",
        "      perm = np.random.permutation(num_data_points)\n",
        "      atmospheric_variables = atmospheric_variables[perm,:,:]\n",
        "      cloud_fraction = cloud_fraction[perm,:]\n",
        "      height = height[perm,:]\n",
        "      cloud_perimeter = cloud_perimeter[perm,:]\n",
        "\n",
        "      #combine the height and cloud fraction variables\n",
        "      x2=np.stack((cloud_fraction,height),axis=2)\n",
        "\n",
        "      #compute the training set size\n",
        "      train_size=int(np.floor(0.7*num_data_points))\n",
        "      val_size=int(np.floor(0.85*num_data_points))\n",
        "\n",
        "      #specify the train, test and validation sets\n",
        "      #split the data into train and test\n",
        "      x1_train=atmospheric_variables[:train_size,:,:]\n",
        "      x2_train=x2[:train_size,:,:]\n",
        "      y_train=cloud_perimeter[:train_size,:]\n",
        "      #\n",
        "      x1_val=atmospheric_variables[train_size:val_size,:,:]\n",
        "      x2_val=x2[train_size:val_size,:,:]\n",
        "      y_val=cloud_perimeter[train_size:val_size,:]\n",
        "      #\n",
        "      x1_test=atmospheric_variables[val_size:,:,:]\n",
        "      x2_test=x2[val_size:,:,:]\n",
        "      y_test=cloud_perimeter[val_size:,:]\n",
        "\n",
        "      return x1_train, x2_train, y_train, x1_val, x2_val, y_val, x1_test, x2_test, y_test"
      ],
      "metadata": {
        "id": "3KkbjqIcE2Fi"
      },
      "execution_count": null,
      "outputs": []
    },
    {
      "cell_type": "markdown",
      "source": [
        "Construct the train, validation and test sets using the function above. Also, construct the model using the function construct_model, ready for it to be trained. The shape command is used to find the relevant parameters to input into the function."
      ],
      "metadata": {
        "id": "-rBDDdVcE5bf"
      }
    },
    {
      "cell_type": "code",
      "source": [
        "#find the parameters necessary\n",
        "height_dimensions = atmospheric_variables.shape[1]\n",
        "num_channels = atmospheric_variables.shape[2]\n",
        "#construct the model and print a model summary\n",
        "model = construct_model(height_dimensions,num_channels,2)\n",
        "#define the train, validation and test sets\n",
        "x1_train, x2_train, y_train, x1_val, x2_val, y_val, x1_test, x2_test, y_test = train_val_test_split(atmospheric_variables,cloud_fraction,height,cloud_perimeter)"
      ],
      "metadata": {
        "id": "Fp74N8JTE5_1",
        "colab": {
          "base_uri": "https://localhost:8080/"
        },
        "outputId": "b3d358fa-4d7e-4047-b948-815c694fb7bc"
      },
      "execution_count": null,
      "outputs": [
        {
          "output_type": "stream",
          "name": "stdout",
          "text": [
            "Model: \"model_8\"\n",
            "__________________________________________________________________________________________________\n",
            " Layer (type)                   Output Shape         Param #     Connected to                     \n",
            "==================================================================================================\n",
            " input_5 (InputLayer)           [(None, 7, 4)]       0           []                               \n",
            "                                                                                                  \n",
            " conv1d_10 (Conv1D)             (None, 7, 128)       1664        ['input_5[0][0]']                \n",
            "                                                                                                  \n",
            " max_pooling1d_10 (MaxPooling1D  (None, 7, 128)      0           ['conv1d_10[0][0]']              \n",
            " )                                                                                                \n",
            "                                                                                                  \n",
            " conv1d_11 (Conv1D)             (None, 7, 128)       49280       ['max_pooling1d_10[0][0]']       \n",
            "                                                                                                  \n",
            " max_pooling1d_11 (MaxPooling1D  (None, 7, 128)      0           ['conv1d_11[0][0]']              \n",
            " )                                                                                                \n",
            "                                                                                                  \n",
            " conv1d_12 (Conv1D)             (None, 7, 128)       49280       ['max_pooling1d_11[0][0]']       \n",
            "                                                                                                  \n",
            " input_6 (InputLayer)           [(None, 1, 2)]       0           []                               \n",
            "                                                                                                  \n",
            " max_pooling1d_12 (MaxPooling1D  (None, 7, 128)      0           ['conv1d_12[0][0]']              \n",
            " )                                                                                                \n",
            "                                                                                                  \n",
            " flatten_5 (Flatten)            (None, 2)            0           ['input_6[0][0]']                \n",
            "                                                                                                  \n",
            " conv1d_13 (Conv1D)             (None, 7, 128)       49280       ['max_pooling1d_12[0][0]']       \n",
            "                                                                                                  \n",
            " dense_24 (Dense)               (None, 4)            12          ['flatten_5[0][0]']              \n",
            "                                                                                                  \n",
            " max_pooling1d_13 (MaxPooling1D  (None, 7, 128)      0           ['conv1d_13[0][0]']              \n",
            " )                                                                                                \n",
            "                                                                                                  \n",
            " dense_25 (Dense)               (None, 128)          640         ['dense_24[0][0]']               \n",
            "                                                                                                  \n",
            " conv1d_14 (Conv1D)             (None, 7, 128)       49280       ['max_pooling1d_13[0][0]']       \n",
            "                                                                                                  \n",
            " dense_26 (Dense)               (None, 128)          16512       ['dense_25[0][0]']               \n",
            "                                                                                                  \n",
            " max_pooling1d_14 (MaxPooling1D  (None, 7, 128)      0           ['conv1d_14[0][0]']              \n",
            " )                                                                                                \n",
            "                                                                                                  \n",
            " dense_27 (Dense)               (None, 128)          16512       ['dense_26[0][0]']               \n",
            "                                                                                                  \n",
            " flatten_4 (Flatten)            (None, 896)          0           ['max_pooling1d_14[0][0]']       \n",
            "                                                                                                  \n",
            " dense_28 (Dense)               (None, 4)            516         ['dense_27[0][0]']               \n",
            "                                                                                                  \n",
            " concatenate_2 (Concatenate)    (None, 900)          0           ['flatten_4[0][0]',              \n",
            "                                                                  'dense_28[0][0]']               \n",
            "                                                                                                  \n",
            " dense_35 (Dense)               (None, 2048)         1845248     ['concatenate_2[0][0]']          \n",
            "                                                                                                  \n",
            " dropout_22 (Dropout)           (None, 2048)         0           ['dense_35[0][0]']               \n",
            "                                                                                                  \n",
            " dense_36 (Dense)               (None, 256)          524544      ['dropout_22[0][0]']             \n",
            "                                                                                                  \n",
            " dropout_23 (Dropout)           (None, 256)          0           ['dense_36[0][0]']               \n",
            "                                                                                                  \n",
            " dense_37 (Dense)               (None, 256)          65792       ['dropout_23[0][0]']             \n",
            "                                                                                                  \n",
            " dropout_24 (Dropout)           (None, 256)          0           ['dense_37[0][0]']               \n",
            "                                                                                                  \n",
            " dense_38 (Dense)               (None, 256)          65792       ['dropout_24[0][0]']             \n",
            "                                                                                                  \n",
            " dropout_25 (Dropout)           (None, 256)          0           ['dense_38[0][0]']               \n",
            "                                                                                                  \n",
            " dense_39 (Dense)               (None, 128)          32896       ['dropout_25[0][0]']             \n",
            "                                                                                                  \n",
            " dropout_26 (Dropout)           (None, 128)          0           ['dense_39[0][0]']               \n",
            "                                                                                                  \n",
            " dense_40 (Dense)               (None, 16)           2064        ['dropout_26[0][0]']             \n",
            "                                                                                                  \n",
            " dropout_27 (Dropout)           (None, 16)           0           ['dense_40[0][0]']               \n",
            "                                                                                                  \n",
            " dense_41 (Dense)               (None, 1)            17          ['dropout_27[0][0]']             \n",
            "                                                                                                  \n",
            "==================================================================================================\n",
            "Total params: 2,769,329\n",
            "Trainable params: 2,769,329\n",
            "Non-trainable params: 0\n",
            "__________________________________________________________________________________________________\n"
          ]
        }
      ]
    },
    {
      "cell_type": "markdown",
      "source": [
        "Delete the variables to save RAM"
      ],
      "metadata": {
        "id": "WvzjnDMBE8_l"
      }
    },
    {
      "cell_type": "code",
      "source": [
        "del atmospheric_variables\n",
        "del cloud_fraction\n",
        "del height\n",
        "del cloud_perimeter"
      ],
      "metadata": {
        "id": "ItbLhqUFFBvX"
      },
      "execution_count": null,
      "outputs": []
    },
    {
      "cell_type": "code",
      "source": [
        "#print the shape of x2_test as a sanity check\n",
        "print(x2_test.shape)"
      ],
      "metadata": {
        "id": "Zp2hPnLIFL3l",
        "colab": {
          "base_uri": "https://localhost:8080/"
        },
        "outputId": "57f2cacc-220d-46dd-8d83-5ddb33ad606f"
      },
      "execution_count": null,
      "outputs": [
        {
          "output_type": "stream",
          "name": "stdout",
          "text": [
            "(265146, 1, 2)\n"
          ]
        }
      ]
    },
    {
      "cell_type": "markdown",
      "source": [
        "Now fit the model:"
      ],
      "metadata": {
        "id": "BEbc0VSMFGSi"
      }
    },
    {
      "cell_type": "code",
      "source": [
        "model.summary()"
      ],
      "metadata": {
        "id": "d6qU51bnFRMi",
        "colab": {
          "base_uri": "https://localhost:8080/"
        },
        "outputId": "010c591f-bdaa-4574-9b4c-407cf56d5c40"
      },
      "execution_count": null,
      "outputs": [
        {
          "output_type": "stream",
          "name": "stdout",
          "text": [
            "Model: \"model_8\"\n",
            "__________________________________________________________________________________________________\n",
            " Layer (type)                   Output Shape         Param #     Connected to                     \n",
            "==================================================================================================\n",
            " input_5 (InputLayer)           [(None, 7, 4)]       0           []                               \n",
            "                                                                                                  \n",
            " conv1d_10 (Conv1D)             (None, 7, 128)       1664        ['input_5[0][0]']                \n",
            "                                                                                                  \n",
            " max_pooling1d_10 (MaxPooling1D  (None, 7, 128)      0           ['conv1d_10[0][0]']              \n",
            " )                                                                                                \n",
            "                                                                                                  \n",
            " conv1d_11 (Conv1D)             (None, 7, 128)       49280       ['max_pooling1d_10[0][0]']       \n",
            "                                                                                                  \n",
            " max_pooling1d_11 (MaxPooling1D  (None, 7, 128)      0           ['conv1d_11[0][0]']              \n",
            " )                                                                                                \n",
            "                                                                                                  \n",
            " conv1d_12 (Conv1D)             (None, 7, 128)       49280       ['max_pooling1d_11[0][0]']       \n",
            "                                                                                                  \n",
            " input_6 (InputLayer)           [(None, 1, 2)]       0           []                               \n",
            "                                                                                                  \n",
            " max_pooling1d_12 (MaxPooling1D  (None, 7, 128)      0           ['conv1d_12[0][0]']              \n",
            " )                                                                                                \n",
            "                                                                                                  \n",
            " flatten_5 (Flatten)            (None, 2)            0           ['input_6[0][0]']                \n",
            "                                                                                                  \n",
            " conv1d_13 (Conv1D)             (None, 7, 128)       49280       ['max_pooling1d_12[0][0]']       \n",
            "                                                                                                  \n",
            " dense_24 (Dense)               (None, 4)            12          ['flatten_5[0][0]']              \n",
            "                                                                                                  \n",
            " max_pooling1d_13 (MaxPooling1D  (None, 7, 128)      0           ['conv1d_13[0][0]']              \n",
            " )                                                                                                \n",
            "                                                                                                  \n",
            " dense_25 (Dense)               (None, 128)          640         ['dense_24[0][0]']               \n",
            "                                                                                                  \n",
            " conv1d_14 (Conv1D)             (None, 7, 128)       49280       ['max_pooling1d_13[0][0]']       \n",
            "                                                                                                  \n",
            " dense_26 (Dense)               (None, 128)          16512       ['dense_25[0][0]']               \n",
            "                                                                                                  \n",
            " max_pooling1d_14 (MaxPooling1D  (None, 7, 128)      0           ['conv1d_14[0][0]']              \n",
            " )                                                                                                \n",
            "                                                                                                  \n",
            " dense_27 (Dense)               (None, 128)          16512       ['dense_26[0][0]']               \n",
            "                                                                                                  \n",
            " flatten_4 (Flatten)            (None, 896)          0           ['max_pooling1d_14[0][0]']       \n",
            "                                                                                                  \n",
            " dense_28 (Dense)               (None, 4)            516         ['dense_27[0][0]']               \n",
            "                                                                                                  \n",
            " concatenate_2 (Concatenate)    (None, 900)          0           ['flatten_4[0][0]',              \n",
            "                                                                  'dense_28[0][0]']               \n",
            "                                                                                                  \n",
            " dense_35 (Dense)               (None, 2048)         1845248     ['concatenate_2[0][0]']          \n",
            "                                                                                                  \n",
            " dropout_22 (Dropout)           (None, 2048)         0           ['dense_35[0][0]']               \n",
            "                                                                                                  \n",
            " dense_36 (Dense)               (None, 256)          524544      ['dropout_22[0][0]']             \n",
            "                                                                                                  \n",
            " dropout_23 (Dropout)           (None, 256)          0           ['dense_36[0][0]']               \n",
            "                                                                                                  \n",
            " dense_37 (Dense)               (None, 256)          65792       ['dropout_23[0][0]']             \n",
            "                                                                                                  \n",
            " dropout_24 (Dropout)           (None, 256)          0           ['dense_37[0][0]']               \n",
            "                                                                                                  \n",
            " dense_38 (Dense)               (None, 256)          65792       ['dropout_24[0][0]']             \n",
            "                                                                                                  \n",
            " dropout_25 (Dropout)           (None, 256)          0           ['dense_38[0][0]']               \n",
            "                                                                                                  \n",
            " dense_39 (Dense)               (None, 128)          32896       ['dropout_25[0][0]']             \n",
            "                                                                                                  \n",
            " dropout_26 (Dropout)           (None, 128)          0           ['dense_39[0][0]']               \n",
            "                                                                                                  \n",
            " dense_40 (Dense)               (None, 16)           2064        ['dropout_26[0][0]']             \n",
            "                                                                                                  \n",
            " dropout_27 (Dropout)           (None, 16)           0           ['dense_40[0][0]']               \n",
            "                                                                                                  \n",
            " dense_41 (Dense)               (None, 1)            17          ['dropout_27[0][0]']             \n",
            "                                                                                                  \n",
            "==================================================================================================\n",
            "Total params: 2,769,329\n",
            "Trainable params: 2,769,329\n",
            "Non-trainable params: 0\n",
            "__________________________________________________________________________________________________\n"
          ]
        }
      ]
    },
    {
      "cell_type": "code",
      "source": [
        "adaptive_learning = True\n",
        "\n",
        "if adaptive_learning:\n",
        "      def adapt_learning_rate(epoch):\n",
        "          power = epoch // 20\n",
        "          multiplier = 0.1 ** power\n",
        "          if epoch < 60: \n",
        "            lr = 0.002 * multiplier\n",
        "          else:\n",
        "            lr = 2e-5\n",
        "          return lr\n",
        "      my_lr_scheduler = keras.callbacks.LearningRateScheduler(adapt_learning_rate)\n",
        "      \n",
        "if adaptive_learning:\n",
        "      history = model.fit(x=[x1_train,x2_train], y=y_train, validation_data=([x1_val,x2_val], y_val), epochs=200, batch_size=2048, shuffle=True, callbacks=[my_lr_scheduler])\n",
        "else:\n",
        "      history = model.fit(x=[x1_train,x2_train], y=y_train, validation_data=([x1_val,x2_val], y_val), epochs=200, batch_size=2048, shuffle=True)\n"
      ],
      "metadata": {
        "colab": {
          "base_uri": "https://localhost:8080/",
          "height": 1000
        },
        "id": "8-aCfe3Wop43",
        "outputId": "dbeeeb2e-c6ce-44e8-8073-1f75872f20cf"
      },
      "execution_count": null,
      "outputs": [
        {
          "output_type": "stream",
          "name": "stdout",
          "text": [
            "Epoch 1/200\n",
            "605/605 [==============================] - 22s 34ms/step - loss: 199979.0312 - mae: 254.1348 - val_loss: 96210.2109 - val_mae: 165.9990 - lr: 0.0020\n",
            "Epoch 2/200\n",
            "605/605 [==============================] - 20s 33ms/step - loss: 79386.1094 - mae: 159.0105 - val_loss: 115029.3203 - val_mae: 200.4100 - lr: 0.0020\n",
            "Epoch 3/200\n",
            "605/605 [==============================] - 20s 33ms/step - loss: 73781.2188 - mae: 152.1143 - val_loss: 164676.6406 - val_mae: 241.0851 - lr: 0.0020\n",
            "Epoch 4/200\n",
            "605/605 [==============================] - 20s 33ms/step - loss: 70408.1406 - mae: 146.7034 - val_loss: 203256.1875 - val_mae: 251.1448 - lr: 0.0020\n",
            "Epoch 5/200\n",
            "605/605 [==============================] - 20s 33ms/step - loss: 67837.7109 - mae: 143.8819 - val_loss: 189527.6875 - val_mae: 261.6770 - lr: 0.0020\n",
            "Epoch 6/200\n",
            "605/605 [==============================] - 20s 33ms/step - loss: 66215.8750 - mae: 142.3295 - val_loss: 213956.2500 - val_mae: 280.0861 - lr: 0.0020\n",
            "Epoch 7/200\n",
            "605/605 [==============================] - 20s 34ms/step - loss: 64153.0352 - mae: 139.4578 - val_loss: 156230.4219 - val_mae: 219.2352 - lr: 0.0020\n",
            "Epoch 8/200\n",
            "605/605 [==============================] - 20s 34ms/step - loss: 62977.3008 - mae: 138.2511 - val_loss: 179612.3281 - val_mae: 238.3419 - lr: 0.0020\n",
            "Epoch 9/200\n",
            "605/605 [==============================] - 20s 34ms/step - loss: 60297.4414 - mae: 133.7871 - val_loss: 180776.0938 - val_mae: 254.4409 - lr: 0.0020\n",
            "Epoch 10/200\n",
            "605/605 [==============================] - 20s 33ms/step - loss: 59763.6289 - mae: 134.0965 - val_loss: 219687.3750 - val_mae: 266.8992 - lr: 0.0020\n",
            "Epoch 11/200\n",
            "605/605 [==============================] - 20s 34ms/step - loss: 58414.1914 - mae: 131.6275 - val_loss: 159424.6875 - val_mae: 226.3844 - lr: 0.0020\n",
            "Epoch 12/200\n",
            "605/605 [==============================] - 20s 33ms/step - loss: 58266.6289 - mae: 132.5219 - val_loss: 182318.2969 - val_mae: 239.1217 - lr: 0.0020\n",
            "Epoch 13/200\n",
            "605/605 [==============================] - 20s 33ms/step - loss: 56595.0938 - mae: 128.6676 - val_loss: 143572.1094 - val_mae: 205.6080 - lr: 0.0020\n",
            "Epoch 14/200\n",
            "605/605 [==============================] - 20s 34ms/step - loss: 56625.6484 - mae: 128.8203 - val_loss: 173631.9531 - val_mae: 233.0064 - lr: 0.0020\n",
            "Epoch 15/200\n",
            "605/605 [==============================] - 20s 34ms/step - loss: 56196.0352 - mae: 128.9677 - val_loss: 163568.9531 - val_mae: 241.3367 - lr: 0.0020\n",
            "Epoch 16/200\n",
            "605/605 [==============================] - 20s 33ms/step - loss: 55317.6172 - mae: 126.6814 - val_loss: 132406.3750 - val_mae: 193.9215 - lr: 0.0020\n",
            "Epoch 17/200\n",
            "605/605 [==============================] - 20s 33ms/step - loss: 55324.6992 - mae: 127.4414 - val_loss: 196287.1406 - val_mae: 246.6770 - lr: 0.0020\n",
            "Epoch 18/200\n",
            "605/605 [==============================] - 20s 33ms/step - loss: 54934.8477 - mae: 126.5486 - val_loss: 178443.3281 - val_mae: 239.6436 - lr: 0.0020\n",
            "Epoch 19/200\n",
            "605/605 [==============================] - 20s 33ms/step - loss: 54404.5117 - mae: 126.0495 - val_loss: 147442.1406 - val_mae: 211.6331 - lr: 0.0020\n",
            "Epoch 20/200\n",
            "605/605 [==============================] - 20s 33ms/step - loss: 54282.2461 - mae: 125.9675 - val_loss: 187302.6406 - val_mae: 244.9399 - lr: 0.0020\n",
            "Epoch 21/200\n",
            "605/605 [==============================] - 20s 33ms/step - loss: 50369.6445 - mae: 117.8724 - val_loss: 164545.9531 - val_mae: 222.3348 - lr: 2.0000e-04\n",
            "Epoch 22/200\n",
            "605/605 [==============================] - 20s 33ms/step - loss: 49935.6172 - mae: 116.8604 - val_loss: 163377.0469 - val_mae: 222.4009 - lr: 2.0000e-04\n",
            "Epoch 23/200\n",
            "605/605 [==============================] - 21s 34ms/step - loss: 49622.6094 - mae: 116.2920 - val_loss: 158237.7188 - val_mae: 222.9442 - lr: 2.0000e-04\n",
            "Epoch 24/200\n",
            "605/605 [==============================] - 20s 33ms/step - loss: 49008.6367 - mae: 115.8266 - val_loss: 159293.1875 - val_mae: 224.8769 - lr: 2.0000e-04\n",
            "Epoch 25/200\n",
            "605/605 [==============================] - 20s 33ms/step - loss: 48936.7031 - mae: 115.6223 - val_loss: 163555.2188 - val_mae: 222.3294 - lr: 2.0000e-04\n",
            "Epoch 26/200\n",
            "535/605 [=========================>....] - ETA: 2s - loss: 48557.7539 - mae: 115.1340"
          ]
        },
        {
          "output_type": "error",
          "ename": "KeyboardInterrupt",
          "evalue": "ignored",
          "traceback": [
            "\u001b[0;31m---------------------------------------------------------------------------\u001b[0m",
            "\u001b[0;31mKeyboardInterrupt\u001b[0m                         Traceback (most recent call last)",
            "\u001b[0;32m<ipython-input-34-b585a9b10400>\u001b[0m in \u001b[0;36m<module>\u001b[0;34m\u001b[0m\n\u001b[1;32m     13\u001b[0m \u001b[0;34m\u001b[0m\u001b[0m\n\u001b[1;32m     14\u001b[0m \u001b[0;32mif\u001b[0m \u001b[0madaptive_learning\u001b[0m\u001b[0;34m:\u001b[0m\u001b[0;34m\u001b[0m\u001b[0;34m\u001b[0m\u001b[0m\n\u001b[0;32m---> 15\u001b[0;31m       \u001b[0mhistory\u001b[0m \u001b[0;34m=\u001b[0m \u001b[0mmodel\u001b[0m\u001b[0;34m.\u001b[0m\u001b[0mfit\u001b[0m\u001b[0;34m(\u001b[0m\u001b[0mx\u001b[0m\u001b[0;34m=\u001b[0m\u001b[0;34m[\u001b[0m\u001b[0mx1_train\u001b[0m\u001b[0;34m,\u001b[0m\u001b[0mx2_train\u001b[0m\u001b[0;34m]\u001b[0m\u001b[0;34m,\u001b[0m \u001b[0my\u001b[0m\u001b[0;34m=\u001b[0m\u001b[0my_train\u001b[0m\u001b[0;34m,\u001b[0m \u001b[0mvalidation_data\u001b[0m\u001b[0;34m=\u001b[0m\u001b[0;34m(\u001b[0m\u001b[0;34m[\u001b[0m\u001b[0mx1_val\u001b[0m\u001b[0;34m,\u001b[0m\u001b[0mx2_val\u001b[0m\u001b[0;34m]\u001b[0m\u001b[0;34m,\u001b[0m \u001b[0my_val\u001b[0m\u001b[0;34m)\u001b[0m\u001b[0;34m,\u001b[0m \u001b[0mepochs\u001b[0m\u001b[0;34m=\u001b[0m\u001b[0;36m200\u001b[0m\u001b[0;34m,\u001b[0m \u001b[0mbatch_size\u001b[0m\u001b[0;34m=\u001b[0m\u001b[0;36m2048\u001b[0m\u001b[0;34m,\u001b[0m \u001b[0mshuffle\u001b[0m\u001b[0;34m=\u001b[0m\u001b[0;32mTrue\u001b[0m\u001b[0;34m,\u001b[0m \u001b[0mcallbacks\u001b[0m\u001b[0;34m=\u001b[0m\u001b[0;34m[\u001b[0m\u001b[0mmy_lr_scheduler\u001b[0m\u001b[0;34m]\u001b[0m\u001b[0;34m)\u001b[0m\u001b[0;34m\u001b[0m\u001b[0;34m\u001b[0m\u001b[0m\n\u001b[0m\u001b[1;32m     16\u001b[0m \u001b[0;32melse\u001b[0m\u001b[0;34m:\u001b[0m\u001b[0;34m\u001b[0m\u001b[0;34m\u001b[0m\u001b[0m\n\u001b[1;32m     17\u001b[0m       \u001b[0mhistory\u001b[0m \u001b[0;34m=\u001b[0m \u001b[0mmodel\u001b[0m\u001b[0;34m.\u001b[0m\u001b[0mfit\u001b[0m\u001b[0;34m(\u001b[0m\u001b[0mx\u001b[0m\u001b[0;34m=\u001b[0m\u001b[0;34m[\u001b[0m\u001b[0mx1_train\u001b[0m\u001b[0;34m,\u001b[0m\u001b[0mx2_train\u001b[0m\u001b[0;34m]\u001b[0m\u001b[0;34m,\u001b[0m \u001b[0my\u001b[0m\u001b[0;34m=\u001b[0m\u001b[0my_train\u001b[0m\u001b[0;34m,\u001b[0m \u001b[0mvalidation_data\u001b[0m\u001b[0;34m=\u001b[0m\u001b[0;34m(\u001b[0m\u001b[0;34m[\u001b[0m\u001b[0mx1_val\u001b[0m\u001b[0;34m,\u001b[0m\u001b[0mx2_val\u001b[0m\u001b[0;34m]\u001b[0m\u001b[0;34m,\u001b[0m \u001b[0my_val\u001b[0m\u001b[0;34m)\u001b[0m\u001b[0;34m,\u001b[0m \u001b[0mepochs\u001b[0m\u001b[0;34m=\u001b[0m\u001b[0;36m200\u001b[0m\u001b[0;34m,\u001b[0m \u001b[0mbatch_size\u001b[0m\u001b[0;34m=\u001b[0m\u001b[0;36m2048\u001b[0m\u001b[0;34m,\u001b[0m \u001b[0mshuffle\u001b[0m\u001b[0;34m=\u001b[0m\u001b[0;32mTrue\u001b[0m\u001b[0;34m)\u001b[0m\u001b[0;34m\u001b[0m\u001b[0;34m\u001b[0m\u001b[0m\n",
            "\u001b[0;32m/usr/local/lib/python3.7/dist-packages/keras/utils/traceback_utils.py\u001b[0m in \u001b[0;36merror_handler\u001b[0;34m(*args, **kwargs)\u001b[0m\n\u001b[1;32m     62\u001b[0m     \u001b[0mfiltered_tb\u001b[0m \u001b[0;34m=\u001b[0m \u001b[0;32mNone\u001b[0m\u001b[0;34m\u001b[0m\u001b[0;34m\u001b[0m\u001b[0m\n\u001b[1;32m     63\u001b[0m     \u001b[0;32mtry\u001b[0m\u001b[0;34m:\u001b[0m\u001b[0;34m\u001b[0m\u001b[0;34m\u001b[0m\u001b[0m\n\u001b[0;32m---> 64\u001b[0;31m       \u001b[0;32mreturn\u001b[0m \u001b[0mfn\u001b[0m\u001b[0;34m(\u001b[0m\u001b[0;34m*\u001b[0m\u001b[0margs\u001b[0m\u001b[0;34m,\u001b[0m \u001b[0;34m**\u001b[0m\u001b[0mkwargs\u001b[0m\u001b[0;34m)\u001b[0m\u001b[0;34m\u001b[0m\u001b[0;34m\u001b[0m\u001b[0m\n\u001b[0m\u001b[1;32m     65\u001b[0m     \u001b[0;32mexcept\u001b[0m \u001b[0mException\u001b[0m \u001b[0;32mas\u001b[0m \u001b[0me\u001b[0m\u001b[0;34m:\u001b[0m  \u001b[0;31m# pylint: disable=broad-except\u001b[0m\u001b[0;34m\u001b[0m\u001b[0;34m\u001b[0m\u001b[0m\n\u001b[1;32m     66\u001b[0m       \u001b[0mfiltered_tb\u001b[0m \u001b[0;34m=\u001b[0m \u001b[0m_process_traceback_frames\u001b[0m\u001b[0;34m(\u001b[0m\u001b[0me\u001b[0m\u001b[0;34m.\u001b[0m\u001b[0m__traceback__\u001b[0m\u001b[0;34m)\u001b[0m\u001b[0;34m\u001b[0m\u001b[0;34m\u001b[0m\u001b[0m\n",
            "\u001b[0;32m/usr/local/lib/python3.7/dist-packages/keras/engine/training.py\u001b[0m in \u001b[0;36mfit\u001b[0;34m(self, x, y, batch_size, epochs, verbose, callbacks, validation_split, validation_data, shuffle, class_weight, sample_weight, initial_epoch, steps_per_epoch, validation_steps, validation_batch_size, validation_freq, max_queue_size, workers, use_multiprocessing)\u001b[0m\n\u001b[1;32m   1387\u001b[0m               \u001b[0mlogs\u001b[0m \u001b[0;34m=\u001b[0m \u001b[0mtmp_logs\u001b[0m  \u001b[0;31m# No error, now safe to assign to logs.\u001b[0m\u001b[0;34m\u001b[0m\u001b[0;34m\u001b[0m\u001b[0m\n\u001b[1;32m   1388\u001b[0m               \u001b[0mend_step\u001b[0m \u001b[0;34m=\u001b[0m \u001b[0mstep\u001b[0m \u001b[0;34m+\u001b[0m \u001b[0mdata_handler\u001b[0m\u001b[0;34m.\u001b[0m\u001b[0mstep_increment\u001b[0m\u001b[0;34m\u001b[0m\u001b[0;34m\u001b[0m\u001b[0m\n\u001b[0;32m-> 1389\u001b[0;31m               \u001b[0mcallbacks\u001b[0m\u001b[0;34m.\u001b[0m\u001b[0mon_train_batch_end\u001b[0m\u001b[0;34m(\u001b[0m\u001b[0mend_step\u001b[0m\u001b[0;34m,\u001b[0m \u001b[0mlogs\u001b[0m\u001b[0;34m)\u001b[0m\u001b[0;34m\u001b[0m\u001b[0;34m\u001b[0m\u001b[0m\n\u001b[0m\u001b[1;32m   1390\u001b[0m               \u001b[0;32mif\u001b[0m \u001b[0mself\u001b[0m\u001b[0;34m.\u001b[0m\u001b[0mstop_training\u001b[0m\u001b[0;34m:\u001b[0m\u001b[0;34m\u001b[0m\u001b[0;34m\u001b[0m\u001b[0m\n\u001b[1;32m   1391\u001b[0m                 \u001b[0;32mbreak\u001b[0m\u001b[0;34m\u001b[0m\u001b[0;34m\u001b[0m\u001b[0m\n",
            "\u001b[0;32m/usr/local/lib/python3.7/dist-packages/keras/callbacks.py\u001b[0m in \u001b[0;36mon_train_batch_end\u001b[0;34m(self, batch, logs)\u001b[0m\n\u001b[1;32m    436\u001b[0m     \"\"\"\n\u001b[1;32m    437\u001b[0m     \u001b[0;32mif\u001b[0m \u001b[0mself\u001b[0m\u001b[0;34m.\u001b[0m\u001b[0m_should_call_train_batch_hooks\u001b[0m\u001b[0;34m:\u001b[0m\u001b[0;34m\u001b[0m\u001b[0;34m\u001b[0m\u001b[0m\n\u001b[0;32m--> 438\u001b[0;31m       \u001b[0mself\u001b[0m\u001b[0;34m.\u001b[0m\u001b[0m_call_batch_hook\u001b[0m\u001b[0;34m(\u001b[0m\u001b[0mModeKeys\u001b[0m\u001b[0;34m.\u001b[0m\u001b[0mTRAIN\u001b[0m\u001b[0;34m,\u001b[0m \u001b[0;34m'end'\u001b[0m\u001b[0;34m,\u001b[0m \u001b[0mbatch\u001b[0m\u001b[0;34m,\u001b[0m \u001b[0mlogs\u001b[0m\u001b[0;34m=\u001b[0m\u001b[0mlogs\u001b[0m\u001b[0;34m)\u001b[0m\u001b[0;34m\u001b[0m\u001b[0;34m\u001b[0m\u001b[0m\n\u001b[0m\u001b[1;32m    439\u001b[0m \u001b[0;34m\u001b[0m\u001b[0m\n\u001b[1;32m    440\u001b[0m   \u001b[0;32mdef\u001b[0m \u001b[0mon_test_batch_begin\u001b[0m\u001b[0;34m(\u001b[0m\u001b[0mself\u001b[0m\u001b[0;34m,\u001b[0m \u001b[0mbatch\u001b[0m\u001b[0;34m,\u001b[0m \u001b[0mlogs\u001b[0m\u001b[0;34m=\u001b[0m\u001b[0;32mNone\u001b[0m\u001b[0;34m)\u001b[0m\u001b[0;34m:\u001b[0m\u001b[0;34m\u001b[0m\u001b[0;34m\u001b[0m\u001b[0m\n",
            "\u001b[0;32m/usr/local/lib/python3.7/dist-packages/keras/callbacks.py\u001b[0m in \u001b[0;36m_call_batch_hook\u001b[0;34m(self, mode, hook, batch, logs)\u001b[0m\n\u001b[1;32m    295\u001b[0m       \u001b[0mself\u001b[0m\u001b[0;34m.\u001b[0m\u001b[0m_call_batch_begin_hook\u001b[0m\u001b[0;34m(\u001b[0m\u001b[0mmode\u001b[0m\u001b[0;34m,\u001b[0m \u001b[0mbatch\u001b[0m\u001b[0;34m,\u001b[0m \u001b[0mlogs\u001b[0m\u001b[0;34m)\u001b[0m\u001b[0;34m\u001b[0m\u001b[0;34m\u001b[0m\u001b[0m\n\u001b[1;32m    296\u001b[0m     \u001b[0;32melif\u001b[0m \u001b[0mhook\u001b[0m \u001b[0;34m==\u001b[0m \u001b[0;34m'end'\u001b[0m\u001b[0;34m:\u001b[0m\u001b[0;34m\u001b[0m\u001b[0;34m\u001b[0m\u001b[0m\n\u001b[0;32m--> 297\u001b[0;31m       \u001b[0mself\u001b[0m\u001b[0;34m.\u001b[0m\u001b[0m_call_batch_end_hook\u001b[0m\u001b[0;34m(\u001b[0m\u001b[0mmode\u001b[0m\u001b[0;34m,\u001b[0m \u001b[0mbatch\u001b[0m\u001b[0;34m,\u001b[0m \u001b[0mlogs\u001b[0m\u001b[0;34m)\u001b[0m\u001b[0;34m\u001b[0m\u001b[0;34m\u001b[0m\u001b[0m\n\u001b[0m\u001b[1;32m    298\u001b[0m     \u001b[0;32melse\u001b[0m\u001b[0;34m:\u001b[0m\u001b[0;34m\u001b[0m\u001b[0;34m\u001b[0m\u001b[0m\n\u001b[1;32m    299\u001b[0m       raise ValueError(\n",
            "\u001b[0;32m/usr/local/lib/python3.7/dist-packages/keras/callbacks.py\u001b[0m in \u001b[0;36m_call_batch_end_hook\u001b[0;34m(self, mode, batch, logs)\u001b[0m\n\u001b[1;32m    316\u001b[0m       \u001b[0mself\u001b[0m\u001b[0;34m.\u001b[0m\u001b[0m_batch_times\u001b[0m\u001b[0;34m.\u001b[0m\u001b[0mappend\u001b[0m\u001b[0;34m(\u001b[0m\u001b[0mbatch_time\u001b[0m\u001b[0;34m)\u001b[0m\u001b[0;34m\u001b[0m\u001b[0;34m\u001b[0m\u001b[0m\n\u001b[1;32m    317\u001b[0m \u001b[0;34m\u001b[0m\u001b[0m\n\u001b[0;32m--> 318\u001b[0;31m     \u001b[0mself\u001b[0m\u001b[0;34m.\u001b[0m\u001b[0m_call_batch_hook_helper\u001b[0m\u001b[0;34m(\u001b[0m\u001b[0mhook_name\u001b[0m\u001b[0;34m,\u001b[0m \u001b[0mbatch\u001b[0m\u001b[0;34m,\u001b[0m \u001b[0mlogs\u001b[0m\u001b[0;34m)\u001b[0m\u001b[0;34m\u001b[0m\u001b[0;34m\u001b[0m\u001b[0m\n\u001b[0m\u001b[1;32m    319\u001b[0m \u001b[0;34m\u001b[0m\u001b[0m\n\u001b[1;32m    320\u001b[0m     \u001b[0;32mif\u001b[0m \u001b[0mlen\u001b[0m\u001b[0;34m(\u001b[0m\u001b[0mself\u001b[0m\u001b[0;34m.\u001b[0m\u001b[0m_batch_times\u001b[0m\u001b[0;34m)\u001b[0m \u001b[0;34m>=\u001b[0m \u001b[0mself\u001b[0m\u001b[0;34m.\u001b[0m\u001b[0m_num_batches_for_timing_check\u001b[0m\u001b[0;34m:\u001b[0m\u001b[0;34m\u001b[0m\u001b[0;34m\u001b[0m\u001b[0m\n",
            "\u001b[0;32m/usr/local/lib/python3.7/dist-packages/keras/callbacks.py\u001b[0m in \u001b[0;36m_call_batch_hook_helper\u001b[0;34m(self, hook_name, batch, logs)\u001b[0m\n\u001b[1;32m    354\u001b[0m     \u001b[0;32mfor\u001b[0m \u001b[0mcallback\u001b[0m \u001b[0;32min\u001b[0m \u001b[0mself\u001b[0m\u001b[0;34m.\u001b[0m\u001b[0mcallbacks\u001b[0m\u001b[0;34m:\u001b[0m\u001b[0;34m\u001b[0m\u001b[0;34m\u001b[0m\u001b[0m\n\u001b[1;32m    355\u001b[0m       \u001b[0mhook\u001b[0m \u001b[0;34m=\u001b[0m \u001b[0mgetattr\u001b[0m\u001b[0;34m(\u001b[0m\u001b[0mcallback\u001b[0m\u001b[0;34m,\u001b[0m \u001b[0mhook_name\u001b[0m\u001b[0;34m)\u001b[0m\u001b[0;34m\u001b[0m\u001b[0;34m\u001b[0m\u001b[0m\n\u001b[0;32m--> 356\u001b[0;31m       \u001b[0mhook\u001b[0m\u001b[0;34m(\u001b[0m\u001b[0mbatch\u001b[0m\u001b[0;34m,\u001b[0m \u001b[0mlogs\u001b[0m\u001b[0;34m)\u001b[0m\u001b[0;34m\u001b[0m\u001b[0;34m\u001b[0m\u001b[0m\n\u001b[0m\u001b[1;32m    357\u001b[0m \u001b[0;34m\u001b[0m\u001b[0m\n\u001b[1;32m    358\u001b[0m     \u001b[0;32mif\u001b[0m \u001b[0mself\u001b[0m\u001b[0;34m.\u001b[0m\u001b[0m_check_timing\u001b[0m\u001b[0;34m:\u001b[0m\u001b[0;34m\u001b[0m\u001b[0;34m\u001b[0m\u001b[0m\n",
            "\u001b[0;32m/usr/local/lib/python3.7/dist-packages/keras/callbacks.py\u001b[0m in \u001b[0;36mon_train_batch_end\u001b[0;34m(self, batch, logs)\u001b[0m\n\u001b[1;32m   1032\u001b[0m \u001b[0;34m\u001b[0m\u001b[0m\n\u001b[1;32m   1033\u001b[0m   \u001b[0;32mdef\u001b[0m \u001b[0mon_train_batch_end\u001b[0m\u001b[0;34m(\u001b[0m\u001b[0mself\u001b[0m\u001b[0;34m,\u001b[0m \u001b[0mbatch\u001b[0m\u001b[0;34m,\u001b[0m \u001b[0mlogs\u001b[0m\u001b[0;34m=\u001b[0m\u001b[0;32mNone\u001b[0m\u001b[0;34m)\u001b[0m\u001b[0;34m:\u001b[0m\u001b[0;34m\u001b[0m\u001b[0;34m\u001b[0m\u001b[0m\n\u001b[0;32m-> 1034\u001b[0;31m     \u001b[0mself\u001b[0m\u001b[0;34m.\u001b[0m\u001b[0m_batch_update_progbar\u001b[0m\u001b[0;34m(\u001b[0m\u001b[0mbatch\u001b[0m\u001b[0;34m,\u001b[0m \u001b[0mlogs\u001b[0m\u001b[0;34m)\u001b[0m\u001b[0;34m\u001b[0m\u001b[0;34m\u001b[0m\u001b[0m\n\u001b[0m\u001b[1;32m   1035\u001b[0m \u001b[0;34m\u001b[0m\u001b[0m\n\u001b[1;32m   1036\u001b[0m   \u001b[0;32mdef\u001b[0m \u001b[0mon_test_batch_end\u001b[0m\u001b[0;34m(\u001b[0m\u001b[0mself\u001b[0m\u001b[0;34m,\u001b[0m \u001b[0mbatch\u001b[0m\u001b[0;34m,\u001b[0m \u001b[0mlogs\u001b[0m\u001b[0;34m=\u001b[0m\u001b[0;32mNone\u001b[0m\u001b[0;34m)\u001b[0m\u001b[0;34m:\u001b[0m\u001b[0;34m\u001b[0m\u001b[0;34m\u001b[0m\u001b[0m\n",
            "\u001b[0;32m/usr/local/lib/python3.7/dist-packages/keras/callbacks.py\u001b[0m in \u001b[0;36m_batch_update_progbar\u001b[0;34m(self, batch, logs)\u001b[0m\n\u001b[1;32m   1104\u001b[0m     \u001b[0;32mif\u001b[0m \u001b[0mself\u001b[0m\u001b[0;34m.\u001b[0m\u001b[0mverbose\u001b[0m \u001b[0;34m==\u001b[0m \u001b[0;36m1\u001b[0m\u001b[0;34m:\u001b[0m\u001b[0;34m\u001b[0m\u001b[0;34m\u001b[0m\u001b[0m\n\u001b[1;32m   1105\u001b[0m       \u001b[0;31m# Only block async when verbose = 1.\u001b[0m\u001b[0;34m\u001b[0m\u001b[0;34m\u001b[0m\u001b[0;34m\u001b[0m\u001b[0m\n\u001b[0;32m-> 1106\u001b[0;31m       \u001b[0mlogs\u001b[0m \u001b[0;34m=\u001b[0m \u001b[0mtf_utils\u001b[0m\u001b[0;34m.\u001b[0m\u001b[0msync_to_numpy_or_python_type\u001b[0m\u001b[0;34m(\u001b[0m\u001b[0mlogs\u001b[0m\u001b[0;34m)\u001b[0m\u001b[0;34m\u001b[0m\u001b[0;34m\u001b[0m\u001b[0m\n\u001b[0m\u001b[1;32m   1107\u001b[0m       \u001b[0mself\u001b[0m\u001b[0;34m.\u001b[0m\u001b[0mprogbar\u001b[0m\u001b[0;34m.\u001b[0m\u001b[0mupdate\u001b[0m\u001b[0;34m(\u001b[0m\u001b[0mself\u001b[0m\u001b[0;34m.\u001b[0m\u001b[0mseen\u001b[0m\u001b[0;34m,\u001b[0m \u001b[0mlist\u001b[0m\u001b[0;34m(\u001b[0m\u001b[0mlogs\u001b[0m\u001b[0;34m.\u001b[0m\u001b[0mitems\u001b[0m\u001b[0;34m(\u001b[0m\u001b[0;34m)\u001b[0m\u001b[0;34m)\u001b[0m\u001b[0;34m,\u001b[0m \u001b[0mfinalize\u001b[0m\u001b[0;34m=\u001b[0m\u001b[0;32mFalse\u001b[0m\u001b[0;34m)\u001b[0m\u001b[0;34m\u001b[0m\u001b[0;34m\u001b[0m\u001b[0m\n\u001b[1;32m   1108\u001b[0m \u001b[0;34m\u001b[0m\u001b[0m\n",
            "\u001b[0;32m/usr/local/lib/python3.7/dist-packages/keras/utils/tf_utils.py\u001b[0m in \u001b[0;36msync_to_numpy_or_python_type\u001b[0;34m(tensors)\u001b[0m\n\u001b[1;32m    561\u001b[0m     \u001b[0;32mreturn\u001b[0m \u001b[0mt\u001b[0m\u001b[0;34m.\u001b[0m\u001b[0mitem\u001b[0m\u001b[0;34m(\u001b[0m\u001b[0;34m)\u001b[0m \u001b[0;32mif\u001b[0m \u001b[0mnp\u001b[0m\u001b[0;34m.\u001b[0m\u001b[0mndim\u001b[0m\u001b[0;34m(\u001b[0m\u001b[0mt\u001b[0m\u001b[0;34m)\u001b[0m \u001b[0;34m==\u001b[0m \u001b[0;36m0\u001b[0m \u001b[0;32melse\u001b[0m \u001b[0mt\u001b[0m\u001b[0;34m\u001b[0m\u001b[0;34m\u001b[0m\u001b[0m\n\u001b[1;32m    562\u001b[0m \u001b[0;34m\u001b[0m\u001b[0m\n\u001b[0;32m--> 563\u001b[0;31m   \u001b[0;32mreturn\u001b[0m \u001b[0mtf\u001b[0m\u001b[0;34m.\u001b[0m\u001b[0mnest\u001b[0m\u001b[0;34m.\u001b[0m\u001b[0mmap_structure\u001b[0m\u001b[0;34m(\u001b[0m\u001b[0m_to_single_numpy_or_python_type\u001b[0m\u001b[0;34m,\u001b[0m \u001b[0mtensors\u001b[0m\u001b[0;34m)\u001b[0m\u001b[0;34m\u001b[0m\u001b[0;34m\u001b[0m\u001b[0m\n\u001b[0m\u001b[1;32m    564\u001b[0m \u001b[0;34m\u001b[0m\u001b[0m\n\u001b[1;32m    565\u001b[0m \u001b[0;34m\u001b[0m\u001b[0m\n",
            "\u001b[0;32m/usr/local/lib/python3.7/dist-packages/tensorflow/python/util/nest.py\u001b[0m in \u001b[0;36mmap_structure\u001b[0;34m(func, *structure, **kwargs)\u001b[0m\n\u001b[1;32m    912\u001b[0m \u001b[0;34m\u001b[0m\u001b[0m\n\u001b[1;32m    913\u001b[0m   return pack_sequence_as(\n\u001b[0;32m--> 914\u001b[0;31m       \u001b[0mstructure\u001b[0m\u001b[0;34m[\u001b[0m\u001b[0;36m0\u001b[0m\u001b[0;34m]\u001b[0m\u001b[0;34m,\u001b[0m \u001b[0;34m[\u001b[0m\u001b[0mfunc\u001b[0m\u001b[0;34m(\u001b[0m\u001b[0;34m*\u001b[0m\u001b[0mx\u001b[0m\u001b[0;34m)\u001b[0m \u001b[0;32mfor\u001b[0m \u001b[0mx\u001b[0m \u001b[0;32min\u001b[0m \u001b[0mentries\u001b[0m\u001b[0;34m]\u001b[0m\u001b[0;34m,\u001b[0m\u001b[0;34m\u001b[0m\u001b[0;34m\u001b[0m\u001b[0m\n\u001b[0m\u001b[1;32m    915\u001b[0m       expand_composites=expand_composites)\n\u001b[1;32m    916\u001b[0m \u001b[0;34m\u001b[0m\u001b[0m\n",
            "\u001b[0;32m/usr/local/lib/python3.7/dist-packages/tensorflow/python/util/nest.py\u001b[0m in \u001b[0;36m<listcomp>\u001b[0;34m(.0)\u001b[0m\n\u001b[1;32m    912\u001b[0m \u001b[0;34m\u001b[0m\u001b[0m\n\u001b[1;32m    913\u001b[0m   return pack_sequence_as(\n\u001b[0;32m--> 914\u001b[0;31m       \u001b[0mstructure\u001b[0m\u001b[0;34m[\u001b[0m\u001b[0;36m0\u001b[0m\u001b[0;34m]\u001b[0m\u001b[0;34m,\u001b[0m \u001b[0;34m[\u001b[0m\u001b[0mfunc\u001b[0m\u001b[0;34m(\u001b[0m\u001b[0;34m*\u001b[0m\u001b[0mx\u001b[0m\u001b[0;34m)\u001b[0m \u001b[0;32mfor\u001b[0m \u001b[0mx\u001b[0m \u001b[0;32min\u001b[0m \u001b[0mentries\u001b[0m\u001b[0;34m]\u001b[0m\u001b[0;34m,\u001b[0m\u001b[0;34m\u001b[0m\u001b[0;34m\u001b[0m\u001b[0m\n\u001b[0m\u001b[1;32m    915\u001b[0m       expand_composites=expand_composites)\n\u001b[1;32m    916\u001b[0m \u001b[0;34m\u001b[0m\u001b[0m\n",
            "\u001b[0;32m/usr/local/lib/python3.7/dist-packages/keras/utils/tf_utils.py\u001b[0m in \u001b[0;36m_to_single_numpy_or_python_type\u001b[0;34m(t)\u001b[0m\n\u001b[1;32m    555\u001b[0m     \u001b[0;31m# Don't turn ragged or sparse tensors to NumPy.\u001b[0m\u001b[0;34m\u001b[0m\u001b[0;34m\u001b[0m\u001b[0;34m\u001b[0m\u001b[0m\n\u001b[1;32m    556\u001b[0m     \u001b[0;32mif\u001b[0m \u001b[0misinstance\u001b[0m\u001b[0;34m(\u001b[0m\u001b[0mt\u001b[0m\u001b[0;34m,\u001b[0m \u001b[0mtf\u001b[0m\u001b[0;34m.\u001b[0m\u001b[0mTensor\u001b[0m\u001b[0;34m)\u001b[0m\u001b[0;34m:\u001b[0m\u001b[0;34m\u001b[0m\u001b[0;34m\u001b[0m\u001b[0m\n\u001b[0;32m--> 557\u001b[0;31m       \u001b[0mt\u001b[0m \u001b[0;34m=\u001b[0m \u001b[0mt\u001b[0m\u001b[0;34m.\u001b[0m\u001b[0mnumpy\u001b[0m\u001b[0;34m(\u001b[0m\u001b[0;34m)\u001b[0m\u001b[0;34m\u001b[0m\u001b[0;34m\u001b[0m\u001b[0m\n\u001b[0m\u001b[1;32m    558\u001b[0m     \u001b[0;31m# Strings, ragged and sparse tensors don't have .item(). Return them as-is.\u001b[0m\u001b[0;34m\u001b[0m\u001b[0;34m\u001b[0m\u001b[0;34m\u001b[0m\u001b[0m\n\u001b[1;32m    559\u001b[0m     \u001b[0;32mif\u001b[0m \u001b[0;32mnot\u001b[0m \u001b[0misinstance\u001b[0m\u001b[0;34m(\u001b[0m\u001b[0mt\u001b[0m\u001b[0;34m,\u001b[0m \u001b[0;34m(\u001b[0m\u001b[0mnp\u001b[0m\u001b[0;34m.\u001b[0m\u001b[0mndarray\u001b[0m\u001b[0;34m,\u001b[0m \u001b[0mnp\u001b[0m\u001b[0;34m.\u001b[0m\u001b[0mgeneric\u001b[0m\u001b[0;34m)\u001b[0m\u001b[0;34m)\u001b[0m\u001b[0;34m:\u001b[0m\u001b[0;34m\u001b[0m\u001b[0;34m\u001b[0m\u001b[0m\n",
            "\u001b[0;32m/usr/local/lib/python3.7/dist-packages/tensorflow/python/framework/ops.py\u001b[0m in \u001b[0;36mnumpy\u001b[0;34m(self)\u001b[0m\n\u001b[1;32m   1221\u001b[0m     \"\"\"\n\u001b[1;32m   1222\u001b[0m     \u001b[0;31m# TODO(slebedev): Consider avoiding a copy for non-CPU or remote tensors.\u001b[0m\u001b[0;34m\u001b[0m\u001b[0;34m\u001b[0m\u001b[0;34m\u001b[0m\u001b[0m\n\u001b[0;32m-> 1223\u001b[0;31m     \u001b[0mmaybe_arr\u001b[0m \u001b[0;34m=\u001b[0m \u001b[0mself\u001b[0m\u001b[0;34m.\u001b[0m\u001b[0m_numpy\u001b[0m\u001b[0;34m(\u001b[0m\u001b[0;34m)\u001b[0m  \u001b[0;31m# pylint: disable=protected-access\u001b[0m\u001b[0;34m\u001b[0m\u001b[0;34m\u001b[0m\u001b[0m\n\u001b[0m\u001b[1;32m   1224\u001b[0m     \u001b[0;32mreturn\u001b[0m \u001b[0mmaybe_arr\u001b[0m\u001b[0;34m.\u001b[0m\u001b[0mcopy\u001b[0m\u001b[0;34m(\u001b[0m\u001b[0;34m)\u001b[0m \u001b[0;32mif\u001b[0m \u001b[0misinstance\u001b[0m\u001b[0;34m(\u001b[0m\u001b[0mmaybe_arr\u001b[0m\u001b[0;34m,\u001b[0m \u001b[0mnp\u001b[0m\u001b[0;34m.\u001b[0m\u001b[0mndarray\u001b[0m\u001b[0;34m)\u001b[0m \u001b[0;32melse\u001b[0m \u001b[0mmaybe_arr\u001b[0m\u001b[0;34m\u001b[0m\u001b[0;34m\u001b[0m\u001b[0m\n\u001b[1;32m   1225\u001b[0m \u001b[0;34m\u001b[0m\u001b[0m\n",
            "\u001b[0;32m/usr/local/lib/python3.7/dist-packages/tensorflow/python/framework/ops.py\u001b[0m in \u001b[0;36m_numpy\u001b[0;34m(self)\u001b[0m\n\u001b[1;32m   1187\u001b[0m   \u001b[0;32mdef\u001b[0m \u001b[0m_numpy\u001b[0m\u001b[0;34m(\u001b[0m\u001b[0mself\u001b[0m\u001b[0;34m)\u001b[0m\u001b[0;34m:\u001b[0m\u001b[0;34m\u001b[0m\u001b[0;34m\u001b[0m\u001b[0m\n\u001b[1;32m   1188\u001b[0m     \u001b[0;32mtry\u001b[0m\u001b[0;34m:\u001b[0m\u001b[0;34m\u001b[0m\u001b[0;34m\u001b[0m\u001b[0m\n\u001b[0;32m-> 1189\u001b[0;31m       \u001b[0;32mreturn\u001b[0m \u001b[0mself\u001b[0m\u001b[0;34m.\u001b[0m\u001b[0m_numpy_internal\u001b[0m\u001b[0;34m(\u001b[0m\u001b[0;34m)\u001b[0m\u001b[0;34m\u001b[0m\u001b[0;34m\u001b[0m\u001b[0m\n\u001b[0m\u001b[1;32m   1190\u001b[0m     \u001b[0;32mexcept\u001b[0m \u001b[0mcore\u001b[0m\u001b[0;34m.\u001b[0m\u001b[0m_NotOkStatusException\u001b[0m \u001b[0;32mas\u001b[0m \u001b[0me\u001b[0m\u001b[0;34m:\u001b[0m  \u001b[0;31m# pylint: disable=protected-access\u001b[0m\u001b[0;34m\u001b[0m\u001b[0;34m\u001b[0m\u001b[0m\n\u001b[1;32m   1191\u001b[0m       \u001b[0;32mraise\u001b[0m \u001b[0mcore\u001b[0m\u001b[0;34m.\u001b[0m\u001b[0m_status_to_exception\u001b[0m\u001b[0;34m(\u001b[0m\u001b[0me\u001b[0m\u001b[0;34m)\u001b[0m \u001b[0;32mfrom\u001b[0m \u001b[0;32mNone\u001b[0m  \u001b[0;31m# pylint: disable=protected-access\u001b[0m\u001b[0;34m\u001b[0m\u001b[0;34m\u001b[0m\u001b[0m\n",
            "\u001b[0;31mKeyboardInterrupt\u001b[0m: "
          ]
        }
      ]
    },
    {
      "cell_type": "markdown",
      "source": [
        "# **Method 1: Fitting a Model with Manual Hyperparameter Selection**"
      ],
      "metadata": {
        "id": "4iaRrbeYo27t"
      }
    },
    {
      "cell_type": "markdown",
      "source": [
        "## **Load in the Data**"
      ],
      "metadata": {
        "id": "8OIYdDxilYCR"
      }
    },
    {
      "cell_type": "markdown",
      "source": [
        "Define the path to access the saved arrays"
      ],
      "metadata": {
        "id": "sJ2FEGn2lh3c"
      }
    },
    {
      "cell_type": "code",
      "source": [
        "new_file_directory = '/content/gdrive/MyDrive/Colab Notebooks/Data/Variables/Training Arrays/'"
      ],
      "metadata": {
        "id": "85MMiLGklaQZ"
      },
      "execution_count": null,
      "outputs": []
    },
    {
      "cell_type": "markdown",
      "source": [
        "Load in the saved arrays into variables and assert the shapes are correct"
      ],
      "metadata": {
        "id": "p_U5hzzDllc1"
      }
    },
    {
      "cell_type": "code",
      "source": [
        "atmospheric_variables = np.load(new_file_directory+'Atmospheric.npy')\n",
        "cloud_perimeter = np.load(new_file_directory+'Perimeter.npy')\n",
        "height = np.load(new_file_directory+'Height.npy')\n",
        "cloud_fraction = np.load(new_file_directory+'Fraction.npy')\n",
        "print(cloud_perimeter.shape)\n",
        "print(cloud_fraction.shape)\n",
        "print(height.shape)\n",
        "print(atmospheric_variables.shape)"
      ],
      "metadata": {
        "colab": {
          "base_uri": "https://localhost:8080/"
        },
        "id": "8rdxASgFle24",
        "outputId": "723e50b8-ac00-45c7-bbb7-79d50a103e11"
      },
      "execution_count": null,
      "outputs": [
        {
          "output_type": "stream",
          "name": "stdout",
          "text": [
            "(1767636, 1)\n",
            "(1767636, 1)\n",
            "(1767636, 1)\n",
            "(1767636, 332, 10)\n"
          ]
        }
      ]
    },
    {
      "cell_type": "markdown",
      "source": [
        "We do not require all atmospheric variables or height levels. Hence we create masks to reduce the atmospheric variables array to the appropriate indices"
      ],
      "metadata": {
        "id": "GMyFNGUplt5i"
      }
    },
    {
      "cell_type": "code",
      "source": [
        "#take only the first 10 height levels\n",
        "atmospheric_variables = atmospheric_variables[:,:10,:]\n",
        "#take only 4 of the atmospheric variables\n",
        "variable_mask = [True,False,False,True,True,False,False,False,True,False]\n",
        "atmospheric_variables = atmospheric_variables[:,:,variable_mask]\n",
        "#print the new shape of atmospheric variables\n",
        "print(atmospheric_variables.shape)"
      ],
      "metadata": {
        "colab": {
          "base_uri": "https://localhost:8080/"
        },
        "id": "opzspusYl22S",
        "outputId": "5f8ca710-d3ac-410b-8191-c1d5676729f6"
      },
      "execution_count": null,
      "outputs": [
        {
          "output_type": "stream",
          "name": "stdout",
          "text": [
            "(1767636, 10, 4)\n"
          ]
        }
      ]
    },
    {
      "cell_type": "markdown",
      "source": [
        "## **Construct the Model (Manually)**"
      ],
      "metadata": {
        "id": "AFcPaOhKmG72"
      }
    },
    {
      "cell_type": "code",
      "source": [
        "def construct_model(height_levels,num_channels,num_scalar_variables):\n",
        "      #define the two inputs for the two heads of the network\n",
        "      inputA=Input(shape=(height_levels,num_channels))\n",
        "      inputB=Input(shape=(1,num_scalar_variables))\n",
        "\n",
        "      #define the convolutional layers acting on inputA\n",
        "      a=Conv1D(filters=8,kernel_size=3,padding='same',activation='relu')(inputA)\n",
        "      a=MaxPooling1D(pool_size=2, padding='same')(a)\n",
        "      a=Conv1D(filters=16,kernel_size=3,padding='same',activation='relu')(a)\n",
        "      a=MaxPooling1D(pool_size=2, padding='same')(a)\n",
        "      a=Conv1D(filters=32,kernel_size=3,padding='same',activation='relu')(a)\n",
        "      a=MaxPooling1D(pool_size=2, padding='same')(a)\n",
        "      a=Flatten()(a)\n",
        "      a=Model(inputs=inputA, outputs=a)\n",
        "\n",
        "      #define the other head of the network for inputB\n",
        "      b=Flatten()(inputB)\n",
        "      b=Dense(4)(b)\n",
        "      b=Model(inputs=inputB, outputs=b)\n",
        "\n",
        "      #combine the heads of the network\n",
        "      combined_vector = concatenate([a.output, b.output])\n",
        "      z=Dense(256, activation=\"relu\")(combined_vector)\n",
        "      z=Dropout(0.1)(z)\n",
        "      z=Dense(256, activation=\"relu\")(z)\n",
        "      z=Dropout(0.1)(z)\n",
        "      z=Dense(16, activation=\"relu\")(z)\n",
        "      z=Dropout(0.1)(z)\n",
        "      z=Dense(1)(z)\n",
        "\n",
        "      #finally define the outputs\n",
        "      model=Model(inputs=[inputA,inputB], outputs=z)\n",
        "\n",
        "      opt_choice=keras.optimizers.Adam(learning_rate=0.001)\n",
        "      model.compile(optimizer=opt_choice,loss=\"mse\",metrics=['mae'])\n",
        "\n",
        "      model.summary()\n",
        "      keras.utils.plot_model(model, \"double-headed CNN.png\", show_shapes=True)\n",
        "      return model"
      ],
      "metadata": {
        "id": "RPdTVxSvmJ1N"
      },
      "execution_count": null,
      "outputs": []
    },
    {
      "cell_type": "code",
      "source": [
        "def train_val_test_split(atmospheric_variables,cloud_fraction,height,cloud_perimeter):\n",
        "      #check that the number of data points agree for all variables\n",
        "      assert atmospheric_variables.shape[0]==cloud_fraction.shape[0] and \\\n",
        "      atmospheric_variables.shape[0]==height.shape[0] \\\n",
        "      and atmospheric_variables.shape[0]==cloud_perimeter.shape[0]\n",
        "\n",
        "      num_data_points = int(atmospheric_variables.shape[0])\n",
        "       \n",
        "      #define the shuffling permutation and shuffle the variables in unison\n",
        "      perm = np.random.permutation(num_data_points)\n",
        "      atmospheric_variables = atmospheric_variables[perm,:,:]\n",
        "      cloud_fraction = cloud_fraction[perm,:]\n",
        "      height = height[perm,:]\n",
        "      cloud_perimeter = cloud_perimeter[perm,:]\n",
        "\n",
        "      #combine the height and cloud fraction variables\n",
        "      x2=np.stack((cloud_fraction,height),axis=2)\n",
        "\n",
        "      #compute the training set size\n",
        "      train_size=int(np.floor(0.7*num_data_points))\n",
        "      val_size=int(np.floor(0.85*num_data_points))\n",
        "\n",
        "      #specify the train, test and validation sets\n",
        "      #split the data into train and test\n",
        "      x1_train=atmospheric_variables[:train_size,:,:]\n",
        "      x2_train=x2[:train_size,:,:]\n",
        "      y_train=cloud_perimeter[:train_size,:]\n",
        "      #\n",
        "      x1_val=atmospheric_variables[train_size:val_size,:,:]\n",
        "      x2_val=x2[train_size:val_size,:,:]\n",
        "      y_val=cloud_perimeter[train_size:val_size,:]\n",
        "      #\n",
        "      x1_test=atmospheric_variables[val_size:,:,:]\n",
        "      x2_test=x2[val_size:,:,:]\n",
        "      y_test=cloud_perimeter[val_size:,:]\n",
        "\n",
        "      return x1_train, x2_train, y_train, x1_val, x2_val, y_val, x1_test, x2_test, y_test"
      ],
      "metadata": {
        "id": "dV8XqwuEmR_w"
      },
      "execution_count": null,
      "outputs": []
    },
    {
      "cell_type": "markdown",
      "source": [
        "Construct the train, validation and test sets using the function above. Also, construct the model using the function construct_model, ready for it to be trained. The shape command is used to find the relevant parameters to input into the function."
      ],
      "metadata": {
        "id": "3G6wDFsmmjHF"
      }
    },
    {
      "cell_type": "code",
      "source": [
        "#find the parameters necessary\n",
        "height_dimensions = atmospheric_variables.shape[1]\n",
        "num_channels = atmospheric_variables.shape[2]\n",
        "#construct the model and print a model summary\n",
        "model = construct_model(height_dimensions,num_channels,2)\n",
        "#define the train, validation and test sets\n",
        "x1_train, x2_train, y_train, x1_val, x2_val, y_val, x1_test, x2_test, y_test = train_val_test_split(atmospheric_variables,cloud_fraction,height,cloud_perimeter)"
      ],
      "metadata": {
        "id": "5d_wQgn6mXMa",
        "colab": {
          "base_uri": "https://localhost:8080/"
        },
        "outputId": "87f16def-cb3c-4eaf-d938-eddcaf5eb67e"
      },
      "execution_count": null,
      "outputs": [
        {
          "output_type": "stream",
          "name": "stdout",
          "text": [
            "Model: \"model_8\"\n",
            "__________________________________________________________________________________________________\n",
            " Layer (type)                   Output Shape         Param #     Connected to                     \n",
            "==================================================================================================\n",
            " input_5 (InputLayer)           [(None, 10, 4)]      0           []                               \n",
            "                                                                                                  \n",
            " conv1d_6 (Conv1D)              (None, 10, 8)        104         ['input_5[0][0]']                \n",
            "                                                                                                  \n",
            " max_pooling1d_6 (MaxPooling1D)  (None, 5, 8)        0           ['conv1d_6[0][0]']               \n",
            "                                                                                                  \n",
            " conv1d_7 (Conv1D)              (None, 5, 16)        400         ['max_pooling1d_6[0][0]']        \n",
            "                                                                                                  \n",
            " max_pooling1d_7 (MaxPooling1D)  (None, 3, 16)       0           ['conv1d_7[0][0]']               \n",
            "                                                                                                  \n",
            " conv1d_8 (Conv1D)              (None, 3, 32)        1568        ['max_pooling1d_7[0][0]']        \n",
            "                                                                                                  \n",
            " input_6 (InputLayer)           [(None, 1, 2)]       0           []                               \n",
            "                                                                                                  \n",
            " max_pooling1d_8 (MaxPooling1D)  (None, 2, 32)       0           ['conv1d_8[0][0]']               \n",
            "                                                                                                  \n",
            " flatten_5 (Flatten)            (None, 2)            0           ['input_6[0][0]']                \n",
            "                                                                                                  \n",
            " flatten_4 (Flatten)            (None, 64)           0           ['max_pooling1d_8[0][0]']        \n",
            "                                                                                                  \n",
            " dense_10 (Dense)               (None, 4)            12          ['flatten_5[0][0]']              \n",
            "                                                                                                  \n",
            " concatenate_2 (Concatenate)    (None, 68)           0           ['flatten_4[0][0]',              \n",
            "                                                                  'dense_10[0][0]']               \n",
            "                                                                                                  \n",
            " dense_11 (Dense)               (None, 256)          17664       ['concatenate_2[0][0]']          \n",
            "                                                                                                  \n",
            " dropout_6 (Dropout)            (None, 256)          0           ['dense_11[0][0]']               \n",
            "                                                                                                  \n",
            " dense_12 (Dense)               (None, 256)          65792       ['dropout_6[0][0]']              \n",
            "                                                                                                  \n",
            " dropout_7 (Dropout)            (None, 256)          0           ['dense_12[0][0]']               \n",
            "                                                                                                  \n",
            " dense_13 (Dense)               (None, 16)           4112        ['dropout_7[0][0]']              \n",
            "                                                                                                  \n",
            " dropout_8 (Dropout)            (None, 16)           0           ['dense_13[0][0]']               \n",
            "                                                                                                  \n",
            " dense_14 (Dense)               (None, 1)            17          ['dropout_8[0][0]']              \n",
            "                                                                                                  \n",
            "==================================================================================================\n",
            "Total params: 89,669\n",
            "Trainable params: 89,669\n",
            "Non-trainable params: 0\n",
            "__________________________________________________________________________________________________\n"
          ]
        }
      ]
    },
    {
      "cell_type": "markdown",
      "source": [
        "Delete the variables to save RAM"
      ],
      "metadata": {
        "id": "_JtpzHl4nsr_"
      }
    },
    {
      "cell_type": "code",
      "source": [
        "del atmospheric_variables\n",
        "del cloud_fraction\n",
        "del height\n",
        "del cloud_perimeter"
      ],
      "metadata": {
        "id": "z-3Rfv3SnvNC"
      },
      "execution_count": null,
      "outputs": []
    },
    {
      "cell_type": "code",
      "source": [
        "#print the shape of x2_test as a sanity check\n",
        "print(x2_test.shape)"
      ],
      "metadata": {
        "id": "GagZZVE_meJS",
        "colab": {
          "base_uri": "https://localhost:8080/"
        },
        "outputId": "ebfda421-f606-4517-a840-ac010f92aa8a"
      },
      "execution_count": null,
      "outputs": [
        {
          "output_type": "stream",
          "name": "stdout",
          "text": [
            "(265146, 1, 2)\n"
          ]
        }
      ]
    },
    {
      "cell_type": "markdown",
      "source": [
        "Now fit the model:"
      ],
      "metadata": {
        "id": "c3sD4alKnGJR"
      }
    },
    {
      "cell_type": "code",
      "source": [
        "opt_choice=keras.optimizers.Adam(learning_rate=0.01)\n",
        "model.compile(optimizer=opt_choice,loss=\"mse\",metrics=['mae'])\n",
        "\n",
        "history = model.fit(x=[x1_train,x2_train], y=y_train, validation_data=([x1_val,x2_val], y_val), epochs=200, batch_size=2048, shuffle=True)"
      ],
      "metadata": {
        "id": "oMENp4kanFYU",
        "colab": {
          "base_uri": "https://localhost:8080/"
        },
        "outputId": "0830a3d4-4061-42fb-e9fd-df017b5dafcf"
      },
      "execution_count": null,
      "outputs": [
        {
          "output_type": "stream",
          "name": "stdout",
          "text": [
            "Epoch 1/200\n",
            "605/605 [==============================] - 5s 7ms/step - loss: 58075.0625 - mae: 130.2879 - val_loss: 45311.8984 - val_mae: 112.7336\n",
            "Epoch 2/200\n",
            "605/605 [==============================] - 4s 6ms/step - loss: 57151.4727 - mae: 129.3902 - val_loss: 43389.5742 - val_mae: 110.5048\n",
            "Epoch 3/200\n",
            "605/605 [==============================] - 4s 6ms/step - loss: 56787.4297 - mae: 128.8779 - val_loss: 44082.0859 - val_mae: 113.5985\n",
            "Epoch 4/200\n",
            "605/605 [==============================] - 4s 6ms/step - loss: 56566.3164 - mae: 128.5934 - val_loss: 42922.6367 - val_mae: 107.9373\n",
            "Epoch 5/200\n",
            "605/605 [==============================] - 4s 6ms/step - loss: 56211.0195 - mae: 127.7231 - val_loss: 43310.1680 - val_mae: 109.7689\n",
            "Epoch 6/200\n",
            "605/605 [==============================] - 3s 6ms/step - loss: 55575.9531 - mae: 126.8107 - val_loss: 40801.0117 - val_mae: 105.6693\n",
            "Epoch 7/200\n",
            "605/605 [==============================] - 3s 6ms/step - loss: 55248.5742 - mae: 126.8511 - val_loss: 43311.4258 - val_mae: 110.4795\n",
            "Epoch 8/200\n",
            "605/605 [==============================] - 3s 6ms/step - loss: 54916.4570 - mae: 125.7515 - val_loss: 43113.8984 - val_mae: 117.2917\n",
            "Epoch 9/200\n",
            "605/605 [==============================] - 3s 6ms/step - loss: 54723.0078 - mae: 125.6536 - val_loss: 42801.0898 - val_mae: 121.3529\n",
            "Epoch 10/200\n",
            "605/605 [==============================] - 4s 6ms/step - loss: 54705.9805 - mae: 126.1710 - val_loss: 44060.3008 - val_mae: 116.4627\n",
            "Epoch 11/200\n",
            "605/605 [==============================] - 4s 6ms/step - loss: 54399.2539 - mae: 126.0175 - val_loss: 43014.1016 - val_mae: 123.6843\n",
            "Epoch 12/200\n",
            "605/605 [==============================] - 4s 6ms/step - loss: 54500.7969 - mae: 125.5996 - val_loss: 41581.1016 - val_mae: 107.1078\n",
            "Epoch 13/200\n",
            "605/605 [==============================] - 4s 6ms/step - loss: 54178.2578 - mae: 125.3703 - val_loss: 44096.1914 - val_mae: 110.7821\n",
            "Epoch 14/200\n",
            "605/605 [==============================] - 4s 6ms/step - loss: 54041.5898 - mae: 124.8138 - val_loss: 43510.3867 - val_mae: 111.4545\n",
            "Epoch 15/200\n",
            "605/605 [==============================] - 4s 6ms/step - loss: 53809.6797 - mae: 124.5441 - val_loss: 42572.4531 - val_mae: 115.9798\n",
            "Epoch 16/200\n",
            "605/605 [==============================] - 4s 7ms/step - loss: 53844.2031 - mae: 124.6955 - val_loss: 40649.6758 - val_mae: 108.2844\n",
            "Epoch 17/200\n",
            "605/605 [==============================] - 4s 6ms/step - loss: 53599.5156 - mae: 124.2870 - val_loss: 42244.3672 - val_mae: 109.4108\n",
            "Epoch 18/200\n",
            "605/605 [==============================] - 4s 6ms/step - loss: 53413.8320 - mae: 124.3894 - val_loss: 42363.3398 - val_mae: 108.2452\n",
            "Epoch 19/200\n",
            "605/605 [==============================] - 5s 7ms/step - loss: 53234.4922 - mae: 123.6541 - val_loss: 41220.6133 - val_mae: 115.3238\n",
            "Epoch 20/200\n",
            "605/605 [==============================] - 4s 7ms/step - loss: 53180.6797 - mae: 123.5001 - val_loss: 40092.8047 - val_mae: 105.8534\n",
            "Epoch 21/200\n",
            "605/605 [==============================] - 4s 7ms/step - loss: 52713.9453 - mae: 122.7008 - val_loss: 43039.2070 - val_mae: 114.9767\n",
            "Epoch 22/200\n",
            "605/605 [==============================] - 4s 6ms/step - loss: 52808.5664 - mae: 123.1186 - val_loss: 41897.6602 - val_mae: 110.7347\n",
            "Epoch 23/200\n",
            "605/605 [==============================] - 4s 6ms/step - loss: 52919.3789 - mae: 123.2171 - val_loss: 42481.4453 - val_mae: 121.1584\n",
            "Epoch 24/200\n",
            "605/605 [==============================] - 4s 6ms/step - loss: 52771.8203 - mae: 122.9980 - val_loss: 42074.4961 - val_mae: 107.9524\n",
            "Epoch 25/200\n",
            "605/605 [==============================] - 4s 6ms/step - loss: 52597.2383 - mae: 122.9117 - val_loss: 40722.3672 - val_mae: 104.2286\n",
            "Epoch 26/200\n",
            "605/605 [==============================] - 4s 6ms/step - loss: 52302.6055 - mae: 122.1342 - val_loss: 42784.0664 - val_mae: 112.9729\n",
            "Epoch 27/200\n",
            "605/605 [==============================] - 4s 6ms/step - loss: 52302.8984 - mae: 122.1884 - val_loss: 41030.8086 - val_mae: 106.0336\n",
            "Epoch 28/200\n",
            "605/605 [==============================] - 4s 7ms/step - loss: 52008.9414 - mae: 121.9063 - val_loss: 39429.6953 - val_mae: 104.1968\n",
            "Epoch 29/200\n",
            "605/605 [==============================] - 4s 6ms/step - loss: 52190.2773 - mae: 122.2165 - val_loss: 43197.1172 - val_mae: 110.4560\n",
            "Epoch 30/200\n",
            "605/605 [==============================] - 4s 6ms/step - loss: 52032.4023 - mae: 121.8620 - val_loss: 40182.0156 - val_mae: 104.3637\n",
            "Epoch 31/200\n",
            "605/605 [==============================] - 4s 6ms/step - loss: 51660.0039 - mae: 121.3286 - val_loss: 41181.6211 - val_mae: 116.1469\n",
            "Epoch 32/200\n",
            "605/605 [==============================] - 4s 6ms/step - loss: 51663.2734 - mae: 121.4601 - val_loss: 40588.2422 - val_mae: 118.3494\n",
            "Epoch 33/200\n",
            "605/605 [==============================] - 4s 6ms/step - loss: 51732.0039 - mae: 122.0532 - val_loss: 38937.3164 - val_mae: 103.3454\n",
            "Epoch 34/200\n",
            "605/605 [==============================] - 4s 6ms/step - loss: 51559.1133 - mae: 121.5389 - val_loss: 39373.0352 - val_mae: 109.3895\n",
            "Epoch 35/200\n",
            "605/605 [==============================] - 3s 6ms/step - loss: 51477.7070 - mae: 121.1677 - val_loss: 39017.0781 - val_mae: 102.7169\n",
            "Epoch 36/200\n",
            "605/605 [==============================] - 4s 6ms/step - loss: 51627.4414 - mae: 121.6596 - val_loss: 44376.3672 - val_mae: 119.1337\n",
            "Epoch 37/200\n",
            "605/605 [==============================] - 4s 6ms/step - loss: 50713.5195 - mae: 121.0177 - val_loss: 39892.4883 - val_mae: 104.2719\n",
            "Epoch 38/200\n",
            "605/605 [==============================] - 4s 6ms/step - loss: 49860.0547 - mae: 119.5991 - val_loss: 39373.8047 - val_mae: 102.9942\n",
            "Epoch 39/200\n",
            "605/605 [==============================] - 4s 6ms/step - loss: 50318.1758 - mae: 120.1770 - val_loss: 42022.7188 - val_mae: 108.8704\n",
            "Epoch 40/200\n",
            "605/605 [==============================] - 4s 6ms/step - loss: 50130.1992 - mae: 120.1721 - val_loss: 39780.3477 - val_mae: 103.9793\n",
            "Epoch 41/200\n",
            "605/605 [==============================] - 4s 6ms/step - loss: 49804.9844 - mae: 119.5130 - val_loss: 38446.5938 - val_mae: 104.9613\n",
            "Epoch 42/200\n",
            "605/605 [==============================] - 4s 6ms/step - loss: 49483.4414 - mae: 119.1578 - val_loss: 39036.7383 - val_mae: 107.0939\n",
            "Epoch 43/200\n",
            "605/605 [==============================] - 4s 6ms/step - loss: 49572.0391 - mae: 119.6594 - val_loss: 39877.4688 - val_mae: 108.0768\n",
            "Epoch 44/200\n",
            "605/605 [==============================] - 4s 6ms/step - loss: 49515.2227 - mae: 119.2373 - val_loss: 40370.6250 - val_mae: 103.8065\n",
            "Epoch 45/200\n",
            "605/605 [==============================] - 4s 6ms/step - loss: 49565.6758 - mae: 119.9229 - val_loss: 40833.7227 - val_mae: 121.3378\n",
            "Epoch 46/200\n",
            "605/605 [==============================] - 4s 7ms/step - loss: 49455.1055 - mae: 119.2439 - val_loss: 40066.2266 - val_mae: 112.5937\n",
            "Epoch 47/200\n",
            "605/605 [==============================] - 4s 6ms/step - loss: 49209.0352 - mae: 119.2129 - val_loss: 39338.2812 - val_mae: 103.0509\n",
            "Epoch 48/200\n",
            "605/605 [==============================] - 3s 6ms/step - loss: 49314.8164 - mae: 119.1060 - val_loss: 39419.2773 - val_mae: 105.7609\n",
            "Epoch 49/200\n",
            "605/605 [==============================] - 4s 6ms/step - loss: 49584.6133 - mae: 119.7561 - val_loss: 39620.7266 - val_mae: 113.9650\n",
            "Epoch 50/200\n",
            "605/605 [==============================] - 3s 6ms/step - loss: 49313.1016 - mae: 119.4748 - val_loss: 41397.2148 - val_mae: 103.5655\n",
            "Epoch 51/200\n",
            "605/605 [==============================] - 4s 6ms/step - loss: 49427.4492 - mae: 119.5469 - val_loss: 39849.9492 - val_mae: 113.4815\n",
            "Epoch 52/200\n",
            "605/605 [==============================] - 4s 6ms/step - loss: 49132.1562 - mae: 119.3892 - val_loss: 38918.8320 - val_mae: 101.8879\n",
            "Epoch 53/200\n",
            "605/605 [==============================] - 4s 6ms/step - loss: 49038.1289 - mae: 119.1354 - val_loss: 41373.1758 - val_mae: 109.8593\n",
            "Epoch 54/200\n",
            "605/605 [==============================] - 4s 6ms/step - loss: 49151.8242 - mae: 119.3402 - val_loss: 39171.4180 - val_mae: 103.7831\n",
            "Epoch 55/200\n",
            "605/605 [==============================] - 4s 6ms/step - loss: 48998.1758 - mae: 119.2250 - val_loss: 38156.4609 - val_mae: 101.5457\n",
            "Epoch 56/200\n",
            "605/605 [==============================] - 4s 6ms/step - loss: 49077.3672 - mae: 119.7308 - val_loss: 39565.8750 - val_mae: 112.0556\n",
            "Epoch 57/200\n",
            "605/605 [==============================] - 3s 6ms/step - loss: 49103.7969 - mae: 119.5206 - val_loss: 39299.9844 - val_mae: 114.5376\n",
            "Epoch 58/200\n",
            "605/605 [==============================] - 4s 6ms/step - loss: 48836.6172 - mae: 119.1613 - val_loss: 38504.2969 - val_mae: 105.3214\n",
            "Epoch 59/200\n",
            "605/605 [==============================] - 4s 6ms/step - loss: 48898.5547 - mae: 118.8356 - val_loss: 39815.9570 - val_mae: 102.6156\n",
            "Epoch 60/200\n",
            "605/605 [==============================] - 4s 6ms/step - loss: 48777.8633 - mae: 118.2892 - val_loss: 37279.7500 - val_mae: 100.6785\n",
            "Epoch 61/200\n",
            "605/605 [==============================] - 4s 7ms/step - loss: 48871.3633 - mae: 117.9685 - val_loss: 42470.2812 - val_mae: 104.8456\n",
            "Epoch 62/200\n",
            "605/605 [==============================] - 4s 6ms/step - loss: 48493.2148 - mae: 117.8667 - val_loss: 40938.7383 - val_mae: 104.5690\n",
            "Epoch 63/200\n",
            "605/605 [==============================] - 4s 6ms/step - loss: 48546.0586 - mae: 117.9929 - val_loss: 38301.5938 - val_mae: 103.4980\n",
            "Epoch 64/200\n",
            "605/605 [==============================] - 3s 6ms/step - loss: 48731.3789 - mae: 117.7123 - val_loss: 38275.0469 - val_mae: 101.6043\n",
            "Epoch 65/200\n",
            "605/605 [==============================] - 4s 7ms/step - loss: 48439.3945 - mae: 117.7420 - val_loss: 40671.1914 - val_mae: 108.0606\n",
            "Epoch 66/200\n",
            "605/605 [==============================] - 4s 6ms/step - loss: 48258.1211 - mae: 117.3735 - val_loss: 39719.3320 - val_mae: 105.0178\n",
            "Epoch 67/200\n",
            "605/605 [==============================] - 4s 7ms/step - loss: 48589.0664 - mae: 118.1468 - val_loss: 39342.1172 - val_mae: 105.2403\n",
            "Epoch 68/200\n",
            "605/605 [==============================] - 4s 6ms/step - loss: 48125.2695 - mae: 117.0262 - val_loss: 43171.5547 - val_mae: 105.6118\n",
            "Epoch 69/200\n",
            "605/605 [==============================] - 4s 6ms/step - loss: 48550.5039 - mae: 117.9653 - val_loss: 40126.3711 - val_mae: 105.9522\n",
            "Epoch 70/200\n",
            "605/605 [==============================] - 4s 6ms/step - loss: 48254.7148 - mae: 117.3826 - val_loss: 38547.9609 - val_mae: 107.4455\n",
            "Epoch 71/200\n",
            "605/605 [==============================] - 4s 6ms/step - loss: 48013.7734 - mae: 117.1508 - val_loss: 37809.6914 - val_mae: 101.9891\n",
            "Epoch 72/200\n",
            "605/605 [==============================] - 4s 7ms/step - loss: 47936.6797 - mae: 116.9843 - val_loss: 37840.7500 - val_mae: 101.1525\n",
            "Epoch 73/200\n",
            "605/605 [==============================] - 4s 6ms/step - loss: 47968.3984 - mae: 117.3782 - val_loss: 39391.7695 - val_mae: 121.4187\n",
            "Epoch 74/200\n",
            "605/605 [==============================] - 4s 6ms/step - loss: 47819.2266 - mae: 117.2586 - val_loss: 38281.6992 - val_mae: 101.5215\n",
            "Epoch 75/200\n",
            "605/605 [==============================] - 3s 6ms/step - loss: 47981.3594 - mae: 117.1904 - val_loss: 49784.3047 - val_mae: 114.8698\n",
            "Epoch 76/200\n",
            "605/605 [==============================] - 4s 6ms/step - loss: 48039.2031 - mae: 117.6187 - val_loss: 38136.4414 - val_mae: 103.0485\n",
            "Epoch 77/200\n",
            "605/605 [==============================] - 5s 8ms/step - loss: 47847.7383 - mae: 116.8871 - val_loss: 38310.2930 - val_mae: 101.9889\n",
            "Epoch 78/200\n",
            "605/605 [==============================] - 4s 7ms/step - loss: 47948.4844 - mae: 117.6361 - val_loss: 37588.7812 - val_mae: 101.1757\n",
            "Epoch 79/200\n",
            "605/605 [==============================] - 4s 7ms/step - loss: 47717.0938 - mae: 116.8719 - val_loss: 39163.9609 - val_mae: 101.5177\n",
            "Epoch 80/200\n",
            "605/605 [==============================] - 4s 7ms/step - loss: 47642.7070 - mae: 117.1658 - val_loss: 40573.2891 - val_mae: 104.9022\n",
            "Epoch 81/200\n",
            "605/605 [==============================] - 4s 7ms/step - loss: 47549.0820 - mae: 116.9722 - val_loss: 38167.5000 - val_mae: 103.2774\n",
            "Epoch 82/200\n",
            "605/605 [==============================] - 4s 7ms/step - loss: 47667.7148 - mae: 117.3071 - val_loss: 37460.8047 - val_mae: 101.1559\n",
            "Epoch 83/200\n",
            "605/605 [==============================] - 4s 7ms/step - loss: 47353.7109 - mae: 116.7124 - val_loss: 38784.0859 - val_mae: 101.5352\n",
            "Epoch 84/200\n",
            "605/605 [==============================] - 4s 7ms/step - loss: 47449.4062 - mae: 116.7628 - val_loss: 38273.6562 - val_mae: 106.3529\n",
            "Epoch 85/200\n",
            "605/605 [==============================] - 4s 7ms/step - loss: 47509.7617 - mae: 117.1049 - val_loss: 41427.8555 - val_mae: 125.5734\n",
            "Epoch 86/200\n",
            "605/605 [==============================] - 4s 7ms/step - loss: 47506.2578 - mae: 116.9126 - val_loss: 37293.4336 - val_mae: 104.5436\n",
            "Epoch 87/200\n",
            "605/605 [==============================] - 4s 7ms/step - loss: 47706.2773 - mae: 117.5871 - val_loss: 39973.6680 - val_mae: 103.8360\n",
            "Epoch 88/200\n",
            "605/605 [==============================] - 4s 7ms/step - loss: 47297.7188 - mae: 117.0609 - val_loss: 37907.0781 - val_mae: 100.2688\n",
            "Epoch 89/200\n",
            "605/605 [==============================] - 4s 7ms/step - loss: 47679.1172 - mae: 117.5950 - val_loss: 39258.4883 - val_mae: 107.2421\n",
            "Epoch 90/200\n",
            "605/605 [==============================] - 4s 7ms/step - loss: 47564.4844 - mae: 117.1044 - val_loss: 37907.5312 - val_mae: 100.7572\n",
            "Epoch 91/200\n",
            "605/605 [==============================] - 5s 8ms/step - loss: 47589.5117 - mae: 117.3371 - val_loss: 36640.0547 - val_mae: 101.5986\n",
            "Epoch 92/200\n",
            "605/605 [==============================] - 4s 7ms/step - loss: 47143.7578 - mae: 116.9395 - val_loss: 38531.8867 - val_mae: 100.9891\n",
            "Epoch 93/200\n",
            "605/605 [==============================] - 4s 7ms/step - loss: 47522.8633 - mae: 117.3067 - val_loss: 38434.5391 - val_mae: 103.7062\n",
            "Epoch 94/200\n",
            "605/605 [==============================] - 4s 7ms/step - loss: 47398.3555 - mae: 117.1224 - val_loss: 37590.8750 - val_mae: 101.4330\n",
            "Epoch 95/200\n",
            "605/605 [==============================] - 4s 7ms/step - loss: 47385.9727 - mae: 117.6768 - val_loss: 39011.7734 - val_mae: 120.0182\n",
            "Epoch 96/200\n",
            "605/605 [==============================] - 5s 8ms/step - loss: 47227.2109 - mae: 117.1015 - val_loss: 39327.0234 - val_mae: 113.9041\n",
            "Epoch 97/200\n",
            "605/605 [==============================] - 5s 8ms/step - loss: 47246.0430 - mae: 117.0918 - val_loss: 38024.4727 - val_mae: 104.5969\n",
            "Epoch 98/200\n",
            "605/605 [==============================] - 4s 7ms/step - loss: 47237.9102 - mae: 117.5905 - val_loss: 37634.2539 - val_mae: 101.7048\n",
            "Epoch 99/200\n",
            "605/605 [==============================] - 4s 6ms/step - loss: 47457.4688 - mae: 117.6786 - val_loss: 37426.0781 - val_mae: 103.8017\n",
            "Epoch 100/200\n",
            "605/605 [==============================] - 4s 7ms/step - loss: 47045.8984 - mae: 117.0678 - val_loss: 38319.3516 - val_mae: 105.7690\n",
            "Epoch 101/200\n",
            "605/605 [==============================] - 4s 6ms/step - loss: 47062.6016 - mae: 116.9954 - val_loss: 39010.3320 - val_mae: 100.9976\n",
            "Epoch 102/200\n",
            "605/605 [==============================] - 4s 6ms/step - loss: 46997.2695 - mae: 117.1343 - val_loss: 37832.5859 - val_mae: 101.7633\n",
            "Epoch 103/200\n",
            "605/605 [==============================] - 4s 6ms/step - loss: 46937.2734 - mae: 116.8974 - val_loss: 38949.0859 - val_mae: 101.3699\n",
            "Epoch 104/200\n",
            "605/605 [==============================] - 4s 6ms/step - loss: 47213.9922 - mae: 117.3602 - val_loss: 41002.4805 - val_mae: 109.0148\n",
            "Epoch 105/200\n",
            "605/605 [==============================] - 4s 6ms/step - loss: 47089.4102 - mae: 117.2458 - val_loss: 37371.9258 - val_mae: 102.9474\n",
            "Epoch 106/200\n",
            "605/605 [==============================] - 4s 7ms/step - loss: 46980.3633 - mae: 117.0719 - val_loss: 38505.1602 - val_mae: 101.8539\n",
            "Epoch 107/200\n",
            "605/605 [==============================] - 4s 6ms/step - loss: 46948.7188 - mae: 116.9401 - val_loss: 37992.4062 - val_mae: 110.1431\n",
            "Epoch 108/200\n",
            "605/605 [==============================] - 4s 6ms/step - loss: 46986.5469 - mae: 117.1560 - val_loss: 37675.9844 - val_mae: 101.5576\n",
            "Epoch 109/200\n",
            "605/605 [==============================] - 4s 6ms/step - loss: 46747.2656 - mae: 116.7911 - val_loss: 38377.8555 - val_mae: 106.5466\n",
            "Epoch 110/200\n",
            "605/605 [==============================] - 4s 6ms/step - loss: 46831.7578 - mae: 116.9043 - val_loss: 37186.3281 - val_mae: 100.6482\n",
            "Epoch 111/200\n",
            "605/605 [==============================] - 4s 6ms/step - loss: 46846.1641 - mae: 116.7799 - val_loss: 37464.5977 - val_mae: 108.3537\n",
            "Epoch 112/200\n",
            "605/605 [==============================] - 4s 6ms/step - loss: 46624.1133 - mae: 116.7028 - val_loss: 36764.2656 - val_mae: 102.0112\n",
            "Epoch 113/200\n",
            "605/605 [==============================] - 4s 6ms/step - loss: 46976.4180 - mae: 117.2373 - val_loss: 38496.5742 - val_mae: 114.5851\n",
            "Epoch 114/200\n",
            "605/605 [==============================] - 4s 6ms/step - loss: 46792.1172 - mae: 117.0756 - val_loss: 37217.6562 - val_mae: 105.7700\n",
            "Epoch 115/200\n",
            "605/605 [==============================] - 4s 6ms/step - loss: 46744.8555 - mae: 116.8023 - val_loss: 37711.0039 - val_mae: 101.4265\n",
            "Epoch 116/200\n",
            "605/605 [==============================] - 4s 6ms/step - loss: 46545.9961 - mae: 116.7179 - val_loss: 38472.2383 - val_mae: 100.6985\n",
            "Epoch 117/200\n",
            "605/605 [==============================] - 4s 6ms/step - loss: 46718.8984 - mae: 117.1214 - val_loss: 37752.3086 - val_mae: 102.4250\n",
            "Epoch 118/200\n",
            "605/605 [==============================] - 4s 6ms/step - loss: 46616.7383 - mae: 116.8270 - val_loss: 40898.6836 - val_mae: 103.0920\n",
            "Epoch 119/200\n",
            "605/605 [==============================] - 4s 6ms/step - loss: 46740.7031 - mae: 117.2711 - val_loss: 41678.7930 - val_mae: 112.0598\n",
            "Epoch 120/200\n",
            "605/605 [==============================] - 3s 6ms/step - loss: 46765.4023 - mae: 117.1752 - val_loss: 37511.0547 - val_mae: 108.5924\n",
            "Epoch 121/200\n",
            "605/605 [==============================] - 4s 6ms/step - loss: 46589.0703 - mae: 116.7478 - val_loss: 40065.4219 - val_mae: 102.5890\n",
            "Epoch 122/200\n",
            "605/605 [==============================] - 4s 6ms/step - loss: 46517.7930 - mae: 117.1057 - val_loss: 38886.8359 - val_mae: 102.6356\n",
            "Epoch 123/200\n",
            "605/605 [==============================] - 4s 6ms/step - loss: 46685.2930 - mae: 117.4087 - val_loss: 37539.5430 - val_mae: 107.1884\n",
            "Epoch 124/200\n",
            "605/605 [==============================] - 4s 6ms/step - loss: 46275.4883 - mae: 117.0371 - val_loss: 37715.8086 - val_mae: 101.7767\n",
            "Epoch 125/200\n",
            "605/605 [==============================] - 4s 6ms/step - loss: 46489.3789 - mae: 117.0015 - val_loss: 37255.3789 - val_mae: 107.5017\n",
            "Epoch 126/200\n",
            "605/605 [==============================] - 4s 6ms/step - loss: 46445.0000 - mae: 116.8831 - val_loss: 37551.7188 - val_mae: 99.9092\n",
            "Epoch 127/200\n",
            "605/605 [==============================] - 4s 6ms/step - loss: 46368.7930 - mae: 117.0067 - val_loss: 37568.0742 - val_mae: 106.7190\n",
            "Epoch 128/200\n",
            "605/605 [==============================] - 4s 6ms/step - loss: 46235.2734 - mae: 116.7407 - val_loss: 37786.0625 - val_mae: 112.9774\n",
            "Epoch 129/200\n",
            "605/605 [==============================] - 4s 7ms/step - loss: 46560.1367 - mae: 117.2755 - val_loss: 36453.7188 - val_mae: 99.7507\n",
            "Epoch 130/200\n",
            "605/605 [==============================] - 4s 7ms/step - loss: 46311.9180 - mae: 116.9898 - val_loss: 37696.7148 - val_mae: 105.3829\n",
            "Epoch 131/200\n",
            "605/605 [==============================] - 4s 6ms/step - loss: 46449.5156 - mae: 117.2209 - val_loss: 38041.2656 - val_mae: 108.0315\n",
            "Epoch 132/200\n",
            "605/605 [==============================] - 4s 6ms/step - loss: 46262.1719 - mae: 116.8231 - val_loss: 36380.6641 - val_mae: 99.6077\n",
            "Epoch 133/200\n",
            "605/605 [==============================] - 4s 6ms/step - loss: 46338.9141 - mae: 117.1590 - val_loss: 37589.0703 - val_mae: 107.9310\n",
            "Epoch 134/200\n",
            "605/605 [==============================] - 4s 6ms/step - loss: 46167.1914 - mae: 117.1444 - val_loss: 36533.1914 - val_mae: 104.6344\n",
            "Epoch 135/200\n",
            "605/605 [==============================] - 4s 6ms/step - loss: 46307.1875 - mae: 117.1177 - val_loss: 38811.8828 - val_mae: 102.7704\n",
            "Epoch 136/200\n",
            "605/605 [==============================] - 4s 6ms/step - loss: 46192.4258 - mae: 116.9896 - val_loss: 37666.0312 - val_mae: 101.0176\n",
            "Epoch 137/200\n",
            "605/605 [==============================] - 4s 6ms/step - loss: 46093.3242 - mae: 117.0400 - val_loss: 37363.0625 - val_mae: 99.8960\n",
            "Epoch 138/200\n",
            "605/605 [==============================] - 4s 6ms/step - loss: 46139.3320 - mae: 117.2718 - val_loss: 37139.9180 - val_mae: 103.7715\n",
            "Epoch 139/200\n",
            "605/605 [==============================] - 4s 6ms/step - loss: 46397.5977 - mae: 117.3680 - val_loss: 37105.2188 - val_mae: 105.0418\n",
            "Epoch 140/200\n",
            "605/605 [==============================] - 4s 6ms/step - loss: 45976.8086 - mae: 116.8406 - val_loss: 36813.5898 - val_mae: 99.9800\n",
            "Epoch 141/200\n",
            "605/605 [==============================] - 4s 6ms/step - loss: 46189.6680 - mae: 117.1096 - val_loss: 36349.6836 - val_mae: 99.0910\n",
            "Epoch 142/200\n",
            "605/605 [==============================] - 4s 6ms/step - loss: 46028.4648 - mae: 117.0693 - val_loss: 36036.8906 - val_mae: 101.8871\n",
            "Epoch 143/200\n",
            "605/605 [==============================] - 4s 6ms/step - loss: 45896.7695 - mae: 116.8938 - val_loss: 36412.0664 - val_mae: 98.9750\n",
            "Epoch 144/200\n",
            "605/605 [==============================] - 4s 6ms/step - loss: 45928.0469 - mae: 117.0128 - val_loss: 38405.9688 - val_mae: 101.7764\n",
            "Epoch 145/200\n",
            "605/605 [==============================] - 4s 6ms/step - loss: 45853.7188 - mae: 116.7391 - val_loss: 37329.7266 - val_mae: 99.4284\n",
            "Epoch 146/200\n",
            "605/605 [==============================] - 4s 6ms/step - loss: 46008.8164 - mae: 117.2090 - val_loss: 36021.7734 - val_mae: 99.8753\n",
            "Epoch 147/200\n",
            "605/605 [==============================] - 4s 6ms/step - loss: 46022.0039 - mae: 117.1577 - val_loss: 36417.0742 - val_mae: 102.5879\n",
            "Epoch 148/200\n",
            "605/605 [==============================] - 4s 6ms/step - loss: 45894.3047 - mae: 117.1385 - val_loss: 36336.3867 - val_mae: 103.2072\n",
            "Epoch 149/200\n",
            "605/605 [==============================] - 4s 6ms/step - loss: 45790.2891 - mae: 117.2250 - val_loss: 37146.2305 - val_mae: 104.6495\n",
            "Epoch 150/200\n",
            "605/605 [==============================] - 4s 6ms/step - loss: 45664.8203 - mae: 116.8300 - val_loss: 38494.8086 - val_mae: 102.0213\n",
            "Epoch 151/200\n",
            "605/605 [==============================] - 4s 6ms/step - loss: 45835.6992 - mae: 117.1531 - val_loss: 37821.2812 - val_mae: 104.9828\n",
            "Epoch 152/200\n",
            "605/605 [==============================] - 4s 6ms/step - loss: 46032.2539 - mae: 117.5822 - val_loss: 36644.4961 - val_mae: 103.6680\n",
            "Epoch 153/200\n",
            "605/605 [==============================] - 4s 6ms/step - loss: 45896.1641 - mae: 117.2982 - val_loss: 37657.2227 - val_mae: 102.4284\n",
            "Epoch 154/200\n",
            "605/605 [==============================] - 4s 6ms/step - loss: 45948.4922 - mae: 117.1121 - val_loss: 37521.2344 - val_mae: 109.6101\n",
            "Epoch 155/200\n",
            "605/605 [==============================] - 4s 6ms/step - loss: 45902.4648 - mae: 117.3383 - val_loss: 36667.2188 - val_mae: 100.0297\n",
            "Epoch 156/200\n",
            "605/605 [==============================] - 4s 6ms/step - loss: 46100.3867 - mae: 117.6095 - val_loss: 38881.6094 - val_mae: 103.9727\n",
            "Epoch 157/200\n",
            "605/605 [==============================] - 4s 6ms/step - loss: 46042.8438 - mae: 117.5623 - val_loss: 37119.6367 - val_mae: 104.3874\n",
            "Epoch 158/200\n",
            "605/605 [==============================] - 4s 6ms/step - loss: 45944.3750 - mae: 117.5144 - val_loss: 37719.3633 - val_mae: 102.5515\n",
            "Epoch 159/200\n",
            "605/605 [==============================] - 4s 6ms/step - loss: 45799.3789 - mae: 117.2724 - val_loss: 38158.0273 - val_mae: 110.1578\n",
            "Epoch 160/200\n",
            "605/605 [==============================] - 4s 6ms/step - loss: 45969.9805 - mae: 117.5962 - val_loss: 38776.4375 - val_mae: 101.9791\n",
            "Epoch 161/200\n",
            "605/605 [==============================] - 4s 6ms/step - loss: 45407.1797 - mae: 116.8498 - val_loss: 42592.3164 - val_mae: 120.1794\n",
            "Epoch 162/200\n",
            "605/605 [==============================] - 4s 6ms/step - loss: 45934.7383 - mae: 117.5708 - val_loss: 36495.0195 - val_mae: 101.2240\n",
            "Epoch 163/200\n",
            "605/605 [==============================] - 4s 6ms/step - loss: 45992.4922 - mae: 117.8231 - val_loss: 37392.6055 - val_mae: 103.7687\n",
            "Epoch 164/200\n",
            "605/605 [==============================] - 4s 6ms/step - loss: 45738.8242 - mae: 117.5622 - val_loss: 37426.0586 - val_mae: 106.4649\n",
            "Epoch 165/200\n",
            "605/605 [==============================] - 4s 6ms/step - loss: 45782.6250 - mae: 117.4941 - val_loss: 38645.6328 - val_mae: 101.9594\n",
            "Epoch 166/200\n",
            "605/605 [==============================] - 4s 6ms/step - loss: 45747.1797 - mae: 117.5864 - val_loss: 38953.5039 - val_mae: 113.3119\n",
            "Epoch 167/200\n",
            "605/605 [==============================] - 4s 6ms/step - loss: 45834.7109 - mae: 117.7332 - val_loss: 36806.5234 - val_mae: 103.5866\n",
            "Epoch 168/200\n",
            "605/605 [==============================] - 4s 6ms/step - loss: 45671.7930 - mae: 117.3575 - val_loss: 38068.6172 - val_mae: 105.5598\n",
            "Epoch 169/200\n",
            "605/605 [==============================] - 4s 6ms/step - loss: 45622.9062 - mae: 117.3840 - val_loss: 36008.6719 - val_mae: 98.5849\n",
            "Epoch 170/200\n",
            "605/605 [==============================] - 4s 6ms/step - loss: 45649.9883 - mae: 117.5818 - val_loss: 36353.0664 - val_mae: 99.8107\n",
            "Epoch 171/200\n",
            "605/605 [==============================] - 4s 6ms/step - loss: 45906.2852 - mae: 117.7924 - val_loss: 40790.4141 - val_mae: 103.3054\n",
            "Epoch 172/200\n",
            "605/605 [==============================] - 4s 6ms/step - loss: 45642.9688 - mae: 117.4291 - val_loss: 36689.7305 - val_mae: 104.2702\n",
            "Epoch 173/200\n",
            "605/605 [==============================] - 4s 6ms/step - loss: 45526.4336 - mae: 117.4992 - val_loss: 42839.8438 - val_mae: 107.8347\n",
            "Epoch 174/200\n",
            "605/605 [==============================] - 4s 6ms/step - loss: 45470.7070 - mae: 117.3800 - val_loss: 37465.8125 - val_mae: 100.5444\n",
            "Epoch 175/200\n",
            "605/605 [==============================] - 3s 6ms/step - loss: 45416.1758 - mae: 117.4819 - val_loss: 37428.9062 - val_mae: 103.2323\n",
            "Epoch 176/200\n",
            "605/605 [==============================] - 4s 6ms/step - loss: 45567.7188 - mae: 117.3793 - val_loss: 37027.1875 - val_mae: 105.6917\n",
            "Epoch 177/200\n",
            "605/605 [==============================] - 3s 6ms/step - loss: 45407.3047 - mae: 117.3927 - val_loss: 36262.0273 - val_mae: 105.1162\n",
            "Epoch 178/200\n",
            "605/605 [==============================] - 4s 6ms/step - loss: 45527.8984 - mae: 117.4700 - val_loss: 36670.3281 - val_mae: 100.3926\n",
            "Epoch 179/200\n",
            "605/605 [==============================] - 4s 6ms/step - loss: 45761.3398 - mae: 117.9167 - val_loss: 36838.5547 - val_mae: 100.7975\n",
            "Epoch 180/200\n",
            "605/605 [==============================] - 4s 6ms/step - loss: 45399.9375 - mae: 117.5597 - val_loss: 37279.1953 - val_mae: 104.5505\n",
            "Epoch 181/200\n",
            "605/605 [==============================] - 4s 6ms/step - loss: 45483.2031 - mae: 117.5530 - val_loss: 41760.4375 - val_mae: 104.6207\n",
            "Epoch 182/200\n",
            "605/605 [==============================] - 4s 6ms/step - loss: 45401.8906 - mae: 117.5917 - val_loss: 36617.9102 - val_mae: 98.9124\n",
            "Epoch 183/200\n",
            "605/605 [==============================] - 4s 6ms/step - loss: 45536.5664 - mae: 117.7967 - val_loss: 37481.8008 - val_mae: 100.9540\n",
            "Epoch 184/200\n",
            "605/605 [==============================] - 4s 6ms/step - loss: 45336.4180 - mae: 117.6289 - val_loss: 38003.4023 - val_mae: 105.3173\n",
            "Epoch 185/200\n",
            "605/605 [==============================] - 4s 6ms/step - loss: 45484.7422 - mae: 117.6332 - val_loss: 36744.1680 - val_mae: 102.2422\n",
            "Epoch 186/200\n",
            "605/605 [==============================] - 3s 6ms/step - loss: 45456.9805 - mae: 117.5904 - val_loss: 40631.0273 - val_mae: 101.4791\n",
            "Epoch 187/200\n",
            "605/605 [==============================] - 4s 6ms/step - loss: 45298.6875 - mae: 117.6509 - val_loss: 36284.5391 - val_mae: 104.4919\n",
            "Epoch 188/200\n",
            "605/605 [==============================] - 4s 6ms/step - loss: 45336.9414 - mae: 117.5824 - val_loss: 42343.0117 - val_mae: 114.3901\n",
            "Epoch 189/200\n",
            "605/605 [==============================] - 4s 6ms/step - loss: 45254.0078 - mae: 117.4506 - val_loss: 36394.9609 - val_mae: 103.5426\n",
            "Epoch 190/200\n",
            "605/605 [==============================] - 4s 6ms/step - loss: 45576.3398 - mae: 118.0615 - val_loss: 37761.8594 - val_mae: 104.0007\n",
            "Epoch 191/200\n",
            "605/605 [==============================] - 4s 6ms/step - loss: 45251.3242 - mae: 117.6309 - val_loss: 37991.7695 - val_mae: 114.0570\n",
            "Epoch 192/200\n",
            "605/605 [==============================] - 4s 6ms/step - loss: 45268.8984 - mae: 117.5944 - val_loss: 35906.5898 - val_mae: 101.4055\n",
            "Epoch 193/200\n",
            "605/605 [==============================] - 4s 6ms/step - loss: 45381.9961 - mae: 117.7510 - val_loss: 37144.1133 - val_mae: 98.9087\n",
            "Epoch 194/200\n",
            "605/605 [==============================] - 4s 6ms/step - loss: 45225.9961 - mae: 117.8296 - val_loss: 37647.8867 - val_mae: 100.0261\n",
            "Epoch 195/200\n",
            "605/605 [==============================] - 4s 6ms/step - loss: 45397.0781 - mae: 117.8547 - val_loss: 38468.3320 - val_mae: 105.5032\n",
            "Epoch 196/200\n",
            "605/605 [==============================] - 4s 6ms/step - loss: 45080.7930 - mae: 117.5623 - val_loss: 37778.8008 - val_mae: 100.3241\n",
            "Epoch 197/200\n",
            "605/605 [==============================] - 4s 6ms/step - loss: 45184.8125 - mae: 117.7820 - val_loss: 38339.1875 - val_mae: 101.2658\n",
            "Epoch 198/200\n",
            "605/605 [==============================] - 4s 6ms/step - loss: 45388.5039 - mae: 117.8435 - val_loss: 36662.1406 - val_mae: 101.6105\n",
            "Epoch 199/200\n",
            "605/605 [==============================] - 4s 6ms/step - loss: 45210.6406 - mae: 117.7579 - val_loss: 36693.8672 - val_mae: 108.5272\n",
            "Epoch 200/200\n",
            "605/605 [==============================] - 4s 6ms/step - loss: 45245.2383 - mae: 117.8895 - val_loss: 35329.9766 - val_mae: 99.0023\n"
          ]
        }
      ]
    },
    {
      "cell_type": "markdown",
      "source": [
        "# **Method 2: Fitting a Model with Automatic Hyperparameter Selection**"
      ],
      "metadata": {
        "id": "wqwMMd67nQSv"
      }
    },
    {
      "cell_type": "markdown",
      "source": [
        "Define the path to access the saved arrays"
      ],
      "metadata": {
        "id": "Fib6HTxCneSv"
      }
    },
    {
      "cell_type": "code",
      "source": [
        "new_file_directory = '/content/gdrive/MyDrive/Colab Notebooks/Data/Variables/Training Arrays/'"
      ],
      "metadata": {
        "id": "MiIwpFYMnTD3"
      },
      "execution_count": null,
      "outputs": []
    },
    {
      "cell_type": "markdown",
      "source": [
        "Load in the saved arrays into variables and assert the shapes are correct"
      ],
      "metadata": {
        "id": "lihMxSnenivC"
      }
    },
    {
      "cell_type": "code",
      "source": [
        "atmospheric_variables = np.load(new_file_directory+'Atmospheric.npy')\n",
        "cloud_perimeter = np.load(new_file_directory+'Perimeter.npy')\n",
        "height = np.load(new_file_directory+'Height.npy')\n",
        "cloud_fraction = np.load(new_file_directory+'Fraction.npy')\n",
        "print(cloud_perimeter.shape)\n",
        "print(cloud_fraction.shape)\n",
        "print(height.shape)\n",
        "print(atmospheric_variables.shape)"
      ],
      "metadata": {
        "colab": {
          "base_uri": "https://localhost:8080/"
        },
        "id": "--iexYPunmEd",
        "outputId": "420d80f1-3a4c-46b0-ee0e-82ada8c155b2"
      },
      "execution_count": null,
      "outputs": [
        {
          "output_type": "stream",
          "name": "stdout",
          "text": [
            "(1767636, 1)\n",
            "(1767636, 1)\n",
            "(1767636, 1)\n",
            "(1767636, 332, 10)\n"
          ]
        }
      ]
    },
    {
      "cell_type": "code",
      "source": [
        "print(cloud_perimeter)"
      ],
      "metadata": {
        "colab": {
          "base_uri": "https://localhost:8080/"
        },
        "id": "LzcS5JQFfxVw",
        "outputId": "fe2316b7-c9c7-4488-b043-3f789de97ddc"
      },
      "execution_count": null,
      "outputs": [
        {
          "output_type": "stream",
          "name": "stdout",
          "text": [
            "[[ 218.]\n",
            " [1277.]\n",
            " [ 528.]\n",
            " ...\n",
            " [  17.]\n",
            " [   5.]\n",
            " [   9.]]\n"
          ]
        }
      ]
    },
    {
      "cell_type": "markdown",
      "source": [
        "We do not require all atmospheric variables or height levels. Hence we create masks to reduce the atmospheric variables array to the appropriate indices"
      ],
      "metadata": {
        "id": "_Bf5yPo6n0R1"
      }
    },
    {
      "cell_type": "code",
      "source": [
        "#take only the first 10 height levels\n",
        "atmospheric_variables = atmospheric_variables[:,:7,:]\n",
        "#take only 4 of the atmospheric variables\n",
        "variable_mask = [True,False,False,True,True,False,False,False,True,False]\n",
        "atmospheric_variables = atmospheric_variables[:,:,variable_mask]\n",
        "#print the new shape of atmospheric variables\n",
        "print(atmospheric_variables.shape)"
      ],
      "metadata": {
        "colab": {
          "base_uri": "https://localhost:8080/"
        },
        "id": "CxQ4k3rSn1HH",
        "outputId": "a94458a8-aeba-469e-fb7e-568837c421d5"
      },
      "execution_count": null,
      "outputs": [
        {
          "output_type": "stream",
          "name": "stdout",
          "text": [
            "(1767636, 7, 4)\n"
          ]
        }
      ]
    },
    {
      "cell_type": "markdown",
      "source": [
        "Define functions to construct the model and create the train, validation and test sets. Use the parameter hp (for hyperparameter) which is required by keras tuner"
      ],
      "metadata": {
        "id": "wq3MdY30n5jb"
      }
    },
    {
      "cell_type": "code",
      "source": [
        "def train_val_test_split(atmospheric_variables,cloud_fraction,height,cloud_perimeter):\n",
        "      #check that the number of data points agree for all variables\n",
        "      assert atmospheric_variables.shape[0]==cloud_fraction.shape[0] and \\\n",
        "      atmospheric_variables.shape[0]==height.shape[0] \\\n",
        "      and atmospheric_variables.shape[0]==cloud_perimeter.shape[0]\n",
        "\n",
        "      num_data_points = int(atmospheric_variables.shape[0])\n",
        "       \n",
        "      #define the shuffling permutation and shuffle the variables in unison\n",
        "      perm = np.random.permutation(num_data_points)\n",
        "      atmospheric_variables = atmospheric_variables[perm,:,:]\n",
        "      cloud_fraction = cloud_fraction[perm,:]\n",
        "      height = height[perm,:]\n",
        "      cloud_perimeter = cloud_perimeter[perm,:]\n",
        "\n",
        "      #combine the height and cloud fraction variables\n",
        "      x2=np.stack((cloud_fraction,height),axis=2)\n",
        "\n",
        "      #compute the training set size\n",
        "      train_size=int(np.floor(0.7*num_data_points))\n",
        "      val_size=int(np.floor(0.85*num_data_points))\n",
        "\n",
        "      #specify the train, test and validation sets\n",
        "      #split the data into train and test\n",
        "      x1_train=atmospheric_variables[:train_size,:,:]\n",
        "      x2_train=x2[:train_size,:,:]\n",
        "      y_train=cloud_perimeter[:train_size,:]\n",
        "      #\n",
        "      x1_val=atmospheric_variables[train_size:val_size,:,:]\n",
        "      x2_val=x2[train_size:val_size,:,:]\n",
        "      y_val=cloud_perimeter[train_size:val_size,:]\n",
        "      #\n",
        "      x1_test=atmospheric_variables[val_size:,:,:]\n",
        "      x2_test=x2[val_size:,:,:]\n",
        "      y_test=cloud_perimeter[val_size:,:]\n",
        "\n",
        "      return x1_train, x2_train, y_train, x1_val, x2_val, y_val, x1_test, x2_test, y_test"
      ],
      "metadata": {
        "id": "Rr9_Z2rtolLl"
      },
      "execution_count": null,
      "outputs": []
    },
    {
      "cell_type": "code",
      "source": [
        "x1_train, x2_train, y_train, x1_val, x2_val, y_val, x1_test, x2_test, y_test = train_val_test_split(atmospheric_variables,cloud_fraction,height,cloud_perimeter)"
      ],
      "metadata": {
        "id": "U9fVe7rtpCIp"
      },
      "execution_count": null,
      "outputs": []
    },
    {
      "cell_type": "code",
      "source": [
        "print(x2_test.shape)"
      ],
      "metadata": {
        "colab": {
          "base_uri": "https://localhost:8080/"
        },
        "id": "5wjP5PsdpC34",
        "outputId": "2da9a226-ba0a-466a-894a-b734fca04f0f"
      },
      "execution_count": null,
      "outputs": [
        {
          "output_type": "stream",
          "name": "stdout",
          "text": [
            "(265146, 1, 2)\n"
          ]
        }
      ]
    },
    {
      "cell_type": "markdown",
      "source": [
        "Delete the variables to save RAM"
      ],
      "metadata": {
        "id": "hT7UOu7Rz1fq"
      }
    },
    {
      "cell_type": "code",
      "source": [
        "del atmospheric_variables\n",
        "del cloud_fraction\n",
        "del height\n",
        "del cloud_perimeter"
      ],
      "metadata": {
        "id": "aKOds58bz0gI"
      },
      "execution_count": null,
      "outputs": []
    },
    {
      "cell_type": "markdown",
      "source": [
        "#### **Case 1: Define the Tuner from Scratch**"
      ],
      "metadata": {
        "id": "pcqEoOBGpHa6"
      }
    },
    {
      "cell_type": "markdown",
      "source": [
        "⬛Run this section only if you wish to do the tuning from scratch rather than load in a saved tuner"
      ],
      "metadata": {
        "id": "ph9e2JtBpKz4"
      }
    },
    {
      "cell_type": "markdown",
      "source": [
        "❗❗❗Note: adjust the (10,4) shape to be appropriate to the shape of the atmospheric_variables that has been defined in the previous cell (when only certain variables and height levels were chosen)"
      ],
      "metadata": {
        "id": "gWV79l_poFQV"
      }
    },
    {
      "cell_type": "code",
      "source": [
        "def construct_model(hp):\n",
        "      #define the two inputs for the two heads of the network\n",
        "      inputA=Input(shape=(7,4))\n",
        "      inputB=Input(shape=(1,2))\n",
        "\n",
        "      hp_kernel = hp.Choice('kernel_size', values = [1,2,3,4,5,6])\n",
        "      hp_pool = hp.Choice('pool_size', values = [1,2,3,4])\n",
        "      #define the convolutional layers acting on inputA\n",
        "      a=Conv1D(filters=8,kernel_size=hp_kernel,padding='same',activation='relu')(inputA)\n",
        "      a=MaxPooling1D(pool_size=hp_pool, padding='same')(a)\n",
        "      a=Conv1D(filters=16,kernel_size=hp_kernel,padding='same',activation='relu')(a)\n",
        "      a=MaxPooling1D(pool_size=hp_pool, padding='same')(a)\n",
        "      a=Conv1D(filters=32,kernel_size=hp_kernel,padding='same',activation='relu')(a)\n",
        "      a=MaxPooling1D(pool_size=hp_pool, padding='same')(a)\n",
        "      a=Conv1D(filters=32,kernel_size=hp_kernel,padding='same',activation='relu')(a)\n",
        "      a=MaxPooling1D(pool_size=hp_pool, padding='same')(a)\n",
        "      a=Flatten()(a)\n",
        "      a=Model(inputs=inputA, outputs=a)\n",
        "\n",
        "      #define the other head of the network for inputB\n",
        "      b=Flatten()(inputB)\n",
        "      b=Dense(4)(b)\n",
        "      b=Model(inputs=inputB, outputs=b)\n",
        "\n",
        "      #combine the heads of the network\n",
        "      hp_units_z1 = hp.Int('units_1', min_value=32, max_value=512, step=32)\n",
        "      hp_units_z2 = hp.Int('units_2', min_value=32, max_value=512, step=32)\n",
        "      hp_units_z3 = hp.Int('units_3', min_value=16, max_value=256, step=16)\n",
        "      hp_units_z4 = hp.Int('units_4', min_value=16, max_value=128, step=16)\n",
        "      hp_dropout = hp.Choice('dropout', values = [0.0,0.1,0.2,0.3,0.4,0.5,0.6,0.7])\n",
        "\n",
        "      combined_vector = concatenate([a.output, b.output])\n",
        "      z=Dense(units=hp_units_z1, activation=\"relu\")(combined_vector)\n",
        "      z=Dropout(hp_dropout)(z)\n",
        "      z=Dense(units=hp_units_z2, activation=\"relu\")(z)\n",
        "      z=Dropout(hp_dropout)(z)\n",
        "      z=Dense(units=hp_units_z3, activation=\"relu\")(z)\n",
        "      z=Dropout(hp_dropout)(z)\n",
        "      z=Dense(units=hp_units_z4, activation=\"relu\")(z)\n",
        "      z=Dropout(hp_dropout)(z)\n",
        "      z=Dense(1)(z)\n",
        "\n",
        "      #finally define the outputs\n",
        "      model=Model(inputs=[inputA,inputB], outputs=z)\n",
        "\n",
        "\n",
        "      hp_learning_rate = 0.001\n",
        "      opt_choice=keras.optimizers.Adam(learning_rate=hp_learning_rate)\n",
        "      model.compile(optimizer=opt_choice,loss=\"mse\",metrics=['mae'])\n",
        "\n",
        "      return model"
      ],
      "metadata": {
        "id": "ys1efJnVoBxN"
      },
      "execution_count": null,
      "outputs": []
    },
    {
      "cell_type": "code",
      "source": [
        "def adapt_learning_rate(epoch):\n",
        "          power = epoch // 20\n",
        "          multiplier = 0.1 ** power\n",
        "          if epoch < 60: \n",
        "            lr = 0.002 * multiplier\n",
        "          else:\n",
        "            lr = 2e-5\n",
        "          return lr\n",
        "my_lr_scheduler = keras.callbacks.LearningRateScheduler(adapt_learning_rate)"
      ],
      "metadata": {
        "id": "tP5Zlr5iJcXe"
      },
      "execution_count": null,
      "outputs": []
    },
    {
      "cell_type": "code",
      "source": [
        "tuner = kt.Hyperband(construct_model,\n",
        "                     objective='val_mae',\n",
        "                     max_epochs=200,\n",
        "                     directory='/content/gdrive/MyDrive/Colab Notebooks/Tuning',\n",
        "                     project_name='RoundingFixed_Hyperband_Tuner_allfiles_more_epochs')"
      ],
      "metadata": {
        "id": "VHt1giNbpEiT"
      },
      "execution_count": null,
      "outputs": []
    },
    {
      "cell_type": "code",
      "source": [
        "tuner.search(x=[x1_train,x2_train], y=y_train, validation_data=([x1_val,x2_val], y_val), epochs=200, batch_size=2048, shuffle=True, callbacks=[my_lr_scheduler])"
      ],
      "metadata": {
        "id": "TjRgtdhppUtB",
        "colab": {
          "base_uri": "https://localhost:8080/"
        },
        "outputId": "943036a2-0741-4866-eb16-c1ea97d3dded"
      },
      "execution_count": null,
      "outputs": [
        {
          "output_type": "stream",
          "name": "stdout",
          "text": [
            "Trial 254 Complete [00h 15m 52s]\n",
            "val_mae: 121.57565307617188\n",
            "\n",
            "Best val_mae So Far: 93.317138671875\n",
            "Total elapsed time: 07h 40m 32s\n"
          ]
        }
      ]
    },
    {
      "cell_type": "markdown",
      "source": [
        "#### **OR Case 2: Reload a Saved Tuner (DO NOT EDIT, JUST ADD)**"
      ],
      "metadata": {
        "id": "guZuOSGspmDs"
      }
    },
    {
      "cell_type": "markdown",
      "source": [
        "**The construct model function for RoundingFixed_Hyperband_Tuner_allfiles_more_epochs...**"
      ],
      "metadata": {
        "id": "7KMechKVBAPt"
      }
    },
    {
      "cell_type": "markdown",
      "source": [
        "❗❗❗ Uses the adaptive learning rate!"
      ],
      "metadata": {
        "id": "ytxrIZYWBHUE"
      }
    },
    {
      "cell_type": "code",
      "source": [
        "def construct_model(hp):\n",
        "      #define the two inputs for the two heads of the network\n",
        "      inputA=Input(shape=(7,4))\n",
        "      inputB=Input(shape=(1,2))\n",
        "\n",
        "      hp_kernel = hp.Choice('kernel_size', values = [1,2,3,4,5,6])\n",
        "      hp_pool = hp.Choice('pool_size', values = [1,2,3,4])\n",
        "      #define the convolutional layers acting on inputA\n",
        "      a=Conv1D(filters=8,kernel_size=hp_kernel,padding='same',activation='relu')(inputA)\n",
        "      a=MaxPooling1D(pool_size=hp_pool, padding='same')(a)\n",
        "      a=Conv1D(filters=16,kernel_size=hp_kernel,padding='same',activation='relu')(a)\n",
        "      a=MaxPooling1D(pool_size=hp_pool, padding='same')(a)\n",
        "      a=Conv1D(filters=32,kernel_size=hp_kernel,padding='same',activation='relu')(a)\n",
        "      a=MaxPooling1D(pool_size=hp_pool, padding='same')(a)\n",
        "      a=Conv1D(filters=32,kernel_size=hp_kernel,padding='same',activation='relu')(a)\n",
        "      a=MaxPooling1D(pool_size=hp_pool, padding='same')(a)\n",
        "      a=Flatten()(a)\n",
        "      a=Model(inputs=inputA, outputs=a)\n",
        "\n",
        "      #define the other head of the network for inputB\n",
        "      b=Flatten()(inputB)\n",
        "      b=Dense(4)(b)\n",
        "      b=Model(inputs=inputB, outputs=b)\n",
        "\n",
        "      #combine the heads of the network\n",
        "      hp_units_z1 = hp.Int('units_1', min_value=32, max_value=512, step=32)\n",
        "      hp_units_z2 = hp.Int('units_2', min_value=32, max_value=512, step=32)\n",
        "      hp_units_z3 = hp.Int('units_3', min_value=16, max_value=256, step=16)\n",
        "      hp_units_z4 = hp.Int('units_4', min_value=16, max_value=128, step=16)\n",
        "      hp_dropout = hp.Choice('dropout', values = [0.0,0.1,0.2,0.3,0.4,0.5,0.6,0.7])\n",
        "\n",
        "      combined_vector = concatenate([a.output, b.output])\n",
        "      z=Dense(units=hp_units_z1, activation=\"relu\")(combined_vector)\n",
        "      z=Dropout(hp_dropout)(z)\n",
        "      z=Dense(units=hp_units_z2, activation=\"relu\")(z)\n",
        "      z=Dropout(hp_dropout)(z)\n",
        "      z=Dense(units=hp_units_z3, activation=\"relu\")(z)\n",
        "      z=Dropout(hp_dropout)(z)\n",
        "      z=Dense(units=hp_units_z4, activation=\"relu\")(z)\n",
        "      z=Dropout(hp_dropout)(z)\n",
        "      z=Dense(1)(z)\n",
        "\n",
        "      #finally define the outputs\n",
        "      model=Model(inputs=[inputA,inputB], outputs=z)\n",
        "\n",
        "\n",
        "      hp_learning_rate = 0.001\n",
        "      opt_choice=keras.optimizers.Adam(learning_rate=hp_learning_rate)\n",
        "      model.compile(optimizer=opt_choice,loss=\"mse\",metrics=['mae'])\n",
        "\n",
        "      return model"
      ],
      "metadata": {
        "id": "dxYAQyifBKpQ"
      },
      "execution_count": null,
      "outputs": []
    },
    {
      "cell_type": "code",
      "source": [
        "tuner = kt.Hyperband(construct_model,\n",
        "                     objective='val_mae',\n",
        "                     max_epochs=200,\n",
        "                     directory='/content/gdrive/MyDrive/Colab Notebooks/Tuning',\n",
        "                     project_name='RoundingFixed_Hyperband_Tuner_allfiles_more_epochs')"
      ],
      "metadata": {
        "id": "TNajrLG0BQol"
      },
      "execution_count": null,
      "outputs": []
    },
    {
      "cell_type": "markdown",
      "source": [
        "**The construct model function for Hyperband_Tuner_allfiles_more_epochs...**"
      ],
      "metadata": {
        "id": "GnR53wBdVnEd"
      }
    },
    {
      "cell_type": "markdown",
      "source": [
        "❗❗❗ Uses the adaptive learning rate!"
      ],
      "metadata": {
        "id": "wC6M_BkUYcwZ"
      }
    },
    {
      "cell_type": "code",
      "source": [
        "def construct_model(hp):\n",
        "      #define the two inputs for the two heads of the network\n",
        "      inputA=Input(shape=(7,4))\n",
        "      inputB=Input(shape=(1,2))\n",
        "\n",
        "      hp_kernel = hp.Choice('kernel_size', values = [1,2,3,4,5,6])\n",
        "      hp_pool = hp.Choice('pool_size', values = [1,2,3,4])\n",
        "      #define the convolutional layers acting on inputA\n",
        "      a=Conv1D(filters=8,kernel_size=hp_kernel,padding='same',activation='relu')(inputA)\n",
        "      a=MaxPooling1D(pool_size=hp_pool, padding='same')(a)\n",
        "      a=Conv1D(filters=16,kernel_size=hp_kernel,padding='same',activation='relu')(a)\n",
        "      a=MaxPooling1D(pool_size=hp_pool, padding='same')(a)\n",
        "      a=Conv1D(filters=32,kernel_size=hp_kernel,padding='same',activation='relu')(a)\n",
        "      a=MaxPooling1D(pool_size=hp_pool, padding='same')(a)\n",
        "      a=Conv1D(filters=32,kernel_size=hp_kernel,padding='same',activation='relu')(a)\n",
        "      a=MaxPooling1D(pool_size=hp_pool, padding='same')(a)\n",
        "      a=Flatten()(a)\n",
        "      a=Model(inputs=inputA, outputs=a)\n",
        "\n",
        "      #define the other head of the network for inputB\n",
        "      b=Flatten()(inputB)\n",
        "      b=Dense(4)(b)\n",
        "      b=Model(inputs=inputB, outputs=b)\n",
        "\n",
        "      #combine the heads of the network\n",
        "      hp_units_z1 = hp.Int('units_1', min_value=32, max_value=512, step=32)\n",
        "      hp_units_z2 = hp.Int('units_2', min_value=32, max_value=512, step=32)\n",
        "      hp_units_z3 = hp.Int('units_3', min_value=16, max_value=256, step=16)\n",
        "      hp_units_z4 = hp.Int('units_4', min_value=16, max_value=128, step=16)\n",
        "      hp_dropout = hp.Choice('dropout', values = [0.0,0.1,0.2,0.3,0.4,0.5,0.6,0.7])\n",
        "\n",
        "      combined_vector = concatenate([a.output, b.output])\n",
        "      z=Dense(units=hp_units_z1, activation=\"relu\")(combined_vector)\n",
        "      z=Dropout(hp_dropout)(z)\n",
        "      z=Dense(units=hp_units_z2, activation=\"relu\")(z)\n",
        "      z=Dropout(hp_dropout)(z)\n",
        "      z=Dense(units=hp_units_z3, activation=\"relu\")(z)\n",
        "      z=Dropout(hp_dropout)(z)\n",
        "      z=Dense(units=hp_units_z4, activation=\"relu\")(z)\n",
        "      z=Dropout(hp_dropout)(z)\n",
        "      z=Dense(1)(z)\n",
        "\n",
        "      #finally define the outputs\n",
        "      model=Model(inputs=[inputA,inputB], outputs=z)\n",
        "\n",
        "\n",
        "      hp_learning_rate = 0.001\n",
        "      opt_choice=keras.optimizers.Adam(learning_rate=hp_learning_rate)\n",
        "      model.compile(optimizer=opt_choice,loss=\"mse\",metrics=['mae'])\n",
        "\n",
        "      return model"
      ],
      "metadata": {
        "id": "-Oegf2vOVCDX"
      },
      "execution_count": null,
      "outputs": []
    },
    {
      "cell_type": "code",
      "source": [
        "tuner = kt.Hyperband(construct_model,\n",
        "                     objective='val_mae',\n",
        "                     max_epochs=200,\n",
        "                     directory='/content/gdrive/MyDrive/Colab Notebooks/Tuning',\n",
        "                     project_name='Hyperband_Tuner_allfiles_more_epochs')\n",
        "\n",
        "tuner.reload()"
      ],
      "metadata": {
        "id": "8JZGuWcPVHde"
      },
      "execution_count": null,
      "outputs": []
    },
    {
      "cell_type": "markdown",
      "source": [
        "**The construct model function for Hyperband_Tuner_allfiles...**"
      ],
      "metadata": {
        "id": "2irppqSqVqzo"
      }
    },
    {
      "cell_type": "code",
      "source": [
        "def construct_model(hp):\n",
        "      #define the two inputs for the two heads of the network\n",
        "      inputA=Input(shape=(10,4))\n",
        "      inputB=Input(shape=(1,2))\n",
        "\n",
        "      hp_kernel = hp.Choice('kernel_size', values = [1,2,3,4,5,6])\n",
        "      hp_pool = hp.Choice('pool_size', values = [1,2,3,4])\n",
        "      #define the convolutional layers acting on inputA\n",
        "      a=Conv1D(filters=8,kernel_size=hp_kernel,padding='same',activation='relu')(inputA)\n",
        "      a=MaxPooling1D(pool_size=hp_pool, padding='same')(a)\n",
        "      a=Conv1D(filters=16,kernel_size=hp_kernel,padding='same',activation='relu')(a)\n",
        "      a=MaxPooling1D(pool_size=hp_pool, padding='same')(a)\n",
        "      a=Conv1D(filters=32,kernel_size=hp_kernel,padding='same',activation='relu')(a)\n",
        "      a=MaxPooling1D(pool_size=hp_pool, padding='same')(a)\n",
        "      a=Flatten()(a)\n",
        "      a=Model(inputs=inputA, outputs=a)\n",
        "\n",
        "      #define the other head of the network for inputB\n",
        "      b=Flatten()(inputB)\n",
        "      b=Dense(4)(b)\n",
        "      b=Model(inputs=inputB, outputs=b)\n",
        "\n",
        "      #combine the heads of the network\n",
        "      hp_units_z1 = hp.Int('units', min_value=32, max_value=512, step=32)\n",
        "      hp_units_z2 = hp.Int('units', min_value=32, max_value=256, step=32)\n",
        "      hp_units_z3 = hp.Int('units', min_value=1, max_value=128, step=16)\n",
        "      hp_dropout = hp.Choice('dropout', values = [0.0,0.1,0.2,0.3,0.4,0.5,0.6,0.7])\n",
        "\n",
        "      combined_vector = concatenate([a.output, b.output])\n",
        "      z=Dense(units=hp_units_z1, activation=\"relu\")(combined_vector)\n",
        "      z=Dropout(hp_dropout)(z)\n",
        "      z=Dense(units=hp_units_z2, activation=\"relu\")(z)\n",
        "      z=Dropout(hp_dropout)(z)\n",
        "      z=Dense(units=hp_units_z3, activation=\"relu\")(z)\n",
        "      z=Dropout(hp_dropout)(z)\n",
        "      z=Dense(1)(z)\n",
        "\n",
        "      #finally define the outputs\n",
        "      model=Model(inputs=[inputA,inputB], outputs=z)\n",
        "\n",
        "\n",
        "      hp_learning_rate = hp.Choice('learning_rate', values=[1e-1, 1e-2, 1e-3, 1e-4, 1e-5])\n",
        "      opt_choice=keras.optimizers.Adam(learning_rate=hp_learning_rate)\n",
        "      model.compile(optimizer=opt_choice,loss=\"mse\",metrics=['mae'])\n",
        "\n",
        "      return model"
      ],
      "metadata": {
        "id": "13lkiBwSIZw3"
      },
      "execution_count": null,
      "outputs": []
    },
    {
      "cell_type": "code",
      "source": [
        "tuner = kt.Hyperband(construct_model,\n",
        "                     objective='val_mae',\n",
        "                     max_epochs=10,\n",
        "                     factor=3,\n",
        "                     directory='/content/gdrive/MyDrive/Colab Notebooks/Tuning',\n",
        "                     project_name='Hyperband_Tuner_allfiles')\n",
        "\n",
        "tuner.reload()"
      ],
      "metadata": {
        "id": "rf-qMtd2pyQ4"
      },
      "execution_count": null,
      "outputs": []
    },
    {
      "cell_type": "markdown",
      "source": [
        "## **Fitting the Model**"
      ],
      "metadata": {
        "id": "qGyXPy3EpZ22"
      }
    },
    {
      "cell_type": "markdown",
      "source": [
        "Get the best hyperparameters"
      ],
      "metadata": {
        "id": "aRLKWJQfqMmB"
      }
    },
    {
      "cell_type": "code",
      "source": [
        "best_hps=tuner.get_best_hyperparameters(num_trials=1)[0]"
      ],
      "metadata": {
        "id": "sFxP8KkcqOOy"
      },
      "execution_count": null,
      "outputs": []
    },
    {
      "cell_type": "markdown",
      "source": [
        "Build the model with these hyperparameters"
      ],
      "metadata": {
        "id": "aJAdQI3HqQV9"
      }
    },
    {
      "cell_type": "code",
      "source": [
        "print(best_hps)"
      ],
      "metadata": {
        "colab": {
          "base_uri": "https://localhost:8080/"
        },
        "id": "qV8ofw1O6wDL",
        "outputId": "5ab1d71c-3bea-400f-ef6d-4de01c46b7ed"
      },
      "execution_count": null,
      "outputs": [
        {
          "output_type": "stream",
          "name": "stdout",
          "text": [
            "<keras_tuner.engine.hyperparameters.HyperParameters object at 0x7fae0a0b1590>\n"
          ]
        }
      ]
    },
    {
      "cell_type": "code",
      "source": [
        "model = tuner.hypermodel.build(best_hps)"
      ],
      "metadata": {
        "id": "uHvBIYl_qR0B"
      },
      "execution_count": null,
      "outputs": []
    },
    {
      "cell_type": "markdown",
      "source": [
        "Fit the model - optimal epochs found to be 200 for tuner_allfiles, able to overfit by using 500 epochs (see image saved in documents)"
      ],
      "metadata": {
        "id": "FP2Eo__uqT0a"
      }
    },
    {
      "cell_type": "markdown",
      "source": [
        "Optional adaptive learning rate to make the validation error more stable"
      ],
      "metadata": {
        "id": "-AHbuT8fdy8h"
      }
    },
    {
      "cell_type": "code",
      "source": [
        "adaptive_learning = True"
      ],
      "metadata": {
        "id": "xUALLMjnd25w"
      },
      "execution_count": null,
      "outputs": []
    },
    {
      "cell_type": "code",
      "source": [
        "if adaptive_learning:\n",
        "      def adapt_learning_rate(epoch):\n",
        "          power = epoch // 20\n",
        "          multiplier = 0.1 ** power\n",
        "          if epoch < 60: \n",
        "            lr = 0.002 * multiplier\n",
        "          else:\n",
        "            lr = 2e-5\n",
        "          return lr\n",
        "      my_lr_scheduler = keras.callbacks.LearningRateScheduler(adapt_learning_rate)"
      ],
      "metadata": {
        "id": "pqBWh5zTLYi4"
      },
      "execution_count": null,
      "outputs": []
    },
    {
      "cell_type": "code",
      "source": [
        "if adaptive_learning:\n",
        "      history = model.fit(x=[x1_train,x2_train], y=y_train, validation_data=([x1_val,x2_val], y_val), epochs=200, batch_size=2048, shuffle=True, callbacks=[my_lr_scheduler])\n",
        "else:\n",
        "      history = model.fit(x=[x1_train,x2_train], y=y_train, validation_data=([x1_val,x2_val], y_val), epochs=200, batch_size=2048, shuffle=True)\n"
      ],
      "metadata": {
        "colab": {
          "base_uri": "https://localhost:8080/"
        },
        "id": "Ii0a3SgcqUas",
        "outputId": "73921e8f-1a02-4389-d4ce-0a85efee54fe"
      },
      "execution_count": null,
      "outputs": [
        {
          "output_type": "stream",
          "name": "stdout",
          "text": [
            "Epoch 1/200\n",
            "605/605 [==============================] - 6s 9ms/step - loss: 217086.3750 - mae: 285.5387 - val_loss: 52443.1562 - val_mae: 125.1337 - lr: 0.0020\n",
            "Epoch 2/200\n",
            "605/605 [==============================] - 5s 8ms/step - loss: 57370.4414 - mae: 133.8618 - val_loss: 48372.4023 - val_mae: 117.3067 - lr: 0.0020\n",
            "Epoch 3/200\n",
            "605/605 [==============================] - 5s 8ms/step - loss: 54469.8359 - mae: 129.7602 - val_loss: 47373.3359 - val_mae: 124.7109 - lr: 0.0020\n",
            "Epoch 4/200\n",
            "605/605 [==============================] - 5s 8ms/step - loss: 52497.3320 - mae: 126.2767 - val_loss: 45703.7266 - val_mae: 116.8368 - lr: 0.0020\n",
            "Epoch 5/200\n",
            "605/605 [==============================] - 5s 8ms/step - loss: 50988.9062 - mae: 123.9632 - val_loss: 49564.5742 - val_mae: 115.7291 - lr: 0.0020\n",
            "Epoch 6/200\n",
            "605/605 [==============================] - 5s 8ms/step - loss: 50206.3984 - mae: 122.9848 - val_loss: 42775.8125 - val_mae: 110.4541 - lr: 0.0020\n",
            "Epoch 7/200\n",
            "605/605 [==============================] - 5s 8ms/step - loss: 48912.1367 - mae: 120.9559 - val_loss: 42075.4609 - val_mae: 107.9036 - lr: 0.0020\n",
            "Epoch 8/200\n",
            "605/605 [==============================] - 5s 8ms/step - loss: 48296.0977 - mae: 120.2147 - val_loss: 42556.6484 - val_mae: 111.1653 - lr: 0.0020\n",
            "Epoch 9/200\n",
            "605/605 [==============================] - 5s 8ms/step - loss: 47722.3281 - mae: 119.5453 - val_loss: 42992.0664 - val_mae: 112.9165 - lr: 0.0020\n",
            "Epoch 10/200\n",
            "605/605 [==============================] - 5s 8ms/step - loss: 47169.2188 - mae: 118.3955 - val_loss: 41442.9023 - val_mae: 107.6400 - lr: 0.0020\n",
            "Epoch 11/200\n",
            "605/605 [==============================] - 5s 8ms/step - loss: 46526.6328 - mae: 117.3610 - val_loss: 40993.0469 - val_mae: 105.7719 - lr: 0.0020\n",
            "Epoch 12/200\n",
            "605/605 [==============================] - 5s 8ms/step - loss: 46150.6836 - mae: 116.5059 - val_loss: 42074.5820 - val_mae: 107.4426 - lr: 0.0020\n",
            "Epoch 13/200\n",
            "605/605 [==============================] - 5s 8ms/step - loss: 45743.1016 - mae: 116.1787 - val_loss: 40479.3203 - val_mae: 107.3248 - lr: 0.0020\n",
            "Epoch 14/200\n",
            "605/605 [==============================] - 5s 8ms/step - loss: 45658.8398 - mae: 115.8508 - val_loss: 39956.9766 - val_mae: 105.7609 - lr: 0.0020\n",
            "Epoch 15/200\n",
            "605/605 [==============================] - 5s 8ms/step - loss: 45358.8555 - mae: 115.3731 - val_loss: 39925.6172 - val_mae: 108.5241 - lr: 0.0020\n",
            "Epoch 16/200\n",
            "605/605 [==============================] - 5s 8ms/step - loss: 44991.3086 - mae: 114.6619 - val_loss: 42416.1328 - val_mae: 121.1839 - lr: 0.0020\n",
            "Epoch 17/200\n",
            "605/605 [==============================] - 5s 8ms/step - loss: 44748.5977 - mae: 114.4488 - val_loss: 41173.9922 - val_mae: 122.8756 - lr: 0.0020\n",
            "Epoch 18/200\n",
            "605/605 [==============================] - 5s 8ms/step - loss: 44433.3516 - mae: 113.8512 - val_loss: 39311.4922 - val_mae: 108.1293 - lr: 0.0020\n",
            "Epoch 19/200\n",
            "605/605 [==============================] - 5s 8ms/step - loss: 44072.9453 - mae: 112.9527 - val_loss: 40011.3086 - val_mae: 106.1596 - lr: 0.0020\n",
            "Epoch 20/200\n",
            "605/605 [==============================] - 5s 8ms/step - loss: 43977.4180 - mae: 113.1544 - val_loss: 39987.3984 - val_mae: 107.8778 - lr: 0.0020\n",
            "Epoch 21/200\n",
            "605/605 [==============================] - 5s 8ms/step - loss: 41716.7539 - mae: 107.7303 - val_loss: 36873.2109 - val_mae: 99.0459 - lr: 2.0000e-04\n",
            "Epoch 22/200\n",
            "605/605 [==============================] - 5s 8ms/step - loss: 41319.6016 - mae: 107.0405 - val_loss: 36508.9414 - val_mae: 98.6256 - lr: 2.0000e-04\n",
            "Epoch 23/200\n",
            "605/605 [==============================] - 5s 8ms/step - loss: 41255.6953 - mae: 106.8244 - val_loss: 36868.7539 - val_mae: 103.0839 - lr: 2.0000e-04\n",
            "Epoch 24/200\n",
            "605/605 [==============================] - 5s 8ms/step - loss: 41046.5000 - mae: 106.7149 - val_loss: 36454.4023 - val_mae: 98.3031 - lr: 2.0000e-04\n",
            "Epoch 25/200\n",
            "605/605 [==============================] - 5s 8ms/step - loss: 41002.6406 - mae: 106.5923 - val_loss: 36154.0977 - val_mae: 98.1833 - lr: 2.0000e-04\n",
            "Epoch 26/200\n",
            "605/605 [==============================] - 5s 8ms/step - loss: 40873.5625 - mae: 106.4134 - val_loss: 36234.5625 - val_mae: 98.0912 - lr: 2.0000e-04\n",
            "Epoch 27/200\n",
            "605/605 [==============================] - 5s 8ms/step - loss: 40684.3984 - mae: 106.1024 - val_loss: 36024.0742 - val_mae: 98.0449 - lr: 2.0000e-04\n",
            "Epoch 28/200\n",
            "605/605 [==============================] - 5s 8ms/step - loss: 40676.6680 - mae: 106.0819 - val_loss: 35909.7930 - val_mae: 97.7605 - lr: 2.0000e-04\n",
            "Epoch 29/200\n",
            "605/605 [==============================] - 5s 8ms/step - loss: 40660.7227 - mae: 106.0192 - val_loss: 35896.2578 - val_mae: 97.7485 - lr: 2.0000e-04\n",
            "Epoch 30/200\n",
            "605/605 [==============================] - 5s 8ms/step - loss: 40593.0625 - mae: 106.0670 - val_loss: 36020.0469 - val_mae: 98.2805 - lr: 2.0000e-04\n",
            "Epoch 31/200\n",
            "605/605 [==============================] - 5s 8ms/step - loss: 40498.9844 - mae: 105.7214 - val_loss: 35838.3906 - val_mae: 99.6320 - lr: 2.0000e-04\n",
            "Epoch 32/200\n",
            "605/605 [==============================] - 5s 8ms/step - loss: 40422.9492 - mae: 105.7803 - val_loss: 35827.2383 - val_mae: 97.6192 - lr: 2.0000e-04\n",
            "Epoch 33/200\n",
            "605/605 [==============================] - 5s 8ms/step - loss: 40421.5547 - mae: 105.6093 - val_loss: 36257.2109 - val_mae: 97.9465 - lr: 2.0000e-04\n",
            "Epoch 34/200\n",
            "605/605 [==============================] - 5s 8ms/step - loss: 40208.9219 - mae: 105.4308 - val_loss: 35667.3672 - val_mae: 99.9414 - lr: 2.0000e-04\n",
            "Epoch 35/200\n",
            "605/605 [==============================] - 5s 8ms/step - loss: 40269.7188 - mae: 105.4171 - val_loss: 35570.7734 - val_mae: 97.2220 - lr: 2.0000e-04\n",
            "Epoch 36/200\n",
            "605/605 [==============================] - 5s 8ms/step - loss: 40174.4648 - mae: 105.2018 - val_loss: 35527.4219 - val_mae: 97.0666 - lr: 2.0000e-04\n",
            "Epoch 37/200\n",
            "605/605 [==============================] - 5s 8ms/step - loss: 40056.2188 - mae: 105.1344 - val_loss: 35455.1016 - val_mae: 97.0888 - lr: 2.0000e-04\n",
            "Epoch 38/200\n",
            "605/605 [==============================] - 5s 8ms/step - loss: 40054.7539 - mae: 105.0219 - val_loss: 35477.3477 - val_mae: 97.3333 - lr: 2.0000e-04\n",
            "Epoch 39/200\n",
            "605/605 [==============================] - 5s 8ms/step - loss: 39912.3984 - mae: 104.8875 - val_loss: 35458.6641 - val_mae: 97.6284 - lr: 2.0000e-04\n",
            "Epoch 40/200\n",
            "605/605 [==============================] - 5s 8ms/step - loss: 40062.3320 - mae: 104.9737 - val_loss: 35402.1406 - val_mae: 96.8416 - lr: 2.0000e-04\n",
            "Epoch 41/200\n",
            "605/605 [==============================] - 5s 8ms/step - loss: 39601.5586 - mae: 104.0302 - val_loss: 35134.1328 - val_mae: 96.3864 - lr: 2.0000e-05\n",
            "Epoch 42/200\n",
            "605/605 [==============================] - 5s 8ms/step - loss: 39536.3086 - mae: 103.8722 - val_loss: 35051.4102 - val_mae: 96.2194 - lr: 2.0000e-05\n",
            "Epoch 43/200\n",
            "605/605 [==============================] - 5s 8ms/step - loss: 39473.9297 - mae: 103.8775 - val_loss: 35108.1875 - val_mae: 96.3038 - lr: 2.0000e-05\n",
            "Epoch 44/200\n",
            "605/605 [==============================] - 5s 8ms/step - loss: 39540.6172 - mae: 103.9097 - val_loss: 35119.7109 - val_mae: 96.1765 - lr: 2.0000e-05\n",
            "Epoch 45/200\n",
            "605/605 [==============================] - 5s 8ms/step - loss: 39394.1836 - mae: 103.7697 - val_loss: 35090.8047 - val_mae: 96.1617 - lr: 2.0000e-05\n",
            "Epoch 46/200\n",
            "605/605 [==============================] - 5s 8ms/step - loss: 39355.7500 - mae: 103.7529 - val_loss: 34989.2656 - val_mae: 96.1247 - lr: 2.0000e-05\n",
            "Epoch 47/200\n",
            "605/605 [==============================] - 5s 8ms/step - loss: 39441.2266 - mae: 103.7773 - val_loss: 34988.9336 - val_mae: 96.2197 - lr: 2.0000e-05\n",
            "Epoch 48/200\n",
            "605/605 [==============================] - 5s 8ms/step - loss: 39439.9492 - mae: 103.7818 - val_loss: 34992.0898 - val_mae: 96.0826 - lr: 2.0000e-05\n",
            "Epoch 49/200\n",
            "605/605 [==============================] - 5s 8ms/step - loss: 39523.3320 - mae: 103.8692 - val_loss: 35030.9141 - val_mae: 96.1161 - lr: 2.0000e-05\n",
            "Epoch 50/200\n",
            "605/605 [==============================] - 5s 8ms/step - loss: 39391.3164 - mae: 103.7208 - val_loss: 34976.8047 - val_mae: 96.0825 - lr: 2.0000e-05\n",
            "Epoch 51/200\n",
            "605/605 [==============================] - 5s 8ms/step - loss: 39380.6484 - mae: 103.6710 - val_loss: 34967.1836 - val_mae: 96.1824 - lr: 2.0000e-05\n",
            "Epoch 52/200\n",
            "605/605 [==============================] - 5s 8ms/step - loss: 39345.2773 - mae: 103.6645 - val_loss: 35052.9375 - val_mae: 96.2304 - lr: 2.0000e-05\n",
            "Epoch 53/200\n",
            "605/605 [==============================] - 5s 8ms/step - loss: 39246.7539 - mae: 103.5779 - val_loss: 35031.6641 - val_mae: 96.0535 - lr: 2.0000e-05\n",
            "Epoch 54/200\n",
            "605/605 [==============================] - 5s 8ms/step - loss: 39297.3945 - mae: 103.5628 - val_loss: 34982.6328 - val_mae: 96.0176 - lr: 2.0000e-05\n",
            "Epoch 55/200\n",
            "605/605 [==============================] - 5s 8ms/step - loss: 39386.0859 - mae: 103.6356 - val_loss: 35036.1250 - val_mae: 96.0604 - lr: 2.0000e-05\n",
            "Epoch 56/200\n",
            "605/605 [==============================] - 5s 8ms/step - loss: 39353.9336 - mae: 103.5947 - val_loss: 35058.3047 - val_mae: 96.0022 - lr: 2.0000e-05\n",
            "Epoch 57/200\n",
            "605/605 [==============================] - 5s 8ms/step - loss: 39342.2930 - mae: 103.6292 - val_loss: 34969.5391 - val_mae: 96.0156 - lr: 2.0000e-05\n",
            "Epoch 58/200\n",
            "605/605 [==============================] - 5s 8ms/step - loss: 39272.3828 - mae: 103.5269 - val_loss: 35020.6914 - val_mae: 96.0385 - lr: 2.0000e-05\n",
            "Epoch 59/200\n",
            "605/605 [==============================] - 5s 8ms/step - loss: 39178.7852 - mae: 103.4352 - val_loss: 34934.3750 - val_mae: 95.9895 - lr: 2.0000e-05\n",
            "Epoch 60/200\n",
            "605/605 [==============================] - 5s 8ms/step - loss: 39254.4570 - mae: 103.4638 - val_loss: 34956.6328 - val_mae: 96.1010 - lr: 2.0000e-05\n",
            "Epoch 61/200\n",
            "605/605 [==============================] - 5s 8ms/step - loss: 39293.9219 - mae: 103.4739 - val_loss: 34911.8867 - val_mae: 95.9564 - lr: 2.0000e-05\n",
            "Epoch 62/200\n",
            "605/605 [==============================] - 5s 8ms/step - loss: 39294.5586 - mae: 103.4953 - val_loss: 34901.1172 - val_mae: 95.9978 - lr: 2.0000e-05\n",
            "Epoch 63/200\n",
            "605/605 [==============================] - 5s 8ms/step - loss: 39238.7227 - mae: 103.4585 - val_loss: 34884.3242 - val_mae: 95.9266 - lr: 2.0000e-05\n",
            "Epoch 64/200\n",
            "605/605 [==============================] - 5s 8ms/step - loss: 39142.8672 - mae: 103.3393 - val_loss: 34932.3320 - val_mae: 95.9391 - lr: 2.0000e-05\n",
            "Epoch 65/200\n",
            "605/605 [==============================] - 5s 8ms/step - loss: 39193.1992 - mae: 103.3407 - val_loss: 34919.5156 - val_mae: 95.9515 - lr: 2.0000e-05\n",
            "Epoch 66/200\n",
            "605/605 [==============================] - 5s 8ms/step - loss: 39078.9258 - mae: 103.2938 - val_loss: 34879.7266 - val_mae: 96.0290 - lr: 2.0000e-05\n",
            "Epoch 67/200\n",
            "605/605 [==============================] - 5s 8ms/step - loss: 39274.5547 - mae: 103.3948 - val_loss: 34944.1758 - val_mae: 95.9336 - lr: 2.0000e-05\n",
            "Epoch 68/200\n",
            "605/605 [==============================] - 5s 8ms/step - loss: 39165.5859 - mae: 103.3289 - val_loss: 34877.9180 - val_mae: 95.9276 - lr: 2.0000e-05\n",
            "Epoch 69/200\n",
            "605/605 [==============================] - 5s 8ms/step - loss: 39198.7695 - mae: 103.3063 - val_loss: 34925.4844 - val_mae: 95.9182 - lr: 2.0000e-05\n",
            "Epoch 70/200\n",
            "605/605 [==============================] - 5s 8ms/step - loss: 39227.5039 - mae: 103.3764 - val_loss: 34907.8750 - val_mae: 95.9171 - lr: 2.0000e-05\n",
            "Epoch 71/200\n",
            "605/605 [==============================] - 5s 8ms/step - loss: 39098.5625 - mae: 103.2080 - val_loss: 34851.9961 - val_mae: 95.9282 - lr: 2.0000e-05\n",
            "Epoch 72/200\n",
            "605/605 [==============================] - 5s 8ms/step - loss: 39086.8242 - mae: 103.1738 - val_loss: 34903.8398 - val_mae: 96.0061 - lr: 2.0000e-05\n",
            "Epoch 73/200\n",
            "605/605 [==============================] - 5s 8ms/step - loss: 39039.6094 - mae: 103.1345 - val_loss: 34866.4180 - val_mae: 95.8715 - lr: 2.0000e-05\n",
            "Epoch 74/200\n",
            "605/605 [==============================] - 5s 8ms/step - loss: 39157.5547 - mae: 103.2100 - val_loss: 34898.4688 - val_mae: 95.9653 - lr: 2.0000e-05\n",
            "Epoch 75/200\n",
            "605/605 [==============================] - 5s 8ms/step - loss: 39159.4336 - mae: 103.2084 - val_loss: 34838.2188 - val_mae: 95.8572 - lr: 2.0000e-05\n",
            "Epoch 76/200\n",
            "605/605 [==============================] - 5s 8ms/step - loss: 39123.5703 - mae: 103.1157 - val_loss: 34898.5586 - val_mae: 96.0507 - lr: 2.0000e-05\n",
            "Epoch 77/200\n",
            "605/605 [==============================] - 5s 8ms/step - loss: 39065.7812 - mae: 103.2117 - val_loss: 34892.5859 - val_mae: 95.9505 - lr: 2.0000e-05\n",
            "Epoch 78/200\n",
            "605/605 [==============================] - 5s 8ms/step - loss: 39227.4570 - mae: 103.2715 - val_loss: 34866.9609 - val_mae: 95.9165 - lr: 2.0000e-05\n",
            "Epoch 79/200\n",
            "605/605 [==============================] - 5s 8ms/step - loss: 39117.4844 - mae: 103.1668 - val_loss: 34863.1289 - val_mae: 95.8127 - lr: 2.0000e-05\n",
            "Epoch 80/200\n",
            "605/605 [==============================] - 5s 8ms/step - loss: 39206.8047 - mae: 103.2081 - val_loss: 34854.8633 - val_mae: 95.8647 - lr: 2.0000e-05\n",
            "Epoch 81/200\n",
            "605/605 [==============================] - 5s 8ms/step - loss: 39084.7852 - mae: 103.1432 - val_loss: 34869.7461 - val_mae: 95.8828 - lr: 2.0000e-05\n",
            "Epoch 82/200\n",
            "605/605 [==============================] - 5s 8ms/step - loss: 39155.5156 - mae: 103.1944 - val_loss: 34780.3086 - val_mae: 95.8217 - lr: 2.0000e-05\n",
            "Epoch 83/200\n",
            "605/605 [==============================] - 5s 8ms/step - loss: 39143.4609 - mae: 103.1996 - val_loss: 34794.7734 - val_mae: 95.7797 - lr: 2.0000e-05\n",
            "Epoch 84/200\n",
            "605/605 [==============================] - 5s 8ms/step - loss: 39093.1836 - mae: 103.0810 - val_loss: 34797.0859 - val_mae: 95.8367 - lr: 2.0000e-05\n",
            "Epoch 85/200\n",
            "605/605 [==============================] - 5s 8ms/step - loss: 39107.2148 - mae: 103.1270 - val_loss: 34827.7617 - val_mae: 96.0309 - lr: 2.0000e-05\n",
            "Epoch 86/200\n",
            "605/605 [==============================] - 5s 8ms/step - loss: 39001.1797 - mae: 102.9796 - val_loss: 34774.7969 - val_mae: 95.8176 - lr: 2.0000e-05\n",
            "Epoch 87/200\n",
            "605/605 [==============================] - 5s 8ms/step - loss: 39078.3594 - mae: 103.0336 - val_loss: 34795.0352 - val_mae: 96.0162 - lr: 2.0000e-05\n",
            "Epoch 88/200\n",
            "605/605 [==============================] - 5s 8ms/step - loss: 39015.1484 - mae: 103.0005 - val_loss: 34890.2578 - val_mae: 95.9655 - lr: 2.0000e-05\n",
            "Epoch 89/200\n",
            "605/605 [==============================] - 5s 8ms/step - loss: 39027.1602 - mae: 103.0009 - val_loss: 34769.7930 - val_mae: 95.7594 - lr: 2.0000e-05\n",
            "Epoch 90/200\n",
            "605/605 [==============================] - 5s 8ms/step - loss: 39021.2031 - mae: 103.0357 - val_loss: 34840.1211 - val_mae: 95.8330 - lr: 2.0000e-05\n",
            "Epoch 91/200\n",
            "605/605 [==============================] - 5s 8ms/step - loss: 39077.1211 - mae: 103.0498 - val_loss: 34819.8594 - val_mae: 95.8847 - lr: 2.0000e-05\n",
            "Epoch 92/200\n",
            "605/605 [==============================] - 5s 8ms/step - loss: 39011.5312 - mae: 102.9734 - val_loss: 34912.1250 - val_mae: 95.8861 - lr: 2.0000e-05\n",
            "Epoch 93/200\n",
            "605/605 [==============================] - 5s 8ms/step - loss: 39004.9336 - mae: 103.0129 - val_loss: 34762.1055 - val_mae: 95.7436 - lr: 2.0000e-05\n",
            "Epoch 94/200\n",
            "605/605 [==============================] - 5s 8ms/step - loss: 38986.4062 - mae: 102.9097 - val_loss: 34781.3711 - val_mae: 95.7313 - lr: 2.0000e-05\n",
            "Epoch 95/200\n",
            "605/605 [==============================] - 5s 8ms/step - loss: 39085.4141 - mae: 103.0073 - val_loss: 34748.1133 - val_mae: 95.7294 - lr: 2.0000e-05\n",
            "Epoch 96/200\n",
            "605/605 [==============================] - 5s 8ms/step - loss: 38934.3750 - mae: 102.8837 - val_loss: 34779.2266 - val_mae: 95.6701 - lr: 2.0000e-05\n",
            "Epoch 97/200\n",
            "605/605 [==============================] - 5s 8ms/step - loss: 39091.7148 - mae: 103.0121 - val_loss: 34784.5000 - val_mae: 95.7897 - lr: 2.0000e-05\n",
            "Epoch 98/200\n",
            "605/605 [==============================] - 5s 8ms/step - loss: 39009.9688 - mae: 102.9653 - val_loss: 34700.2891 - val_mae: 95.6362 - lr: 2.0000e-05\n",
            "Epoch 99/200\n",
            "605/605 [==============================] - 5s 8ms/step - loss: 38980.8398 - mae: 102.8871 - val_loss: 34764.1758 - val_mae: 95.6942 - lr: 2.0000e-05\n",
            "Epoch 100/200\n",
            "605/605 [==============================] - 5s 8ms/step - loss: 39043.9023 - mae: 102.9157 - val_loss: 34678.3750 - val_mae: 95.6250 - lr: 2.0000e-05\n",
            "Epoch 101/200\n",
            "605/605 [==============================] - 5s 8ms/step - loss: 39003.6953 - mae: 102.9484 - val_loss: 34720.9219 - val_mae: 95.6217 - lr: 2.0000e-05\n",
            "Epoch 102/200\n",
            "605/605 [==============================] - 5s 8ms/step - loss: 39024.4180 - mae: 102.9395 - val_loss: 34694.4336 - val_mae: 95.6196 - lr: 2.0000e-05\n",
            "Epoch 103/200\n",
            "605/605 [==============================] - 5s 8ms/step - loss: 38985.2305 - mae: 102.8949 - val_loss: 34786.6250 - val_mae: 95.7571 - lr: 2.0000e-05\n",
            "Epoch 104/200\n",
            "605/605 [==============================] - 5s 8ms/step - loss: 38938.1484 - mae: 102.8464 - val_loss: 34783.3711 - val_mae: 95.6973 - lr: 2.0000e-05\n",
            "Epoch 105/200\n",
            "605/605 [==============================] - 5s 8ms/step - loss: 39025.5156 - mae: 102.9078 - val_loss: 34731.5391 - val_mae: 95.6382 - lr: 2.0000e-05\n",
            "Epoch 106/200\n",
            "605/605 [==============================] - 5s 8ms/step - loss: 38897.9258 - mae: 102.7812 - val_loss: 34719.4375 - val_mae: 95.7138 - lr: 2.0000e-05\n",
            "Epoch 107/200\n",
            "605/605 [==============================] - 5s 8ms/step - loss: 38989.7734 - mae: 102.9097 - val_loss: 34693.3711 - val_mae: 95.6491 - lr: 2.0000e-05\n",
            "Epoch 108/200\n",
            "605/605 [==============================] - 5s 8ms/step - loss: 38940.5664 - mae: 102.7320 - val_loss: 34742.8633 - val_mae: 95.6034 - lr: 2.0000e-05\n",
            "Epoch 109/200\n",
            "605/605 [==============================] - 5s 8ms/step - loss: 38973.6680 - mae: 102.8544 - val_loss: 34706.1992 - val_mae: 95.7350 - lr: 2.0000e-05\n",
            "Epoch 110/200\n",
            "605/605 [==============================] - 5s 8ms/step - loss: 38920.9766 - mae: 102.7400 - val_loss: 34670.0508 - val_mae: 96.0335 - lr: 2.0000e-05\n",
            "Epoch 111/200\n",
            "605/605 [==============================] - 5s 8ms/step - loss: 38777.1953 - mae: 102.6868 - val_loss: 34806.8984 - val_mae: 95.6158 - lr: 2.0000e-05\n",
            "Epoch 112/200\n",
            "605/605 [==============================] - 5s 8ms/step - loss: 38963.5977 - mae: 102.7703 - val_loss: 34686.2422 - val_mae: 95.6865 - lr: 2.0000e-05\n",
            "Epoch 113/200\n",
            "605/605 [==============================] - 5s 8ms/step - loss: 38823.7734 - mae: 102.6268 - val_loss: 34701.8359 - val_mae: 95.8192 - lr: 2.0000e-05\n",
            "Epoch 114/200\n",
            "605/605 [==============================] - 5s 8ms/step - loss: 38793.5000 - mae: 102.6564 - val_loss: 34763.5000 - val_mae: 95.7497 - lr: 2.0000e-05\n",
            "Epoch 115/200\n",
            "605/605 [==============================] - 5s 8ms/step - loss: 39014.6094 - mae: 102.8475 - val_loss: 34655.0352 - val_mae: 95.9290 - lr: 2.0000e-05\n",
            "Epoch 116/200\n",
            "605/605 [==============================] - 5s 8ms/step - loss: 38826.9570 - mae: 102.6485 - val_loss: 34691.8750 - val_mae: 95.7556 - lr: 2.0000e-05\n",
            "Epoch 117/200\n",
            "605/605 [==============================] - 5s 8ms/step - loss: 38852.9922 - mae: 102.6717 - val_loss: 34600.6953 - val_mae: 95.5959 - lr: 2.0000e-05\n",
            "Epoch 118/200\n",
            "605/605 [==============================] - 5s 8ms/step - loss: 38824.1445 - mae: 102.6449 - val_loss: 34685.8750 - val_mae: 95.6143 - lr: 2.0000e-05\n",
            "Epoch 119/200\n",
            "605/605 [==============================] - 5s 8ms/step - loss: 38885.7656 - mae: 102.6880 - val_loss: 34603.1094 - val_mae: 95.5471 - lr: 2.0000e-05\n",
            "Epoch 120/200\n",
            "605/605 [==============================] - 5s 8ms/step - loss: 38856.1055 - mae: 102.6258 - val_loss: 34748.4648 - val_mae: 95.5290 - lr: 2.0000e-05\n",
            "Epoch 121/200\n",
            "605/605 [==============================] - 5s 8ms/step - loss: 38896.2617 - mae: 102.7079 - val_loss: 34649.7812 - val_mae: 95.6041 - lr: 2.0000e-05\n",
            "Epoch 122/200\n",
            "605/605 [==============================] - 5s 8ms/step - loss: 38833.9727 - mae: 102.6369 - val_loss: 34641.9570 - val_mae: 95.5018 - lr: 2.0000e-05\n",
            "Epoch 123/200\n",
            "605/605 [==============================] - 5s 8ms/step - loss: 38786.1562 - mae: 102.5821 - val_loss: 34617.3945 - val_mae: 95.5566 - lr: 2.0000e-05\n",
            "Epoch 124/200\n",
            "605/605 [==============================] - 5s 8ms/step - loss: 38885.4414 - mae: 102.6177 - val_loss: 34724.3633 - val_mae: 95.7534 - lr: 2.0000e-05\n",
            "Epoch 125/200\n",
            "605/605 [==============================] - 5s 8ms/step - loss: 38821.1914 - mae: 102.6312 - val_loss: 34627.5469 - val_mae: 95.6522 - lr: 2.0000e-05\n",
            "Epoch 126/200\n",
            "605/605 [==============================] - 5s 8ms/step - loss: 38720.2891 - mae: 102.5547 - val_loss: 34569.5039 - val_mae: 95.4788 - lr: 2.0000e-05\n",
            "Epoch 127/200\n",
            "605/605 [==============================] - 5s 8ms/step - loss: 38871.9180 - mae: 102.6523 - val_loss: 34619.8125 - val_mae: 95.5299 - lr: 2.0000e-05\n",
            "Epoch 128/200\n",
            "605/605 [==============================] - 5s 8ms/step - loss: 38851.0938 - mae: 102.6811 - val_loss: 34578.9688 - val_mae: 95.8842 - lr: 2.0000e-05\n",
            "Epoch 129/200\n",
            "605/605 [==============================] - 5s 8ms/step - loss: 38894.4336 - mae: 102.6095 - val_loss: 34635.2266 - val_mae: 95.8726 - lr: 2.0000e-05\n",
            "Epoch 130/200\n",
            "605/605 [==============================] - 5s 8ms/step - loss: 38865.7109 - mae: 102.6133 - val_loss: 34572.3867 - val_mae: 95.4956 - lr: 2.0000e-05\n",
            "Epoch 131/200\n",
            "605/605 [==============================] - 5s 8ms/step - loss: 38762.1172 - mae: 102.5193 - val_loss: 34645.1133 - val_mae: 95.9052 - lr: 2.0000e-05\n",
            "Epoch 132/200\n",
            "605/605 [==============================] - 5s 8ms/step - loss: 38818.8438 - mae: 102.5534 - val_loss: 34725.5508 - val_mae: 95.6364 - lr: 2.0000e-05\n",
            "Epoch 133/200\n",
            "605/605 [==============================] - 5s 8ms/step - loss: 38766.3320 - mae: 102.5312 - val_loss: 34630.9688 - val_mae: 96.0158 - lr: 2.0000e-05\n",
            "Epoch 134/200\n",
            "605/605 [==============================] - 5s 8ms/step - loss: 38808.4336 - mae: 102.5494 - val_loss: 34524.3945 - val_mae: 95.5737 - lr: 2.0000e-05\n",
            "Epoch 135/200\n",
            "605/605 [==============================] - 5s 8ms/step - loss: 38725.8555 - mae: 102.4480 - val_loss: 34579.9805 - val_mae: 95.5228 - lr: 2.0000e-05\n",
            "Epoch 136/200\n",
            "605/605 [==============================] - 5s 8ms/step - loss: 38733.4180 - mae: 102.4825 - val_loss: 34599.4727 - val_mae: 95.5172 - lr: 2.0000e-05\n",
            "Epoch 137/200\n",
            "605/605 [==============================] - 5s 8ms/step - loss: 38767.6602 - mae: 102.4964 - val_loss: 34671.5859 - val_mae: 95.7227 - lr: 2.0000e-05\n",
            "Epoch 138/200\n",
            "605/605 [==============================] - 5s 8ms/step - loss: 38623.8164 - mae: 102.3607 - val_loss: 34561.8477 - val_mae: 95.4967 - lr: 2.0000e-05\n",
            "Epoch 139/200\n",
            "605/605 [==============================] - 5s 8ms/step - loss: 38668.1680 - mae: 102.4086 - val_loss: 34545.7227 - val_mae: 95.4578 - lr: 2.0000e-05\n",
            "Epoch 140/200\n",
            "605/605 [==============================] - 5s 8ms/step - loss: 38662.9883 - mae: 102.3573 - val_loss: 34526.6758 - val_mae: 95.8255 - lr: 2.0000e-05\n",
            "Epoch 141/200\n",
            "605/605 [==============================] - 5s 8ms/step - loss: 38800.9766 - mae: 102.4436 - val_loss: 34596.6875 - val_mae: 96.0431 - lr: 2.0000e-05\n",
            "Epoch 142/200\n",
            "605/605 [==============================] - 5s 8ms/step - loss: 38819.7812 - mae: 102.5318 - val_loss: 34557.4961 - val_mae: 95.7488 - lr: 2.0000e-05\n",
            "Epoch 143/200\n",
            "605/605 [==============================] - 5s 8ms/step - loss: 38763.7383 - mae: 102.4604 - val_loss: 34534.0703 - val_mae: 95.5938 - lr: 2.0000e-05\n",
            "Epoch 144/200\n",
            "605/605 [==============================] - 5s 8ms/step - loss: 38740.5000 - mae: 102.3466 - val_loss: 34562.6172 - val_mae: 95.4110 - lr: 2.0000e-05\n",
            "Epoch 145/200\n",
            "605/605 [==============================] - 5s 8ms/step - loss: 38693.2812 - mae: 102.3534 - val_loss: 34512.2969 - val_mae: 95.3553 - lr: 2.0000e-05\n",
            "Epoch 146/200\n",
            "605/605 [==============================] - 5s 8ms/step - loss: 38703.6523 - mae: 102.3653 - val_loss: 34503.0977 - val_mae: 95.4775 - lr: 2.0000e-05\n",
            "Epoch 147/200\n",
            "605/605 [==============================] - 5s 8ms/step - loss: 38717.5234 - mae: 102.3567 - val_loss: 34574.5664 - val_mae: 95.5555 - lr: 2.0000e-05\n",
            "Epoch 148/200\n",
            "605/605 [==============================] - 5s 8ms/step - loss: 38622.8828 - mae: 102.3059 - val_loss: 34566.5977 - val_mae: 95.6853 - lr: 2.0000e-05\n",
            "Epoch 149/200\n",
            "605/605 [==============================] - 5s 8ms/step - loss: 38744.1250 - mae: 102.3676 - val_loss: 34461.6133 - val_mae: 95.6144 - lr: 2.0000e-05\n",
            "Epoch 150/200\n",
            "605/605 [==============================] - 5s 8ms/step - loss: 38663.6484 - mae: 102.3464 - val_loss: 34521.8555 - val_mae: 95.5493 - lr: 2.0000e-05\n",
            "Epoch 151/200\n",
            "605/605 [==============================] - 5s 8ms/step - loss: 38651.3047 - mae: 102.3040 - val_loss: 34586.9102 - val_mae: 95.7321 - lr: 2.0000e-05\n",
            "Epoch 152/200\n",
            "605/605 [==============================] - 5s 8ms/step - loss: 38658.6562 - mae: 102.2737 - val_loss: 34505.0625 - val_mae: 95.4933 - lr: 2.0000e-05\n",
            "Epoch 153/200\n",
            "605/605 [==============================] - 5s 8ms/step - loss: 38609.3711 - mae: 102.2350 - val_loss: 34511.1406 - val_mae: 95.5408 - lr: 2.0000e-05\n",
            "Epoch 154/200\n",
            "605/605 [==============================] - 5s 8ms/step - loss: 38597.5117 - mae: 102.1861 - val_loss: 34532.8984 - val_mae: 95.3758 - lr: 2.0000e-05\n",
            "Epoch 155/200\n",
            "605/605 [==============================] - 5s 8ms/step - loss: 38567.8633 - mae: 102.2021 - val_loss: 34521.2344 - val_mae: 95.4485 - lr: 2.0000e-05\n",
            "Epoch 156/200\n",
            "605/605 [==============================] - 5s 8ms/step - loss: 38693.0508 - mae: 102.3269 - val_loss: 34461.0039 - val_mae: 95.3553 - lr: 2.0000e-05\n",
            "Epoch 157/200\n",
            "605/605 [==============================] - 5s 8ms/step - loss: 38656.7109 - mae: 102.2663 - val_loss: 34468.8398 - val_mae: 95.4458 - lr: 2.0000e-05\n",
            "Epoch 158/200\n",
            "605/605 [==============================] - 5s 8ms/step - loss: 38624.4102 - mae: 102.2433 - val_loss: 34518.7305 - val_mae: 95.5467 - lr: 2.0000e-05\n",
            "Epoch 159/200\n",
            "605/605 [==============================] - 5s 8ms/step - loss: 38650.9102 - mae: 102.2615 - val_loss: 34528.4492 - val_mae: 95.6092 - lr: 2.0000e-05\n",
            "Epoch 160/200\n",
            "605/605 [==============================] - 5s 8ms/step - loss: 38593.1836 - mae: 102.1858 - val_loss: 34456.9883 - val_mae: 95.4624 - lr: 2.0000e-05\n",
            "Epoch 161/200\n",
            "605/605 [==============================] - 5s 8ms/step - loss: 38608.2305 - mae: 102.2204 - val_loss: 34517.0508 - val_mae: 95.3874 - lr: 2.0000e-05\n",
            "Epoch 162/200\n",
            "605/605 [==============================] - 5s 8ms/step - loss: 38678.2383 - mae: 102.2810 - val_loss: 34535.4609 - val_mae: 95.7937 - lr: 2.0000e-05\n",
            "Epoch 163/200\n",
            "605/605 [==============================] - 5s 8ms/step - loss: 38627.9453 - mae: 102.2077 - val_loss: 34464.6602 - val_mae: 95.5894 - lr: 2.0000e-05\n",
            "Epoch 164/200\n",
            "605/605 [==============================] - 5s 8ms/step - loss: 38617.9727 - mae: 102.1883 - val_loss: 34568.3867 - val_mae: 95.6853 - lr: 2.0000e-05\n",
            "Epoch 165/200\n",
            "605/605 [==============================] - 5s 8ms/step - loss: 38592.9492 - mae: 102.1839 - val_loss: 34472.6641 - val_mae: 95.5314 - lr: 2.0000e-05\n",
            "Epoch 166/200\n",
            "605/605 [==============================] - 5s 8ms/step - loss: 38623.5977 - mae: 102.2070 - val_loss: 34527.2422 - val_mae: 95.8278 - lr: 2.0000e-05\n",
            "Epoch 167/200\n",
            "605/605 [==============================] - 5s 8ms/step - loss: 38537.7188 - mae: 102.1156 - val_loss: 34398.6367 - val_mae: 95.3203 - lr: 2.0000e-05\n",
            "Epoch 168/200\n",
            "605/605 [==============================] - 5s 8ms/step - loss: 38430.0156 - mae: 102.1067 - val_loss: 34430.8047 - val_mae: 95.5616 - lr: 2.0000e-05\n",
            "Epoch 169/200\n",
            "605/605 [==============================] - 5s 8ms/step - loss: 38624.2773 - mae: 102.2179 - val_loss: 34438.0078 - val_mae: 95.6023 - lr: 2.0000e-05\n",
            "Epoch 170/200\n",
            "605/605 [==============================] - 5s 8ms/step - loss: 38568.0234 - mae: 102.0787 - val_loss: 34429.4453 - val_mae: 95.5332 - lr: 2.0000e-05\n",
            "Epoch 171/200\n",
            "605/605 [==============================] - 5s 8ms/step - loss: 38528.9688 - mae: 102.0884 - val_loss: 34407.4922 - val_mae: 95.5734 - lr: 2.0000e-05\n",
            "Epoch 172/200\n",
            "605/605 [==============================] - 5s 8ms/step - loss: 38572.6562 - mae: 102.0930 - val_loss: 34406.5039 - val_mae: 95.3998 - lr: 2.0000e-05\n",
            "Epoch 173/200\n",
            "605/605 [==============================] - 5s 8ms/step - loss: 38436.8281 - mae: 102.0323 - val_loss: 34410.8477 - val_mae: 95.8893 - lr: 2.0000e-05\n",
            "Epoch 174/200\n",
            "605/605 [==============================] - 5s 8ms/step - loss: 38430.3516 - mae: 101.9096 - val_loss: 34402.0156 - val_mae: 95.3390 - lr: 2.0000e-05\n",
            "Epoch 175/200\n",
            "605/605 [==============================] - 5s 8ms/step - loss: 38508.1914 - mae: 102.0803 - val_loss: 34464.0547 - val_mae: 95.3715 - lr: 2.0000e-05\n",
            "Epoch 176/200\n",
            "605/605 [==============================] - 5s 8ms/step - loss: 38454.4727 - mae: 102.0060 - val_loss: 34445.8906 - val_mae: 95.5787 - lr: 2.0000e-05\n",
            "Epoch 177/200\n",
            "605/605 [==============================] - 5s 8ms/step - loss: 38485.8633 - mae: 102.0149 - val_loss: 34452.4414 - val_mae: 95.5006 - lr: 2.0000e-05\n",
            "Epoch 178/200\n",
            "605/605 [==============================] - 5s 8ms/step - loss: 38510.0430 - mae: 102.0326 - val_loss: 34417.9297 - val_mae: 95.5318 - lr: 2.0000e-05\n",
            "Epoch 179/200\n",
            "605/605 [==============================] - 5s 8ms/step - loss: 38482.3867 - mae: 102.0003 - val_loss: 34415.3594 - val_mae: 95.4420 - lr: 2.0000e-05\n",
            "Epoch 180/200\n",
            "605/605 [==============================] - 5s 8ms/step - loss: 38435.3047 - mae: 101.9516 - val_loss: 34435.7969 - val_mae: 95.7850 - lr: 2.0000e-05\n",
            "Epoch 181/200\n",
            "605/605 [==============================] - 5s 8ms/step - loss: 38504.1953 - mae: 102.0055 - val_loss: 34367.6836 - val_mae: 95.5538 - lr: 2.0000e-05\n",
            "Epoch 182/200\n",
            "605/605 [==============================] - 5s 8ms/step - loss: 38439.6094 - mae: 101.9737 - val_loss: 34419.0469 - val_mae: 95.5457 - lr: 2.0000e-05\n",
            "Epoch 183/200\n",
            "605/605 [==============================] - 5s 8ms/step - loss: 38512.1641 - mae: 101.9824 - val_loss: 34405.8516 - val_mae: 95.3820 - lr: 2.0000e-05\n",
            "Epoch 184/200\n",
            "605/605 [==============================] - 5s 8ms/step - loss: 38583.3555 - mae: 102.0814 - val_loss: 34400.4688 - val_mae: 95.7559 - lr: 2.0000e-05\n",
            "Epoch 185/200\n",
            "605/605 [==============================] - 5s 8ms/step - loss: 38471.5273 - mae: 101.9374 - val_loss: 34404.8672 - val_mae: 95.6088 - lr: 2.0000e-05\n",
            "Epoch 186/200\n",
            "605/605 [==============================] - 5s 9ms/step - loss: 38438.7461 - mae: 101.9614 - val_loss: 34389.1484 - val_mae: 95.3970 - lr: 2.0000e-05\n",
            "Epoch 187/200\n",
            "605/605 [==============================] - 5s 8ms/step - loss: 38401.0234 - mae: 101.9219 - val_loss: 34408.2188 - val_mae: 95.3983 - lr: 2.0000e-05\n",
            "Epoch 188/200\n",
            "605/605 [==============================] - 5s 8ms/step - loss: 38432.5938 - mae: 101.9192 - val_loss: 34311.2617 - val_mae: 95.4842 - lr: 2.0000e-05\n",
            "Epoch 189/200\n",
            "605/605 [==============================] - 5s 8ms/step - loss: 38489.1602 - mae: 101.9703 - val_loss: 34368.5273 - val_mae: 95.4088 - lr: 2.0000e-05\n",
            "Epoch 190/200\n",
            "605/605 [==============================] - 5s 8ms/step - loss: 38413.0195 - mae: 101.9659 - val_loss: 34414.5195 - val_mae: 95.7857 - lr: 2.0000e-05\n",
            "Epoch 191/200\n",
            "605/605 [==============================] - 5s 8ms/step - loss: 38477.3789 - mae: 101.9474 - val_loss: 34383.8984 - val_mae: 95.4193 - lr: 2.0000e-05\n",
            "Epoch 192/200\n",
            "605/605 [==============================] - 5s 8ms/step - loss: 38487.5273 - mae: 101.9938 - val_loss: 34367.9922 - val_mae: 95.4931 - lr: 2.0000e-05\n",
            "Epoch 193/200\n",
            "605/605 [==============================] - 5s 8ms/step - loss: 38487.5469 - mae: 101.9209 - val_loss: 34380.8789 - val_mae: 95.3909 - lr: 2.0000e-05\n",
            "Epoch 194/200\n",
            "605/605 [==============================] - 5s 8ms/step - loss: 38407.6133 - mae: 101.9004 - val_loss: 34386.6094 - val_mae: 95.6175 - lr: 2.0000e-05\n",
            "Epoch 195/200\n",
            "605/605 [==============================] - 5s 8ms/step - loss: 38372.4766 - mae: 101.8675 - val_loss: 34321.8984 - val_mae: 95.1598 - lr: 2.0000e-05\n",
            "Epoch 196/200\n",
            "605/605 [==============================] - 5s 8ms/step - loss: 38391.6523 - mae: 101.8902 - val_loss: 34322.8633 - val_mae: 95.4242 - lr: 2.0000e-05\n",
            "Epoch 197/200\n",
            "605/605 [==============================] - 5s 8ms/step - loss: 38366.7383 - mae: 101.7954 - val_loss: 34303.5352 - val_mae: 95.6922 - lr: 2.0000e-05\n",
            "Epoch 198/200\n",
            "605/605 [==============================] - 5s 8ms/step - loss: 38307.4570 - mae: 101.7311 - val_loss: 34323.1016 - val_mae: 95.3955 - lr: 2.0000e-05\n",
            "Epoch 199/200\n",
            "605/605 [==============================] - 5s 8ms/step - loss: 38410.8828 - mae: 101.9723 - val_loss: 34376.6328 - val_mae: 95.6291 - lr: 2.0000e-05\n",
            "Epoch 200/200\n",
            "605/605 [==============================] - 5s 8ms/step - loss: 38342.8750 - mae: 101.8159 - val_loss: 34381.0039 - val_mae: 95.6637 - lr: 2.0000e-05\n"
          ]
        }
      ]
    },
    {
      "cell_type": "markdown",
      "source": [
        "# **Method 3: Fitting a Simple Single-Headed Neural Network**"
      ],
      "metadata": {
        "id": "r2uoNDlH99U6"
      }
    },
    {
      "cell_type": "markdown",
      "source": [
        "## **Load in the Data**"
      ],
      "metadata": {
        "id": "3zpt85IzX3kZ"
      }
    },
    {
      "cell_type": "markdown",
      "source": [
        "Define the path to access the saved arrays"
      ],
      "metadata": {
        "id": "Gp_mcwW3X4rW"
      }
    },
    {
      "cell_type": "code",
      "source": [
        "new_file_directory = '/content/gdrive/MyDrive/Colab Notebooks/Data/Variables/Training Arrays/'"
      ],
      "metadata": {
        "id": "GjmbizzlYC4h"
      },
      "execution_count": null,
      "outputs": []
    },
    {
      "cell_type": "markdown",
      "source": [
        "Load in the saved arrays into variables and assert the shapes are correct"
      ],
      "metadata": {
        "id": "fbF6ChltYMC8"
      }
    },
    {
      "cell_type": "code",
      "source": [
        "atmospheric_variables = np.load(new_file_directory+'Atmospheric.npy')\n",
        "cloud_perimeter = np.load(new_file_directory+'Perimeter.npy')\n",
        "height = np.load(new_file_directory+'Height.npy')\n",
        "cloud_fraction = np.load(new_file_directory+'Fraction.npy')\n",
        "print(cloud_perimeter.shape)\n",
        "print(cloud_fraction.shape)\n",
        "print(height.shape)\n",
        "print(atmospheric_variables.shape)"
      ],
      "metadata": {
        "id": "kId4PYzWYUEq"
      },
      "execution_count": null,
      "outputs": []
    },
    {
      "cell_type": "markdown",
      "source": [
        "We do not require all atmospheric variables or height levels. Hence we create masks to reduce the atmospheric variables array to the appropriate indices"
      ],
      "metadata": {
        "id": "MvZQWPy8Ycyc"
      }
    },
    {
      "cell_type": "code",
      "source": [
        "#take only the first 10 height levels\n",
        "atmospheric_variables = atmospheric_variables[:,:10,:]\n",
        "#take only 4 of the atmospheric variables\n",
        "variable_mask = [True,False,False,True,True,False,False,False,True,False]\n",
        "atmospheric_variables = atmospheric_variables[:,:,variable_mask]\n",
        "#print the new shape of atmospheric variables\n",
        "print(atmospheric_variables.shape)\n",
        "print(x_train.shape[2])"
      ],
      "metadata": {
        "id": "hyKe3A_qYddg"
      },
      "execution_count": null,
      "outputs": []
    },
    {
      "cell_type": "markdown",
      "source": [
        "Define a simpler model which takes a single vector input and removes all of the spatial 1D aspect of the atmospheric data. This involves flattening the atmospheric data into a vector before computing the test, val and train sets"
      ],
      "metadata": {
        "id": "T-wn9hvcFTkQ"
      }
    },
    {
      "cell_type": "code",
      "source": [
        "def construct_model(vector_length):\n",
        "      #define the two inputs for the two heads of the network\n",
        "      single_input=Input(shape=(1,vector_length))\n",
        "      z=Flatten()(single_input)\n",
        "      z=Dense(256, activation=\"relu\")(z)\n",
        "      z=Dropout(0.2)(z)\n",
        "      z=Dense(128, activation=\"relu\")(z)\n",
        "      z=Dropout(0.2)(z)\n",
        "      z=Dense(16, activation=\"relu\")(z)\n",
        "      z=Dropout(0.2)(z)\n",
        "      z=Dense(1)(z)\n",
        "\n",
        "      #finally define the outputs\n",
        "      model=Model(inputs=single_input, outputs=z)\n",
        "\n",
        "      opt_choice=keras.optimizers.Adam(learning_rate=0.01)\n",
        "      model.compile(optimizer=opt_choice,loss=\"mse\",metrics=['mae'])\n",
        "\n",
        "      model.summary()\n",
        "      keras.utils.plot_model(model, \"double-headed CNN.png\", show_shapes=True)\n",
        "      return model"
      ],
      "metadata": {
        "id": "bALFrdDK-S7W"
      },
      "execution_count": null,
      "outputs": []
    },
    {
      "cell_type": "code",
      "source": [
        "def train_val_test_split(atmospheric_variables,cloud_fraction,height,cloud_perimeter):\n",
        "      #check that the number of data points agree for all variables\n",
        "      assert atmospheric_variables.shape[0]==cloud_fraction.shape[0] and \\\n",
        "      atmospheric_variables.shape[0]==height.shape[0] \\\n",
        "      and atmospheric_variables.shape[0]==cloud_perimeter.shape[0]\n",
        "\n",
        "      num_data_points = int(atmospheric_variables.shape[0])\n",
        "       \n",
        "      #define the shuffling permutation and shuffle the variables in unison\n",
        "      perm = np.random.permutation(num_data_points)\n",
        "      atmospheric_variables = atmospheric_variables[perm,:,:]\n",
        "      cloud_fraction = cloud_fraction[perm,:]\n",
        "      height = height[perm,:]\n",
        "      cloud_perimeter = cloud_perimeter[perm,:]\n",
        "\n",
        "      #reshape the atmospheric variables to be a vector\n",
        "      atmospheric_variables = np.reshape(atmospheric_variables,(atmospheric_variables.shape[0],-1))\n",
        "\n",
        "      #combine the height, cloud fraction and atmospheric variables\n",
        "      x=np.stack((cloud_fraction,height),axis=2)\n",
        "      atmospheric_variables = np.reshape(atmospheric_variables,(atmospheric_variables.shape[0],1,atmospheric_variables.shape[1]))\n",
        "      x=np.concatenate((x,atmospheric_variables),axis=2)\n",
        "\n",
        "      #compute the training set size\n",
        "      train_size=int(np.floor(0.7*num_data_points))\n",
        "      val_size=int(np.floor(0.85*num_data_points))\n",
        "\n",
        "      #specify the train, test and validation sets\n",
        "      #split the data into train and test\n",
        "      x_train=x[:train_size,:,:]\n",
        "      y_train=cloud_perimeter[:train_size,:]\n",
        "      #\n",
        "      x_val=x[train_size:val_size,:,:]\n",
        "      y_val=cloud_perimeter[train_size:val_size,:]\n",
        "      #\n",
        "      x_test=x[val_size:,:,:]\n",
        "      y_test=cloud_perimeter[val_size:,:]\n",
        "\n",
        "      return x_train, y_train, x_val, y_val, x_test, y_test"
      ],
      "metadata": {
        "id": "oHo0ftVP-zdE"
      },
      "execution_count": null,
      "outputs": []
    },
    {
      "cell_type": "markdown",
      "source": [
        "Produce the train, validation and test sets using the newly defined function which nows produces single vectors for each"
      ],
      "metadata": {
        "id": "AfL9jjXuFi-L"
      }
    },
    {
      "cell_type": "code",
      "source": [
        "x_train, y_train, x_val, y_val, x_test, y_test = train_val_test_split(atmospheric_variables,cloud_fraction,height,cloud_perimeter)\n",
        "#find the parameters necessary\n",
        "#check that x_train is a vector\n",
        "assert x_train.shape[1]==1\n",
        "#construct the model and print a model summary\n",
        "model = construct_model(vector_length)"
      ],
      "metadata": {
        "colab": {
          "base_uri": "https://localhost:8080/"
        },
        "id": "xIF6pLSOCcgL",
        "outputId": "563b0e40-a07a-4821-a956-56325a190887"
      },
      "execution_count": null,
      "outputs": [
        {
          "output_type": "stream",
          "name": "stdout",
          "text": [
            "Model: \"model\"\n",
            "_________________________________________________________________\n",
            " Layer (type)                Output Shape              Param #   \n",
            "=================================================================\n",
            " input_2 (InputLayer)        [(None, 1, 42)]           0         \n",
            "                                                                 \n",
            " flatten_1 (Flatten)         (None, 42)                0         \n",
            "                                                                 \n",
            " dense (Dense)               (None, 256)               11008     \n",
            "                                                                 \n",
            " dropout (Dropout)           (None, 256)               0         \n",
            "                                                                 \n",
            " dense_1 (Dense)             (None, 128)               32896     \n",
            "                                                                 \n",
            " dropout_1 (Dropout)         (None, 128)               0         \n",
            "                                                                 \n",
            " dense_2 (Dense)             (None, 16)                2064      \n",
            "                                                                 \n",
            " dropout_2 (Dropout)         (None, 16)                0         \n",
            "                                                                 \n",
            " dense_3 (Dense)             (None, 1)                 17        \n",
            "                                                                 \n",
            "=================================================================\n",
            "Total params: 45,985\n",
            "Trainable params: 45,985\n",
            "Non-trainable params: 0\n",
            "_________________________________________________________________\n"
          ]
        }
      ]
    },
    {
      "cell_type": "markdown",
      "source": [
        "Print the shape of the training data to check it is a vector of the right size"
      ],
      "metadata": {
        "id": "Ggx6zUNgFwAX"
      }
    },
    {
      "cell_type": "code",
      "source": [
        "print(x_train.shape)"
      ],
      "metadata": {
        "colab": {
          "base_uri": "https://localhost:8080/"
        },
        "id": "piOlO1NdCkIa",
        "outputId": "4fa32bec-31f3-40d8-9838-e69c04af8386"
      },
      "execution_count": null,
      "outputs": [
        {
          "output_type": "stream",
          "name": "stdout",
          "text": [
            "(1237345, 1, 42)\n"
          ]
        }
      ]
    },
    {
      "cell_type": "markdown",
      "source": [
        "Fit the simpler model"
      ],
      "metadata": {
        "id": "2uJYtZ58TNny"
      }
    },
    {
      "cell_type": "code",
      "source": [
        "opt_choice=keras.optimizers.Adam(learning_rate=0.01)\n",
        "model.compile(optimizer=opt_choice,loss=\"mse\",metrics=['mae'])\n",
        "\n",
        "history = model.fit(x=x_train, y=y_train, validation_data=(x_val, y_val), epochs=20, batch_size=2048, shuffle=True)"
      ],
      "metadata": {
        "colab": {
          "base_uri": "https://localhost:8080/"
        },
        "id": "fSpte8fjTQB-",
        "outputId": "851ccb20-6225-48bb-da60-5098bafec61e"
      },
      "execution_count": null,
      "outputs": [
        {
          "output_type": "stream",
          "name": "stdout",
          "text": [
            "Epoch 1/20\n",
            "605/605 [==============================] - 5s 4ms/step - loss: 190427.8438 - mae: 279.3105 - val_loss: 105537.3672 - val_mae: 204.2801\n",
            "Epoch 2/20\n",
            "605/605 [==============================] - 2s 4ms/step - loss: 128785.3672 - mae: 224.4640 - val_loss: 117446.0625 - val_mae: 207.7304\n",
            "Epoch 3/20\n",
            "605/605 [==============================] - 2s 4ms/step - loss: 128525.4844 - mae: 224.5593 - val_loss: 131806.8125 - val_mae: 216.6405\n",
            "Epoch 4/20\n",
            "605/605 [==============================] - 2s 4ms/step - loss: 128654.2266 - mae: 223.9457 - val_loss: 105826.5391 - val_mae: 212.5605\n",
            "Epoch 5/20\n",
            "605/605 [==============================] - 2s 3ms/step - loss: 128347.9062 - mae: 223.9030 - val_loss: 105689.4297 - val_mae: 200.4028\n",
            "Epoch 6/20\n",
            "605/605 [==============================] - 2s 3ms/step - loss: 127978.8984 - mae: 223.3064 - val_loss: 105541.6250 - val_mae: 207.6872\n",
            "Epoch 7/20\n",
            "605/605 [==============================] - 2s 3ms/step - loss: 126811.4531 - mae: 221.8622 - val_loss: 105532.9688 - val_mae: 211.6743\n",
            "Epoch 8/20\n",
            "605/605 [==============================] - 2s 3ms/step - loss: 126788.0703 - mae: 222.1837 - val_loss: 121860.3750 - val_mae: 257.5218\n",
            "Epoch 9/20\n",
            "605/605 [==============================] - 2s 3ms/step - loss: 127492.0000 - mae: 223.0729 - val_loss: 107027.9141 - val_mae: 203.9615\n",
            "Epoch 10/20\n",
            "605/605 [==============================] - 2s 3ms/step - loss: 127340.4062 - mae: 222.2402 - val_loss: 105457.8438 - val_mae: 208.5526\n",
            "Epoch 11/20\n",
            "605/605 [==============================] - 2s 3ms/step - loss: 126742.8359 - mae: 221.6029 - val_loss: 107168.9609 - val_mae: 223.1725\n",
            "Epoch 12/20\n",
            "605/605 [==============================] - 2s 3ms/step - loss: 127285.2109 - mae: 222.7099 - val_loss: 107737.6172 - val_mae: 225.8019\n",
            "Epoch 13/20\n",
            "605/605 [==============================] - 2s 3ms/step - loss: 126978.2422 - mae: 221.9804 - val_loss: 108980.4531 - val_mae: 208.5289\n",
            "Epoch 14/20\n",
            "605/605 [==============================] - 2s 3ms/step - loss: 126720.0078 - mae: 221.8254 - val_loss: 105515.3984 - val_mae: 203.0948\n",
            "Epoch 15/20\n",
            "605/605 [==============================] - 2s 3ms/step - loss: 126643.3828 - mae: 221.7742 - val_loss: 106443.9062 - val_mae: 194.9061\n",
            "Epoch 16/20\n",
            "605/605 [==============================] - 2s 3ms/step - loss: 126543.3359 - mae: 221.8885 - val_loss: 106208.0547 - val_mae: 215.6707\n",
            "Epoch 17/20\n",
            "605/605 [==============================] - 2s 3ms/step - loss: 125707.4766 - mae: 220.7162 - val_loss: 108236.4453 - val_mae: 225.7713\n",
            "Epoch 18/20\n",
            "605/605 [==============================] - 2s 3ms/step - loss: 125652.0781 - mae: 220.7033 - val_loss: 106205.4844 - val_mae: 217.2663\n",
            "Epoch 19/20\n",
            "605/605 [==============================] - 2s 3ms/step - loss: 125631.7344 - mae: 221.0214 - val_loss: 106781.6953 - val_mae: 212.8671\n",
            "Epoch 20/20\n",
            "605/605 [==============================] - 2s 3ms/step - loss: 125759.5312 - mae: 221.2175 - val_loss: 107082.5859 - val_mae: 222.2178\n"
          ]
        }
      ]
    },
    {
      "cell_type": "markdown",
      "source": [
        "# **Method 4: Simple ANN with Keras Tuner**"
      ],
      "metadata": {
        "id": "m-OY2s8cYJv-"
      }
    },
    {
      "cell_type": "markdown",
      "source": [
        "## **Load in the Data**"
      ],
      "metadata": {
        "id": "ohAH6mL8YRy3"
      }
    },
    {
      "cell_type": "markdown",
      "source": [
        "Define the path to access the saved arrays"
      ],
      "metadata": {
        "id": "WX_CBVUFYV4j"
      }
    },
    {
      "cell_type": "code",
      "source": [
        "new_file_directory = '/content/gdrive/MyDrive/Colab Notebooks/Data/Variables/Training Arrays/'"
      ],
      "metadata": {
        "id": "aFPz9wKaYfQC"
      },
      "execution_count": null,
      "outputs": []
    },
    {
      "cell_type": "markdown",
      "source": [
        "Load in the saved arrays into variables and assert the shapes are correct"
      ],
      "metadata": {
        "id": "EpQ1mrcuYWAI"
      }
    },
    {
      "cell_type": "code",
      "source": [
        "atmospheric_variables = np.load(new_file_directory+'Atmospheric.npy')\n",
        "cloud_perimeter = np.load(new_file_directory+'Perimeter.npy')\n",
        "height = np.load(new_file_directory+'Height.npy')\n",
        "cloud_fraction = np.load(new_file_directory+'Fraction.npy')\n",
        "print(cloud_perimeter.shape)\n",
        "print(cloud_fraction.shape)\n",
        "print(height.shape)\n",
        "print(atmospheric_variables.shape)"
      ],
      "metadata": {
        "colab": {
          "base_uri": "https://localhost:8080/"
        },
        "id": "x_f9WMF3Yi3B",
        "outputId": "67c35db5-a380-4144-b8a8-68bfdb3323d1"
      },
      "execution_count": null,
      "outputs": [
        {
          "output_type": "stream",
          "name": "stdout",
          "text": [
            "(1767636, 1)\n",
            "(1767636, 1)\n",
            "(1767636, 1)\n",
            "(1767636, 332, 10)\n"
          ]
        }
      ]
    },
    {
      "cell_type": "markdown",
      "source": [
        "We do not require all atmospheric variables or height levels hence we create masks to reduce the array"
      ],
      "metadata": {
        "id": "WNdJcfGXafML"
      }
    },
    {
      "cell_type": "code",
      "source": [
        "#take only the first 10 height levels\n",
        "atmospheric_variables = atmospheric_variables[:,:7,:]\n",
        "#take only 4 of the atmospheric variables\n",
        "variable_mask = [True,False,False,True,True,False,False,False,True,False]\n",
        "atmospheric_variables = atmospheric_variables[:,:,variable_mask]\n",
        "#print the new shape of atmospheric variables\n",
        "print(atmospheric_variables.shape)"
      ],
      "metadata": {
        "colab": {
          "base_uri": "https://localhost:8080/"
        },
        "id": "NMLteyzWaej4",
        "outputId": "32b1d53c-3036-4fb9-c48b-76c72b8130bc"
      },
      "execution_count": null,
      "outputs": [
        {
          "output_type": "stream",
          "name": "stdout",
          "text": [
            "(1767636, 7, 4)\n"
          ]
        }
      ]
    },
    {
      "cell_type": "markdown",
      "source": [
        "Define the training, validation and test sets"
      ],
      "metadata": {
        "id": "I3asG2t0ZJIn"
      }
    },
    {
      "cell_type": "code",
      "source": [
        "def train_val_test_split(atmospheric_variables,cloud_fraction,height,cloud_perimeter):\n",
        "      #check that the number of data points agree for all variables\n",
        "      assert atmospheric_variables.shape[0]==cloud_fraction.shape[0] and \\\n",
        "      atmospheric_variables.shape[0]==height.shape[0] \\\n",
        "      and atmospheric_variables.shape[0]==cloud_perimeter.shape[0]\n",
        "\n",
        "      num_data_points = int(atmospheric_variables.shape[0])\n",
        "       \n",
        "      \n",
        "      #define the shuffling permutation and shuffle the variables in unison\n",
        "      perm = np.random.permutation(num_data_points)\n",
        "      atmospheric_variables = atmospheric_variables[perm,:,:]\n",
        "      cloud_fraction = cloud_fraction[perm,:]\n",
        "      height = height[perm,:]\n",
        "      cloud_perimeter = cloud_perimeter[perm,:]\n",
        "\n",
        "      #reshape the atmospheric variables to be a vector\n",
        "      atmospheric_variables = np.reshape(atmospheric_variables,(atmospheric_variables.shape[0],-1))\n",
        "\n",
        "      #combine the height, cloud fraction and atmospheric variables\n",
        "      x=np.stack((cloud_fraction,height),axis=2)\n",
        "      atmospheric_variables = np.reshape(atmospheric_variables,(atmospheric_variables.shape[0],1,atmospheric_variables.shape[1]))\n",
        "      x=np.concatenate((x,atmospheric_variables),axis=2)\n",
        "\n",
        "      #compute the training set size\n",
        "      train_size=int(np.floor(0.7*num_data_points))\n",
        "      val_size=int(np.floor(0.85*num_data_points))\n",
        "\n",
        "      #specify the train, test and validation sets\n",
        "      #split the data into train and test\n",
        "      x_train=x[:train_size,:,:]\n",
        "      y_train=cloud_perimeter[:train_size,:]\n",
        "      #\n",
        "      x_val=x[train_size:val_size,:,:]\n",
        "      y_val=cloud_perimeter[train_size:val_size,:]\n",
        "      #\n",
        "      x_test=x[val_size:,:,:]\n",
        "      y_test=cloud_perimeter[val_size:,:]\n",
        "\n",
        "      return x_train, y_train, x_val, y_val, x_test, y_test"
      ],
      "metadata": {
        "id": "Dy-KPI1HZMA3"
      },
      "execution_count": null,
      "outputs": []
    },
    {
      "cell_type": "code",
      "source": [
        "x_train, y_train, x_val, y_val, x_test, y_test = train_val_test_split(atmospheric_variables,cloud_fraction,height,cloud_perimeter)\n",
        "#find the parameters necessary\n",
        "#check that x_train is a vector\n",
        "assert x_train.shape[1]==1\n",
        "print(x_train.shape[2])"
      ],
      "metadata": {
        "colab": {
          "base_uri": "https://localhost:8080/"
        },
        "id": "Kjro9z4IZQ99",
        "outputId": "1f56d1fb-2e1a-4fea-ed4a-f79eba74a5f8"
      },
      "execution_count": null,
      "outputs": [
        {
          "output_type": "stream",
          "name": "stdout",
          "text": [
            "30\n"
          ]
        }
      ]
    },
    {
      "cell_type": "markdown",
      "source": [
        "Check the shape of x_test"
      ],
      "metadata": {
        "id": "v2cbKmxxZfAP"
      }
    },
    {
      "cell_type": "code",
      "source": [
        "print(x_test.shape)"
      ],
      "metadata": {
        "colab": {
          "base_uri": "https://localhost:8080/"
        },
        "id": "nobq975KZiV-",
        "outputId": "3358078e-790f-4fdb-b90b-797c67e8d75e"
      },
      "execution_count": null,
      "outputs": [
        {
          "output_type": "stream",
          "name": "stdout",
          "text": [
            "(265146, 1, 30)\n"
          ]
        }
      ]
    },
    {
      "cell_type": "markdown",
      "source": [
        "Delete the variables to save RAM"
      ],
      "metadata": {
        "id": "gZv7rSbNZdK9"
      }
    },
    {
      "cell_type": "code",
      "source": [
        "del atmospheric_variables\n",
        "del cloud_fraction\n",
        "del height\n",
        "del cloud_perimeter"
      ],
      "metadata": {
        "id": "WLAukAEfZkX2"
      },
      "execution_count": null,
      "outputs": []
    },
    {
      "cell_type": "markdown",
      "source": [
        "## **Define a Tuner from Scratch**"
      ],
      "metadata": {
        "id": "TWKPxuzzcEhh"
      }
    },
    {
      "cell_type": "markdown",
      "source": [
        "Define a simpler model which takes a single vector input and removes all of the spatial 1D aspect of the atmospheric data. This involves flattening the atmospheric data into a vector before computing the test, val and train sets"
      ],
      "metadata": {
        "id": "8zJj-OfqYnNv"
      }
    },
    {
      "cell_type": "code",
      "source": [
        "def construct_model(hp):\n",
        "      hp_units_z1 = hp.Int('units_1', min_value=32, max_value=512, step=32)\n",
        "      hp_units_z2 = hp.Int('units_2', min_value=32, max_value=512, step=32)\n",
        "      hp_units_z3 = hp.Int('units_3', min_value=16, max_value=256, step=16)\n",
        "      hp_units_z4 = hp.Int('units_4', min_value=16, max_value=128, step=16)\n",
        "      hp_dropout = hp.Choice('dropout', values = [0.0,0.1,0.2,0.3,0.4,0.5,0.6,0.7])\n",
        "      #define the two inputs for the two heads of the network\n",
        "      single_input=Input(shape=(1,30))\n",
        "      z=Flatten()(single_input)\n",
        "      z=Dense(units=hp_units_z1, activation=\"relu\")(z)\n",
        "      z=Dropout(hp_dropout)(z)\n",
        "      z=Dense(units=hp_units_z2, activation=\"relu\")(z)\n",
        "      z=Dropout(hp_dropout)(z)\n",
        "      z=Dense(units=hp_units_z3, activation=\"relu\")(z)\n",
        "      z=Dropout(hp_dropout)(z)\n",
        "      z=Dense(units=hp_units_z4, activation=\"relu\")(z)\n",
        "      z=Dropout(hp_dropout)(z)\n",
        "      z=Dense(1)(z)\n",
        "\n",
        "      #finally define the outputs\n",
        "      model=Model(inputs=single_input, outputs=z)\n",
        "\n",
        "      opt_choice=keras.optimizers.Adam(learning_rate=0.01)\n",
        "      model.compile(optimizer=opt_choice,loss=\"mse\",metrics=['mae'])\n",
        "\n",
        "      return model"
      ],
      "metadata": {
        "id": "OnvGNpaUYrpk"
      },
      "execution_count": null,
      "outputs": []
    },
    {
      "cell_type": "code",
      "source": [
        "def adapt_learning_rate(epoch):\n",
        "          power = epoch // 20\n",
        "          multiplier = 0.1 ** power\n",
        "          if epoch < 60: \n",
        "            lr = 0.002 * multiplier\n",
        "          else:\n",
        "            lr = 2e-5\n",
        "          return lr\n",
        "my_lr_scheduler = keras.callbacks.LearningRateScheduler(adapt_learning_rate)"
      ],
      "metadata": {
        "id": "mrqHDHscbU_V"
      },
      "execution_count": null,
      "outputs": []
    },
    {
      "cell_type": "code",
      "source": [
        "tuner = kt.Hyperband(construct_model,\n",
        "                     objective='val_mae',\n",
        "                     max_epochs=200,\n",
        "                     directory='/content/gdrive/MyDrive/Colab Notebooks/Tuning',\n",
        "                     project_name='RoundingFixed_Hyperband_Tuner_simpleANN_allfiles')"
      ],
      "metadata": {
        "id": "QaSn9FTubddt"
      },
      "execution_count": null,
      "outputs": []
    },
    {
      "cell_type": "code",
      "source": [
        "tuner.search(x=x_train, y=y_train, validation_data=(x_val, y_val), epochs=200, batch_size=2048, shuffle=True, callbacks=[my_lr_scheduler])"
      ],
      "metadata": {
        "colab": {
          "base_uri": "https://localhost:8080/"
        },
        "id": "btsGFBhUbqHf",
        "outputId": "c2d58891-c827-4de9-94ef-e33fa1091992"
      },
      "execution_count": null,
      "outputs": [
        {
          "output_type": "stream",
          "name": "stdout",
          "text": [
            "Trial 254 Complete [00h 08m 23s]\n",
            "val_mae: 130.25137329101562\n",
            "\n",
            "Best val_mae So Far: 107.3078842163086\n",
            "Total elapsed time: 03h 31m 47s\n"
          ]
        }
      ]
    },
    {
      "cell_type": "markdown",
      "source": [
        "## **Reload a saved tuner**"
      ],
      "metadata": {
        "id": "4VRUjV76btAz"
      }
    },
    {
      "cell_type": "markdown",
      "source": [
        "**hp function for the RoundingFixed_Hyperband_Tuner_simpleANN_allfiles**"
      ],
      "metadata": {
        "id": "iFrSJA12QeVw"
      }
    },
    {
      "cell_type": "markdown",
      "source": [
        "❗❗❗ Uses the adaptive learning rate!"
      ],
      "metadata": {
        "id": "Hl4q21taQ8a_"
      }
    },
    {
      "cell_type": "code",
      "source": [
        "def construct_model(hp):\n",
        "      hp_units_z1 = hp.Int('units_1', min_value=32, max_value=512, step=32)\n",
        "      hp_units_z2 = hp.Int('units_2', min_value=32, max_value=512, step=32)\n",
        "      hp_units_z3 = hp.Int('units_3', min_value=16, max_value=256, step=16)\n",
        "      hp_units_z4 = hp.Int('units_4', min_value=16, max_value=128, step=16)\n",
        "      hp_dropout = hp.Choice('dropout', values = [0.0,0.1,0.2,0.3,0.4,0.5,0.6,0.7])\n",
        "      #define the two inputs for the two heads of the network\n",
        "      single_input=Input(shape=(1,30))\n",
        "      z=Flatten()(single_input)\n",
        "      z=Dense(units=hp_units_z1, activation=\"relu\")(z)\n",
        "      z=Dropout(hp_dropout)(z)\n",
        "      z=Dense(units=hp_units_z2, activation=\"relu\")(z)\n",
        "      z=Dropout(hp_dropout)(z)\n",
        "      z=Dense(units=hp_units_z3, activation=\"relu\")(z)\n",
        "      z=Dropout(hp_dropout)(z)\n",
        "      z=Dense(units=hp_units_z4, activation=\"relu\")(z)\n",
        "      z=Dropout(hp_dropout)(z)\n",
        "      z=Dense(1)(z)\n",
        "\n",
        "      #finally define the outputs\n",
        "      model=Model(inputs=single_input, outputs=z)\n",
        "\n",
        "      opt_choice=keras.optimizers.Adam(learning_rate=0.01)\n",
        "      model.compile(optimizer=opt_choice,loss=\"mse\",metrics=['mae'])\n",
        "\n",
        "      return model"
      ],
      "metadata": {
        "id": "vu4Nl0GVQnOw"
      },
      "execution_count": null,
      "outputs": []
    },
    {
      "cell_type": "code",
      "source": [
        "tuner = kt.Hyperband(construct_model,\n",
        "                     objective='val_mae',\n",
        "                     max_epochs=200,\n",
        "                     directory='/content/gdrive/MyDrive/Colab Notebooks/Tuning',\n",
        "                     project_name='RoundingFixed_Hyperband_Tuner_simpleANN_allfiles')\n",
        "\n",
        "tuner.reload()"
      ],
      "metadata": {
        "id": "CVDgq3aFQrVF"
      },
      "execution_count": null,
      "outputs": []
    },
    {
      "cell_type": "markdown",
      "source": [
        "**hp function for the Hyperband_Tuner_simpleANN_allfiles**"
      ],
      "metadata": {
        "id": "dyBl2Sy1QRMG"
      }
    },
    {
      "cell_type": "markdown",
      "source": [
        "❗❗❗ Uses the adaptive learning rate!"
      ],
      "metadata": {
        "id": "yU7R2qzkQ9Zz"
      }
    },
    {
      "cell_type": "code",
      "source": [
        "def construct_model(hp):\n",
        "      hp_units_z1 = hp.Int('units_1', min_value=32, max_value=512, step=32)\n",
        "      hp_units_z2 = hp.Int('units_2', min_value=32, max_value=512, step=32)\n",
        "      hp_units_z3 = hp.Int('units_3', min_value=16, max_value=256, step=16)\n",
        "      hp_units_z4 = hp.Int('units_4', min_value=16, max_value=128, step=16)\n",
        "      hp_dropout = hp.Choice('dropout', values = [0.0,0.1,0.2,0.3,0.4,0.5,0.6,0.7])\n",
        "      #define the two inputs for the two heads of the network\n",
        "      single_input=Input(shape=(1,30))\n",
        "      z=Flatten()(single_input)\n",
        "      z=Dense(units=hp_units_z1, activation=\"relu\")(z)\n",
        "      z=Dropout(hp_dropout)(z)\n",
        "      z=Dense(units=hp_units_z2, activation=\"relu\")(z)\n",
        "      z=Dropout(hp_dropout)(z)\n",
        "      z=Dense(units=hp_units_z3, activation=\"relu\")(z)\n",
        "      z=Dropout(hp_dropout)(z)\n",
        "      z=Dense(units=hp_units_z4, activation=\"relu\")(z)\n",
        "      z=Dropout(hp_dropout)(z)\n",
        "      z=Dense(1)(z)\n",
        "\n",
        "      #finally define the outputs\n",
        "      model=Model(inputs=single_input, outputs=z)\n",
        "\n",
        "      opt_choice=keras.optimizers.Adam(learning_rate=0.01)\n",
        "      model.compile(optimizer=opt_choice,loss=\"mse\",metrics=['mae'])\n",
        "\n",
        "      return model"
      ],
      "metadata": {
        "id": "4n7GsZIHcDOW"
      },
      "execution_count": null,
      "outputs": []
    },
    {
      "cell_type": "code",
      "source": [
        "tuner = kt.Hyperband(construct_model,\n",
        "                     objective='val_mae',\n",
        "                     max_epochs=200,\n",
        "                     directory='/content/gdrive/MyDrive/Colab Notebooks/Tuning',\n",
        "                     project_name='Hyperband_Tuner_simpleANN_allfiles')\n",
        "\n",
        "tuner.reload()"
      ],
      "metadata": {
        "id": "iXTuqJ9Bbwjq"
      },
      "execution_count": null,
      "outputs": []
    },
    {
      "cell_type": "markdown",
      "source": [
        "## **Fit the model**"
      ],
      "metadata": {
        "id": "8TOvXmTGQaPF"
      }
    },
    {
      "cell_type": "code",
      "source": [
        "best_hps=tuner.get_best_hyperparameters(num_trials=1)[0]"
      ],
      "metadata": {
        "id": "CGPRVGIIcVb3"
      },
      "execution_count": null,
      "outputs": []
    },
    {
      "cell_type": "code",
      "source": [
        "model = tuner.hypermodel.build(best_hps)"
      ],
      "metadata": {
        "id": "jXYuY-Vncbyx"
      },
      "execution_count": null,
      "outputs": []
    },
    {
      "cell_type": "code",
      "source": [
        "adaptive_learning = True"
      ],
      "metadata": {
        "id": "daQ8lwQ5cnHD"
      },
      "execution_count": null,
      "outputs": []
    },
    {
      "cell_type": "code",
      "source": [
        "if adaptive_learning:\n",
        "      def adapt_learning_rate(epoch):\n",
        "              power = epoch // 20\n",
        "              multiplier = 0.1 ** power\n",
        "              if epoch < 60: \n",
        "                lr = 0.002 * multiplier\n",
        "              else:\n",
        "                lr = 2e-5\n",
        "              return lr\n",
        "      my_lr_scheduler = keras.callbacks.LearningRateScheduler(adapt_learning_rate)"
      ],
      "metadata": {
        "id": "gMS6MOBgcjFn"
      },
      "execution_count": null,
      "outputs": []
    },
    {
      "cell_type": "code",
      "source": [
        "if adaptive_learning:\n",
        "      history = model.fit(x=x_train, y=y_train, validation_data=(x_val, y_val), epochs=200, batch_size=2048, shuffle=True, callbacks=[my_lr_scheduler])\n",
        "else:\n",
        "      history = model.fit(x=x_train, y=y_train, validation_data=(x_val, y_val), epochs=200, batch_size=2048, shuffle=True)\n"
      ],
      "metadata": {
        "id": "kJSuvn9tc1Zx"
      },
      "execution_count": null,
      "outputs": []
    },
    {
      "cell_type": "markdown",
      "source": [
        "# **Analysing the Model** \n",
        "#### Produced by either of the two methods"
      ],
      "metadata": {
        "id": "-yFR1y_Gqa2s"
      }
    },
    {
      "cell_type": "markdown",
      "source": [
        "Output the hyperparameters found by the tuner"
      ],
      "metadata": {
        "id": "RYLZ_kabHDMI"
      }
    },
    {
      "cell_type": "code",
      "source": [
        "tuner.results_summary()"
      ],
      "metadata": {
        "colab": {
          "base_uri": "https://localhost:8080/"
        },
        "id": "dIwcM343HH0E",
        "outputId": "dcc0d383-a79c-4a9d-daf8-c6549455e3f0"
      },
      "execution_count": null,
      "outputs": [
        {
          "output_type": "stream",
          "name": "stdout",
          "text": [
            "Results summary\n",
            "Results in /content/gdrive/MyDrive/Colab Notebooks/Tuning/RoundingFixed_Hyperband_Tuner_allfiles_more_epochs\n",
            "Showing 10 best trials\n",
            "<keras_tuner.engine.objective.Objective object at 0x7f90e4fa0ed0>\n",
            "Trial summary\n",
            "Hyperparameters:\n",
            "kernel_size: 5\n",
            "pool_size: 1\n",
            "units_1: 416\n",
            "units_2: 352\n",
            "units_3: 192\n",
            "units_4: 16\n",
            "dropout: 0.0\n",
            "tuner/epochs: 67\n",
            "tuner/initial_epoch: 0\n",
            "tuner/bracket: 1\n",
            "tuner/round: 0\n",
            "Score: 93.317138671875\n",
            "Trial summary\n",
            "Hyperparameters:\n",
            "kernel_size: 4\n",
            "pool_size: 1\n",
            "units_1: 256\n",
            "units_2: 256\n",
            "units_3: 160\n",
            "units_4: 48\n",
            "dropout: 0.1\n",
            "tuner/epochs: 200\n",
            "tuner/initial_epoch: 0\n",
            "tuner/bracket: 0\n",
            "tuner/round: 0\n",
            "Score: 93.37390899658203\n",
            "Trial summary\n",
            "Hyperparameters:\n",
            "kernel_size: 2\n",
            "pool_size: 1\n",
            "units_1: 416\n",
            "units_2: 448\n",
            "units_3: 96\n",
            "units_4: 48\n",
            "dropout: 0.3\n",
            "tuner/epochs: 200\n",
            "tuner/initial_epoch: 0\n",
            "tuner/bracket: 0\n",
            "tuner/round: 0\n",
            "Score: 96.845458984375\n",
            "Trial summary\n",
            "Hyperparameters:\n",
            "kernel_size: 6\n",
            "pool_size: 1\n",
            "units_1: 320\n",
            "units_2: 288\n",
            "units_3: 128\n",
            "units_4: 48\n",
            "dropout: 0.2\n",
            "tuner/epochs: 23\n",
            "tuner/initial_epoch: 0\n",
            "tuner/bracket: 2\n",
            "tuner/round: 0\n",
            "Score: 97.0287094116211\n",
            "Trial summary\n",
            "Hyperparameters:\n",
            "kernel_size: 6\n",
            "pool_size: 1\n",
            "units_1: 448\n",
            "units_2: 448\n",
            "units_3: 144\n",
            "units_4: 112\n",
            "dropout: 0.2\n",
            "tuner/epochs: 23\n",
            "tuner/initial_epoch: 8\n",
            "tuner/bracket: 3\n",
            "tuner/round: 1\n",
            "tuner/trial_id: 0151\n",
            "Score: 97.7600326538086\n",
            "Trial summary\n",
            "Hyperparameters:\n",
            "kernel_size: 6\n",
            "pool_size: 1\n",
            "units_1: 224\n",
            "units_2: 352\n",
            "units_3: 192\n",
            "units_4: 96\n",
            "dropout: 0.2\n",
            "tuner/epochs: 23\n",
            "tuner/initial_epoch: 8\n",
            "tuner/bracket: 4\n",
            "tuner/round: 2\n",
            "tuner/trial_id: 0118\n",
            "Score: 99.1895523071289\n",
            "Trial summary\n",
            "Hyperparameters:\n",
            "kernel_size: 6\n",
            "pool_size: 1\n",
            "units_1: 192\n",
            "units_2: 512\n",
            "units_3: 128\n",
            "units_4: 96\n",
            "dropout: 0.2\n",
            "tuner/epochs: 23\n",
            "tuner/initial_epoch: 8\n",
            "tuner/bracket: 3\n",
            "tuner/round: 1\n",
            "tuner/trial_id: 0153\n",
            "Score: 99.19539642333984\n",
            "Trial summary\n",
            "Hyperparameters:\n",
            "kernel_size: 6\n",
            "pool_size: 1\n",
            "units_1: 384\n",
            "units_2: 352\n",
            "units_3: 160\n",
            "units_4: 48\n",
            "dropout: 0.3\n",
            "tuner/epochs: 23\n",
            "tuner/initial_epoch: 8\n",
            "tuner/bracket: 4\n",
            "tuner/round: 2\n",
            "tuner/trial_id: 0106\n",
            "Score: 99.63843536376953\n",
            "Trial summary\n",
            "Hyperparameters:\n",
            "kernel_size: 6\n",
            "pool_size: 1\n",
            "units_1: 224\n",
            "units_2: 64\n",
            "units_3: 256\n",
            "units_4: 32\n",
            "dropout: 0.2\n",
            "tuner/epochs: 67\n",
            "tuner/initial_epoch: 0\n",
            "tuner/bracket: 1\n",
            "tuner/round: 0\n",
            "Score: 100.02540588378906\n",
            "Trial summary\n",
            "Hyperparameters:\n",
            "kernel_size: 5\n",
            "pool_size: 1\n",
            "units_1: 288\n",
            "units_2: 448\n",
            "units_3: 96\n",
            "units_4: 48\n",
            "dropout: 0.2\n",
            "tuner/epochs: 23\n",
            "tuner/initial_epoch: 8\n",
            "tuner/bracket: 4\n",
            "tuner/round: 2\n",
            "tuner/trial_id: 0115\n",
            "Score: 100.46269226074219\n"
          ]
        }
      ]
    },
    {
      "cell_type": "markdown",
      "source": [
        "⬛Run this cell if you wish to save the model"
      ],
      "metadata": {
        "id": "IZ9XWPuDsjqK"
      }
    },
    {
      "cell_type": "markdown",
      "source": [
        "❗❗❗ Note: adjust the file path to save as necessary to avoid overwriting the models"
      ],
      "metadata": {
        "id": "gq3bhIDEsnTQ"
      }
    },
    {
      "cell_type": "code",
      "source": [
        "model.save('/content/gdrive/MyDrive/Colab Notebooks/Models/RoundingFixedMNNallFilesMoreEpochsTunerAdaptiveLR4Vars7Heights93MAE')"
      ],
      "metadata": {
        "id": "A8qk0yhjsmto"
      },
      "execution_count": null,
      "outputs": []
    },
    {
      "cell_type": "markdown",
      "source": [
        "Find the best epoch (in case we wish to do early stopping)"
      ],
      "metadata": {
        "id": "umyMtg7qqxEY"
      }
    },
    {
      "cell_type": "code",
      "source": [
        "val_acc_per_epoch = history.history['val_mae']\n",
        "best_epoch = val_acc_per_epoch.index(min(val_acc_per_epoch)) + 1\n",
        "print('Best epoch: %d' % (best_epoch,))"
      ],
      "metadata": {
        "colab": {
          "base_uri": "https://localhost:8080/"
        },
        "id": "QfZddh69qmYH",
        "outputId": "df255c50-3069-41e5-916f-54ec1f4f5ca4"
      },
      "execution_count": null,
      "outputs": [
        {
          "output_type": "stream",
          "name": "stdout",
          "text": [
            "Best epoch: 195\n"
          ]
        }
      ]
    },
    {
      "cell_type": "markdown",
      "source": [
        "Print a summary diagram of the model"
      ],
      "metadata": {
        "id": "6Zaa_vhDq3cy"
      }
    },
    {
      "cell_type": "code",
      "source": [
        "keras.utils.plot_model(model, \"double-headed CNN.png\", show_shapes=True)"
      ],
      "metadata": {
        "id": "qffHLjPtq6GU",
        "colab": {
          "base_uri": "https://localhost:8080/",
          "height": 1000
        },
        "outputId": "79f6f586-d731-4c89-aba8-7e0be9700ee1"
      },
      "execution_count": null,
      "outputs": [
        {
          "output_type": "execute_result",
          "data": {
            "text/plain": [
              "<IPython.core.display.Image object>"
            ],
            "image/png": "[encoded data removed]"
          },
          "metadata": {},
          "execution_count": 27
        }
      ]
    },
    {
      "cell_type": "markdown",
      "source": [
        "Print the test accuracy we have achieved"
      ],
      "metadata": {
        "id": "BjRM6wI5q8-W"
      }
    },
    {
      "cell_type": "code",
      "source": [
        "test_loss, test_acc = model.evaluate([x1_test, x2_test], y_test, batch_size=128)\n",
        "print(f\"Test accuracy: {test_acc:.3f}\")\n",
        "print(f\"Test loss: {test_loss:.3f}\")"
      ],
      "metadata": {
        "colab": {
          "base_uri": "https://localhost:8080/"
        },
        "id": "XpkMdsZ1rZhL",
        "outputId": "e13ed4c9-09ca-4308-f51d-183b3c599fd6"
      },
      "execution_count": null,
      "outputs": [
        {
          "output_type": "stream",
          "name": "stdout",
          "text": [
            "2072/2072 [==============================] - 6s 3ms/step - loss: 33782.8438 - mae: 94.7513\n",
            "Test accuracy: 94.751\n",
            "Test loss: 33782.844\n"
          ]
        }
      ]
    },
    {
      "cell_type": "markdown",
      "source": [
        "Print the validation accuracy we have achieved"
      ],
      "metadata": {
        "id": "2I5Cp8FAraPr"
      }
    },
    {
      "cell_type": "code",
      "source": [
        "val_loss, val_acc = model.evaluate([x1_val, x2_val], y_val, batch_size=2048)\n",
        "print(f\"Val accuracy: {val_acc:.3f}\")\n",
        "print(f\"Val loss: {val_loss:.3f}\")"
      ],
      "metadata": {
        "colab": {
          "base_uri": "https://localhost:8080/"
        },
        "id": "XCNqytsxrcv9",
        "outputId": "27eb1d12-35c3-4d70-da65-8b25a2a68f4f"
      },
      "execution_count": null,
      "outputs": [
        {
          "output_type": "stream",
          "name": "stdout",
          "text": [
            "130/130 [==============================] - 0s 4ms/step - loss: 33643.6055 - mae: 94.0460\n",
            "Val accuracy: 94.046\n",
            "Val loss: 33643.605\n"
          ]
        }
      ]
    },
    {
      "cell_type": "markdown",
      "source": [
        "Use the model to make predictions on the test data and explicitly store these in a predictions variable"
      ],
      "metadata": {
        "id": "v6v9PVUfrfEC"
      }
    },
    {
      "cell_type": "code",
      "source": [
        "predictions=model.predict([x1_test,x2_test])\n",
        "print(predictions.shape)\n",
        "print(y_test.shape)"
      ],
      "metadata": {
        "colab": {
          "base_uri": "https://localhost:8080/"
        },
        "id": "sOEuSuPkrny7",
        "outputId": "2b7dd41b-24fb-4289-ac16-4053730025ee"
      },
      "execution_count": null,
      "outputs": [
        {
          "output_type": "stream",
          "name": "stdout",
          "text": [
            "(265146, 1)\n",
            "(265146, 1)\n"
          ]
        }
      ]
    },
    {
      "cell_type": "markdown",
      "source": [
        "Plot the predictions and the true labels on the same histogram to compare the model's predictions to the ground truth data"
      ],
      "metadata": {
        "id": "RbN2jxb0rodg"
      }
    },
    {
      "cell_type": "code",
      "source": [
        "x_range=range(len(predictions))\n",
        "predictions=tf.squeeze(predictions)\n",
        "y_test=tf.squeeze(y_test)\n",
        "plt.plot(x_range,y_test,color='blue',label='cloud_perimeter')\n",
        "plt.plot(x_range,predictions,color='red',label='predictions')\n",
        "plt.legend()\n",
        "plt.show()"
      ],
      "metadata": {
        "colab": {
          "base_uri": "https://localhost:8080/",
          "height": 265
        },
        "id": "DLYrzfHirwEJ",
        "outputId": "ed0bfb91-7cc3-4b49-f707-d020f6a324e3"
      },
      "execution_count": null,
      "outputs": [
        {
          "output_type": "display_data",
          "data": {
            "text/plain": [
              "<Figure size 432x288 with 1 Axes>"
            ],
            "image/png": "[encoded data removed]"
          },
          "metadata": {
            "needs_background": "light"
          }
        }
      ]
    },
    {
      "cell_type": "markdown",
      "source": [
        "Assert that the removal of all data points with a zero cloud fraction has removed all data points with a zero cloud perimeter (this is a sanity check which checks that the data has been cleaned correctly)"
      ],
      "metadata": {
        "id": "jaZCtZd7rwhP"
      }
    },
    {
      "cell_type": "code",
      "source": [
        "zero_perimeters = y_test[y_test==0]\n",
        "print(len(zero_perimeters)/len(y_test))"
      ],
      "metadata": {
        "colab": {
          "base_uri": "https://localhost:8080/"
        },
        "id": "pldKA4Ukr8-q",
        "outputId": "b2c20464-4f32-45c8-b961-b3056d6a4480"
      },
      "execution_count": null,
      "outputs": [
        {
          "output_type": "stream",
          "name": "stdout",
          "text": [
            "0.0\n"
          ]
        }
      ]
    },
    {
      "cell_type": "markdown",
      "source": [
        "Plot a histogram of the predictions"
      ],
      "metadata": {
        "id": "aIqXFFhOr9lz"
      }
    },
    {
      "cell_type": "code",
      "source": [
        "plt.hist(predictions,bins=100)\n",
        "plt.show()"
      ],
      "metadata": {
        "colab": {
          "base_uri": "https://localhost:8080/",
          "height": 265
        },
        "id": "cVu6bu-FsCI_",
        "outputId": "2d633267-791b-4cf2-cd32-17e5b71c1d36"
      },
      "execution_count": null,
      "outputs": [
        {
          "output_type": "display_data",
          "data": {
            "text/plain": [
              "<Figure size 432x288 with 1 Axes>"
            ],
            "image/png": "[encoded data removed]"
          },
          "metadata": {
            "needs_background": "light"
          }
        }
      ]
    },
    {
      "cell_type": "markdown",
      "source": [
        "Plot the equivalent histogram for the true labels"
      ],
      "metadata": {
        "id": "hYTArFjisCs1"
      }
    },
    {
      "cell_type": "code",
      "source": [
        "plt.hist(y_test,bins=100)\n",
        "plt.show()"
      ],
      "metadata": {
        "colab": {
          "base_uri": "https://localhost:8080/",
          "height": 265
        },
        "id": "qnWU8BFesGOt",
        "outputId": "11aae557-a588-417a-8293-137288cbd9e3"
      },
      "execution_count": null,
      "outputs": [
        {
          "output_type": "display_data",
          "data": {
            "text/plain": [
              "<Figure size 432x288 with 1 Axes>"
            ],
            "image/png": "[encoded data removed]"
          },
          "metadata": {
            "needs_background": "light"
          }
        }
      ]
    },
    {
      "cell_type": "markdown",
      "source": [
        "Compute the mean average percentage error using the mae of the model"
      ],
      "metadata": {
        "id": "mIjlDivJsG96"
      }
    },
    {
      "cell_type": "code",
      "source": [
        "test_acc/np.mean(y_test)"
      ],
      "metadata": {
        "colab": {
          "base_uri": "https://localhost:8080/"
        },
        "id": "5TfemzERsR0V",
        "outputId": "05bedf00-5c0e-452e-d466-c4c4a3176698"
      },
      "execution_count": null,
      "outputs": [
        {
          "output_type": "execute_result",
          "data": {
            "text/plain": [
              "0.16857004360129152"
            ]
          },
          "metadata": {},
          "execution_count": 35
        }
      ]
    },
    {
      "cell_type": "markdown",
      "source": [
        "Find the equivalent mean average percentage error of a naive prediction which just predicts the mean perimeter on the training data for every single test data point"
      ],
      "metadata": {
        "id": "UEJIWwC8sSf-"
      }
    },
    {
      "cell_type": "code",
      "source": [
        "print(np.mean(np.absolute(y_test - np.mean(y_train)))/np.mean(y_test))"
      ],
      "metadata": {
        "colab": {
          "base_uri": "https://localhost:8080/"
        },
        "id": "7hoslcAqsbH_",
        "outputId": "350fc997-235b-4683-d389-97580f3bed2b"
      },
      "execution_count": null,
      "outputs": [
        {
          "output_type": "stream",
          "name": "stdout",
          "text": [
            "0.9290195120635726\n"
          ]
        }
      ]
    },
    {
      "cell_type": "markdown",
      "source": [
        "Plot a graph of the train and validation error through the training process (ignoring the initial 2 epochs as these skew the graph)"
      ],
      "metadata": {
        "id": "aQwARhKAsgFO"
      }
    },
    {
      "cell_type": "code",
      "source": [
        "x=range(200)\n",
        "plt.plot(x[2:],history.history['val_mae'][2:],color = 'blue',label='validation error')\n",
        "plt.plot(x[2:],history.history['mae'][2:],color = 'red',label='training error')\n",
        "plt.legend()\n",
        "plt.show"
      ],
      "metadata": {
        "colab": {
          "base_uri": "https://localhost:8080/",
          "height": 282
        },
        "id": "1e3FnXeWs7_k",
        "outputId": "b8a9db1c-d6a1-4c67-d009-1b12a1e5c333"
      },
      "execution_count": null,
      "outputs": [
        {
          "output_type": "execute_result",
          "data": {
            "text/plain": [
              "<function matplotlib.pyplot.show(*args, **kw)>"
            ]
          },
          "metadata": {},
          "execution_count": 40
        },
        {
          "output_type": "display_data",
          "data": {
            "text/plain": [
              "<Figure size 432x288 with 1 Axes>"
            ],
            "image/png": "[encoded data removed]"
          },
          "metadata": {
            "needs_background": "light"
          }
        }
      ]
    },
    {
      "cell_type": "markdown",
      "source": [
        "Plot a scatter graph of the predictions against the true labels to see if there is a good correlation"
      ],
      "metadata": {
        "id": "uWkNYwv3wYPq"
      }
    },
    {
      "cell_type": "code",
      "source": [
        "x=range(6000)\n",
        "plt.scatter(predictions,y_test)\n",
        "plt.xlabel('predictions')\n",
        "plt.ylabel('test labels')\n",
        "plt.ylim((0,6000))\n",
        "plt.xlim((0,6000))\n",
        "plt.plot(x,x,color='red')\n",
        "plt.show()"
      ],
      "metadata": {
        "colab": {
          "base_uri": "https://localhost:8080/",
          "height": 283
        },
        "id": "Hu7MSfd9wdZ6",
        "outputId": "05a6452a-86bf-439d-913e-06bdba107490"
      },
      "execution_count": null,
      "outputs": [
        {
          "output_type": "display_data",
          "data": {
            "text/plain": [
              "<Figure size 432x288 with 1 Axes>"
            ],
            "image/png": "[encoded data removed]"
          },
          "metadata": {
            "needs_background": "light"
          }
        }
      ]
    },
    {
      "cell_type": "markdown",
      "source": [
        "We now compare the predictions to a baseline detailed in *Improvements to a prognostic cloud scheme through changes to its cloud erosion parametrization* (Morcrette, 2012) which hypothesises a relationship of $P = \\alpha F(1-F)$ where $P$ and $F$ are the perimeter and fraction respectively. The function below finds the optimal alpha from a search range and then computes the mean absolute percentage error using this prediction, for comparison with our model."
      ],
      "metadata": {
        "id": "wYn-Gq8WGaCU"
      }
    },
    {
      "cell_type": "code",
      "source": [
        "def find_alpha(x2_train,y_train,y_test):\n",
        "  #set the first mae to be the naive prediction of the mean for all points\n",
        "  y_test=y_test/16200\n",
        "  y_train=y_train/16200\n",
        "  optimal_mae = np.mean(np.absolute(y_test - np.mean(y_train)))\n",
        "  optimal_alpha = 0\n",
        "  cloud_fraction = x2_train[:,:,0]\n",
        "  y_train = y_train[:,0]\n",
        "  mean_absolute_error_vector = []\n",
        "  for step in range(100):\n",
        "        alpha = step/100\n",
        "        predicted_perimeter = []\n",
        "        predicted_perimeter = np.multiply(cloud_fraction[:,0],(1-cloud_fraction[:,0]))\n",
        "        predicted_perimeter = alpha*predicted_perimeter\n",
        "        predicted_perimeter -= y_train\n",
        "        predicted_perimeter = predicted_perimeter*(-1)\n",
        "        mean_absolute_error = np.mean(np.absolute(predicted_perimeter))\n",
        "        del predicted_perimeter\n",
        "        mean_absolute_error_vector.append(mean_absolute_error)\n",
        "        if mean_absolute_error < optimal_mae:\n",
        "              optimal_mae = mean_absolute_error\n",
        "              optimal_alpha = alpha\n",
        "  mean_absolute_error_vector = np.array(mean_absolute_error_vector)\n",
        "  x=range(100)\n",
        "  plt.scatter(x,mean_absolute_error_vector)\n",
        "  plt.show()\n",
        "\n",
        "  return optimal_mae, optimal_alpha\n",
        "\n"
      ],
      "metadata": {
        "id": "pqAiBkuGHKgO"
      },
      "execution_count": null,
      "outputs": []
    },
    {
      "cell_type": "code",
      "source": [
        "def compute_on_test_set(optimal_alpha,x2_test,y_test):\n",
        "        y_test=y_test/16200\n",
        "        #work out the error on the test set\n",
        "        cloud_fraction = x2_test[:,:,0]\n",
        "        test_predicted_perimeter = []\n",
        "        y_test = y_test[:,0]\n",
        "        for j in range(cloud_fraction.shape[0]):\n",
        "              test_predicted_perimeter.append(optimal_alpha*cloud_fraction[j,0]*(1-cloud_fraction[j,0]))\n",
        "        test_predicted_perimeter = np.array(test_predicted_perimeter)\n",
        "        print(test_predicted_perimeter.shape)\n",
        "        print(y_test.shape)\n",
        "        final_mae = np.mean(np.absolute(y_test - test_predicted_perimeter))\n",
        "        return final_mae\n"
      ],
      "metadata": {
        "id": "w7dn7oeyBbvJ"
      },
      "execution_count": null,
      "outputs": []
    },
    {
      "cell_type": "markdown",
      "source": [
        "The percentage error is found to be 24%"
      ],
      "metadata": {
        "id": "jxwEVgYCRBXA"
      }
    },
    {
      "cell_type": "code",
      "source": [
        "optimal_mae, optimal_alpha = find_alpha(x2_train,y_train,y_test)\n",
        "final_mae = compute_on_test_set(optimal_alpha,x2_test,y_test)\n",
        "print(final_mae)\n",
        "print(optimal_alpha)\n",
        "print('Average percentage error =', final_mae/np.mean(y_test/16200))"
      ],
      "metadata": {
        "colab": {
          "base_uri": "https://localhost:8080/",
          "height": 350
        },
        "id": "3v4JZELzKXVc",
        "outputId": "029de2a8-8ad9-4509-e52e-c88b752d0e7c"
      },
      "execution_count": null,
      "outputs": [
        {
          "output_type": "display_data",
          "data": {
            "text/plain": [
              "<Figure size 432x288 with 1 Axes>"
            ],
            "image/png": "[encoded data removed]"
          },
          "metadata": {
            "needs_background": "light"
          }
        },
        {
          "output_type": "stream",
          "name": "stdout",
          "text": [
            "(265146,)\n",
            "(265146,)\n",
            "0.008241209252091075\n",
            "0.64\n",
            "Average percentage error = 0.23928261791950012\n"
          ]
        }
      ]
    },
    {
      "cell_type": "markdown",
      "source": [
        "We plot a graph of cloud fraction against normalised cloud perimeter and overlay the derived relationship over the top. It is clear that this is a good (essentially optimal) reflection of the relationship between cloud fraction and cloud perimeter. Therefore, our neural network must be finding more useful data in the height and atmospheric variables arrays with which to lower the error and make better predictions"
      ],
      "metadata": {
        "id": "uA2lXIhbQoCg"
      }
    },
    {
      "cell_type": "code",
      "source": [
        "x=np.linspace(0,1,100)\n",
        "plt.scatter(x2_test[:,0,0],y_test/16200)\n",
        "plt.plot(x,0.64*x*(1-x),color='red')\n",
        "plt.show()"
      ],
      "metadata": {
        "colab": {
          "base_uri": "https://localhost:8080/",
          "height": 265
        },
        "id": "2sJ2kGryKrFH",
        "outputId": "18cbd36e-5de5-456a-b281-f966972877a5"
      },
      "execution_count": null,
      "outputs": [
        {
          "output_type": "display_data",
          "data": {
            "text/plain": [
              "<Figure size 432x288 with 1 Axes>"
            ],
            "image/png": "[encoded data removed]"
          },
          "metadata": {
            "needs_background": "light"
          }
        }
      ]
    },
    {
      "cell_type": "code",
      "source": [],
      "metadata": {
        "id": "laslIc9yLJHK"
      },
      "execution_count": null,
      "outputs": []
    }
  ]
}