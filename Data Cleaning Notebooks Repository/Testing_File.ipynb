{
  "nbformat": 4,
  "nbformat_minor": 0,
  "metadata": {
    "colab": {
      "provenance": [],
      "collapsed_sections": []
    },
    "kernelspec": {
      "name": "python3",
      "display_name": "Python 3"
    },
    "language_info": {
      "name": "python"
    }
  },
  "cells": [
    {
      "cell_type": "markdown",
      "source": [
        "This is a sandbox notebook where I check how different functions work and I am able to access and load in the arrays and files produced by other notebooks to check they are as expected. There is minimal commenting and this notebook is mainly just used for investigative purposes."
      ],
      "metadata": {
        "id": "1cLy68d2xLCQ"
      }
    },
    {
      "cell_type": "code",
      "source": [
        "from netCDF4 import Dataset\n",
        "import numpy as np\n",
        "import tensorflow as tf\n",
        "import matplotlib.pyplot as plt\n",
        "import os\n",
        "import csv\n",
        "from datetime import datetime\n",
        "from mpl_toolkits import mplot3d\n",
        "from mpl_toolkits.mplot3d import Axes3D\n",
        "import pandas as pd\n",
        "import PIL\n",
        "import warnings\n",
        "from csv import writer\n",
        "from scipy import ndimage as nd"
      ],
      "metadata": {
        "id": "zUEAnaN5qHVn"
      },
      "execution_count": null,
      "outputs": []
    },
    {
      "cell_type": "code",
      "source": [
        "from google.colab import drive\n",
        "drive.mount('/content/gdrive', force_remount=False)"
      ],
      "metadata": {
        "colab": {
          "base_uri": "https://localhost:8080/"
        },
        "id": "j5CJYMoyqIWJ",
        "outputId": "ec75e447-2bf1-4ec7-c10d-e78772ab8fca"
      },
      "execution_count": null,
      "outputs": [
        {
          "output_type": "stream",
          "name": "stdout",
          "text": [
            "Mounted at /content/gdrive\n"
          ]
        }
      ]
    },
    {
      "cell_type": "code",
      "source": [
        "vector=[]\n",
        "for i in range(36):\n",
        "    vector.append(i)\n",
        "vector = np.array(vector)\n",
        "test_directory=\"/content/gdrive/MyDrive/Colab Notebooks/Data/Variables/\"\n",
        "test_name=\"test_file.csv\"\n",
        "test_path=test_directory+test_name\n",
        "np.savetxt(test_path, vector)\n",
        "print(vector)"
      ],
      "metadata": {
        "id": "jSGtcfWxqa6m",
        "colab": {
          "base_uri": "https://localhost:8080/"
        },
        "outputId": "cce1f819-b469-411f-ab66-0e6aa0b5d601"
      },
      "execution_count": null,
      "outputs": [
        {
          "output_type": "stream",
          "name": "stdout",
          "text": [
            "[ 0  1  2  3  4  5  6  7  8  9 10 11 12 13 14 15 16 17 18 19 20 21 22 23\n",
            " 24 25 26 27 28 29 30 31 32 33 34 35]\n"
          ]
        }
      ]
    },
    {
      "cell_type": "code",
      "source": [
        "test_directory=\"/content/gdrive/MyDrive/Colab Notebooks/Data/Variables/\"\n",
        "test_name=\"test_file.csv\"\n",
        "test_path=test_directory+test_name\n",
        "counter_df = pd.read_csv(test_path)\n",
        "print(counter_df)\n",
        "counter_df = counter_df.to_numpy(dtype='i')\n",
        "print(int(counter_df[10]))\n",
        "print(counter_df)\n",
        "print(len(counter_df))"
      ],
      "metadata": {
        "colab": {
          "base_uri": "https://localhost:8080/"
        },
        "id": "JeDKAG5gZbvg",
        "outputId": "fab2dfc0-80ed-44b4-81cf-b79e38943124"
      },
      "execution_count": null,
      "outputs": [
        {
          "output_type": "stream",
          "name": "stdout",
          "text": [
            "    0.000000000000000000e+00\n",
            "0                        1.0\n",
            "1                        2.0\n",
            "2                        3.0\n",
            "3                        4.0\n",
            "4                        5.0\n",
            "5                        6.0\n",
            "6                        7.0\n",
            "7                        8.0\n",
            "8                        9.0\n",
            "9                       10.0\n",
            "10                      11.0\n",
            "11                      12.0\n",
            "12                      13.0\n",
            "13                      14.0\n",
            "14                      15.0\n",
            "15                      16.0\n",
            "16                      17.0\n",
            "17                      18.0\n",
            "18                      19.0\n",
            "19                      20.0\n",
            "20                      21.0\n",
            "21                      22.0\n",
            "22                      23.0\n",
            "23                      24.0\n",
            "24                      25.0\n",
            "25                      26.0\n",
            "26                      27.0\n",
            "27                      28.0\n",
            "28                      29.0\n",
            "29                      30.0\n",
            "30                      31.0\n",
            "31                      32.0\n",
            "32                      33.0\n",
            "33                      34.0\n",
            "34                      35.0\n",
            "11\n",
            "[[ 1]\n",
            " [ 2]\n",
            " [ 3]\n",
            " [ 4]\n",
            " [ 5]\n",
            " [ 6]\n",
            " [ 7]\n",
            " [ 8]\n",
            " [ 9]\n",
            " [10]\n",
            " [11]\n",
            " [12]\n",
            " [13]\n",
            " [14]\n",
            " [15]\n",
            " [16]\n",
            " [17]\n",
            " [18]\n",
            " [19]\n",
            " [20]\n",
            " [21]\n",
            " [22]\n",
            " [23]\n",
            " [24]\n",
            " [25]\n",
            " [26]\n",
            " [27]\n",
            " [28]\n",
            " [29]\n",
            " [30]\n",
            " [31]\n",
            " [32]\n",
            " [33]\n",
            " [34]\n",
            " [35]]\n",
            "35\n"
          ]
        }
      ]
    },
    {
      "cell_type": "code",
      "source": [
        "def fill(data, invalid=None):\n",
        "    \"\"\"\n",
        "    Replace the value of invalid 'data' cells (indicated by 'invalid') \n",
        "    by the value of the nearest valid data cell\n",
        "\n",
        "    Input:\n",
        "        data:    numpy array of any dimension\n",
        "        invalid: a binary array of same shape as 'data'. True cells set where data\n",
        "                 value should be replaced.\n",
        "                 If None (default), use: invalid  = np.isnan(data)\n",
        "\n",
        "    Output: \n",
        "        Return a filled array. \n",
        "    \"\"\"\n",
        "    #import numpy as np\n",
        "    #import scipy.ndimage as nd\n",
        "\n",
        "    if invalid is None: invalid = np.isnan(data)\n",
        "\n",
        "    ind = nd.distance_transform_edt(invalid, return_distances=False, return_indices=True)\n",
        "    return data[tuple(ind)]"
      ],
      "metadata": {
        "id": "J-1AndSBaQAW"
      },
      "execution_count": null,
      "outputs": []
    },
    {
      "cell_type": "code",
      "source": [
        "temp=np.zeros((10,10))\n",
        "for i in range(10):\n",
        "  for j in range(10):\n",
        "    temp[i,j]=i-j\n",
        "temp"
      ],
      "metadata": {
        "colab": {
          "base_uri": "https://localhost:8080/"
        },
        "id": "3II30FOtxPYZ",
        "outputId": "e337748c-2cb9-4e2a-c827-45d17d720414"
      },
      "execution_count": null,
      "outputs": [
        {
          "output_type": "execute_result",
          "data": {
            "text/plain": [
              "array([[ 0., -1., -2., -3., -4., -5., -6., -7., -8., -9.],\n",
              "       [ 1.,  0., -1., -2., -3., -4., -5., -6., -7., -8.],\n",
              "       [ 2.,  1.,  0., -1., -2., -3., -4., -5., -6., -7.],\n",
              "       [ 3.,  2.,  1.,  0., -1., -2., -3., -4., -5., -6.],\n",
              "       [ 4.,  3.,  2.,  1.,  0., -1., -2., -3., -4., -5.],\n",
              "       [ 5.,  4.,  3.,  2.,  1.,  0., -1., -2., -3., -4.],\n",
              "       [ 6.,  5.,  4.,  3.,  2.,  1.,  0., -1., -2., -3.],\n",
              "       [ 7.,  6.,  5.,  4.,  3.,  2.,  1.,  0., -1., -2.],\n",
              "       [ 8.,  7.,  6.,  5.,  4.,  3.,  2.,  1.,  0., -1.],\n",
              "       [ 9.,  8.,  7.,  6.,  5.,  4.,  3.,  2.,  1.,  0.]])"
            ]
          },
          "metadata": {},
          "execution_count": 6
        }
      ]
    },
    {
      "cell_type": "code",
      "source": [
        "for i in range(10):\n",
        "  for j in range(10):\n",
        "    if i==j:\n",
        "      temp[i,j]=0\n",
        "    if i==0 and j==1 or i==2 and j==3 or i==4 and j==5 or i==6 and j==7:\n",
        "      temp[i,j]=0\n",
        "print(temp)"
      ],
      "metadata": {
        "colab": {
          "base_uri": "https://localhost:8080/"
        },
        "id": "Ygpm_5IOxcWK",
        "outputId": "da6bb8f9-e5a3-4a1e-ee9d-2411d0fc9108"
      },
      "execution_count": null,
      "outputs": [
        {
          "output_type": "stream",
          "name": "stdout",
          "text": [
            "[[ 0.  0. -2. -3. -4. -5. -6. -7. -8. -9.]\n",
            " [ 1.  0. -1. -2. -3. -4. -5. -6. -7. -8.]\n",
            " [ 2.  1.  0.  0. -2. -3. -4. -5. -6. -7.]\n",
            " [ 3.  2.  1.  0. -1. -2. -3. -4. -5. -6.]\n",
            " [ 4.  3.  2.  1.  0.  0. -2. -3. -4. -5.]\n",
            " [ 5.  4.  3.  2.  1.  0. -1. -2. -3. -4.]\n",
            " [ 6.  5.  4.  3.  2.  1.  0.  0. -2. -3.]\n",
            " [ 7.  6.  5.  4.  3.  2.  1.  0. -1. -2.]\n",
            " [ 8.  7.  6.  5.  4.  3.  2.  1.  0. -1.]\n",
            " [ 9.  8.  7.  6.  5.  4.  3.  2.  1.  0.]]\n"
          ]
        }
      ]
    },
    {
      "cell_type": "code",
      "source": [
        "temp_invalid = temp==0\n",
        "temp_invalid"
      ],
      "metadata": {
        "colab": {
          "base_uri": "https://localhost:8080/"
        },
        "id": "J8xLaoHvvHAi",
        "outputId": "3b017cda-6ccf-40c4-ac70-c0c615d087b3"
      },
      "execution_count": null,
      "outputs": [
        {
          "output_type": "execute_result",
          "data": {
            "text/plain": [
              "array([[ True,  True, False, False, False, False, False, False, False,\n",
              "        False],\n",
              "       [False,  True, False, False, False, False, False, False, False,\n",
              "        False],\n",
              "       [False, False,  True,  True, False, False, False, False, False,\n",
              "        False],\n",
              "       [False, False, False,  True, False, False, False, False, False,\n",
              "        False],\n",
              "       [False, False, False, False,  True,  True, False, False, False,\n",
              "        False],\n",
              "       [False, False, False, False, False,  True, False, False, False,\n",
              "        False],\n",
              "       [False, False, False, False, False, False,  True,  True, False,\n",
              "        False],\n",
              "       [False, False, False, False, False, False, False,  True, False,\n",
              "        False],\n",
              "       [False, False, False, False, False, False, False, False,  True,\n",
              "        False],\n",
              "       [False, False, False, False, False, False, False, False, False,\n",
              "         True]])"
            ]
          },
          "metadata": {},
          "execution_count": 8
        }
      ]
    },
    {
      "cell_type": "code",
      "source": [
        "filled_temp = fill(temp, invalid=temp_invalid)\n",
        "print(filled_temp)\n",
        "print(temp)"
      ],
      "metadata": {
        "colab": {
          "base_uri": "https://localhost:8080/"
        },
        "id": "9_J3EFp1vg0O",
        "outputId": "92881753-5218-48df-b41b-4a98d48e41a4"
      },
      "execution_count": null,
      "outputs": [
        {
          "output_type": "stream",
          "name": "stdout",
          "text": [
            "[[ 1. -2. -2. -3. -4. -5. -6. -7. -8. -9.]\n",
            " [ 1.  1. -1. -2. -3. -4. -5. -6. -7. -8.]\n",
            " [ 2.  1.  1. -2. -2. -3. -4. -5. -6. -7.]\n",
            " [ 3.  2.  1.  1. -1. -2. -3. -4. -5. -6.]\n",
            " [ 4.  3.  2.  1.  1. -2. -2. -3. -4. -5.]\n",
            " [ 5.  4.  3.  2.  1.  1. -1. -2. -3. -4.]\n",
            " [ 6.  5.  4.  3.  2.  1.  1. -2. -2. -3.]\n",
            " [ 7.  6.  5.  4.  3.  2.  1.  1. -1. -2.]\n",
            " [ 8.  7.  6.  5.  4.  3.  2.  1.  1. -1.]\n",
            " [ 9.  8.  7.  6.  5.  4.  3.  2.  1.  1.]]\n",
            "[[ 0.  0. -2. -3. -4. -5. -6. -7. -8. -9.]\n",
            " [ 1.  0. -1. -2. -3. -4. -5. -6. -7. -8.]\n",
            " [ 2.  1.  0.  0. -2. -3. -4. -5. -6. -7.]\n",
            " [ 3.  2.  1.  0. -1. -2. -3. -4. -5. -6.]\n",
            " [ 4.  3.  2.  1.  0.  0. -2. -3. -4. -5.]\n",
            " [ 5.  4.  3.  2.  1.  0. -1. -2. -3. -4.]\n",
            " [ 6.  5.  4.  3.  2.  1.  0.  0. -2. -3.]\n",
            " [ 7.  6.  5.  4.  3.  2.  1.  0. -1. -2.]\n",
            " [ 8.  7.  6.  5.  4.  3.  2.  1.  0. -1.]\n",
            " [ 9.  8.  7.  6.  5.  4.  3.  2.  1.  0.]]\n"
          ]
        }
      ]
    },
    {
      "cell_type": "code",
      "source": [
        "#the order that fill follows is left then top then down then right"
      ],
      "metadata": {
        "id": "m_5GnrBNw3PI"
      },
      "execution_count": null,
      "outputs": []
    },
    {
      "cell_type": "code",
      "source": [
        "def checkerboard(shape):\n",
        "    return np.indices(shape).sum(axis=0) % 2"
      ],
      "metadata": {
        "id": "465OxvZa8IaQ"
      },
      "execution_count": null,
      "outputs": []
    },
    {
      "cell_type": "code",
      "source": [
        "checker = checkerboard((120,121,121))"
      ],
      "metadata": {
        "id": "Xh52IE9s8Jvq"
      },
      "execution_count": null,
      "outputs": []
    },
    {
      "cell_type": "code",
      "source": [
        "def find_perimeter(cloud):\n",
        "    missing_value_counter=0\n",
        "    #initialise the vectors which will store our variables cloud perimeter, cloud fraction\n",
        "    #and height, these vectors will be the response and explanatory variables for the cells,\n",
        "    #respectively\n",
        "    cloud_perimeter_vector=[]\n",
        "    cloud_fraction_vector=[]\n",
        "    height_vector=[]\n",
        "    perimeter_values_vector=[]\n",
        "    cloud_slice=cloud\n",
        "    perimeter_values_counter=0\n",
        "    #specify the kernel which allows the computation of the cloud perimeter\n",
        "    k=[[[0,0,0],[0,1,0],[0,0,0]],[[0,1,0],[1,0,1],[0,1,0]],[[0,0,0],[0,1,0],[0,0,0]]]\n",
        "    #cast the cloud array and kernels as a Tensorflow tensor\n",
        "    cloud_tensor = tf.constant(cloud_slice, tf.float32)\n",
        "    k_tensor = tf.constant(k, tf.float32)\n",
        "    #perform the convolution operation to find an array showing the number of neighbouring 1s for each element\n",
        "    kernel_cloud = tf.nn.convolution(tf.reshape(cloud_tensor, [1, 120, 121, 121, 1]), tf.reshape(k_tensor, [3, 3, 3, 1, 1]), padding='VALID')\n",
        "    #subtract this array from 6 in every entry to find the perimeter of each element\n",
        "    kernel_cloud_subtracted = tf.subtract(6,kernel_cloud)\n",
        "    #remove the outer edges of the cloud array so that we can multiply by the convolved arrya entry-wise\n",
        "    #this has edges removed because VALID padding is used\n",
        "    cloud_tensor_reduced=cloud_tensor[1:-1,1:-1,1:-1]\n",
        "    #multiply the two arrays entry-wise so that we only consider the perimeter of elements where a cloud i.e. a 1\n",
        "    #exists (where a 0 exists, this entry will just be zeroed by the operation)\n",
        "    cloud_perimeter_tensor=tf.math.multiply(cloud_tensor_reduced,tf.squeeze(kernel_cloud_subtracted))\n",
        "    #pad with an extra row of zeros to make the domain a cubic domain of 120 entries in each dimension\n",
        "    for kk in range(20):\n",
        "      for jj in range(4):\n",
        "        for ii in range(4):\n",
        "          if (kk==19 and jj==3 and ii==3):\n",
        "              #when we lie in the final cell we overlap by as much as necessary\n",
        "              cloud_cell=cloud_tensor_reduced[-6:,-30:,-30:]\n",
        "              cloud_perimeter_cell=cloud_perimeter_tensor[-6:,-30:,-30:]\n",
        "          elif (kk==19 and jj!=3 and ii!=3):\n",
        "              #when we lie in the final cell we overlap by as much as necessary\n",
        "              cloud_cell=cloud_tensor_reduced[-6:,30*(jj):30*(jj+1),30*(ii):30*(ii+1)]\n",
        "              cloud_perimeter_cell=cloud_perimeter_tensor[-6:,30*(jj):30*(jj+1),30*(ii):30*(ii+1)]\n",
        "          elif (kk==19 and jj==3 and ii!=3):\n",
        "              #when we lie in the final cell we overlap by as much as necessary\n",
        "              cloud_cell=cloud_tensor_reduced[-6:,-30:,30*(ii):30*(ii+1)]\n",
        "              cloud_perimeter_cell=cloud_perimeter_tensor[-6:,-30:,30*(ii):30*(ii+1)]\n",
        "          elif (kk==19 and jj!=3 and ii==3):\n",
        "              #when we lie in the final cell we overlap by as much as necessary\n",
        "              cloud_cell=cloud_tensor_reduced[-6:,30*(jj):30*(jj+1),-30:]\n",
        "              cloud_perimeter_cell=cloud_perimeter_tensor[-6:,30*(jj):30*(jj+1),-30:]\n",
        "          elif (kk!=19 and jj!=3 and ii==3):\n",
        "              #when we lie in the final cell we overlap by as much as necessary\n",
        "              cloud_cell=cloud_tensor_reduced[6*kk:6*(kk+1),30*(jj):30*(jj+1),-30:]\n",
        "              cloud_perimeter_cell=cloud_perimeter_tensor[6*kk:6*(kk+1),30*(jj):30*(jj+1),-30:]\n",
        "          elif (kk!=19 and jj==3 and ii==3):\n",
        "              #when we lie in the final cell we overlap by as much as necessary\n",
        "              cloud_cell=cloud_tensor_reduced[6*kk:6*(kk+1),-30:,-30:]\n",
        "              cloud_perimeter_cell=cloud_perimeter_tensor[6*kk:6*(kk+1),-30:,-30:]\n",
        "          elif (kk!=19 and jj==3 and ii!=3):\n",
        "              #when we lie in the final cell we overlap by as much as necessary\n",
        "              cloud_cell=cloud_tensor_reduced[6*kk:6*(kk+1),-30:,30*(ii):30*(ii+1)]\n",
        "              cloud_perimeter_cell=cloud_perimeter_tensor[6*kk:6*(kk+1),-30:,30*(ii):30*(ii+1)]\n",
        "          else:\n",
        "              #specify which of the 320 cells at each time step that we lie in\n",
        "              cloud_cell=cloud_tensor_reduced[6*kk:6*(kk+1),30*(jj):30*(jj+1),30*(ii):30*(ii+1)]\n",
        "              #specify the equivalent cell for the cloud_perimeter_tensor generated above\n",
        "              cloud_perimeter_cell=cloud_perimeter_tensor[6*kk:6*(kk+1),30*(jj):30*(jj+1),30*(ii):30*(ii+1)]\n",
        "          #if any value within the cell is -1 we discount the cell entirely,\n",
        "          #as prescribed by the methodology\n",
        "          if np.any(cloud_cell < 0):\n",
        "              #increment the counter by 1 if we ignore a cell\n",
        "              missing_value_counter+=1\n",
        "              continue\n",
        "          else:\n",
        "              perimeter_values_counter+=1\n",
        "              #compute the cloud fraction - divide the number of 1s by the volume of a cell\n",
        "              cloud_fraction_value=(np.sum(cloud_cell))/(np.shape(cloud_cell)[0]*np.shape(cloud_cell)[1]*np.shape(cloud_cell)[2])\n",
        "              cloud_fraction_value=float(cloud_fraction_value)\n",
        "              #append the computed value onto the cloud fraction vector \n",
        "              cloud_fraction_vector.append(cloud_fraction_value)\n",
        "              #sum over the entire 3D array to find the total perimeter - a single scalar\n",
        "              cloud_perimeter_value=tf.reduce_sum(cloud_perimeter_cell)\n",
        "              cloud_perimeter_value=int(cloud_perimeter_value)\n",
        "              cloud_perimeter_value=float(cloud_perimeter_value/16200)\n",
        "              #append the cloud perimeter value for this time step in this cell to vector\n",
        "              cloud_perimeter_vector.append(cloud_perimeter_value)\n",
        "\n",
        "              #append the height to the height vector\n",
        "              height_vector.append(kk)\n",
        "    cloud_perimeter_vector=np.array(cloud_perimeter_vector)\n",
        "    cloud_fraction_vector=np.array(cloud_fraction_vector)\n",
        "    height_vector=np.array(height_vector)\n",
        "    return cloud_perimeter_vector, cloud_fraction_vector, height_vector"
      ],
      "metadata": {
        "id": "_5R5qei28Nkb"
      },
      "execution_count": null,
      "outputs": []
    },
    {
      "cell_type": "code",
      "source": [
        "cloud_perimeter_vector, cloud_fraction_vector, height_vector = find_perimeter(checker)"
      ],
      "metadata": {
        "id": "9zKjszPP88js"
      },
      "execution_count": null,
      "outputs": []
    },
    {
      "cell_type": "code",
      "source": [
        "cloud_perimeter_vector"
      ],
      "metadata": {
        "colab": {
          "base_uri": "https://localhost:8080/"
        },
        "id": "L6MJx3Sj9Hq5",
        "outputId": "142c3512-de39-413e-8adc-8258ef2d76fb"
      },
      "execution_count": null,
      "outputs": [
        {
          "output_type": "execute_result",
          "data": {
            "text/plain": [
              "array([1., 1., 1., 1., 1., 1., 1., 1., 1., 1., 1., 1., 1., 1., 1., 1., 1.,\n",
              "       1., 1., 1., 1., 1., 1., 1., 1., 1., 1., 1., 1., 1., 1., 1., 1., 1.,\n",
              "       1., 1., 1., 1., 1., 1., 1., 1., 1., 1., 1., 1., 1., 1., 1., 1., 1.,\n",
              "       1., 1., 1., 1., 1., 1., 1., 1., 1., 1., 1., 1., 1., 1., 1., 1., 1.,\n",
              "       1., 1., 1., 1., 1., 1., 1., 1., 1., 1., 1., 1., 1., 1., 1., 1., 1.,\n",
              "       1., 1., 1., 1., 1., 1., 1., 1., 1., 1., 1., 1., 1., 1., 1., 1., 1.,\n",
              "       1., 1., 1., 1., 1., 1., 1., 1., 1., 1., 1., 1., 1., 1., 1., 1., 1.,\n",
              "       1., 1., 1., 1., 1., 1., 1., 1., 1., 1., 1., 1., 1., 1., 1., 1., 1.,\n",
              "       1., 1., 1., 1., 1., 1., 1., 1., 1., 1., 1., 1., 1., 1., 1., 1., 1.,\n",
              "       1., 1., 1., 1., 1., 1., 1., 1., 1., 1., 1., 1., 1., 1., 1., 1., 1.,\n",
              "       1., 1., 1., 1., 1., 1., 1., 1., 1., 1., 1., 1., 1., 1., 1., 1., 1.,\n",
              "       1., 1., 1., 1., 1., 1., 1., 1., 1., 1., 1., 1., 1., 1., 1., 1., 1.,\n",
              "       1., 1., 1., 1., 1., 1., 1., 1., 1., 1., 1., 1., 1., 1., 1., 1., 1.,\n",
              "       1., 1., 1., 1., 1., 1., 1., 1., 1., 1., 1., 1., 1., 1., 1., 1., 1.,\n",
              "       1., 1., 1., 1., 1., 1., 1., 1., 1., 1., 1., 1., 1., 1., 1., 1., 1.,\n",
              "       1., 1., 1., 1., 1., 1., 1., 1., 1., 1., 1., 1., 1., 1., 1., 1., 1.,\n",
              "       1., 1., 1., 1., 1., 1., 1., 1., 1., 1., 1., 1., 1., 1., 1., 1., 1.,\n",
              "       1., 1., 1., 1., 1., 1., 1., 1., 1., 1., 1., 1., 1., 1., 1., 1., 1.,\n",
              "       1., 1., 1., 1., 1., 1., 1., 1., 1., 1., 1., 1., 1., 1.])"
            ]
          },
          "metadata": {},
          "execution_count": 15
        }
      ]
    },
    {
      "cell_type": "code",
      "source": [
        "cloud_fraction_vector"
      ],
      "metadata": {
        "colab": {
          "base_uri": "https://localhost:8080/"
        },
        "id": "M3XmTIO09d_N",
        "outputId": "93e13bf7-072c-464d-ad63-963dfada5301"
      },
      "execution_count": null,
      "outputs": [
        {
          "output_type": "execute_result",
          "data": {
            "text/plain": [
              "array([0.5, 0.5, 0.5, 0.5, 0.5, 0.5, 0.5, 0.5, 0.5, 0.5, 0.5, 0.5, 0.5,\n",
              "       0.5, 0.5, 0.5, 0.5, 0.5, 0.5, 0.5, 0.5, 0.5, 0.5, 0.5, 0.5, 0.5,\n",
              "       0.5, 0.5, 0.5, 0.5, 0.5, 0.5, 0.5, 0.5, 0.5, 0.5, 0.5, 0.5, 0.5,\n",
              "       0.5, 0.5, 0.5, 0.5, 0.5, 0.5, 0.5, 0.5, 0.5, 0.5, 0.5, 0.5, 0.5,\n",
              "       0.5, 0.5, 0.5, 0.5, 0.5, 0.5, 0.5, 0.5, 0.5, 0.5, 0.5, 0.5, 0.5,\n",
              "       0.5, 0.5, 0.5, 0.5, 0.5, 0.5, 0.5, 0.5, 0.5, 0.5, 0.5, 0.5, 0.5,\n",
              "       0.5, 0.5, 0.5, 0.5, 0.5, 0.5, 0.5, 0.5, 0.5, 0.5, 0.5, 0.5, 0.5,\n",
              "       0.5, 0.5, 0.5, 0.5, 0.5, 0.5, 0.5, 0.5, 0.5, 0.5, 0.5, 0.5, 0.5,\n",
              "       0.5, 0.5, 0.5, 0.5, 0.5, 0.5, 0.5, 0.5, 0.5, 0.5, 0.5, 0.5, 0.5,\n",
              "       0.5, 0.5, 0.5, 0.5, 0.5, 0.5, 0.5, 0.5, 0.5, 0.5, 0.5, 0.5, 0.5,\n",
              "       0.5, 0.5, 0.5, 0.5, 0.5, 0.5, 0.5, 0.5, 0.5, 0.5, 0.5, 0.5, 0.5,\n",
              "       0.5, 0.5, 0.5, 0.5, 0.5, 0.5, 0.5, 0.5, 0.5, 0.5, 0.5, 0.5, 0.5,\n",
              "       0.5, 0.5, 0.5, 0.5, 0.5, 0.5, 0.5, 0.5, 0.5, 0.5, 0.5, 0.5, 0.5,\n",
              "       0.5, 0.5, 0.5, 0.5, 0.5, 0.5, 0.5, 0.5, 0.5, 0.5, 0.5, 0.5, 0.5,\n",
              "       0.5, 0.5, 0.5, 0.5, 0.5, 0.5, 0.5, 0.5, 0.5, 0.5, 0.5, 0.5, 0.5,\n",
              "       0.5, 0.5, 0.5, 0.5, 0.5, 0.5, 0.5, 0.5, 0.5, 0.5, 0.5, 0.5, 0.5,\n",
              "       0.5, 0.5, 0.5, 0.5, 0.5, 0.5, 0.5, 0.5, 0.5, 0.5, 0.5, 0.5, 0.5,\n",
              "       0.5, 0.5, 0.5, 0.5, 0.5, 0.5, 0.5, 0.5, 0.5, 0.5, 0.5, 0.5, 0.5,\n",
              "       0.5, 0.5, 0.5, 0.5, 0.5, 0.5, 0.5, 0.5, 0.5, 0.5, 0.5, 0.5, 0.5,\n",
              "       0.5, 0.5, 0.5, 0.5, 0.5, 0.5, 0.5, 0.5, 0.5, 0.5, 0.5, 0.5, 0.5,\n",
              "       0.5, 0.5, 0.5, 0.5, 0.5, 0.5, 0.5, 0.5, 0.5, 0.5, 0.5, 0.5, 0.5,\n",
              "       0.5, 0.5, 0.5, 0.5, 0.5, 0.5, 0.5, 0.5, 0.5, 0.5, 0.5, 0.5, 0.5,\n",
              "       0.5, 0.5, 0.5, 0.5, 0.5, 0.5, 0.5, 0.5, 0.5, 0.5, 0.5, 0.5, 0.5,\n",
              "       0.5, 0.5, 0.5, 0.5, 0.5, 0.5, 0.5, 0.5, 0.5, 0.5, 0.5, 0.5, 0.5,\n",
              "       0.5, 0.5, 0.5, 0.5, 0.5, 0.5, 0.5, 0.5])"
            ]
          },
          "metadata": {},
          "execution_count": 101
        }
      ]
    },
    {
      "cell_type": "code",
      "source": [
        "height_vector"
      ],
      "metadata": {
        "colab": {
          "base_uri": "https://localhost:8080/"
        },
        "id": "eZcvxochBhQi",
        "outputId": "1f7481cb-23ad-4cc2-83af-c330c0940f41"
      },
      "execution_count": null,
      "outputs": [
        {
          "output_type": "execute_result",
          "data": {
            "text/plain": [
              "array([ 0,  0,  0,  0,  0,  0,  0,  0,  0,  0,  0,  0,  0,  0,  0,  0,  1,\n",
              "        1,  1,  1,  1,  1,  1,  1,  1,  1,  1,  1,  1,  1,  1,  1,  2,  2,\n",
              "        2,  2,  2,  2,  2,  2,  2,  2,  2,  2,  2,  2,  2,  2,  3,  3,  3,\n",
              "        3,  3,  3,  3,  3,  3,  3,  3,  3,  3,  3,  3,  3,  4,  4,  4,  4,\n",
              "        4,  4,  4,  4,  4,  4,  4,  4,  4,  4,  4,  4,  5,  5,  5,  5,  5,\n",
              "        5,  5,  5,  5,  5,  5,  5,  5,  5,  5,  5,  6,  6,  6,  6,  6,  6,\n",
              "        6,  6,  6,  6,  6,  6,  6,  6,  6,  6,  7,  7,  7,  7,  7,  7,  7,\n",
              "        7,  7,  7,  7,  7,  7,  7,  7,  7,  8,  8,  8,  8,  8,  8,  8,  8,\n",
              "        8,  8,  8,  8,  8,  8,  8,  8,  9,  9,  9,  9,  9,  9,  9,  9,  9,\n",
              "        9,  9,  9,  9,  9,  9,  9, 10, 10, 10, 10, 10, 10, 10, 10, 10, 10,\n",
              "       10, 10, 10, 10, 10, 10, 11, 11, 11, 11, 11, 11, 11, 11, 11, 11, 11,\n",
              "       11, 11, 11, 11, 11, 12, 12, 12, 12, 12, 12, 12, 12, 12, 12, 12, 12,\n",
              "       12, 12, 12, 12, 13, 13, 13, 13, 13, 13, 13, 13, 13, 13, 13, 13, 13,\n",
              "       13, 13, 13, 14, 14, 14, 14, 14, 14, 14, 14, 14, 14, 14, 14, 14, 14,\n",
              "       14, 14, 15, 15, 15, 15, 15, 15, 15, 15, 15, 15, 15, 15, 15, 15, 15,\n",
              "       15, 16, 16, 16, 16, 16, 16, 16, 16, 16, 16, 16, 16, 16, 16, 16, 16,\n",
              "       17, 17, 17, 17, 17, 17, 17, 17, 17, 17, 17, 17, 17, 17, 17, 17, 18,\n",
              "       18, 18, 18, 18, 18, 18, 18, 18, 18, 18, 18, 18, 18, 18, 18, 19, 19,\n",
              "       19, 19, 19, 19, 19, 19, 19, 19, 19, 19, 19, 19, 19, 19])"
            ]
          },
          "metadata": {},
          "execution_count": 102
        }
      ]
    },
    {
      "cell_type": "markdown",
      "source": [
        "Testing Stacking in Axis 0"
      ],
      "metadata": {
        "id": "6tmI4BQkEBRm"
      }
    },
    {
      "cell_type": "code",
      "source": [
        "zero_array=np.zeros((2,3,3))\n",
        "one_array=np.ones((3,3))\n",
        "print(zero_array)\n",
        "print(one_array)"
      ],
      "metadata": {
        "colab": {
          "base_uri": "https://localhost:8080/"
        },
        "id": "AisCbxZ3ECqX",
        "outputId": "917778b4-6ed9-442a-b983-580e6a613d1b"
      },
      "execution_count": null,
      "outputs": [
        {
          "output_type": "stream",
          "name": "stdout",
          "text": [
            "[[[0. 0. 0.]\n",
            "  [0. 0. 0.]\n",
            "  [0. 0. 0.]]\n",
            "\n",
            " [[0. 0. 0.]\n",
            "  [0. 0. 0.]\n",
            "  [0. 0. 0.]]]\n",
            "[[1. 1. 1.]\n",
            " [1. 1. 1.]\n",
            " [1. 1. 1.]]\n"
          ]
        }
      ]
    },
    {
      "cell_type": "code",
      "source": [
        "for i in range(10):\n",
        "  zero_array=np.concatenate((zero_array,one_array.reshape(1,one_array.shape[0],one_array.shape[1])),axis=0)\n",
        "print(zero_array.shape)\n",
        "print(zero_array[2:,:,:])"
      ],
      "metadata": {
        "colab": {
          "base_uri": "https://localhost:8080/"
        },
        "id": "P7EbSEXQEKeX",
        "outputId": "940fbe88-15b7-431e-ad63-2343559b2d61"
      },
      "execution_count": null,
      "outputs": [
        {
          "output_type": "stream",
          "name": "stdout",
          "text": [
            "(12, 3, 3)\n",
            "[[[1. 1. 1.]\n",
            "  [1. 1. 1.]\n",
            "  [1. 1. 1.]]\n",
            "\n",
            " [[1. 1. 1.]\n",
            "  [1. 1. 1.]\n",
            "  [1. 1. 1.]]\n",
            "\n",
            " [[1. 1. 1.]\n",
            "  [1. 1. 1.]\n",
            "  [1. 1. 1.]]\n",
            "\n",
            " [[1. 1. 1.]\n",
            "  [1. 1. 1.]\n",
            "  [1. 1. 1.]]\n",
            "\n",
            " [[1. 1. 1.]\n",
            "  [1. 1. 1.]\n",
            "  [1. 1. 1.]]\n",
            "\n",
            " [[1. 1. 1.]\n",
            "  [1. 1. 1.]\n",
            "  [1. 1. 1.]]\n",
            "\n",
            " [[1. 1. 1.]\n",
            "  [1. 1. 1.]\n",
            "  [1. 1. 1.]]\n",
            "\n",
            " [[1. 1. 1.]\n",
            "  [1. 1. 1.]\n",
            "  [1. 1. 1.]]\n",
            "\n",
            " [[1. 1. 1.]\n",
            "  [1. 1. 1.]\n",
            "  [1. 1. 1.]]\n",
            "\n",
            " [[1. 1. 1.]\n",
            "  [1. 1. 1.]\n",
            "  [1. 1. 1.]]]\n"
          ]
        }
      ]
    },
    {
      "cell_type": "code",
      "source": [
        "#specify the file path\n",
        "new_file_path_atmospheric = \"/content/gdrive/MyDrive/Colab Notebooks/Data/Variables/Atmospheric/\"\n",
        "new_file_name_atmospheric = new_file_path_atmospheric + \"Atmospheric_\"+'sgpcogspiN1.c1.20170831.180000'+\".npy\"\n",
        "#load in the numpy array\n",
        "atmospheric_file = np.load(new_file_name_atmospheric)"
      ],
      "metadata": {
        "id": "qQJs3a0JEdfA"
      },
      "execution_count": null,
      "outputs": []
    },
    {
      "cell_type": "code",
      "source": [
        "assert np.all(atmospheric_file[1,:,:]==atmospheric_file[90,:,:])"
      ],
      "metadata": {
        "id": "acWuxPK8qh_K"
      },
      "execution_count": null,
      "outputs": []
    },
    {
      "cell_type": "code",
      "source": [
        "print(atmospheric_file[:400,2,2])"
      ],
      "metadata": {
        "id": "MEVIPamjqlHg",
        "colab": {
          "base_uri": "https://localhost:8080/"
        },
        "outputId": "0e8b3048-001f-41be-c053-2aa78759e61a"
      },
      "execution_count": null,
      "outputs": [
        {
          "output_type": "stream",
          "name": "stdout",
          "text": [
            "[0.8706 0.8706 0.8706 0.8706 0.8706 0.8706 0.8706 0.8706 0.8706 0.8706\n",
            " 0.8706 0.8706 0.8706 0.8706 0.8706 0.8706 0.8706 0.8706 0.8706 0.8706\n",
            " 0.8706 0.8706 0.8706 0.8706 0.8706 0.8706 0.8706 0.8706 0.8706 0.8706\n",
            " 0.8706 0.8706 0.8706 0.8706 0.8706 0.8706 0.8706 0.8706 0.8706 0.8706\n",
            " 0.8706 0.8706 0.8706 0.8706 0.8706 0.8706 0.8706 0.8706 0.8706 0.8706\n",
            " 0.8706 0.8706 0.8706 0.8706 0.8706 0.8706 0.8706 0.8706 0.8706 0.8706\n",
            " 0.8706 0.8706 0.8706 0.8706 0.8706 0.8706 0.8706 0.8706 0.8706 0.8706\n",
            " 0.8706 0.8706 0.8706 0.8706 0.8706 0.8706 0.8706 0.8706 0.8706 0.8706\n",
            " 0.8706 0.8706 0.8706 0.8706 0.8706 0.8706 0.8706 0.8706 0.8706 0.8706\n",
            " 0.8706 0.8706 0.8706 0.8706 0.8706 0.8706 0.8706 0.8706 0.87   0.87\n",
            " 0.87   0.87   0.87   0.87   0.87   0.87   0.87   0.87   0.87   0.87\n",
            " 0.87   0.87   0.87   0.87   0.87   0.87   0.87   0.87   0.87   0.87\n",
            " 0.87   0.87   0.87   0.87   0.87   0.87   0.87   0.87   0.87   0.87\n",
            " 0.87   0.87   0.87   0.87   0.87   0.87   0.87   0.87   0.87   0.87\n",
            " 0.87   0.87   0.87   0.87   0.87   0.87   0.87   0.87   0.87   0.87\n",
            " 0.87   0.87   0.87   0.87   0.87   0.87   0.87   0.87   0.87   0.87\n",
            " 0.87   0.87   0.87   0.87   0.87   0.87   0.87   0.87   0.87   0.87\n",
            " 0.87   0.87   0.87   0.87   0.87   0.87   0.87   0.87   0.87   0.87\n",
            " 0.87   0.87   0.87   0.87   0.87   0.87   0.87   0.87   0.87   0.87\n",
            " 0.87   0.87   0.87   0.87   0.87   0.87   0.87   0.87   0.87   0.87\n",
            " 0.87   0.87   0.87   0.87   0.87   0.87   0.87   0.87   0.87   0.87\n",
            " 0.87   0.87   0.87   0.87   0.87   0.87   0.87   0.87   0.87   0.87\n",
            " 0.87   0.87   0.87   0.87   0.87   0.87   0.87   0.87   0.87   0.87\n",
            " 0.87   0.87   0.87   0.87   0.87   0.87   0.87   0.87   0.87   0.87\n",
            " 0.87   0.87   0.87   0.87   0.87   0.87   0.87   0.87   0.87   0.87\n",
            " 0.87   0.87   0.87   0.87   0.87   0.87   0.87   0.87   0.87   0.87\n",
            " 0.87   0.87   0.87   0.87   0.87   0.87   0.87   0.87   0.87   0.87\n",
            " 0.87   0.87   0.87   0.87   0.87   0.87   0.87   0.87   0.87   0.87\n",
            " 0.87   0.87   0.87   0.87   0.87   0.87   0.87   0.87   0.87   0.87\n",
            " 0.87   0.87   0.87   0.87   0.87   0.87   0.87   0.87   0.87   0.87\n",
            " 0.87   0.87   0.87   0.87   0.87   0.87   0.87   0.87   0.87   0.87\n",
            " 0.87   0.87   0.87   0.87   0.87   0.87   0.87   0.87   0.87   0.87\n",
            " 0.87   0.87   0.87   0.87   0.87   0.87   0.87   0.87   0.87   0.87\n",
            " 0.87   0.87   0.87   0.87   0.87   0.87   0.87   0.87   0.87   0.87\n",
            " 0.87   0.87   0.87   0.87   0.87   0.87   0.87   0.87   0.87   0.87\n",
            " 0.87   0.87   0.87   0.87   0.87   0.87   0.87   0.87   0.87   0.87\n",
            " 0.87   0.87   0.87   0.87   0.87   0.87   0.87   0.87   0.87   0.87\n",
            " 0.87   0.87   0.87   0.87   0.87   0.87   0.87   0.87   0.87   0.87\n",
            " 0.87   0.87   0.87   0.87   0.87   0.87   0.87   0.87   0.87   0.87\n",
            " 0.87   0.87   0.869  0.869  0.869  0.869  0.869  0.869  0.869  0.869 ]\n"
          ]
        }
      ]
    },
    {
      "cell_type": "code",
      "source": [
        "import os"
      ],
      "metadata": {
        "id": "Jz1ro9ncux7h"
      },
      "execution_count": null,
      "outputs": []
    },
    {
      "cell_type": "code",
      "source": [
        "correct_directory = \"/content/gdrive/MyDrive/Colab Notebooks/Data/Variables/Correct Atmospheric/\"\n",
        "test_directory = \"/content/gdrive/MyDrive/Colab Notebooks/Data/Variables/Atmospheric/\"\n",
        "for filename in os.listdir(correct_directory):\n",
        "      correct_file_path = correct_directory + filename\n",
        "      test_file_path = test_directory + filename\n",
        "      correct_file = np.load(correct_file_path)\n",
        "      test_file = np.load(test_file_path)\n",
        "      assert np.all(correct_file==test_file)\n"
      ],
      "metadata": {
        "id": "Nb32h0fcRcVl"
      },
      "execution_count": null,
      "outputs": []
    },
    {
      "cell_type": "code",
      "source": [],
      "metadata": {
        "id": "q4blhpplv06p"
      },
      "execution_count": null,
      "outputs": []
    }
  ]
}